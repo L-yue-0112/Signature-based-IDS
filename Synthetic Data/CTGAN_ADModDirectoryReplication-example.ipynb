{
 "cells": [
  {
   "cell_type": "code",
   "execution_count": 1,
   "metadata": {},
   "outputs": [
    {
     "name": "stderr",
     "output_type": "stream",
     "text": [
      "C:\\Users\\ly\\AppData\\Roaming\\Python\\Python37\\site-packages\\numpy\\_distributor_init.py:32: UserWarning: loaded more than 1 DLL from .libs:\n",
      "C:\\Users\\ly\\AppData\\Roaming\\Python\\Python37\\site-packages\\numpy\\.libs\\libopenblas.GK7GX5KEQ4F6UYO3P26ULGBQYHGQO7J4.gfortran-win_amd64.dll\n",
      "C:\\Users\\ly\\AppData\\Roaming\\Python\\Python37\\site-packages\\numpy\\.libs\\libopenblas.PYQHXLVVQ7VESDPUVUADXEVJOBGHJPAY.gfortran-win_amd64.dll\n",
      "  stacklevel=1)\n"
     ]
    },
    {
     "data": {
      "text/plain": [
       "(9002, 201)"
      ]
     },
     "execution_count": 1,
     "metadata": {},
     "output_type": "execute_result"
    }
   ],
   "source": [
    "import os\n",
    "import pandas as pd\n",
    "import numpy as np\n",
    "import tensorflow as tf\n",
    "from pandas.io import json\n",
    "from tensorflow import keras\n",
    "from tensorflow.keras import layers\n",
    "from sklearn import preprocessing\n",
    "\n",
    "datasetJSONPath = os.getcwd() + \"\\\\datasets\\\\empire_powerview_ldap_ntsecuritydescriptor_2020-09-21130944.json\"\n",
    "df = json.read_json(path_or_buf=datasetJSONPath, lines=True)\n",
    "\n",
    "df.shape"
   ]
  },
  {
   "cell_type": "code",
   "execution_count": 2,
   "metadata": {},
   "outputs": [
    {
     "name": "stderr",
     "output_type": "stream",
     "text": [
      "C:\\ProgramData\\Anaconda3\\lib\\site-packages\\statsmodels\\tools\\_testing.py:19: FutureWarning: pandas.util.testing is deprecated. Use the functions in the public API at pandas.testing instead.\n",
      "  import pandas.util.testing as tm\n"
     ]
    }
   ],
   "source": [
    "# functions definition\n",
    "\n",
    "from collections import Counter\n",
    "import seaborn as sns\n",
    "from sklearn import metrics\n",
    "import matplotlib.pyplot as plt\n",
    "\n",
    "# Convert integers to strings\n",
    "def int_to_str(df):\n",
    "    for column in df.columns:\n",
    "        # if dtype is int, convert to string , e.g. EventID\n",
    "        if isinstance(df[column][0], (int, np.int32, np.int64)):\n",
    "            df[column] = list(map(str, df[column]))\n",
    "            \n",
    "    return df\n",
    "    \n",
    "# Count NaN in each column in the dataframe\n",
    "def count_nan(df):\n",
    "    for column in df.columns:\n",
    "        num = df[column].isna().sum()\n",
    "        print(column, str(num))\n",
    "    return 0\n",
    "\n",
    "# make a label list of all 0, except the detected threat are 1\n",
    "def labelList(num, threatIndices):\n",
    "    y = [0 for x in range(num)]\n",
    "    for i in threatIndices:\n",
    "        y[i] =  1\n",
    "    return y\n",
    "\n",
    "# Count the items in data frame\n",
    "def count_items(df):\n",
    "    for column in df.columns:\n",
    "        item = df[column]\n",
    "        print(column, \": \", sorted(Counter(item).items()))\n",
    "        \n",
    "    return 0\n",
    "\n",
    "# replicate specified data to the end of the dataset\n",
    "def pd_replicate(X, y, rep_list, times=1):\n",
    "    for index in rep_list:\n",
    "        for i in range(times):\n",
    "            \n",
    "            X = pd.concat([X, pd.DataFrame(X.iloc[index]).T], axis=0, ignore_index=True)\n",
    "\n",
    "            y.append(1)\n",
    "    \n",
    "    return (X, y)\n",
    "    \n",
    "# convert object items in the list into strings\n",
    "def preprocess(df):\n",
    "    \n",
    "    # replace NAN with 0\n",
    "    df = df.replace(np.nan, 0, regex=True)\n",
    "    \n",
    "    for column in df.columns:            \n",
    "        df[column] = list(map(str, df[column]))            \n",
    "    return df\n",
    "\n",
    "# fit the dataframe and record the label encoders for each column\n",
    "def labelEncoder_get(df):\n",
    "    le_list = []\n",
    "    for column in df.columns:\n",
    "        le = preprocessing.LabelEncoder()\n",
    "        le.fit(df[column])\n",
    "        df[column] = le.transform(df[column])\n",
    "        le_list.append(le)\n",
    "    return (df, le_list)\n",
    "\n",
    "# input the list of label encoders and transform the dataframe\n",
    "def labelEncoder_trans(df, le_list):\n",
    "    for i, column in enumerate(df.columns):\n",
    "        le = le_list[i]\n",
    "        df[column] = list(map(str, df[column]))\n",
    "        df[column] = le.transform(df[column])\n",
    "    return df\n",
    "\n",
    "# draw confusin matrix and print the classification report\n",
    "def draw_confusionMatrix(y_test, y_predict):\n",
    "    confusion_matrix = metrics.confusion_matrix(y_test, y_predict)\n",
    "    matrix_df = pd.DataFrame(confusion_matrix)\n",
    "    ax = plt.axes()\n",
    "    sns.set(font_scale=1.3)\n",
    "    plt.figure(figsize=(10, 7))\n",
    "    sns.heatmap(matrix_df, annot=True, fmt=\"g\", ax=ax, cmap=\"magma\")\n",
    "    ax.set_title('Confusion Matrix - Decision Tree')\n",
    "    ax.set_xlabel(\"Predicted Label\", fontsize=15)\n",
    "    ax.set_ylabel(\"Actual Label\", fontsize=15)\n",
    "    plt.show()\n",
    "    print(metrics.classification_report(y_test, y_predict))\n",
    "    \n",
    "\n",
    "# Randomly pick data from results and combine them\n",
    "def random_generator(data_list, pick_nums):\n",
    "    \n",
    "    generated_data = pd.DataFrame()\n",
    "    \n",
    "    for i, data in enumerate(data_list):\n",
    "        num = pick_nums[i]\n",
    "        data_selected = data.sample(num)\n",
    "        generated_data = pd.concat([generated_data, data_selected], axis=0, ignore_index=True)\n",
    "    \n",
    "    return generated_data\n",
    "    "
   ]
  },
  {
   "cell_type": "code",
   "execution_count": 3,
   "metadata": {},
   "outputs": [
    {
     "data": {
      "text/plain": [
       "(9002, 7)"
      ]
     },
     "execution_count": 3,
     "metadata": {},
     "output_type": "execute_result"
    }
   ],
   "source": [
    "features = [\"Channel\", \"EventID\", \"ObjectServer\", \"AccessMask\", \"ObjectType\", \"AttributeLDAPDisplayName\", \"AttributeValue\"]\n",
    "df = df[features]\n",
    "\n",
    "# change integers to strings to get a better performance in generating new data\n",
    "df = int_to_str(df)\n",
    "df.shape"
   ]
  },
  {
   "cell_type": "markdown",
   "metadata": {},
   "source": [
    "## Replicate positive data\n",
    "\n",
    "There are more negative data than positive data, and results from some analytics (e.g. analytics with merging) are less possible to be generated. So we replicate specific positive data to make CTGAN bias to them."
   ]
  },
  {
   "cell_type": "markdown",
   "metadata": {},
   "source": [
    "## Use CTGAN to generate new data"
   ]
  },
  {
   "cell_type": "code",
   "execution_count": 4,
   "metadata": {},
   "outputs": [],
   "source": [
    "from sdv.tabular import CTGAN\n",
    "\n",
    "# model = CTGAN(cuda=True)\n",
    "# model.fit(df)\n",
    "\n",
    "# save and reuse the model\n",
    "# model.save('ADModDiretoryReplication.pkl')\n",
    "\n",
    "model = CTGAN.load(r'models\\\\ADModDiretoryReplication.pkl')"
   ]
  },
  {
   "cell_type": "code",
   "execution_count": 5,
   "metadata": {},
   "outputs": [
    {
     "data": {
      "text/html": [
       "<div>\n",
       "<style scoped>\n",
       "    .dataframe tbody tr th:only-of-type {\n",
       "        vertical-align: middle;\n",
       "    }\n",
       "\n",
       "    .dataframe tbody tr th {\n",
       "        vertical-align: top;\n",
       "    }\n",
       "\n",
       "    .dataframe thead th {\n",
       "        text-align: right;\n",
       "    }\n",
       "</style>\n",
       "<table border=\"1\" class=\"dataframe\">\n",
       "  <thead>\n",
       "    <tr style=\"text-align: right;\">\n",
       "      <th></th>\n",
       "      <th>Channel</th>\n",
       "      <th>EventID</th>\n",
       "      <th>ObjectServer</th>\n",
       "      <th>AccessMask</th>\n",
       "      <th>ObjectType</th>\n",
       "      <th>AttributeLDAPDisplayName</th>\n",
       "      <th>AttributeValue</th>\n",
       "    </tr>\n",
       "  </thead>\n",
       "  <tbody>\n",
       "    <tr>\n",
       "      <th>0</th>\n",
       "      <td>Security</td>\n",
       "      <td>5158</td>\n",
       "      <td>NaN</td>\n",
       "      <td>NaN</td>\n",
       "      <td>NaN</td>\n",
       "      <td>NaN</td>\n",
       "      <td>NaN</td>\n",
       "    </tr>\n",
       "    <tr>\n",
       "      <th>1</th>\n",
       "      <td>Security</td>\n",
       "      <td>4658</td>\n",
       "      <td>NT Local Security Authority / Authentication S...</td>\n",
       "      <td>NaN</td>\n",
       "      <td>NaN</td>\n",
       "      <td>NaN</td>\n",
       "      <td>NaN</td>\n",
       "    </tr>\n",
       "    <tr>\n",
       "      <th>2</th>\n",
       "      <td>Security</td>\n",
       "      <td>4656</td>\n",
       "      <td>Security</td>\n",
       "      <td>0x1</td>\n",
       "      <td>Key</td>\n",
       "      <td>NaN</td>\n",
       "      <td>NaN</td>\n",
       "    </tr>\n",
       "    <tr>\n",
       "      <th>3</th>\n",
       "      <td>security</td>\n",
       "      <td>4689</td>\n",
       "      <td>NaN</td>\n",
       "      <td>NaN</td>\n",
       "      <td>NaN</td>\n",
       "      <td>NaN</td>\n",
       "      <td>NaN</td>\n",
       "    </tr>\n",
       "    <tr>\n",
       "      <th>4</th>\n",
       "      <td>Security</td>\n",
       "      <td>4662</td>\n",
       "      <td>DS</td>\n",
       "      <td>0x40000</td>\n",
       "      <td>%{19195a5b-6da0-11d0-afd3-00c04fd930c9}</td>\n",
       "      <td>NaN</td>\n",
       "      <td>NaN</td>\n",
       "    </tr>\n",
       "  </tbody>\n",
       "</table>\n",
       "</div>"
      ],
      "text/plain": [
       "    Channel EventID                                       ObjectServer  \\\n",
       "0  Security    5158                                                NaN   \n",
       "1  Security    4658  NT Local Security Authority / Authentication S...   \n",
       "2  Security    4656                                           Security   \n",
       "3  security    4689                                                NaN   \n",
       "4  Security    4662                                                 DS   \n",
       "\n",
       "  AccessMask                               ObjectType  \\\n",
       "0        NaN                                      NaN   \n",
       "1        NaN                                      NaN   \n",
       "2        0x1                                      Key   \n",
       "3        NaN                                      NaN   \n",
       "4    0x40000  %{19195a5b-6da0-11d0-afd3-00c04fd930c9}   \n",
       "\n",
       "  AttributeLDAPDisplayName AttributeValue  \n",
       "0                      NaN            NaN  \n",
       "1                      NaN            NaN  \n",
       "2                      NaN            NaN  \n",
       "3                      NaN            NaN  \n",
       "4                      NaN            NaN  "
      ]
     },
     "execution_count": 5,
     "metadata": {},
     "output_type": "execute_result"
    }
   ],
   "source": [
    "new_data = model.sample(num_rows=1000000)\n",
    "new_data.head()"
   ]
  },
  {
   "cell_type": "code",
   "execution_count": 9,
   "metadata": {},
   "outputs": [
    {
     "name": "stdout",
     "output_type": "stream",
     "text": [
      "Channel :  [(0, 2785), (1, 2283), (2, 4), (3, 762), (4, 2), (5, 2789), (6, 377)]\n",
      "EventID :  [(0, 9), (1, 1256), (2, 29), (3, 396), (4, 4), (5, 132), (6, 2), (7, 5), (8, 8), (9, 2), (10, 28), (11, 2), (12, 2785), (13, 27), (14, 27), (15, 24), (16, 119), (17, 240), (18, 2), (19, 3), (20, 119), (21, 3), (22, 19), (23, 47), (24, 9), (25, 11), (26, 119), (27, 2), (28, 10), (29, 3), (30, 4), (31, 11), (32, 6), (33, 3), (34, 28), (35, 160), (36, 154), (37, 16), (38, 394), (39, 2771), (40, 13)]\n",
      "ObjectServer :  [(0, 8469), (1, 3), (2, 1), (3, 525), (4, 4)]\n",
      "AccessMask :  [(0, 8728), (1, 193), (2, 16), (3, 10), (4, 48), (5, 3), (6, 2), (7, 2)]\n",
      "ObjectType :  [(0, 3), (1, 8725), (2, 31), (3, 238), (4, 2), (5, 3)]\n",
      "AttributeLDAPDisplayName :  [(0, 8996), (1, 6)]\n",
      "AttributeValue :  [(0, 8996), (1, 2), (2, 2), (3, 1), (4, 1)]\n",
      "Channel :  [(0, 109296), (1, 87399), (2, 1277), (3, 590215), (4, 785), (5, 115038), (6, 95990)]\n",
      "EventID :  [(0, 214), (1, 49441), (2, 613), (3, 8165), (4, 356), (5, 1326), (6, 929), (7, 144), (8, 119), (9, 90), (10, 1031), (11, 195), (12, 107594), (13, 1002), (14, 1028), (15, 1349), (16, 59406), (17, 61892), (18, 17255), (19, 82141), (20, 61122), (21, 12008), (22, 339), (23, 5096), (24, 251), (25, 43233), (26, 3350), (27, 89), (28, 553), (29, 186), (30, 226), (31, 246), (32, 213974), (33, 998), (34, 121615), (35, 18636), (36, 4532), (37, 300), (38, 8091), (39, 110444), (40, 421)]\n",
      "ObjectServer :  [(0, 689983), (1, 84446), (2, 43959), (3, 139444), (4, 42168)]\n",
      "AccessMask :  [(0, 649837), (1, 106025), (2, 61329), (3, 59945), (4, 18762), (5, 83480), (6, 1179), (7, 19443)]\n",
      "ObjectType :  [(0, 83208), (1, 638941), (2, 124737), (3, 119119), (4, 20418), (5, 13577)]\n",
      "AttributeLDAPDisplayName :  [(0, 782039), (1, 217961)]\n",
      "AttributeValue :  [(0, 772991), (1, 72758), (2, 64341), (3, 40277), (4, 49633)]\n"
     ]
    },
    {
     "data": {
      "text/plain": [
       "0"
      ]
     },
     "execution_count": 9,
     "metadata": {},
     "output_type": "execute_result"
    }
   ],
   "source": [
    "# # for debugging only\n",
    "# count_items(preprocess_labelEncoder(df))\n",
    "# count_items(preprocess_labelEncoder(new_data))"
   ]
  },
  {
   "cell_type": "markdown",
   "metadata": {},
   "source": [
    "## Use hunter program on new data"
   ]
  },
  {
   "cell_type": "code",
   "execution_count": 6,
   "metadata": {},
   "outputs": [
    {
     "data": {
      "text/html": [
       "<div>\n",
       "<style scoped>\n",
       "    .dataframe tbody tr th:only-of-type {\n",
       "        vertical-align: middle;\n",
       "    }\n",
       "\n",
       "    .dataframe tbody tr th {\n",
       "        vertical-align: top;\n",
       "    }\n",
       "\n",
       "    .dataframe thead th {\n",
       "        text-align: right;\n",
       "    }\n",
       "</style>\n",
       "<table border=\"1\" class=\"dataframe\">\n",
       "  <thead>\n",
       "    <tr style=\"text-align: right;\">\n",
       "      <th></th>\n",
       "      <th>Channel</th>\n",
       "      <th>EventID</th>\n",
       "      <th>ObjectServer</th>\n",
       "      <th>AccessMask</th>\n",
       "      <th>ObjectType</th>\n",
       "      <th>AttributeLDAPDisplayName</th>\n",
       "      <th>AttributeValue</th>\n",
       "    </tr>\n",
       "  </thead>\n",
       "  <tbody>\n",
       "    <tr>\n",
       "      <th>4</th>\n",
       "      <td>Security</td>\n",
       "      <td>4662</td>\n",
       "      <td>DS</td>\n",
       "      <td>0x40000</td>\n",
       "      <td>%{19195a5b-6da0-11d0-afd3-00c04fd930c9}</td>\n",
       "      <td>NaN</td>\n",
       "      <td>NaN</td>\n",
       "    </tr>\n",
       "    <tr>\n",
       "      <th>16</th>\n",
       "      <td>security</td>\n",
       "      <td>4662</td>\n",
       "      <td>DS</td>\n",
       "      <td>0x40000</td>\n",
       "      <td>%{19195a5b-6da0-11d0-afd3-00c04fd930c9}</td>\n",
       "      <td>NaN</td>\n",
       "      <td>NaN</td>\n",
       "    </tr>\n",
       "    <tr>\n",
       "      <th>41</th>\n",
       "      <td>Security</td>\n",
       "      <td>4662</td>\n",
       "      <td>DS</td>\n",
       "      <td>0x40000</td>\n",
       "      <td>%{19195a5b-6da0-11d0-afd3-00c04fd930c9}</td>\n",
       "      <td>NaN</td>\n",
       "      <td>NaN</td>\n",
       "    </tr>\n",
       "    <tr>\n",
       "      <th>49</th>\n",
       "      <td>Security</td>\n",
       "      <td>4662</td>\n",
       "      <td>DS</td>\n",
       "      <td>0x40000</td>\n",
       "      <td>%{19195a5b-6da0-11d0-afd3-00c04fd930c9}</td>\n",
       "      <td>NaN</td>\n",
       "      <td>NaN</td>\n",
       "    </tr>\n",
       "    <tr>\n",
       "      <th>83</th>\n",
       "      <td>Security</td>\n",
       "      <td>4662</td>\n",
       "      <td>DS</td>\n",
       "      <td>0x40000</td>\n",
       "      <td>%{19195a5b-6da0-11d0-afd3-00c04fd930c9}</td>\n",
       "      <td>NaN</td>\n",
       "      <td>NaN</td>\n",
       "    </tr>\n",
       "    <tr>\n",
       "      <th>...</th>\n",
       "      <td>...</td>\n",
       "      <td>...</td>\n",
       "      <td>...</td>\n",
       "      <td>...</td>\n",
       "      <td>...</td>\n",
       "      <td>...</td>\n",
       "      <td>...</td>\n",
       "    </tr>\n",
       "    <tr>\n",
       "      <th>999910</th>\n",
       "      <td>Security</td>\n",
       "      <td>4662</td>\n",
       "      <td>DS</td>\n",
       "      <td>0x40000</td>\n",
       "      <td>%{19195a5b-6da0-11d0-afd3-00c04fd930c9}</td>\n",
       "      <td>NaN</td>\n",
       "      <td>NaN</td>\n",
       "    </tr>\n",
       "    <tr>\n",
       "      <th>999941</th>\n",
       "      <td>Security</td>\n",
       "      <td>4662</td>\n",
       "      <td>DS</td>\n",
       "      <td>0x40000</td>\n",
       "      <td>%{19195a5b-6da0-11d0-afd3-00c04fd930c9}</td>\n",
       "      <td>NaN</td>\n",
       "      <td>NaN</td>\n",
       "    </tr>\n",
       "    <tr>\n",
       "      <th>999955</th>\n",
       "      <td>Security</td>\n",
       "      <td>4662</td>\n",
       "      <td>DS</td>\n",
       "      <td>0x40000</td>\n",
       "      <td>%{19195a5b-6da0-11d0-afd3-00c04fd930c9}</td>\n",
       "      <td>NaN</td>\n",
       "      <td>NaN</td>\n",
       "    </tr>\n",
       "    <tr>\n",
       "      <th>999958</th>\n",
       "      <td>Security</td>\n",
       "      <td>4662</td>\n",
       "      <td>DS</td>\n",
       "      <td>0x40000</td>\n",
       "      <td>%{19195a5b-6da0-11d0-afd3-00c04fd930c9}</td>\n",
       "      <td>NaN</td>\n",
       "      <td>NaN</td>\n",
       "    </tr>\n",
       "    <tr>\n",
       "      <th>999994</th>\n",
       "      <td>Security</td>\n",
       "      <td>4662</td>\n",
       "      <td>DS</td>\n",
       "      <td>0x40000</td>\n",
       "      <td>%{19195a5b-6da0-11d0-afd3-00c04fd930c9}</td>\n",
       "      <td>NaN</td>\n",
       "      <td>NaN</td>\n",
       "    </tr>\n",
       "  </tbody>\n",
       "</table>\n",
       "<p>74584 rows × 7 columns</p>\n",
       "</div>"
      ],
      "text/plain": [
       "         Channel EventID ObjectServer AccessMask  \\\n",
       "4       Security    4662           DS    0x40000   \n",
       "16      security    4662           DS    0x40000   \n",
       "41      Security    4662           DS    0x40000   \n",
       "49      Security    4662           DS    0x40000   \n",
       "83      Security    4662           DS    0x40000   \n",
       "...          ...     ...          ...        ...   \n",
       "999910  Security    4662           DS    0x40000   \n",
       "999941  Security    4662           DS    0x40000   \n",
       "999955  Security    4662           DS    0x40000   \n",
       "999958  Security    4662           DS    0x40000   \n",
       "999994  Security    4662           DS    0x40000   \n",
       "\n",
       "                                     ObjectType AttributeLDAPDisplayName  \\\n",
       "4       %{19195a5b-6da0-11d0-afd3-00c04fd930c9}                      NaN   \n",
       "16      %{19195a5b-6da0-11d0-afd3-00c04fd930c9}                      NaN   \n",
       "41      %{19195a5b-6da0-11d0-afd3-00c04fd930c9}                      NaN   \n",
       "49      %{19195a5b-6da0-11d0-afd3-00c04fd930c9}                      NaN   \n",
       "83      %{19195a5b-6da0-11d0-afd3-00c04fd930c9}                      NaN   \n",
       "...                                         ...                      ...   \n",
       "999910  %{19195a5b-6da0-11d0-afd3-00c04fd930c9}                      NaN   \n",
       "999941  %{19195a5b-6da0-11d0-afd3-00c04fd930c9}                      NaN   \n",
       "999955  %{19195a5b-6da0-11d0-afd3-00c04fd930c9}                      NaN   \n",
       "999958  %{19195a5b-6da0-11d0-afd3-00c04fd930c9}                      NaN   \n",
       "999994  %{19195a5b-6da0-11d0-afd3-00c04fd930c9}                      NaN   \n",
       "\n",
       "       AttributeValue  \n",
       "4                 NaN  \n",
       "16                NaN  \n",
       "41                NaN  \n",
       "49                NaN  \n",
       "83                NaN  \n",
       "...               ...  \n",
       "999910            NaN  \n",
       "999941            NaN  \n",
       "999955            NaN  \n",
       "999958            NaN  \n",
       "999994            NaN  \n",
       "\n",
       "[74584 rows x 7 columns]"
      ]
     },
     "execution_count": 6,
     "metadata": {},
     "output_type": "execute_result"
    }
   ],
   "source": [
    "# Analytic I\n",
    "I = (\n",
    "new_data[features]\n",
    "\n",
    "[(new_data['Channel'].str.lower() == 'security')\n",
    "    & (new_data['EventID'] == '4662')\n",
    "    & (new_data['ObjectServer'] == 'DS')\n",
    "    & (new_data['AccessMask'] == '0x40000')\n",
    "    & (new_data['ObjectType'].str.contains('.*19195a5b-6da0-11d0-afd3-00c04fd930c9.*', regex=True))\n",
    "]\n",
    ")\n",
    "I"
   ]
  },
  {
   "cell_type": "code",
   "execution_count": 7,
   "metadata": {},
   "outputs": [
    {
     "data": {
      "text/html": [
       "<div>\n",
       "<style scoped>\n",
       "    .dataframe tbody tr th:only-of-type {\n",
       "        vertical-align: middle;\n",
       "    }\n",
       "\n",
       "    .dataframe tbody tr th {\n",
       "        vertical-align: top;\n",
       "    }\n",
       "\n",
       "    .dataframe thead th {\n",
       "        text-align: right;\n",
       "    }\n",
       "</style>\n",
       "<table border=\"1\" class=\"dataframe\">\n",
       "  <thead>\n",
       "    <tr style=\"text-align: right;\">\n",
       "      <th></th>\n",
       "      <th>Channel</th>\n",
       "      <th>EventID</th>\n",
       "      <th>ObjectServer</th>\n",
       "      <th>AccessMask</th>\n",
       "      <th>ObjectType</th>\n",
       "      <th>AttributeLDAPDisplayName</th>\n",
       "      <th>AttributeValue</th>\n",
       "    </tr>\n",
       "  </thead>\n",
       "  <tbody>\n",
       "    <tr>\n",
       "      <th>5</th>\n",
       "      <td>Security</td>\n",
       "      <td>5136</td>\n",
       "      <td>NaN</td>\n",
       "      <td>NaN</td>\n",
       "      <td>NaN</td>\n",
       "      <td>nTSecurityDescriptor</td>\n",
       "      <td>O:BAG:BAD:AI(OA;CIIO;RP;4c164200-20c0-11d0-a76...</td>\n",
       "    </tr>\n",
       "    <tr>\n",
       "      <th>10</th>\n",
       "      <td>Security</td>\n",
       "      <td>5136</td>\n",
       "      <td>NaN</td>\n",
       "      <td>NaN</td>\n",
       "      <td>NaN</td>\n",
       "      <td>nTSecurityDescriptor</td>\n",
       "      <td>O:BAG:BAD:AI(OA;CIIO;RP;4c164200-20c0-11d0-a76...</td>\n",
       "    </tr>\n",
       "    <tr>\n",
       "      <th>18</th>\n",
       "      <td>Security</td>\n",
       "      <td>5136</td>\n",
       "      <td>NaN</td>\n",
       "      <td>NaN</td>\n",
       "      <td>NaN</td>\n",
       "      <td>nTSecurityDescriptor</td>\n",
       "      <td>O:BAG:BAD:AI(OA;CIIO;RP;4c164200-20c0-11d0-a76...</td>\n",
       "    </tr>\n",
       "    <tr>\n",
       "      <th>21</th>\n",
       "      <td>Security</td>\n",
       "      <td>5136</td>\n",
       "      <td>NaN</td>\n",
       "      <td>NaN</td>\n",
       "      <td>NaN</td>\n",
       "      <td>nTSecurityDescriptor</td>\n",
       "      <td>O:BAG:BAD:AI(OA;CIIO;RP;4c164200-20c0-11d0-a76...</td>\n",
       "    </tr>\n",
       "    <tr>\n",
       "      <th>25</th>\n",
       "      <td>Security</td>\n",
       "      <td>5136</td>\n",
       "      <td>NaN</td>\n",
       "      <td>NaN</td>\n",
       "      <td>NaN</td>\n",
       "      <td>nTSecurityDescriptor</td>\n",
       "      <td>O:BAG:BAD:AI(OA;CIIO;RP;4c164200-20c0-11d0-a76...</td>\n",
       "    </tr>\n",
       "    <tr>\n",
       "      <th>...</th>\n",
       "      <td>...</td>\n",
       "      <td>...</td>\n",
       "      <td>...</td>\n",
       "      <td>...</td>\n",
       "      <td>...</td>\n",
       "      <td>...</td>\n",
       "      <td>...</td>\n",
       "    </tr>\n",
       "    <tr>\n",
       "      <th>999981</th>\n",
       "      <td>Security</td>\n",
       "      <td>5136</td>\n",
       "      <td>NaN</td>\n",
       "      <td>NaN</td>\n",
       "      <td>NaN</td>\n",
       "      <td>nTSecurityDescriptor</td>\n",
       "      <td>O:BAG:BAD:AI(OA;CIIO;RP;4c164200-20c0-11d0-a76...</td>\n",
       "    </tr>\n",
       "    <tr>\n",
       "      <th>999982</th>\n",
       "      <td>Security</td>\n",
       "      <td>5136</td>\n",
       "      <td>NaN</td>\n",
       "      <td>NaN</td>\n",
       "      <td>NaN</td>\n",
       "      <td>nTSecurityDescriptor</td>\n",
       "      <td>O:BAG:BAD:AI(OA;CIIO;RP;4c164200-20c0-11d0-a76...</td>\n",
       "    </tr>\n",
       "    <tr>\n",
       "      <th>999993</th>\n",
       "      <td>Security</td>\n",
       "      <td>5136</td>\n",
       "      <td>NaN</td>\n",
       "      <td>NaN</td>\n",
       "      <td>NaN</td>\n",
       "      <td>nTSecurityDescriptor</td>\n",
       "      <td>O:BAG:BAD:AI(OA;CIIO;RP;4c164200-20c0-11d0-a76...</td>\n",
       "    </tr>\n",
       "    <tr>\n",
       "      <th>999995</th>\n",
       "      <td>Security</td>\n",
       "      <td>5136</td>\n",
       "      <td>NaN</td>\n",
       "      <td>NaN</td>\n",
       "      <td>NaN</td>\n",
       "      <td>nTSecurityDescriptor</td>\n",
       "      <td>O:BAG:BAD:AI(OA;CIIO;RP;4c164200-20c0-11d0-a76...</td>\n",
       "    </tr>\n",
       "    <tr>\n",
       "      <th>999996</th>\n",
       "      <td>Security</td>\n",
       "      <td>5136</td>\n",
       "      <td>NaN</td>\n",
       "      <td>NaN</td>\n",
       "      <td>NaN</td>\n",
       "      <td>nTSecurityDescriptor</td>\n",
       "      <td>O:BAG:BAD:AI(OA;CIIO;RP;4c164200-20c0-11d0-a76...</td>\n",
       "    </tr>\n",
       "  </tbody>\n",
       "</table>\n",
       "<p>193322 rows × 7 columns</p>\n",
       "</div>"
      ],
      "text/plain": [
       "         Channel EventID ObjectServer AccessMask ObjectType  \\\n",
       "5       Security    5136          NaN        NaN        NaN   \n",
       "10      Security    5136          NaN        NaN        NaN   \n",
       "18      Security    5136          NaN        NaN        NaN   \n",
       "21      Security    5136          NaN        NaN        NaN   \n",
       "25      Security    5136          NaN        NaN        NaN   \n",
       "...          ...     ...          ...        ...        ...   \n",
       "999981  Security    5136          NaN        NaN        NaN   \n",
       "999982  Security    5136          NaN        NaN        NaN   \n",
       "999993  Security    5136          NaN        NaN        NaN   \n",
       "999995  Security    5136          NaN        NaN        NaN   \n",
       "999996  Security    5136          NaN        NaN        NaN   \n",
       "\n",
       "       AttributeLDAPDisplayName  \\\n",
       "5          nTSecurityDescriptor   \n",
       "10         nTSecurityDescriptor   \n",
       "18         nTSecurityDescriptor   \n",
       "21         nTSecurityDescriptor   \n",
       "25         nTSecurityDescriptor   \n",
       "...                         ...   \n",
       "999981     nTSecurityDescriptor   \n",
       "999982     nTSecurityDescriptor   \n",
       "999993     nTSecurityDescriptor   \n",
       "999995     nTSecurityDescriptor   \n",
       "999996     nTSecurityDescriptor   \n",
       "\n",
       "                                           AttributeValue  \n",
       "5       O:BAG:BAD:AI(OA;CIIO;RP;4c164200-20c0-11d0-a76...  \n",
       "10      O:BAG:BAD:AI(OA;CIIO;RP;4c164200-20c0-11d0-a76...  \n",
       "18      O:BAG:BAD:AI(OA;CIIO;RP;4c164200-20c0-11d0-a76...  \n",
       "21      O:BAG:BAD:AI(OA;CIIO;RP;4c164200-20c0-11d0-a76...  \n",
       "25      O:BAG:BAD:AI(OA;CIIO;RP;4c164200-20c0-11d0-a76...  \n",
       "...                                                   ...  \n",
       "999981  O:BAG:BAD:AI(OA;CIIO;RP;4c164200-20c0-11d0-a76...  \n",
       "999982  O:BAG:BAD:AI(OA;CIIO;RP;4c164200-20c0-11d0-a76...  \n",
       "999993  O:BAG:BAD:AI(OA;CIIO;RP;4c164200-20c0-11d0-a76...  \n",
       "999995  O:BAG:BAD:AI(OA;CIIO;RP;4c164200-20c0-11d0-a76...  \n",
       "999996  O:BAG:BAD:AI(OA;CIIO;RP;4c164200-20c0-11d0-a76...  \n",
       "\n",
       "[193322 rows x 7 columns]"
      ]
     },
     "execution_count": 7,
     "metadata": {},
     "output_type": "execute_result"
    }
   ],
   "source": [
    "# Analytic II\n",
    "II  = (\n",
    "new_data[features]\n",
    "\n",
    "    [(new_data['Channel'].str.lower() == 'security')\n",
    "    & (new_data['EventID'] == '5136')\n",
    "    & (new_data['AttributeLDAPDisplayName'].str.lower() == 'ntsecuritydescriptor')\n",
    "    & (\n",
    "        (new_data['AttributeValue'].str.contains('.*1131f6aa-9c07-11d1-f79f-00c04fc2dcd2.*', regex=True))\n",
    "        | (new_data['AttributeValue'].str.contains('.*1131f6ad-9c07-11d1-f79f-00c04fc2dcd2.*', regex=True))\n",
    "        | (new_data['AttributeValue'].str.contains('.*89e95b76-444d-4c62-991a-0facbeda640c.*', regex=True))\n",
    "    )\n",
    "    ]\n",
    ")\n",
    "II"
   ]
  },
  {
   "cell_type": "markdown",
   "metadata": {},
   "source": [
    "### Generate data\n",
    "Randomly pick data from each analytic's results, and combine them as the generated dataset."
   ]
  },
  {
   "cell_type": "code",
   "execution_count": 8,
   "metadata": {},
   "outputs": [
    {
     "data": {
      "text/plain": [
       "(6000, 7)"
      ]
     },
     "execution_count": 8,
     "metadata": {},
     "output_type": "execute_result"
    }
   ],
   "source": [
    "# randomly pick from results of analytics\n",
    "results = [I, II]\n",
    "pick_nums = [3000, 3000] # 8994 * 2/3 = 5996\n",
    "gen_data = random_generator(results, pick_nums)\n",
    "\n",
    "gen_data.shape"
   ]
  },
  {
   "cell_type": "markdown",
   "metadata": {},
   "source": [
    "## Decision Tree"
   ]
  },
  {
   "cell_type": "markdown",
   "metadata": {},
   "source": [
    "### Preprocess data"
   ]
  },
  {
   "cell_type": "code",
   "execution_count": 28,
   "metadata": {},
   "outputs": [],
   "source": [
    "# Preprocessing\n",
    "from sklearn.preprocessing import MinMaxScaler\n",
    "\n",
    "# scaler = MinMaxScaler()\n",
    "# df = scaler.fit_transform(df)"
   ]
  },
  {
   "cell_type": "markdown",
   "metadata": {},
   "source": [
    "### Original data"
   ]
  },
  {
   "cell_type": "code",
   "execution_count": 11,
   "metadata": {},
   "outputs": [
    {
     "name": "stdout",
     "output_type": "stream",
     "text": [
      "Balanced accuracy score: 0.83\n"
     ]
    },
    {
     "data": {
      "image/png": "[encoded data removed]",
      "text/plain": [
       "<Figure size 432x288 with 2 Axes>"
      ]
     },
     "metadata": {},
     "output_type": "display_data"
    },
    {
     "data": {
      "text/plain": [
       "<Figure size 720x504 with 0 Axes>"
      ]
     },
     "metadata": {},
     "output_type": "display_data"
    },
    {
     "name": "stdout",
     "output_type": "stream",
     "text": [
      "              precision    recall  f1-score   support\n",
      "\n",
      "           0       1.00      1.00      1.00      2968\n",
      "           1       1.00      0.67      0.80         3\n",
      "\n",
      "    accuracy                           1.00      2971\n",
      "   macro avg       1.00      0.83      0.90      2971\n",
      "weighted avg       1.00      1.00      1.00      2971\n",
      "\n"
     ]
    }
   ],
   "source": [
    "from sklearn.model_selection import train_test_split\n",
    "from sklearn.tree import DecisionTreeClassifier\n",
    "from sklearn.model_selection import cross_val_score, StratifiedKFold\n",
    "\n",
    "X = preprocess(df)\n",
    "X, le_dict = labelEncoder_get(X)\n",
    "y = labelList(df.shape[0], [2754, 2756, 2842, 2843, 2844, 2845, 2846, 2847])\n",
    "clf = DecisionTreeClassifier()\n",
    "X_train, X_test, y_train, y_test = train_test_split(X, y, test_size = 0.33, random_state=42)\n",
    "\n",
    "clf.fit(X_train, y_train)\n",
    "y_predict = clf.predict(X_test)\n",
    "print(\"Balanced accuracy score: {:.2f}\".format(metrics.balanced_accuracy_score(y_test, y_predict)))\n",
    "draw_confusionMatrix(y_test, y_predict)"
   ]
  },
  {
   "cell_type": "markdown",
   "metadata": {},
   "source": [
    "### Original data with generated data\n",
    "Generated data should only be added into trianing set."
   ]
  },
  {
   "cell_type": "code",
   "execution_count": 12,
   "metadata": {},
   "outputs": [
    {
     "name": "stdout",
     "output_type": "stream",
     "text": [
      "Balanced accuracy score: 1.00\n"
     ]
    },
    {
     "data": {
      "image/png": "[encoded data removed]",
      "text/plain": [
       "<Figure size 432x288 with 2 Axes>"
      ]
     },
     "metadata": {},
     "output_type": "display_data"
    },
    {
     "data": {
      "text/plain": [
       "<Figure size 720x504 with 0 Axes>"
      ]
     },
     "metadata": {},
     "output_type": "display_data"
    },
    {
     "name": "stdout",
     "output_type": "stream",
     "text": [
      "              precision    recall  f1-score   support\n",
      "\n",
      "           0       1.00      1.00      1.00      2968\n",
      "           1       1.00      1.00      1.00         3\n",
      "\n",
      "    accuracy                           1.00      2971\n",
      "   macro avg       1.00      1.00      1.00      2971\n",
      "weighted avg       1.00      1.00      1.00      2971\n",
      "\n"
     ]
    }
   ],
   "source": [
    "X_gen = preprocess(gen_data)\n",
    "X_gen = labelEncoder_trans(X_gen, le_dict)\n",
    "# add generated data to the original training set\n",
    "X_train_new = pd.concat([X_train, X_gen], axis=0)\n",
    "\n",
    "# generated data are all positive\n",
    "for i in range(len(X_gen)):\n",
    "    y_train.append(1)\n",
    "\n",
    "clf = DecisionTreeClassifier()\n",
    "\n",
    "clf.fit(X_train_new, y_train)\n",
    "y_predict = clf.predict(X_test)\n",
    "print(\"Balanced accuracy score: {:.2f}\".format(metrics.balanced_accuracy_score(y_test, y_predict)))\n",
    "draw_confusionMatrix(y_test, y_predict)"
   ]
  },
  {
   "cell_type": "code",
   "execution_count": 18,
   "metadata": {},
   "outputs": [
    {
     "data": {
      "image/png": "[encoded data removed]",
      "text/plain": [
       "<Figure size 864x720 with 1 Axes>"
      ]
     },
     "metadata": {},
     "output_type": "display_data"
    }
   ],
   "source": [
    "from sklearn import tree\n",
    "# draw the tree\n",
    "plt.figure(figsize=(12, 10))\n",
    "tree.plot_tree(clf, feature_names=features, fontsize=10)\n",
    "plt.title(\"Decision Tree - ADModDirectoryReplication\")\n",
    "plt.savefig(r'DecisionTree\\ADModDirectoryReplication.png', dpi=100, transparent=True)"
   ]
  },
  {
   "cell_type": "markdown",
   "metadata": {},
   "source": [
    "## Save generated data"
   ]
  },
  {
   "cell_type": "code",
   "execution_count": 19,
   "metadata": {},
   "outputs": [],
   "source": [
    "# # extract to JSON file\n",
    "# dataset.reset_index(drop=True, inplace=True)\n",
    "gen_data.to_json(r'generated_datasets\\\\empire_powerview_ldap_ntsecuritydescriptor_new.json', orient='records')\n",
    "\n",
    "# dataset = json.read_json(path_or_buf=os.getcwd()+ \"\\\\generated_datasets\"+ \"\\\\empire_dllinjection_LoadLibrary_CreateRemoteThread_new.json\")\n",
    "# dataset.head()"
   ]
  }
 ],
 "metadata": {
  "kernelspec": {
   "display_name": "Python 3",
   "language": "python",
   "name": "python3"
  },
  "language_info": {
   "codemirror_mode": {
    "name": "ipython",
    "version": 3
   },
   "file_extension": ".py",
   "mimetype": "text/x-python",
   "name": "python",
   "nbconvert_exporter": "python",
   "pygments_lexer": "ipython3",
   "version": "3.7.3"
  }
 },
 "nbformat": 4,
 "nbformat_minor": 2
}
