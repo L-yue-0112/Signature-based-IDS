{
 "cells": [
  {
   "cell_type": "code",
   "execution_count": 1,
   "metadata": {},
   "outputs": [
    {
     "name": "stderr",
     "output_type": "stream",
     "text": [
      "C:\\Users\\ly\\AppData\\Roaming\\Python\\Python37\\site-packages\\numpy\\_distributor_init.py:32: UserWarning: loaded more than 1 DLL from .libs:\n",
      "C:\\Users\\ly\\AppData\\Roaming\\Python\\Python37\\site-packages\\numpy\\.libs\\libopenblas.GK7GX5KEQ4F6UYO3P26ULGBQYHGQO7J4.gfortran-win_amd64.dll\n",
      "C:\\Users\\ly\\AppData\\Roaming\\Python\\Python37\\site-packages\\numpy\\.libs\\libopenblas.PYQHXLVVQ7VESDPUVUADXEVJOBGHJPAY.gfortran-win_amd64.dll\n",
      "  stacklevel=1)\n"
     ]
    },
    {
     "data": {
      "text/plain": [
       "(6383, 186)"
      ]
     },
     "execution_count": 1,
     "metadata": {},
     "output_type": "execute_result"
    }
   ],
   "source": [
    "import os\n",
    "import pandas as pd\n",
    "import numpy as np\n",
    "import tensorflow as tf\n",
    "from pandas.io import json\n",
    "from tensorflow import keras\n",
    "from tensorflow.keras import layers\n",
    "from sklearn import preprocessing\n",
    "\n",
    "datasetJSONPath = os.getcwd() + \"\\\\datasets\\\\empire_wmi_dcerpc_wmi_IWbemServices_ExecMethod_2020-09-21001437.json\"\n",
    "df = json.read_json(path_or_buf=datasetJSONPath, lines=True)\n",
    "\n",
    "df.shape"
   ]
  },
  {
   "cell_type": "code",
   "execution_count": 2,
   "metadata": {},
   "outputs": [
    {
     "name": "stderr",
     "output_type": "stream",
     "text": [
      "C:\\ProgramData\\Anaconda3\\lib\\site-packages\\statsmodels\\tools\\_testing.py:19: FutureWarning: pandas.util.testing is deprecated. Use the functions in the public API at pandas.testing instead.\n",
      "  import pandas.util.testing as tm\n"
     ]
    }
   ],
   "source": [
    "# functions definition\n",
    "\n",
    "from collections import Counter\n",
    "import seaborn as sns\n",
    "from sklearn import metrics\n",
    "import matplotlib.pyplot as plt\n",
    "\n",
    "# Convert integers to strings\n",
    "def int_to_str(df):\n",
    "    for column in df.columns:\n",
    "        # if dtype is int, convert to string , e.g. EventID\n",
    "        if isinstance(df[column][0], (int, np.int32, np.int64)):\n",
    "            df[column] = list(map(str, df[column]))\n",
    "            \n",
    "    return df\n",
    "    \n",
    "# Count NaN in each column in the dataframe\n",
    "def count_nan(df):\n",
    "    for column in df.columns:\n",
    "        num = df[column].isna().sum()\n",
    "        print(column, str(num))\n",
    "    return 0\n",
    "\n",
    "# make a label list of all 0, except the detected threat are 1\n",
    "def labelList(num, threatIndices):\n",
    "    y = [0 for x in range(num)]\n",
    "    for i in threatIndices:\n",
    "        y[i] =  1\n",
    "    return y\n",
    "\n",
    "# Count the items in data frame\n",
    "def count_items(df):\n",
    "    for column in df.columns:\n",
    "        item = df[column]\n",
    "        print(column, \": \", sorted(Counter(item).items()))\n",
    "        \n",
    "    return 0\n",
    "\n",
    "# replicate specified data to the end of the dataset\n",
    "def pd_replicate(X, y, rep_list, times=1):\n",
    "    for index in rep_list:\n",
    "        for i in range(times):\n",
    "            \n",
    "            X = pd.concat([X, pd.DataFrame(X.iloc[index]).T], axis=0, ignore_index=True)\n",
    "\n",
    "            y.append(1)\n",
    "    \n",
    "    return (X, y)\n",
    "    \n",
    "# convert object items in the list into strings\n",
    "def preprocess(df):\n",
    "    \n",
    "    # replace NAN with 0\n",
    "    df = df.replace(np.nan, 0, regex=True)\n",
    "    \n",
    "    for column in df.columns:            \n",
    "        df[column] = list(map(str, df[column]))            \n",
    "    return df\n",
    "\n",
    "# fit the dataframe and record the label encoders for each column\n",
    "def labelEncoder_get(df):\n",
    "    le_dict = {}\n",
    "    for column in df.columns:\n",
    "        le = preprocessing.LabelEncoder()\n",
    "        le.fit(df[column])\n",
    "        df[column] = le.transform(df[column])\n",
    "        le_dict[column] = le\n",
    "    return (df, le_dict)\n",
    "\n",
    "# input the list of label encoders and transform the dataframe\n",
    "def labelEncoder_trans(df, le_dict):\n",
    "    for i, column in enumerate(df.columns):\n",
    "        le = le_dict[column]\n",
    "        df[column] = list(map(str, df[column]))\n",
    "        df[column] = le.transform(df[column])\n",
    "    return df\n",
    "\n",
    "# draw confusin matrix and print the classification report\n",
    "def draw_confusionMatrix(y_test, y_predict):\n",
    "    confusion_matrix = metrics.confusion_matrix(y_test, y_predict)\n",
    "    matrix_df = pd.DataFrame(confusion_matrix)\n",
    "    ax = plt.axes()\n",
    "    sns.set(font_scale=1.3)\n",
    "    plt.figure(figsize=(10, 7))\n",
    "    sns.heatmap(matrix_df, annot=True, fmt=\"g\", ax=ax, cmap=\"magma\")\n",
    "    ax.set_title('Confusion Matrix - Decision Tree')\n",
    "    ax.set_xlabel(\"Predicted Label\", fontsize=15)\n",
    "    ax.set_ylabel(\"Actual Label\", fontsize=15)\n",
    "    plt.show()\n",
    "    print(metrics.classification_report(y_test, y_predict))\n",
    "    \n",
    "\n",
    "# Randomly pick data from results and combine them\n",
    "def random_generator(data_list, pick_nums):\n",
    "    \n",
    "    generated_data = pd.DataFrame()\n",
    "    \n",
    "    for i, data in enumerate(data_list):\n",
    "        num = pick_nums[i]\n",
    "        data_selected = data.sample(num)\n",
    "        generated_data = pd.concat([generated_data, data_selected], axis=0, ignore_index=True)\n",
    "    \n",
    "    return generated_data\n",
    "\n",
    "# split the training and testing sets manually, make sure that positive data is in the testing set\n",
    "def trian_test_split_m(X, y, positive_list, test_size=0.33):\n",
    "\n",
    "    sample_len = int(len(X) * 0.33 - len(positive_list))\n",
    "    \n",
    "    X_test = X.iloc[positive_list]\n",
    "    X = X.drop(positive_list)\n",
    "    \n",
    "    X_random = X.sample(sample_len)\n",
    "    X = X.drop(X_random.index)\n",
    "    X_test = pd.concat([X_test, X_random], axis=0, ignore_index=True)\n",
    "    y_test = list([1 for i in range(len(positive_list))] + [0 for i in range(sample_len)])\n",
    "\n",
    "    X_train = X\n",
    "    y_train = [0 for i in range(len(X_train))]\n",
    "    \n",
    "    return (X_train, X_test, y_train, y_test)"
   ]
  },
  {
   "cell_type": "code",
   "execution_count": 3,
   "metadata": {},
   "outputs": [
    {
     "data": {
      "text/plain": [
       "(6383, 6)"
      ]
     },
     "execution_count": 3,
     "metadata": {},
     "output_type": "execute_result"
    }
   ],
   "source": [
    "features = [\"Channel\", \"EventID\", \"ParentProcessName\", \"TargetLogonId\", \"LogonType\", \"SubjectUserName\"]\n",
    "df = df[features]\n",
    "\n",
    "# change integers to strings to get a better performance in generating new data\n",
    "df = int_to_str(df)\n",
    "df.shape"
   ]
  },
  {
   "cell_type": "markdown",
   "metadata": {},
   "source": [
    "## Replicate positive data\n",
    "\n",
    "There are more negative data than positive data, and results from some analytics (e.g. analytics with merging) are less possible to be generated. So we replicate specific positive data to make CTGAN bias to them."
   ]
  },
  {
   "cell_type": "markdown",
   "metadata": {},
   "source": [
    "## Use CTGAN to generate new data"
   ]
  },
  {
   "cell_type": "code",
   "execution_count": 4,
   "metadata": {},
   "outputs": [],
   "source": [
    "from sdv.tabular import CTGAN\n",
    "\n",
    "# model = CTGAN(cuda=True)\n",
    "# model.fit(df)\n",
    "# # save and reuse the model\n",
    "# model.save('RemoteWMIExecution.pkl')\n",
    "\n",
    "model = CTGAN.load(r'models\\RemoteWMIExecution.pkl')\n"
   ]
  },
  {
   "cell_type": "code",
   "execution_count": 5,
   "metadata": {},
   "outputs": [
    {
     "data": {
      "text/html": [
       "<div>\n",
       "<style scoped>\n",
       "    .dataframe tbody tr th:only-of-type {\n",
       "        vertical-align: middle;\n",
       "    }\n",
       "\n",
       "    .dataframe tbody tr th {\n",
       "        vertical-align: top;\n",
       "    }\n",
       "\n",
       "    .dataframe thead th {\n",
       "        text-align: right;\n",
       "    }\n",
       "</style>\n",
       "<table border=\"1\" class=\"dataframe\">\n",
       "  <thead>\n",
       "    <tr style=\"text-align: right;\">\n",
       "      <th></th>\n",
       "      <th>Channel</th>\n",
       "      <th>EventID</th>\n",
       "      <th>ParentProcessName</th>\n",
       "      <th>TargetLogonId</th>\n",
       "      <th>LogonType</th>\n",
       "      <th>SubjectUserName</th>\n",
       "    </tr>\n",
       "  </thead>\n",
       "  <tbody>\n",
       "    <tr>\n",
       "      <th>0</th>\n",
       "      <td>Security</td>\n",
       "      <td>5158</td>\n",
       "      <td>NaN</td>\n",
       "      <td>NaN</td>\n",
       "      <td>NaN</td>\n",
       "      <td>NaN</td>\n",
       "    </tr>\n",
       "    <tr>\n",
       "      <th>1</th>\n",
       "      <td>Security</td>\n",
       "      <td>4658</td>\n",
       "      <td>NaN</td>\n",
       "      <td>NaN</td>\n",
       "      <td>NaN</td>\n",
       "      <td>MORDORDC$</td>\n",
       "    </tr>\n",
       "    <tr>\n",
       "      <th>2</th>\n",
       "      <td>Security</td>\n",
       "      <td>4663</td>\n",
       "      <td>NaN</td>\n",
       "      <td>NaN</td>\n",
       "      <td>NaN</td>\n",
       "      <td>MORDORDC$</td>\n",
       "    </tr>\n",
       "    <tr>\n",
       "      <th>3</th>\n",
       "      <td>security</td>\n",
       "      <td>4688</td>\n",
       "      <td>C:\\Windows\\System32\\wbem\\WmiPrvSE.exe</td>\n",
       "      <td>0x32c5cb5</td>\n",
       "      <td>NaN</td>\n",
       "      <td>WORKSTATION6$</td>\n",
       "    </tr>\n",
       "    <tr>\n",
       "      <th>4</th>\n",
       "      <td>Microsoft-Windows-Sysmon/Operational</td>\n",
       "      <td>10</td>\n",
       "      <td>NaN</td>\n",
       "      <td>NaN</td>\n",
       "      <td>NaN</td>\n",
       "      <td>NaN</td>\n",
       "    </tr>\n",
       "  </tbody>\n",
       "</table>\n",
       "</div>"
      ],
      "text/plain": [
       "                                Channel EventID  \\\n",
       "0                              Security    5158   \n",
       "1                              Security    4658   \n",
       "2                              Security    4663   \n",
       "3                              security    4688   \n",
       "4  Microsoft-Windows-Sysmon/Operational      10   \n",
       "\n",
       "                       ParentProcessName TargetLogonId  LogonType  \\\n",
       "0                                    NaN           NaN        NaN   \n",
       "1                                    NaN           NaN        NaN   \n",
       "2                                    NaN           NaN        NaN   \n",
       "3  C:\\Windows\\System32\\wbem\\WmiPrvSE.exe     0x32c5cb5        NaN   \n",
       "4                                    NaN           NaN        NaN   \n",
       "\n",
       "  SubjectUserName  \n",
       "0             NaN  \n",
       "1       MORDORDC$  \n",
       "2       MORDORDC$  \n",
       "3   WORKSTATION6$  \n",
       "4             NaN  "
      ]
     },
     "execution_count": 5,
     "metadata": {},
     "output_type": "execute_result"
    }
   ],
   "source": [
    "new_data = model.sample(num_rows=1000000)\n",
    "new_data.head()"
   ]
  },
  {
   "cell_type": "code",
   "execution_count": 9,
   "metadata": {},
   "outputs": [
    {
     "name": "stdout",
     "output_type": "stream",
     "text": [
      "Channel :  [(0, 2785), (1, 2283), (2, 4), (3, 762), (4, 2), (5, 2789), (6, 377)]\n",
      "EventID :  [(0, 9), (1, 1256), (2, 29), (3, 396), (4, 4), (5, 132), (6, 2), (7, 5), (8, 8), (9, 2), (10, 28), (11, 2), (12, 2785), (13, 27), (14, 27), (15, 24), (16, 119), (17, 240), (18, 2), (19, 3), (20, 119), (21, 3), (22, 19), (23, 47), (24, 9), (25, 11), (26, 119), (27, 2), (28, 10), (29, 3), (30, 4), (31, 11), (32, 6), (33, 3), (34, 28), (35, 160), (36, 154), (37, 16), (38, 394), (39, 2771), (40, 13)]\n",
      "ObjectServer :  [(0, 8469), (1, 3), (2, 1), (3, 525), (4, 4)]\n",
      "AccessMask :  [(0, 8728), (1, 193), (2, 16), (3, 10), (4, 48), (5, 3), (6, 2), (7, 2)]\n",
      "ObjectType :  [(0, 3), (1, 8725), (2, 31), (3, 238), (4, 2), (5, 3)]\n",
      "AttributeLDAPDisplayName :  [(0, 8996), (1, 6)]\n",
      "AttributeValue :  [(0, 8996), (1, 2), (2, 2), (3, 1), (4, 1)]\n",
      "Channel :  [(0, 109296), (1, 87399), (2, 1277), (3, 590215), (4, 785), (5, 115038), (6, 95990)]\n",
      "EventID :  [(0, 214), (1, 49441), (2, 613), (3, 8165), (4, 356), (5, 1326), (6, 929), (7, 144), (8, 119), (9, 90), (10, 1031), (11, 195), (12, 107594), (13, 1002), (14, 1028), (15, 1349), (16, 59406), (17, 61892), (18, 17255), (19, 82141), (20, 61122), (21, 12008), (22, 339), (23, 5096), (24, 251), (25, 43233), (26, 3350), (27, 89), (28, 553), (29, 186), (30, 226), (31, 246), (32, 213974), (33, 998), (34, 121615), (35, 18636), (36, 4532), (37, 300), (38, 8091), (39, 110444), (40, 421)]\n",
      "ObjectServer :  [(0, 689983), (1, 84446), (2, 43959), (3, 139444), (4, 42168)]\n",
      "AccessMask :  [(0, 649837), (1, 106025), (2, 61329), (3, 59945), (4, 18762), (5, 83480), (6, 1179), (7, 19443)]\n",
      "ObjectType :  [(0, 83208), (1, 638941), (2, 124737), (3, 119119), (4, 20418), (5, 13577)]\n",
      "AttributeLDAPDisplayName :  [(0, 782039), (1, 217961)]\n",
      "AttributeValue :  [(0, 772991), (1, 72758), (2, 64341), (3, 40277), (4, 49633)]\n"
     ]
    },
    {
     "data": {
      "text/plain": [
       "0"
      ]
     },
     "execution_count": 9,
     "metadata": {},
     "output_type": "execute_result"
    }
   ],
   "source": [
    "# # for debugging only\n",
    "# count_items(preprocess_labelEncoder(df))\n",
    "# count_items(preprocess_labelEncoder(new_data))"
   ]
  },
  {
   "cell_type": "markdown",
   "metadata": {},
   "source": [
    "## Use hunter program on new data"
   ]
  },
  {
   "cell_type": "code",
   "execution_count": 6,
   "metadata": {},
   "outputs": [
    {
     "data": {
      "text/html": [
       "<div>\n",
       "<style scoped>\n",
       "    .dataframe tbody tr th:only-of-type {\n",
       "        vertical-align: middle;\n",
       "    }\n",
       "\n",
       "    .dataframe tbody tr th {\n",
       "        vertical-align: top;\n",
       "    }\n",
       "\n",
       "    .dataframe thead th {\n",
       "        text-align: right;\n",
       "    }\n",
       "</style>\n",
       "<table border=\"1\" class=\"dataframe\">\n",
       "  <thead>\n",
       "    <tr style=\"text-align: right;\">\n",
       "      <th></th>\n",
       "      <th>Channel</th>\n",
       "      <th>EventID</th>\n",
       "      <th>ParentProcessName</th>\n",
       "      <th>TargetLogonId</th>\n",
       "      <th>LogonType</th>\n",
       "      <th>SubjectUserName</th>\n",
       "    </tr>\n",
       "  </thead>\n",
       "  <tbody>\n",
       "    <tr>\n",
       "      <th>3</th>\n",
       "      <td>security</td>\n",
       "      <td>4688</td>\n",
       "      <td>C:\\Windows\\System32\\wbem\\WmiPrvSE.exe</td>\n",
       "      <td>0x32c5cb5</td>\n",
       "      <td>NaN</td>\n",
       "      <td>WORKSTATION6$</td>\n",
       "    </tr>\n",
       "    <tr>\n",
       "      <th>26</th>\n",
       "      <td>security</td>\n",
       "      <td>4688</td>\n",
       "      <td>C:\\Windows\\System32\\wbem\\WmiPrvSE.exe</td>\n",
       "      <td>0x32c5cb5</td>\n",
       "      <td>NaN</td>\n",
       "      <td>WORKSTATION6$</td>\n",
       "    </tr>\n",
       "    <tr>\n",
       "      <th>35</th>\n",
       "      <td>security</td>\n",
       "      <td>4688</td>\n",
       "      <td>C:\\Windows\\System32\\wbem\\WmiPrvSE.exe</td>\n",
       "      <td>0x32c5cb5</td>\n",
       "      <td>NaN</td>\n",
       "      <td>WORKSTATION6$</td>\n",
       "    </tr>\n",
       "    <tr>\n",
       "      <th>45</th>\n",
       "      <td>security</td>\n",
       "      <td>4688</td>\n",
       "      <td>C:\\Windows\\System32\\wbem\\WmiPrvSE.exe</td>\n",
       "      <td>0x32c5cb5</td>\n",
       "      <td>NaN</td>\n",
       "      <td>WORKSTATION6$</td>\n",
       "    </tr>\n",
       "    <tr>\n",
       "      <th>57</th>\n",
       "      <td>security</td>\n",
       "      <td>4688</td>\n",
       "      <td>C:\\Windows\\System32\\wbem\\WmiPrvSE.exe</td>\n",
       "      <td>0x32c5cb5</td>\n",
       "      <td>NaN</td>\n",
       "      <td>WORKSTATION6$</td>\n",
       "    </tr>\n",
       "    <tr>\n",
       "      <th>...</th>\n",
       "      <td>...</td>\n",
       "      <td>...</td>\n",
       "      <td>...</td>\n",
       "      <td>...</td>\n",
       "      <td>...</td>\n",
       "      <td>...</td>\n",
       "    </tr>\n",
       "    <tr>\n",
       "      <th>999918</th>\n",
       "      <td>security</td>\n",
       "      <td>4688</td>\n",
       "      <td>C:\\Windows\\System32\\wbem\\WmiPrvSE.exe</td>\n",
       "      <td>0x32c5cb5</td>\n",
       "      <td>NaN</td>\n",
       "      <td>WORKSTATION6$</td>\n",
       "    </tr>\n",
       "    <tr>\n",
       "      <th>999957</th>\n",
       "      <td>security</td>\n",
       "      <td>4688</td>\n",
       "      <td>C:\\Windows\\System32\\wbem\\WmiPrvSE.exe</td>\n",
       "      <td>0x32c5cb5</td>\n",
       "      <td>NaN</td>\n",
       "      <td>WORKSTATION6$</td>\n",
       "    </tr>\n",
       "    <tr>\n",
       "      <th>999960</th>\n",
       "      <td>security</td>\n",
       "      <td>4688</td>\n",
       "      <td>C:\\Windows\\System32\\wbem\\WmiPrvSE.exe</td>\n",
       "      <td>0x32c5cb5</td>\n",
       "      <td>NaN</td>\n",
       "      <td>WORKSTATION6$</td>\n",
       "    </tr>\n",
       "    <tr>\n",
       "      <th>999972</th>\n",
       "      <td>security</td>\n",
       "      <td>4688</td>\n",
       "      <td>C:\\Windows\\System32\\wbem\\WmiPrvSE.exe</td>\n",
       "      <td>0x32c5cb5</td>\n",
       "      <td>NaN</td>\n",
       "      <td>WORKSTATION6$</td>\n",
       "    </tr>\n",
       "    <tr>\n",
       "      <th>999998</th>\n",
       "      <td>security</td>\n",
       "      <td>4688</td>\n",
       "      <td>C:\\Windows\\System32\\wbem\\WmiPrvSE.exe</td>\n",
       "      <td>0x32c5cb5</td>\n",
       "      <td>NaN</td>\n",
       "      <td>WORKSTATION6$</td>\n",
       "    </tr>\n",
       "  </tbody>\n",
       "</table>\n",
       "<p>73919 rows × 6 columns</p>\n",
       "</div>"
      ],
      "text/plain": [
       "         Channel EventID                      ParentProcessName TargetLogonId  \\\n",
       "3       security    4688  C:\\Windows\\System32\\wbem\\WmiPrvSE.exe     0x32c5cb5   \n",
       "26      security    4688  C:\\Windows\\System32\\wbem\\WmiPrvSE.exe     0x32c5cb5   \n",
       "35      security    4688  C:\\Windows\\System32\\wbem\\WmiPrvSE.exe     0x32c5cb5   \n",
       "45      security    4688  C:\\Windows\\System32\\wbem\\WmiPrvSE.exe     0x32c5cb5   \n",
       "57      security    4688  C:\\Windows\\System32\\wbem\\WmiPrvSE.exe     0x32c5cb5   \n",
       "...          ...     ...                                    ...           ...   \n",
       "999918  security    4688  C:\\Windows\\System32\\wbem\\WmiPrvSE.exe     0x32c5cb5   \n",
       "999957  security    4688  C:\\Windows\\System32\\wbem\\WmiPrvSE.exe     0x32c5cb5   \n",
       "999960  security    4688  C:\\Windows\\System32\\wbem\\WmiPrvSE.exe     0x32c5cb5   \n",
       "999972  security    4688  C:\\Windows\\System32\\wbem\\WmiPrvSE.exe     0x32c5cb5   \n",
       "999998  security    4688  C:\\Windows\\System32\\wbem\\WmiPrvSE.exe     0x32c5cb5   \n",
       "\n",
       "        LogonType SubjectUserName  \n",
       "3             NaN   WORKSTATION6$  \n",
       "26            NaN   WORKSTATION6$  \n",
       "35            NaN   WORKSTATION6$  \n",
       "45            NaN   WORKSTATION6$  \n",
       "57            NaN   WORKSTATION6$  \n",
       "...           ...             ...  \n",
       "999918        NaN   WORKSTATION6$  \n",
       "999957        NaN   WORKSTATION6$  \n",
       "999960        NaN   WORKSTATION6$  \n",
       "999972        NaN   WORKSTATION6$  \n",
       "999998        NaN   WORKSTATION6$  \n",
       "\n",
       "[73919 rows x 6 columns]"
      ]
     },
     "execution_count": 6,
     "metadata": {},
     "output_type": "execute_result"
    }
   ],
   "source": [
    "# Analytic I\n",
    "I = (\n",
    "    \n",
    "new_data[features]\n",
    "\n",
    "[(new_data['Channel'].str.lower() == 'security')\n",
    "    & (new_data['EventID'] == '4688')\n",
    "    & (new_data['ParentProcessName'].str.lower().str.endswith('wmiprvse.exe', na=False))\n",
    "    & (new_data['TargetLogonId'] != '0x3e7')\n",
    "]\n",
    ")\n",
    "I"
   ]
  },
  {
   "cell_type": "code",
   "execution_count": 8,
   "metadata": {},
   "outputs": [],
   "source": [
    "# # Analytic II\n",
    "# II  = (\n",
    "# new_data[features]\n",
    "\n",
    "# [(new_data['Channel'] == 'Microsoft-Windows-Sysmon/Operational')\n",
    "#     & (new_data['EventID'] == '1')\n",
    "#     & (new_data['ParentImage'].str.lower().str.endswith('wmiprvse.exe', na=False))\n",
    "#     & (new_data['LogonId'] != '0x3e7')\n",
    "# ]\n",
    "# )\n",
    "# II"
   ]
  },
  {
   "cell_type": "code",
   "execution_count": 19,
   "metadata": {},
   "outputs": [
    {
     "name": "stdout",
     "output_type": "stream",
     "text": [
      "5 10208\n"
     ]
    }
   ],
   "source": [
    "# Analytic III\n",
    "processCreateDf = (\n",
    "new_data[features]\n",
    "\n",
    "[(new_data['Channel'].str.lower() == 'security')\n",
    "    & (new_data['EventID'] == '4688')\n",
    "    & (new_data['ParentProcessName'].str.lower().str.endswith('wmiprvse.exe', na=False))\n",
    "    & (new_data['TargetLogonId'] != '0x3e7')\n",
    "]\n",
    ".head()\n",
    ")\n",
    "\n",
    "networkLogonDf = (\n",
    "new_data[features]\n",
    "\n",
    "[(new_data['Channel'].str.lower() == 'security')\n",
    "    & (new_data['EventID'] == '4624')\n",
    "    & (new_data['LogonType'] == 3)\n",
    "    & (~new_data['SubjectUserName'].str.endswith('.*$', na=False))\n",
    "]\n",
    ")\n",
    "\n",
    "# (\n",
    "# pd.merge(processCreateDf, networkLogonDf,\n",
    "#     on = 'TargetLogonId', how = 'inner')\n",
    "# )\n",
    "III = (\n",
    "processCreateDf[features]\n",
    "\n",
    "[processCreateDf['TargetLogonId'].isin(networkLogonDf['TargetLogonId'])]\n",
    ")\n",
    "\n",
    "IV = (\n",
    "networkLogonDf[features]\n",
    "    \n",
    "[networkLogonDf['TargetLogonId'].isin(processCreateDf['TargetLogonId'])]\n",
    ")\n",
    "\n",
    "print(len(III), len(IV))"
   ]
  },
  {
   "cell_type": "markdown",
   "metadata": {},
   "source": [
    "### Generate data\n",
    "Randomly pick data from each analytic's results, and combine them as the generated dataset."
   ]
  },
  {
   "cell_type": "code",
   "execution_count": 20,
   "metadata": {},
   "outputs": [
    {
     "data": {
      "text/plain": [
       "(4205, 6)"
      ]
     },
     "execution_count": 20,
     "metadata": {},
     "output_type": "execute_result"
    }
   ],
   "source": [
    "# randomly pick from results of analytics\n",
    "results = [I, III, IV]\n",
    "# not pick from II because original data doesn't have result from it\n",
    "pick_nums = [2100, 5, 2100] # 6383 * 2/3 = 4255 \n",
    "gen_data = random_generator(results, pick_nums)\n",
    "\n",
    "gen_data.shape"
   ]
  },
  {
   "cell_type": "markdown",
   "metadata": {},
   "source": [
    "## Decision Tree\n",
    "When we tried using 'train_test_split' to split the training and testing sets, all 2 positive data is put into the training set, so we have to split them manually."
   ]
  },
  {
   "cell_type": "markdown",
   "metadata": {},
   "source": [
    "### Preprocess data"
   ]
  },
  {
   "cell_type": "code",
   "execution_count": 28,
   "metadata": {},
   "outputs": [],
   "source": [
    "# Preprocessing\n",
    "from sklearn.preprocessing import MinMaxScaler\n",
    "\n",
    "# scaler = MinMaxScaler()\n",
    "# df = scaler.fit_transform(df)"
   ]
  },
  {
   "cell_type": "markdown",
   "metadata": {},
   "source": [
    "### Original data"
   ]
  },
  {
   "cell_type": "code",
   "execution_count": 55,
   "metadata": {},
   "outputs": [
    {
     "name": "stdout",
     "output_type": "stream",
     "text": [
      "Balanced accuracy score: 0.50\n"
     ]
    },
    {
     "data": {
      "image/png": "[encoded data removed]",
      "text/plain": [
       "<Figure size 432x288 with 2 Axes>"
      ]
     },
     "metadata": {},
     "output_type": "display_data"
    },
    {
     "data": {
      "text/plain": [
       "<Figure size 720x504 with 0 Axes>"
      ]
     },
     "metadata": {},
     "output_type": "display_data"
    },
    {
     "name": "stderr",
     "output_type": "stream",
     "text": [
      "C:\\Users\\ly\\AppData\\Roaming\\Python\\Python37\\site-packages\\sklearn\\metrics\\_classification.py:1318: UndefinedMetricWarning: Precision and F-score are ill-defined and being set to 0.0 in labels with no predicted samples. Use `zero_division` parameter to control this behavior.\n",
      "  _warn_prf(average, modifier, msg_start, len(result))\n",
      "C:\\Users\\ly\\AppData\\Roaming\\Python\\Python37\\site-packages\\sklearn\\metrics\\_classification.py:1318: UndefinedMetricWarning: Precision and F-score are ill-defined and being set to 0.0 in labels with no predicted samples. Use `zero_division` parameter to control this behavior.\n",
      "  _warn_prf(average, modifier, msg_start, len(result))\n",
      "C:\\Users\\ly\\AppData\\Roaming\\Python\\Python37\\site-packages\\sklearn\\metrics\\_classification.py:1318: UndefinedMetricWarning: Precision and F-score are ill-defined and being set to 0.0 in labels with no predicted samples. Use `zero_division` parameter to control this behavior.\n",
      "  _warn_prf(average, modifier, msg_start, len(result))\n"
     ]
    },
    {
     "name": "stdout",
     "output_type": "stream",
     "text": [
      "              precision    recall  f1-score   support\n",
      "\n",
      "           0       1.00      1.00      1.00      2104\n",
      "           1       0.00      0.00      0.00         2\n",
      "\n",
      "    accuracy                           1.00      2106\n",
      "   macro avg       0.50      0.50      0.50      2106\n",
      "weighted avg       1.00      1.00      1.00      2106\n",
      "\n"
     ]
    }
   ],
   "source": [
    "from sklearn.model_selection import train_test_split\n",
    "from sklearn.tree import DecisionTreeClassifier\n",
    "from sklearn.model_selection import cross_val_score, StratifiedKFold\n",
    "\n",
    "X = preprocess(df)\n",
    "X, le_dict = labelEncoder_get(X)\n",
    "y = labelList(df.shape[0], [551, 514])\n",
    "\n",
    "# X_train, X_test, y_train, y_test = train_test_split(X, y, test_size = 0.33, random_state=42)\n",
    "X_train, X_test, y_train, y_test = trian_test_split_m(X, y, [551, 368, 514])\n",
    "\n",
    "clf = DecisionTreeClassifier()\n",
    "clf.fit(X_train, y_train)\n",
    "y_predict = clf.predict(X_test)\n",
    "print(\"Balanced accuracy score: {:.2f}\".format(metrics.balanced_accuracy_score(y_test, y_predict)))\n",
    "draw_confusionMatrix(y_test, y_predict)"
   ]
  },
  {
   "cell_type": "markdown",
   "metadata": {},
   "source": [
    "### Original data with generated data\n",
    "Generated data should only be added into trianing set."
   ]
  },
  {
   "cell_type": "code",
   "execution_count": 56,
   "metadata": {},
   "outputs": [
    {
     "name": "stdout",
     "output_type": "stream",
     "text": [
      "Balanced accuracy score: 1.00\n"
     ]
    },
    {
     "data": {
      "image/png": "[encoded data removed]",
      "text/plain": [
       "<Figure size 432x288 with 2 Axes>"
      ]
     },
     "metadata": {},
     "output_type": "display_data"
    },
    {
     "data": {
      "text/plain": [
       "<Figure size 720x504 with 0 Axes>"
      ]
     },
     "metadata": {},
     "output_type": "display_data"
    },
    {
     "name": "stdout",
     "output_type": "stream",
     "text": [
      "              precision    recall  f1-score   support\n",
      "\n",
      "           0       1.00      1.00      1.00      2104\n",
      "           1       0.67      1.00      0.80         2\n",
      "\n",
      "    accuracy                           1.00      2106\n",
      "   macro avg       0.83      1.00      0.90      2106\n",
      "weighted avg       1.00      1.00      1.00      2106\n",
      "\n"
     ]
    }
   ],
   "source": [
    "X_gen = preprocess(gen_data)\n",
    "X_gen = labelEncoder_trans(X_gen, le_dict)\n",
    "# add generated data to the original training set\n",
    "X_train_new = pd.concat([X_train, X_gen], axis=0)\n",
    "\n",
    "# generated data are all positive\n",
    "for i in range(len(gen_data)):\n",
    "    y_train.append(1)\n",
    "\n",
    "clf = DecisionTreeClassifier()\n",
    "\n",
    "clf.fit(X_train_new, y_train)\n",
    "y_predict = clf.predict(X_test)\n",
    "print(\"Balanced accuracy score: {:.2f}\".format(metrics.balanced_accuracy_score(y_test, y_predict)))\n",
    "draw_confusionMatrix(y_test, y_predict)"
   ]
  },
  {
   "cell_type": "code",
   "execution_count": 63,
   "metadata": {},
   "outputs": [
    {
     "data": {
      "image/png": "[encoded data removed]",
      "text/plain": [
       "<Figure size 1440x720 with 1 Axes>"
      ]
     },
     "metadata": {},
     "output_type": "display_data"
    }
   ],
   "source": [
    "# draw the tree\n",
    "from sklearn import tree\n",
    "\n",
    "plt.figure(figsize=(20, 10))#\n",
    "tree.plot_tree(clf, feature_names=features, fontsize=10)\n",
    "plt.title(\"Decision Tree - RemoteWMIExecution\")\n",
    "plt.savefig('RemoteWMIExecution.png', dpi=100, transparent=True)"
   ]
  },
  {
   "cell_type": "markdown",
   "metadata": {},
   "source": [
    "## Save generated data"
   ]
  },
  {
   "cell_type": "code",
   "execution_count": 58,
   "metadata": {},
   "outputs": [],
   "source": [
    "# # extract to JSON file\n",
    "# dataset.reset_index(drop=True, inplace=True)\n",
    "gen_data.to_json(os.getcwd() + r'\\generated_datasets\\empire_wmi_dcerpc_wmi_IWbemServices_ExecMethod_new.json', orient='records')\n",
    "\n",
    "# dataset = json.read_json(path_or_buf=os.getcwd()+ \"\\\\generated_datasets\"+ \"\\\\empire_dllinjection_LoadLibrary_CreateRemoteThread_new.json\")\n",
    "# dataset.head()"
   ]
  }
 ],
 "metadata": {
  "kernelspec": {
   "display_name": "Python 3",
   "language": "python",
   "name": "python3"
  },
  "language_info": {
   "codemirror_mode": {
    "name": "ipython",
    "version": 3
   },
   "file_extension": ".py",
   "mimetype": "text/x-python",
   "name": "python",
   "nbconvert_exporter": "python",
   "pygments_lexer": "ipython3",
   "version": "3.7.3"
  }
 },
 "nbformat": 4,
 "nbformat_minor": 2
}
