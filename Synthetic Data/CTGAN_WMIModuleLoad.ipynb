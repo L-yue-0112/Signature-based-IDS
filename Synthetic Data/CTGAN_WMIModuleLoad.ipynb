{
 "cells": [
  {
   "cell_type": "code",
   "execution_count": 1,
   "metadata": {},
   "outputs": [
    {
     "name": "stderr",
     "output_type": "stream",
     "text": [
      "C:\\Users\\ly\\AppData\\Roaming\\Python\\Python37\\site-packages\\numpy\\_distributor_init.py:32: UserWarning: loaded more than 1 DLL from .libs:\n",
      "C:\\Users\\ly\\AppData\\Roaming\\Python\\Python37\\site-packages\\numpy\\.libs\\libopenblas.GK7GX5KEQ4F6UYO3P26ULGBQYHGQO7J4.gfortran-win_amd64.dll\n",
      "C:\\Users\\ly\\AppData\\Roaming\\Python\\Python37\\site-packages\\numpy\\.libs\\libopenblas.PYQHXLVVQ7VESDPUVUADXEVJOBGHJPAY.gfortran-win_amd64.dll\n",
      "  stacklevel=1)\n"
     ]
    },
    {
     "data": {
      "text/plain": [
       "(5898, 170)"
      ]
     },
     "execution_count": 1,
     "metadata": {},
     "output_type": "execute_result"
    }
   ],
   "source": [
    "import os\n",
    "import pandas as pd\n",
    "import numpy as np\n",
    "import tensorflow as tf\n",
    "from pandas.io import json\n",
    "from tensorflow import keras\n",
    "from tensorflow.keras import layers\n",
    "from sklearn import preprocessing\n",
    "\n",
    "datasetJSONPath = os.getcwd() + \"\\\\datasets\\\\empire_psinject_PEinjection_2020-08-07143205.json\"\n",
    "df = json.read_json(path_or_buf=datasetJSONPath, lines=True)\n",
    "\n",
    "df.shape"
   ]
  },
  {
   "cell_type": "code",
   "execution_count": 9,
   "metadata": {},
   "outputs": [],
   "source": [
    "# functions definition\n",
    "\n",
    "from collections import Counter\n",
    "import seaborn as sns\n",
    "from sklearn import metrics\n",
    "import matplotlib.pyplot as plt\n",
    "\n",
    "# Convert integers to strings\n",
    "def int_to_str(df):\n",
    "    for column in df.columns:\n",
    "        # if dtype is int, convert to string , e.g. EventID\n",
    "        if isinstance(df[column][0], (int, np.int32, np.int64)):\n",
    "            df[column] = list(map(str, df[column]))\n",
    "            \n",
    "    return df\n",
    "    \n",
    "# Count NaN in each column in the dataframe\n",
    "def count_nan(df):\n",
    "    for column in df.columns:\n",
    "        num = df[column].isna().sum()\n",
    "        print(column, str(num))\n",
    "    return 0\n",
    "\n",
    "# make a label list of all 0, except the detected threat are 1\n",
    "def labelList(num, threatIndices):\n",
    "    y = [0 for x in range(num)]\n",
    "    for i in threatIndices:\n",
    "        y[i] =  1\n",
    "    return y\n",
    "\n",
    "# Count the items in data frame\n",
    "def count_items(df):\n",
    "    for column in df.columns:\n",
    "        item = df[column]\n",
    "        print(column, \": \", sorted(Counter(item).items()))\n",
    "        \n",
    "    return 0\n",
    "\n",
    "# replicate specified data to the end of the dataset\n",
    "def pd_replicate(X, y, rep_list, times=1):\n",
    "    for index in rep_list:\n",
    "        for i in range(times):\n",
    "            \n",
    "            X = pd.concat([X, pd.DataFrame(X.iloc[index]).T], axis=0, ignore_index=True)\n",
    "\n",
    "            y.append(1)\n",
    "    \n",
    "    return (X, y)\n",
    "    \n",
    "# convert object items in the list into strings\n",
    "def preprocess(df):\n",
    "    \n",
    "    # replace NAN with 0\n",
    "    df = df.replace(np.nan, 0, regex=True)\n",
    "    \n",
    "    for column in df.columns:            \n",
    "        df[column] = list(map(str, df[column]))            \n",
    "    return df\n",
    "\n",
    "# fit the dataframe and record the label encoders for each column\n",
    "def labelEncoder_get(df):\n",
    "    le_dict = {}\n",
    "    for column in df.columns:\n",
    "        le = preprocessing.LabelEncoder()\n",
    "        le.fit(df[column])\n",
    "        df[column] = le.transform(df[column])\n",
    "        le_dict[column] = le\n",
    "    return (df, le_dict)\n",
    "\n",
    "# input the list of label encoders and transform the dataframe\n",
    "def labelEncoder_trans(df, le_dict):\n",
    "    for i, column in enumerate(df.columns):\n",
    "        le = le_dict[column]\n",
    "        df[column] = list(map(str, df[column]))\n",
    "        df[column] = le.transform(df[column])\n",
    "    return df\n",
    "\n",
    "# draw confusin matrix and print the classification report\n",
    "def draw_confusionMatrix(y_test, y_predict):\n",
    "    confusion_matrix = metrics.confusion_matrix(y_test, y_predict)\n",
    "    matrix_df = pd.DataFrame(confusion_matrix)\n",
    "    ax = plt.axes()\n",
    "    sns.set(font_scale=1.3)\n",
    "    plt.figure(figsize=(10, 7))\n",
    "    sns.heatmap(matrix_df, annot=True, fmt=\"g\", ax=ax, cmap=\"magma\")\n",
    "    ax.set_title('Confusion Matrix - Decision Tree')\n",
    "    ax.set_xlabel(\"Predicted Label\", fontsize=15)\n",
    "    ax.set_ylabel(\"Actual Label\", fontsize=15)\n",
    "    plt.show()\n",
    "    print(metrics.classification_report(y_test, y_predict))\n",
    "    \n",
    "\n",
    "# Randomly pick data from results and combine them\n",
    "def random_generator(data_list, pick_nums):\n",
    "    \n",
    "    generated_data = pd.DataFrame()\n",
    "    \n",
    "    for i, data in enumerate(data_list):\n",
    "        num = pick_nums[i]\n",
    "        data_selected = data.sample(num)\n",
    "        generated_data = pd.concat([generated_data, data_selected], axis=0, ignore_index=True)\n",
    "    \n",
    "    return generated_data\n",
    "\n",
    "# split the training and testing sets manually, make sure that positive data is in the testing set\n",
    "def train_test_split_m(X, y, positive_list, test_size=0.33):\n",
    "\n",
    "    sample_len = int(len(X) * 0.33 - len(positive_list))\n",
    "    \n",
    "    X_test = X.iloc[positive_list]\n",
    "    X = X.drop(positive_list)\n",
    "    \n",
    "    X_random = X.sample(sample_len)\n",
    "    X = X.drop(X_random.index)\n",
    "    X_test = pd.concat([X_test, X_random], axis=0, ignore_index=True)\n",
    "    y_test = list([1 for i in range(len(positive_list))] + [0 for i in range(sample_len)])\n",
    "\n",
    "    X_train = X\n",
    "    y_train = [0 for i in range(len(X_train))]\n",
    "    \n",
    "    return (X_train, X_test, y_train, y_test)"
   ]
  },
  {
   "cell_type": "code",
   "execution_count": 3,
   "metadata": {},
   "outputs": [
    {
     "data": {
      "text/plain": [
       "(5898, 4)"
      ]
     },
     "execution_count": 3,
     "metadata": {},
     "output_type": "execute_result"
    }
   ],
   "source": [
    "features = [\"Channel\", \"EventID\", \"ImageLoaded\", \"Image\"]\n",
    "df = df[features]\n",
    "\n",
    "# change integers to strings to get a better performance in generating new data\n",
    "df = int_to_str(df)\n",
    "df.shape"
   ]
  },
  {
   "cell_type": "markdown",
   "metadata": {},
   "source": [
    "## Replicate positive data\n",
    "\n",
    "There are more negative data than positive data, and results from some analytics (e.g. analytics with merging) are less possible to be generated. So we replicate specific positive data to make CTGAN bias to them."
   ]
  },
  {
   "cell_type": "markdown",
   "metadata": {},
   "source": [
    "## Use CTGAN to generate new data"
   ]
  },
  {
   "cell_type": "code",
   "execution_count": 4,
   "metadata": {},
   "outputs": [],
   "source": [
    "from sdv.tabular import CTGAN\n",
    "\n",
    "# model = CTGAN(cuda=True)\n",
    "# model.fit(df)\n",
    "# save and reuse the model\n",
    "# model.save('WMIModuleLoad.pkl')\n",
    "\n",
    "model = CTGAN.load(r'models\\WMIModuleLoad.pkl')"
   ]
  },
  {
   "cell_type": "code",
   "execution_count": 5,
   "metadata": {},
   "outputs": [
    {
     "data": {
      "text/html": [
       "<div>\n",
       "<style scoped>\n",
       "    .dataframe tbody tr th:only-of-type {\n",
       "        vertical-align: middle;\n",
       "    }\n",
       "\n",
       "    .dataframe tbody tr th {\n",
       "        vertical-align: top;\n",
       "    }\n",
       "\n",
       "    .dataframe thead th {\n",
       "        text-align: right;\n",
       "    }\n",
       "</style>\n",
       "<table border=\"1\" class=\"dataframe\">\n",
       "  <thead>\n",
       "    <tr style=\"text-align: right;\">\n",
       "      <th></th>\n",
       "      <th>Channel</th>\n",
       "      <th>EventID</th>\n",
       "      <th>ImageLoaded</th>\n",
       "      <th>Image</th>\n",
       "    </tr>\n",
       "  </thead>\n",
       "  <tbody>\n",
       "    <tr>\n",
       "      <th>0</th>\n",
       "      <td>Microsoft-Windows-Sysmon/Operational</td>\n",
       "      <td>7</td>\n",
       "      <td>C:\\Windows\\System32\\dpapi.dll</td>\n",
       "      <td>C:\\Windows\\System32\\wbem\\WmiPrvSE.exe</td>\n",
       "    </tr>\n",
       "    <tr>\n",
       "      <th>1</th>\n",
       "      <td>Microsoft-Windows-Sysmon/Operational</td>\n",
       "      <td>12</td>\n",
       "      <td>NaN</td>\n",
       "      <td>C:\\windows\\system32\\lsass.exe</td>\n",
       "    </tr>\n",
       "    <tr>\n",
       "      <th>2</th>\n",
       "      <td>Microsoft-Windows-Sysmon/Operational</td>\n",
       "      <td>7</td>\n",
       "      <td>C:\\Windows\\System32\\dpapi.dll</td>\n",
       "      <td>C:\\Windows\\System32\\svchost.exe</td>\n",
       "    </tr>\n",
       "    <tr>\n",
       "      <th>3</th>\n",
       "      <td>Microsoft-Windows-Sysmon/Operational</td>\n",
       "      <td>7</td>\n",
       "      <td>C:\\Windows\\assembly\\NativeImages_v4.0.30319_64...</td>\n",
       "      <td>C:\\Windows\\System32\\notepad.exe</td>\n",
       "    </tr>\n",
       "    <tr>\n",
       "      <th>4</th>\n",
       "      <td>Microsoft-Windows-Sysmon/Operational</td>\n",
       "      <td>7</td>\n",
       "      <td>C:\\Windows\\System32\\dpapi.dll</td>\n",
       "      <td>C:\\Windows\\System32\\wbem\\WmiPrvSE.exe</td>\n",
       "    </tr>\n",
       "  </tbody>\n",
       "</table>\n",
       "</div>"
      ],
      "text/plain": [
       "                                Channel EventID  \\\n",
       "0  Microsoft-Windows-Sysmon/Operational       7   \n",
       "1  Microsoft-Windows-Sysmon/Operational      12   \n",
       "2  Microsoft-Windows-Sysmon/Operational       7   \n",
       "3  Microsoft-Windows-Sysmon/Operational       7   \n",
       "4  Microsoft-Windows-Sysmon/Operational       7   \n",
       "\n",
       "                                         ImageLoaded  \\\n",
       "0                      C:\\Windows\\System32\\dpapi.dll   \n",
       "1                                                NaN   \n",
       "2                      C:\\Windows\\System32\\dpapi.dll   \n",
       "3  C:\\Windows\\assembly\\NativeImages_v4.0.30319_64...   \n",
       "4                      C:\\Windows\\System32\\dpapi.dll   \n",
       "\n",
       "                                   Image  \n",
       "0  C:\\Windows\\System32\\wbem\\WmiPrvSE.exe  \n",
       "1          C:\\windows\\system32\\lsass.exe  \n",
       "2        C:\\Windows\\System32\\svchost.exe  \n",
       "3        C:\\Windows\\System32\\notepad.exe  \n",
       "4  C:\\Windows\\System32\\wbem\\WmiPrvSE.exe  "
      ]
     },
     "execution_count": 5,
     "metadata": {},
     "output_type": "execute_result"
    }
   ],
   "source": [
    "new_data = model.sample(num_rows=1000000)\n",
    "new_data.head()"
   ]
  },
  {
   "cell_type": "markdown",
   "metadata": {},
   "source": [
    "## Use hunter program on new data"
   ]
  },
  {
   "cell_type": "code",
   "execution_count": 6,
   "metadata": {},
   "outputs": [
    {
     "data": {
      "text/html": [
       "<div>\n",
       "<style scoped>\n",
       "    .dataframe tbody tr th:only-of-type {\n",
       "        vertical-align: middle;\n",
       "    }\n",
       "\n",
       "    .dataframe tbody tr th {\n",
       "        vertical-align: top;\n",
       "    }\n",
       "\n",
       "    .dataframe thead th {\n",
       "        text-align: right;\n",
       "    }\n",
       "</style>\n",
       "<table border=\"1\" class=\"dataframe\">\n",
       "  <thead>\n",
       "    <tr style=\"text-align: right;\">\n",
       "      <th></th>\n",
       "      <th>Channel</th>\n",
       "      <th>EventID</th>\n",
       "      <th>ImageLoaded</th>\n",
       "      <th>Image</th>\n",
       "    </tr>\n",
       "  </thead>\n",
       "  <tbody>\n",
       "    <tr>\n",
       "      <th>317</th>\n",
       "      <td>Microsoft-Windows-Sysmon/Operational</td>\n",
       "      <td>7</td>\n",
       "      <td>C:\\Windows\\System32\\wmidcom.dll</td>\n",
       "      <td>C:\\Windows\\System32\\notepad.exe</td>\n",
       "    </tr>\n",
       "    <tr>\n",
       "      <th>347</th>\n",
       "      <td>Microsoft-Windows-Sysmon/Operational</td>\n",
       "      <td>7</td>\n",
       "      <td>C:\\Windows\\System32\\wmidcom.dll</td>\n",
       "      <td>C:\\Windows\\System32\\notepad.exe</td>\n",
       "    </tr>\n",
       "    <tr>\n",
       "      <th>400</th>\n",
       "      <td>Microsoft-Windows-Sysmon/Operational</td>\n",
       "      <td>7</td>\n",
       "      <td>C:\\Windows\\System32\\wmidcom.dll</td>\n",
       "      <td>C:\\Windows\\System32\\notepad.exe</td>\n",
       "    </tr>\n",
       "    <tr>\n",
       "      <th>461</th>\n",
       "      <td>Microsoft-Windows-Sysmon/Operational</td>\n",
       "      <td>7</td>\n",
       "      <td>C:\\Windows\\System32\\wmidcom.dll</td>\n",
       "      <td>C:\\Windows\\System32\\notepad.exe</td>\n",
       "    </tr>\n",
       "    <tr>\n",
       "      <th>552</th>\n",
       "      <td>Microsoft-Windows-Sysmon/Operational</td>\n",
       "      <td>7</td>\n",
       "      <td>C:\\Windows\\System32\\wmidcom.dll</td>\n",
       "      <td>C:\\Windows\\System32\\notepad.exe</td>\n",
       "    </tr>\n",
       "    <tr>\n",
       "      <th>...</th>\n",
       "      <td>...</td>\n",
       "      <td>...</td>\n",
       "      <td>...</td>\n",
       "      <td>...</td>\n",
       "    </tr>\n",
       "    <tr>\n",
       "      <th>999268</th>\n",
       "      <td>Microsoft-Windows-Sysmon/Operational</td>\n",
       "      <td>7</td>\n",
       "      <td>C:\\Windows\\System32\\wmidcom.dll</td>\n",
       "      <td>C:\\Windows\\System32\\notepad.exe</td>\n",
       "    </tr>\n",
       "    <tr>\n",
       "      <th>999320</th>\n",
       "      <td>Microsoft-Windows-Sysmon/Operational</td>\n",
       "      <td>7</td>\n",
       "      <td>C:\\Windows\\System32\\wmidcom.dll</td>\n",
       "      <td>C:\\Windows\\System32\\notepad.exe</td>\n",
       "    </tr>\n",
       "    <tr>\n",
       "      <th>999620</th>\n",
       "      <td>Microsoft-Windows-Sysmon/Operational</td>\n",
       "      <td>7</td>\n",
       "      <td>C:\\Windows\\System32\\wmidcom.dll</td>\n",
       "      <td>C:\\Windows\\System32\\notepad.exe</td>\n",
       "    </tr>\n",
       "    <tr>\n",
       "      <th>999637</th>\n",
       "      <td>Microsoft-Windows-Sysmon/Operational</td>\n",
       "      <td>7</td>\n",
       "      <td>C:\\Windows\\System32\\wmidcom.dll</td>\n",
       "      <td>C:\\Windows\\System32\\notepad.exe</td>\n",
       "    </tr>\n",
       "    <tr>\n",
       "      <th>999983</th>\n",
       "      <td>Microsoft-Windows-Sysmon/Operational</td>\n",
       "      <td>7</td>\n",
       "      <td>C:\\Windows\\System32\\wmidcom.dll</td>\n",
       "      <td>C:\\Windows\\System32\\notepad.exe</td>\n",
       "    </tr>\n",
       "  </tbody>\n",
       "</table>\n",
       "<p>14361 rows × 4 columns</p>\n",
       "</div>"
      ],
      "text/plain": [
       "                                     Channel EventID  \\\n",
       "317     Microsoft-Windows-Sysmon/Operational       7   \n",
       "347     Microsoft-Windows-Sysmon/Operational       7   \n",
       "400     Microsoft-Windows-Sysmon/Operational       7   \n",
       "461     Microsoft-Windows-Sysmon/Operational       7   \n",
       "552     Microsoft-Windows-Sysmon/Operational       7   \n",
       "...                                      ...     ...   \n",
       "999268  Microsoft-Windows-Sysmon/Operational       7   \n",
       "999320  Microsoft-Windows-Sysmon/Operational       7   \n",
       "999620  Microsoft-Windows-Sysmon/Operational       7   \n",
       "999637  Microsoft-Windows-Sysmon/Operational       7   \n",
       "999983  Microsoft-Windows-Sysmon/Operational       7   \n",
       "\n",
       "                            ImageLoaded                            Image  \n",
       "317     C:\\Windows\\System32\\wmidcom.dll  C:\\Windows\\System32\\notepad.exe  \n",
       "347     C:\\Windows\\System32\\wmidcom.dll  C:\\Windows\\System32\\notepad.exe  \n",
       "400     C:\\Windows\\System32\\wmidcom.dll  C:\\Windows\\System32\\notepad.exe  \n",
       "461     C:\\Windows\\System32\\wmidcom.dll  C:\\Windows\\System32\\notepad.exe  \n",
       "552     C:\\Windows\\System32\\wmidcom.dll  C:\\Windows\\System32\\notepad.exe  \n",
       "...                                 ...                              ...  \n",
       "999268  C:\\Windows\\System32\\wmidcom.dll  C:\\Windows\\System32\\notepad.exe  \n",
       "999320  C:\\Windows\\System32\\wmidcom.dll  C:\\Windows\\System32\\notepad.exe  \n",
       "999620  C:\\Windows\\System32\\wmidcom.dll  C:\\Windows\\System32\\notepad.exe  \n",
       "999637  C:\\Windows\\System32\\wmidcom.dll  C:\\Windows\\System32\\notepad.exe  \n",
       "999983  C:\\Windows\\System32\\wmidcom.dll  C:\\Windows\\System32\\notepad.exe  \n",
       "\n",
       "[14361 rows x 4 columns]"
      ]
     },
     "execution_count": 6,
     "metadata": {},
     "output_type": "execute_result"
    }
   ],
   "source": [
    "# Analytic I\n",
    "I = (\n",
    "new_data[features]\n",
    "\n",
    "[(new_data['Channel'] == 'Microsoft-Windows-Sysmon/Operational')\n",
    "    & (new_data['EventID'] == '7')\n",
    "    & (\n",
    "      (new_data['ImageLoaded'].str.lower().str.endswith('wmiclnt.dll', na=False))\n",
    "      | (new_data['ImageLoaded'].str.lower().str.endswith('wmiaprpl.dll', na=False))\n",
    "      | (new_data['ImageLoaded'].str.lower().str.endswith('wmiprov.dll', na=False))\n",
    "      | (new_data['ImageLoaded'].str.lower().str.endswith('wmiutils.dll', na=False))\n",
    "      | (new_data['ImageLoaded'].str.lower().str.endswith('wbemcomn.dll', na=False))\n",
    "      | (new_data['ImageLoaded'].str.lower().str.endswith('wminet_utils.dll', na=False))\n",
    "      | (new_data['ImageLoaded'].str.lower().str.endswith('wbemsvc.dll', na=False))\n",
    "      | (new_data['ImageLoaded'].str.lower().str.endswith('fastprox.dll', na=False))\n",
    "      | (new_data['ImageLoaded'].str.lower().str.contains('.*wmi.*', regex=True))\n",
    "    )\n",
    "    & (\n",
    "      (~new_data['Image'].str.lower().str.endswith('wmiprvse.exe', na=False))\n",
    "      & (~new_data['Image'].str.lower().str.endswith('wmiapsrv.exe', na=False))\n",
    "      & (~new_data['Image'].str.lower().str.endswith('svchost.exe', na=False))\n",
    "    )\n",
    "]\n",
    ")\n",
    "I"
   ]
  },
  {
   "cell_type": "markdown",
   "metadata": {},
   "source": [
    "### Generate data\n",
    "Randomly pick data from each analytic's results, and combine them as the generated dataset."
   ]
  },
  {
   "cell_type": "code",
   "execution_count": 7,
   "metadata": {},
   "outputs": [
    {
     "data": {
      "text/plain": [
       "(3930, 4)"
      ]
     },
     "execution_count": 7,
     "metadata": {},
     "output_type": "execute_result"
    }
   ],
   "source": [
    "# randomly pick from results of analytics\n",
    "results = [I]\n",
    "# not pick from II because original data doesn't have result from it\n",
    "pick_nums = [3930] # 5898 * 2/3 = 3932\n",
    "gen_data = random_generator(results, pick_nums)\n",
    "\n",
    "gen_data.shape"
   ]
  },
  {
   "cell_type": "markdown",
   "metadata": {},
   "source": [
    "## Decision Tree"
   ]
  },
  {
   "cell_type": "markdown",
   "metadata": {},
   "source": [
    "### Preprocess data"
   ]
  },
  {
   "cell_type": "code",
   "execution_count": 15,
   "metadata": {},
   "outputs": [],
   "source": [
    "# Preprocessing\n",
    "from sklearn.preprocessing import MinMaxScaler\n",
    "\n",
    "# scaler = MinMaxScaler()\n",
    "# df = scaler.fit_transform(df)"
   ]
  },
  {
   "cell_type": "markdown",
   "metadata": {},
   "source": [
    "### Original data"
   ]
  },
  {
   "cell_type": "code",
   "execution_count": 10,
   "metadata": {},
   "outputs": [
    {
     "name": "stdout",
     "output_type": "stream",
     "text": [
      "Balanced accuracy score: 0.50\n"
     ]
    },
    {
     "data": {
      "image/png": "[encoded data removed]",
      "text/plain": [
       "<Figure size 432x288 with 2 Axes>"
      ]
     },
     "metadata": {
      "needs_background": "light"
     },
     "output_type": "display_data"
    },
    {
     "data": {
      "text/plain": [
       "<Figure size 720x504 with 0 Axes>"
      ]
     },
     "metadata": {},
     "output_type": "display_data"
    },
    {
     "name": "stderr",
     "output_type": "stream",
     "text": [
      "C:\\Users\\ly\\AppData\\Roaming\\Python\\Python37\\site-packages\\sklearn\\metrics\\_classification.py:1318: UndefinedMetricWarning: Precision and F-score are ill-defined and being set to 0.0 in labels with no predicted samples. Use `zero_division` parameter to control this behavior.\n",
      "  _warn_prf(average, modifier, msg_start, len(result))\n",
      "C:\\Users\\ly\\AppData\\Roaming\\Python\\Python37\\site-packages\\sklearn\\metrics\\_classification.py:1318: UndefinedMetricWarning: Precision and F-score are ill-defined and being set to 0.0 in labels with no predicted samples. Use `zero_division` parameter to control this behavior.\n",
      "  _warn_prf(average, modifier, msg_start, len(result))\n",
      "C:\\Users\\ly\\AppData\\Roaming\\Python\\Python37\\site-packages\\sklearn\\metrics\\_classification.py:1318: UndefinedMetricWarning: Precision and F-score are ill-defined and being set to 0.0 in labels with no predicted samples. Use `zero_division` parameter to control this behavior.\n",
      "  _warn_prf(average, modifier, msg_start, len(result))\n"
     ]
    },
    {
     "name": "stdout",
     "output_type": "stream",
     "text": [
      "              precision    recall  f1-score   support\n",
      "\n",
      "           0       1.00      1.00      1.00      1941\n",
      "           1       0.00      0.00      0.00         5\n",
      "\n",
      "    accuracy                           1.00      1946\n",
      "   macro avg       0.50      0.50      0.50      1946\n",
      "weighted avg       0.99      1.00      1.00      1946\n",
      "\n"
     ]
    }
   ],
   "source": [
    "from sklearn.model_selection import train_test_split\n",
    "from sklearn.tree import DecisionTreeClassifier\n",
    "from sklearn.model_selection import cross_val_score, StratifiedKFold\n",
    "\n",
    "X = preprocess(df)\n",
    "X, le_dict = labelEncoder_get(X)\n",
    "y = labelList(df.shape[0], [2168, 2172, 2194, 2232, 2235])\n",
    "clf = DecisionTreeClassifier()\n",
    "X_train, X_test, y_train, y_test = train_test_split_m(X, y, [2168, 2172, 2194, 2232, 2235])\n",
    "\n",
    "clf.fit(X_train, y_train)\n",
    "y_predict = clf.predict(X_test)\n",
    "print(\"Balanced accuracy score: {:.2f}\".format(metrics.balanced_accuracy_score(y_test, y_predict)))\n",
    "draw_confusionMatrix(y_test, y_predict)"
   ]
  },
  {
   "cell_type": "markdown",
   "metadata": {},
   "source": [
    "### Original data with generated data\n",
    "Generated data should only be added into trianing set."
   ]
  },
  {
   "cell_type": "code",
   "execution_count": 11,
   "metadata": {},
   "outputs": [
    {
     "name": "stdout",
     "output_type": "stream",
     "text": [
      "Balanced accuracy score: 0.90\n"
     ]
    },
    {
     "data": {
      "image/png": "[encoded data removed]",
      "text/plain": [
       "<Figure size 432x288 with 2 Axes>"
      ]
     },
     "metadata": {},
     "output_type": "display_data"
    },
    {
     "data": {
      "text/plain": [
       "<Figure size 720x504 with 0 Axes>"
      ]
     },
     "metadata": {},
     "output_type": "display_data"
    },
    {
     "name": "stdout",
     "output_type": "stream",
     "text": [
      "              precision    recall  f1-score   support\n",
      "\n",
      "           0       1.00      1.00      1.00      1941\n",
      "           1       1.00      0.80      0.89         5\n",
      "\n",
      "    accuracy                           1.00      1946\n",
      "   macro avg       1.00      0.90      0.94      1946\n",
      "weighted avg       1.00      1.00      1.00      1946\n",
      "\n"
     ]
    }
   ],
   "source": [
    "X_gen = preprocess(gen_data)\n",
    "X_gen = labelEncoder_trans(X_gen, le_dict)\n",
    "# add generated data to the original training set\n",
    "X_train_new = pd.concat([X_train, X_gen], axis=0)\n",
    "\n",
    "# generated data are all positive\n",
    "for i in range(len(gen_data)):\n",
    "    y_train.append(1)\n",
    "\n",
    "clf.fit(X_train_new, y_train)\n",
    "y_predict = clf.predict(X_test)\n",
    "print(\"Balanced accuracy score: {:.2f}\".format(metrics.balanced_accuracy_score(y_test, y_predict)))\n",
    "draw_confusionMatrix(y_test, y_predict)"
   ]
  },
  {
   "cell_type": "code",
   "execution_count": 12,
   "metadata": {},
   "outputs": [
    {
     "data": {
      "image/png": "[encoded data removed]",
      "text/plain": [
       "<Figure size 864x576 with 1 Axes>"
      ]
     },
     "metadata": {},
     "output_type": "display_data"
    }
   ],
   "source": [
    "# draw the tree\n",
    "from sklearn import tree\n",
    "\n",
    "plt.figure(figsize=(12, 8))\n",
    "tree.plot_tree(clf, feature_names=features, fontsize=10)\n",
    "plt.title(\"Decision Tree - WMIModuleLoad\")\n",
    "plt.savefig(r'DecisionTree\\WMIModuleLoad.png', dpi=100, transparent=True)"
   ]
  },
  {
   "cell_type": "markdown",
   "metadata": {},
   "source": [
    "## Save generated data"
   ]
  },
  {
   "cell_type": "code",
   "execution_count": 13,
   "metadata": {},
   "outputs": [],
   "source": [
    "# # extract to JSON file\n",
    "# dataset.reset_index(drop=True, inplace=True)\n",
    "gen_data.to_json(os.getcwd() + r'\\generated_datasets\\empire_psinject_PEinjection_new.json', orient='records')\n",
    "\n",
    "# dataset = json.read_json(path_or_buf=os.getcwd()+ \"\\\\generated_datasets\"+ \"\\\\empire_dllinjection_LoadLibrary_CreateRemoteThread_new.json\")\n",
    "# dataset.head()"
   ]
  },
  {
   "cell_type": "code",
   "execution_count": null,
   "metadata": {},
   "outputs": [],
   "source": []
  }
 ],
 "metadata": {
  "kernelspec": {
   "display_name": "Python 3",
   "language": "python",
   "name": "python3"
  },
  "language_info": {
   "codemirror_mode": {
    "name": "ipython",
    "version": 3
   },
   "file_extension": ".py",
   "mimetype": "text/x-python",
   "name": "python",
   "nbconvert_exporter": "python",
   "pygments_lexer": "ipython3",
   "version": "3.7.3"
  }
 },
 "nbformat": 4,
 "nbformat_minor": 2
}
