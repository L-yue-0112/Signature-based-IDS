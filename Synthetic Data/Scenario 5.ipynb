{
 "cells": [
  {
   "cell_type": "code",
   "execution_count": 1,
   "metadata": {},
   "outputs": [
    {
     "name": "stderr",
     "output_type": "stream",
     "text": [
      "C:\\Users\\ly\\AppData\\Roaming\\Python\\Python37\\site-packages\\numpy\\_distributor_init.py:32: UserWarning: loaded more than 1 DLL from .libs:\n",
      "C:\\Users\\ly\\AppData\\Roaming\\Python\\Python37\\site-packages\\numpy\\.libs\\libopenblas.GK7GX5KEQ4F6UYO3P26ULGBQYHGQO7J4.gfortran-win_amd64.dll\n",
      "C:\\Users\\ly\\AppData\\Roaming\\Python\\Python37\\site-packages\\numpy\\.libs\\libopenblas.PYQHXLVVQ7VESDPUVUADXEVJOBGHJPAY.gfortran-win_amd64.dll\n",
      "  stacklevel=1)\n",
      "C:\\ProgramData\\Anaconda3\\lib\\site-packages\\statsmodels\\tools\\_testing.py:19: FutureWarning: pandas.util.testing is deprecated. Use the functions in the public API at pandas.testing instead.\n",
      "  import pandas.util.testing as tm\n"
     ]
    }
   ],
   "source": [
    "import os\n",
    "import pandas as pd\n",
    "import numpy as np\n",
    "import tensorflow as tf\n",
    "from pandas.io import json\n",
    "from tensorflow import keras\n",
    "from tensorflow.keras import layers\n",
    "from sklearn import preprocessing\n",
    "\n",
    "from collections import Counter\n",
    "import seaborn as sns\n",
    "from sklearn import metrics\n",
    "import matplotlib.pyplot as plt\n",
    "\n",
    "\n",
    "from tensorflow.keras.initializers import GlorotUniform\n",
    "from tensorflow.keras.optimizers import Adam\n",
    "from sklearn.preprocessing import StandardScaler\n",
    "\n",
    "from sklearn import metrics"
   ]
  },
  {
   "cell_type": "code",
   "execution_count": 2,
   "metadata": {},
   "outputs": [],
   "source": [
    "# functions definition\n",
    "\n",
    "# Convert integers to strings\n",
    "def int_to_str(df):\n",
    "    for column in df.columns:\n",
    "        # if dtype is int, convert to string , e.g. EventID\n",
    "        if isinstance(df[column][0], (int, np.int32, np.int64)):\n",
    "            df[column] = list(map(str, df[column]))\n",
    "            \n",
    "    return df\n",
    "    \n",
    "# Count NaN in each column in the dataframe\n",
    "def count_nan(df):\n",
    "    for column in df.columns:\n",
    "        num = df[column].isna().sum()\n",
    "        print(column, str(num))\n",
    "    return 0\n",
    "\n",
    "# make a label list of all 0, except the detected threat are 1\n",
    "def labelList(num, threatIndices):\n",
    "    y = [0 for x in range(num)]\n",
    "    for i in threatIndices:\n",
    "        y[i] =  1\n",
    "    return y\n",
    "\n",
    "# Count the items in data frame\n",
    "def count_items(df):\n",
    "    for column in df.columns:\n",
    "        item = df[column]\n",
    "        print(column, \": \", sorted(Counter(item).items()))\n",
    "        \n",
    "    return 0\n",
    "\n",
    "# replicate specified data to the end of the dataset\n",
    "def pd_replicate(X, y, rep_list, times=1):\n",
    "    for index in rep_list:\n",
    "        for i in range(times):\n",
    "            \n",
    "            X = pd.concat([X, pd.DataFrame(X.iloc[index]).T], axis=0, ignore_index=True)\n",
    "\n",
    "            y.append(1)\n",
    "    \n",
    "    return (X, y)\n",
    "    \n",
    "# convert object items in the list into strings\n",
    "def preprocess(df):\n",
    "    \n",
    "    # replace NAN with 0\n",
    "    df = df.replace(np.nan, 0, regex=True)\n",
    "    \n",
    "    for column in df.columns:            \n",
    "        df[column] = list(map(str, df[column]))            \n",
    "    return df\n",
    "\n",
    "# fit the dataframe and record the label encoders for each column\n",
    "def labelEncoder_get(df):\n",
    "    le_list = []\n",
    "    for column in df.columns:\n",
    "        le = preprocessing.LabelEncoder()\n",
    "        le.fit(df[column])\n",
    "        df[column] = le.transform(df[column])\n",
    "        le_list.append(le)\n",
    "    return (df, le_list)\n",
    "\n",
    "# input the list of label encoders and transform the dataframe\n",
    "def labelEncoder_trans(df, le_list):\n",
    "    for i, column in enumerate(df.columns):\n",
    "        le = le_list[i]\n",
    "        df[column] = list(map(str, df[column]))\n",
    "        df[column] = le.transform(df[column])\n",
    "    return df\n",
    "\n",
    "\n",
    "# draw confusin matrix and print the classification report\n",
    "def draw_confusionMatrix(y_test, y_predict):\n",
    "    confusion_matrix = metrics.confusion_matrix(y_test, y_predict)\n",
    "    matrix_df = pd.DataFrame(confusion_matrix)\n",
    "    ax = plt.axes()\n",
    "    sns.set(font_scale=1.3)\n",
    "    plt.figure(figsize=(10, 7))\n",
    "    sns.heatmap(matrix_df, annot=True, fmt=\"g\", ax=ax, cmap=\"magma\")\n",
    "    ax.set_title('Confusion Matrix - DNN')\n",
    "    ax.set_xlabel(\"Predicted Label\", fontsize=15)\n",
    "    ax.set_ylabel(\"Actual Label\", fontsize=15)\n",
    "    plt.show()\n",
    "    print(metrics.classification_report(y_test, y_predict))\n",
    "    \n",
    "\n",
    "# Randomly pick data from results and combine them\n",
    "def random_generator(data_list, pick_nums):\n",
    "    \n",
    "    generated_data = pd.DataFrame()\n",
    "    \n",
    "    for i, data in enumerate(data_list):\n",
    "        num = pick_nums[i]\n",
    "        data_selected = data.sample(num)\n",
    "        generated_data = pd.concat([generated_data, data_selected], axis=0, ignore_index=True)\n",
    "    \n",
    "    return generated_data\n",
    "\n",
    "# split the training and testing sets manually, make sure that positive data is in the testing set\n",
    "def train_test_split_m(X, y, positive_list, test_size=0.33):\n",
    "\n",
    "    sample_len = int(len(X) * 0.33 - len(positive_list))\n",
    "    \n",
    "    X_test = X.iloc[positive_list]\n",
    "    X = X.drop(positive_list)\n",
    "    \n",
    "    X_random = X.sample(sample_len)\n",
    "    X = X.drop(X_random.index)\n",
    "    X_test = pd.concat([X_test, X_random], axis=0, ignore_index=True)\n",
    "    y_test = list([1 for i in range(len(positive_list))] + [0 for i in range(sample_len)])\n",
    "\n",
    "    X_train = X\n",
    "    y_train = [0 for i in range(len(X_train))]\n",
    "    \n",
    "    return (X_train, X_test, y_train, y_test)"
   ]
  },
  {
   "cell_type": "markdown",
   "metadata": {},
   "source": [
    "## DNN Model\n",
    "\n",
    "The neural networks that were investigated by this research \n",
    "had hidden layer counts between one and five. Neuron counts \n",
    "for the first hidden layer were three times the number of input \n",
    "neurons needed for the feature vector. The neuron counts for \n",
    "subsequent hidden layers were half of the preceding layer. \n",
    "Using this methodology a 50 input neural network would \n",
    "contain hidden counts of [150, 75, 37, 18] for a four hidden \n",
    "layer network.\n",
    "\n",
    "All hidden layers made use of the rectified linear unit \n",
    "(ReLU) transfer function. The adaptive moment \n",
    "estimation (Adam) was used to train the neural network. \n",
    "Weight initialization was accomplished using the Xavier \n",
    "algorithm. The feature vector was optimized using a \n",
    "feature ranking algorithm that was developed specifically for \n",
    "TensorFlow. \n",
    "\n",
    "Refernces: *Deep Learning for Prioritizing and Responding to Intrusion Detection Alerts* https://ieeexplore.ieee.org/abstract/document/8170757\n",
    "\n",
    "*Batch Normalization: Accelerating Deep Network Training by Reducing Internal Covariate Shift* http://proceedings.mlr.press/v37/ioffe15.html\n"
   ]
  },
  {
   "cell_type": "code",
   "execution_count": 44,
   "metadata": {},
   "outputs": [],
   "source": [
    "def DNN_model(input_len, layer=4):\n",
    "    \n",
    "    # Define the input shape\n",
    "    input_shape = (input_len,)\n",
    "    \n",
    "    # Define the number of neurons in each hidden layer\n",
    "    if layer == 1:\n",
    "        hidden_counts = [input_len*3]\n",
    "    elif layer == 2:\n",
    "        hidden_counts = [input_len*3, int(input_len*3/2)]\n",
    "    elif layer == 3:\n",
    "        hidden_counts = [input_len*3, int(input_len*3/2), int(input_len*3/2/2)]\n",
    "    elif layer == 4:\n",
    "        hidden_counts = [input_len*3, int(input_len*3/2), int(input_len*3/2)/2, int(input_len*3/2/2/2)]\n",
    "    else:\n",
    "        hidden_counts = [input_len*3, int(input_len*3/2), int(input_len*3/2/2), int(input_len*3/2/2/2), int(input_len*3/2/2/2/2)]\n",
    "\n",
    "    # Define the number of output neurons\n",
    "    num_classes = 1\n",
    "\n",
    "    # Define the activation function for the hidden layers\n",
    "    activation_fn = 'relu'\n",
    "\n",
    "    # Define the weight initializer\n",
    "    initializer = GlorotUniform(seed=42)\n",
    "\n",
    "    # Define the optimizer\n",
    "    optimizer = Adam()\n",
    "\n",
    "    # Define the model architecture\n",
    "    model = tf.keras.Sequential()\n",
    "\n",
    "    # Add the input layer\n",
    "    model.add(layers.InputLayer(input_shape=input_shape))\n",
    "\n",
    "    # Add the hidden layers\n",
    "    for i, count in enumerate(hidden_counts):\n",
    "        model.add(layers.Dense(count, activation=activation_fn, kernel_initializer=initializer, name=f'hidden_{i+1}'))\n",
    "\n",
    "    # Add the output layer\n",
    "    # model.add(layers.Dense(num_classes, activation='softmax', kernel_initializer=initializer, name='output'))\n",
    "    model.add(layers.Dense(num_classes, activation='sigmoid', kernel_initializer=initializer, name='output'))\n",
    "\n",
    "\n",
    "    # Compile the model\n",
    "    # model.compile(optimizer=optimizer, loss='categorical_crossentropy', metrics=['accuracy'])\n",
    "    model.compile(optimizer=optimizer, loss='binary_crossentropy', metrics=['accuracy'])#, 'AUC'\n",
    "    \n",
    "    return model\n",
    "    \n",
    "\n",
    "def DNN_classifier(df, y, y_index, gen_data, hidden_layers=3, manually=False):\n",
    "    \n",
    "    # preprocess\n",
    "    X = preprocess(df)\n",
    "    X, le_dict = labelEncoder_get(X)\n",
    "    if manually:\n",
    "        X_train, X_test, y_train, y_test = train_test_split_m(X, y, y_index)\n",
    "    else:\n",
    "        X_train, X_test, y_train, y_test = train_test_split(X, y, test_size = 0.33, random_state=42)\n",
    "    \n",
    "    \n",
    "    # add generated data to the original training set\n",
    "    X_gen = preprocess(gen_data)\n",
    "    X_gen = labelEncoder_trans(X_gen, le_dict)\n",
    "    X_train_new = pd.concat([X_train, X_gen], axis=0)\n",
    "    # generated data are all positive\n",
    "    for i in range(len(gen_data)):\n",
    "        y_train.append(1)\n",
    "    \n",
    "    # z-score scaling\n",
    "    scaler = StandardScaler()\n",
    "    X_scaled = scaler.fit_transform(X_train_new)\n",
    "    \n",
    "    ## DNN Model\n",
    "    model = DNN_model(len(X.columns))\n",
    "    y_train = np.array(y_train) #\n",
    "    hist = model.fit(X_scaled, y_train, verbose=2, epochs=50)\n",
    "    plt.plot(hist.history['accuracy'])\n",
    "    plt.show()\n",
    "    \n",
    "    # prediction\n",
    "    y_predict = model.predict(X_test)\n",
    "    y_predict_class = np.where(y_predict >= 0.5, 1, 0) # use 0.5 as threshold\n",
    "    draw_confusionMatrix(y_test, y_predict_class)\n",
    "    \n",
    "    return 0"
   ]
  },
  {
   "cell_type": "code",
   "execution_count": 83,
   "metadata": {},
   "outputs": [
    {
     "name": "stdout",
     "output_type": "stream",
     "text": [
      "(8465, 8) (5600, 8)\n"
     ]
    }
   ],
   "source": [
    "# AD Object\n",
    "# read the original dataset\n",
    "datasetJSONPath = os.getcwd() + \"\\\\datasets\\\\empire_dcsync_dcerpc_drsuapi_DsGetNCChanges_2020-09-21185829.json\"\n",
    "df1 = json.read_json(path_or_buf=datasetJSONPath, lines=True)\n",
    "\n",
    "features = [\"Channel\", \"EventID\", \"AccessMask\", \"Properties\", \"SubjectUserName\", \"LogonType\", \"SubjectLogonId\", \"TargetLogonId\"]\n",
    "df1 = df1[features]\n",
    "\n",
    "Y1 = labelList(df1.shape[0], [5125, 5126, 5127, 5114])\n",
    "\n",
    "# read the generated data\n",
    "gen_data1 = json.read_json(path_or_buf=os.getcwd()+ r'\\generated_datasets\\empire_dcsync_dcerpc_drsuapi_DsGetNCChanges_new.json')\n",
    "\n",
    "print(df1.shape, gen_data1.shape)"
   ]
  },
  {
   "cell_type": "code",
   "execution_count": 84,
   "metadata": {},
   "outputs": [
    {
     "name": "stdout",
     "output_type": "stream",
     "text": [
      "Epoch 1/50\n",
      "WARNING:tensorflow:AutoGraph could not transform <function Model.make_train_function.<locals>.train_function at 0x00000238B0499C80> and will run it as-is.\n",
      "Please report this to the TensorFlow team. When filing the bug, set the verbosity to 10 (on Linux, `export AUTOGRAPH_VERBOSITY=10`) and attach the full output.\n",
      "Cause: 'arguments' object has no attribute 'posonlyargs'\n",
      "To silence this warning, decorate the function with @tf.autograph.experimental.do_not_convert\n",
      "WARNING: AutoGraph could not transform <function Model.make_train_function.<locals>.train_function at 0x00000238B0499C80> and will run it as-is.\n",
      "Please report this to the TensorFlow team. When filing the bug, set the verbosity to 10 (on Linux, `export AUTOGRAPH_VERBOSITY=10`) and attach the full output.\n",
      "Cause: 'arguments' object has no attribute 'posonlyargs'\n",
      "To silence this warning, decorate the function with @tf.autograph.experimental.do_not_convert\n",
      "353/353 - 1s - loss: 0.3996 - accuracy: 0.9622 - 571ms/epoch - 2ms/step\n",
      "Epoch 2/50\n",
      "353/353 - 0s - loss: 0.2326 - accuracy: 0.9989 - 245ms/epoch - 695us/step\n",
      "Epoch 3/50\n",
      "353/353 - 0s - loss: 0.1793 - accuracy: 0.9992 - 238ms/epoch - 673us/step\n",
      "Epoch 4/50\n",
      "353/353 - 0s - loss: 0.1410 - accuracy: 0.9996 - 246ms/epoch - 698us/step\n",
      "Epoch 5/50\n",
      "353/353 - 0s - loss: 0.1126 - accuracy: 0.9999 - 240ms/epoch - 681us/step\n",
      "Epoch 6/50\n",
      "353/353 - 0s - loss: 0.0910 - accuracy: 1.0000 - 241ms/epoch - 683us/step\n",
      "Epoch 7/50\n",
      "353/353 - 0s - loss: 0.0743 - accuracy: 1.0000 - 228ms/epoch - 645us/step\n",
      "Epoch 8/50\n",
      "353/353 - 0s - loss: 0.0612 - accuracy: 1.0000 - 260ms/epoch - 737us/step\n",
      "Epoch 9/50\n",
      "353/353 - 0s - loss: 0.0508 - accuracy: 1.0000 - 307ms/epoch - 870us/step\n",
      "Epoch 10/50\n",
      "353/353 - 0s - loss: 0.0425 - accuracy: 1.0000 - 425ms/epoch - 1ms/step\n",
      "Epoch 11/50\n",
      "353/353 - 0s - loss: 0.0357 - accuracy: 1.0000 - 369ms/epoch - 1ms/step\n",
      "Epoch 12/50\n",
      "353/353 - 0s - loss: 0.0301 - accuracy: 1.0000 - 295ms/epoch - 834us/step\n",
      "Epoch 13/50\n",
      "353/353 - 0s - loss: 0.0255 - accuracy: 1.0000 - 253ms/epoch - 717us/step\n",
      "Epoch 14/50\n",
      "353/353 - 0s - loss: 0.0217 - accuracy: 1.0000 - 241ms/epoch - 683us/step\n",
      "Epoch 15/50\n",
      "353/353 - 0s - loss: 0.0185 - accuracy: 1.0000 - 253ms/epoch - 716us/step\n",
      "Epoch 16/50\n",
      "353/353 - 0s - loss: 0.0158 - accuracy: 1.0000 - 327ms/epoch - 927us/step\n",
      "Epoch 17/50\n",
      "353/353 - 0s - loss: 0.0135 - accuracy: 1.0000 - 364ms/epoch - 1ms/step\n",
      "Epoch 18/50\n",
      "353/353 - 0s - loss: 0.0116 - accuracy: 1.0000 - 268ms/epoch - 758us/step\n",
      "Epoch 19/50\n",
      "353/353 - 0s - loss: 0.0099 - accuracy: 1.0000 - 244ms/epoch - 692us/step\n",
      "Epoch 20/50\n",
      "353/353 - 0s - loss: 0.0085 - accuracy: 1.0000 - 256ms/epoch - 726us/step\n",
      "Epoch 21/50\n",
      "353/353 - 0s - loss: 0.0073 - accuracy: 1.0000 - 260ms/epoch - 737us/step\n",
      "Epoch 22/50\n",
      "353/353 - 0s - loss: 0.0063 - accuracy: 1.0000 - 273ms/epoch - 775us/step\n",
      "Epoch 23/50\n",
      "353/353 - 0s - loss: 0.0054 - accuracy: 1.0000 - 264ms/epoch - 747us/step\n",
      "Epoch 24/50\n",
      "353/353 - 0s - loss: 0.0047 - accuracy: 1.0000 - 255ms/epoch - 723us/step\n",
      "Epoch 25/50\n",
      "353/353 - 0s - loss: 0.0040 - accuracy: 1.0000 - 274ms/epoch - 776us/step\n",
      "Epoch 26/50\n",
      "353/353 - 0s - loss: 0.0035 - accuracy: 1.0000 - 266ms/epoch - 753us/step\n",
      "Epoch 27/50\n",
      "353/353 - 0s - loss: 0.0030 - accuracy: 1.0000 - 260ms/epoch - 737us/step\n",
      "Epoch 28/50\n",
      "353/353 - 0s - loss: 0.0026 - accuracy: 1.0000 - 264ms/epoch - 748us/step\n",
      "Epoch 29/50\n",
      "353/353 - 0s - loss: 0.0022 - accuracy: 1.0000 - 265ms/epoch - 751us/step\n",
      "Epoch 30/50\n",
      "353/353 - 0s - loss: 0.0019 - accuracy: 1.0000 - 269ms/epoch - 762us/step\n",
      "Epoch 31/50\n",
      "353/353 - 0s - loss: 0.0017 - accuracy: 1.0000 - 285ms/epoch - 807us/step\n",
      "Epoch 32/50\n",
      "353/353 - 0s - loss: 0.0014 - accuracy: 1.0000 - 280ms/epoch - 793us/step\n",
      "Epoch 33/50\n",
      "353/353 - 0s - loss: 0.0012 - accuracy: 1.0000 - 280ms/epoch - 793us/step\n",
      "Epoch 34/50\n",
      "353/353 - 0s - loss: 0.0011 - accuracy: 1.0000 - 332ms/epoch - 939us/step\n",
      "Epoch 35/50\n",
      "353/353 - 0s - loss: 9.2413e-04 - accuracy: 1.0000 - 295ms/epoch - 834us/step\n",
      "Epoch 36/50\n",
      "353/353 - 0s - loss: 7.9878e-04 - accuracy: 1.0000 - 311ms/epoch - 880us/step\n",
      "Epoch 37/50\n",
      "353/353 - 0s - loss: 6.8991e-04 - accuracy: 1.0000 - 291ms/epoch - 824us/step\n",
      "Epoch 38/50\n",
      "353/353 - 0s - loss: 5.9623e-04 - accuracy: 1.0000 - 306ms/epoch - 866us/step\n",
      "Epoch 39/50\n",
      "353/353 - 0s - loss: 5.1512e-04 - accuracy: 1.0000 - 343ms/epoch - 971us/step\n",
      "Epoch 40/50\n",
      "353/353 - 0s - loss: 4.4504e-04 - accuracy: 1.0000 - 309ms/epoch - 875us/step\n",
      "Epoch 41/50\n",
      "353/353 - 0s - loss: 3.8463e-04 - accuracy: 1.0000 - 316ms/epoch - 894us/step\n",
      "Epoch 42/50\n",
      "353/353 - 0s - loss: 3.3236e-04 - accuracy: 1.0000 - 267ms/epoch - 756us/step\n",
      "Epoch 43/50\n",
      "353/353 - 0s - loss: 2.8722e-04 - accuracy: 1.0000 - 273ms/epoch - 775us/step\n",
      "Epoch 44/50\n",
      "353/353 - 0s - loss: 2.4826e-04 - accuracy: 1.0000 - 249ms/epoch - 705us/step\n",
      "Epoch 45/50\n",
      "353/353 - 0s - loss: 2.1458e-04 - accuracy: 1.0000 - 259ms/epoch - 733us/step\n",
      "Epoch 46/50\n",
      "353/353 - 0s - loss: 1.8545e-04 - accuracy: 1.0000 - 241ms/epoch - 684us/step\n",
      "Epoch 47/50\n",
      "353/353 - 0s - loss: 1.6027e-04 - accuracy: 1.0000 - 271ms/epoch - 768us/step\n",
      "Epoch 48/50\n",
      "353/353 - 0s - loss: 1.3853e-04 - accuracy: 1.0000 - 246ms/epoch - 697us/step\n",
      "Epoch 49/50\n",
      "353/353 - 0s - loss: 1.1974e-04 - accuracy: 1.0000 - 223ms/epoch - 632us/step\n",
      "Epoch 50/50\n",
      "353/353 - 0s - loss: 1.0348e-04 - accuracy: 1.0000 - 230ms/epoch - 653us/step\n"
     ]
    },
    {
     "data": {
      "image/png": "[encoded data removed]",
      "text/plain": [
       "<Figure size 432x288 with 1 Axes>"
      ]
     },
     "metadata": {},
     "output_type": "display_data"
    },
    {
     "name": "stdout",
     "output_type": "stream",
     "text": [
      "WARNING:tensorflow:AutoGraph could not transform <function Model.make_predict_function.<locals>.predict_function at 0x00000238B3247A60> and will run it as-is.\n",
      "Please report this to the TensorFlow team. When filing the bug, set the verbosity to 10 (on Linux, `export AUTOGRAPH_VERBOSITY=10`) and attach the full output.\n",
      "Cause: 'arguments' object has no attribute 'posonlyargs'\n",
      "To silence this warning, decorate the function with @tf.autograph.experimental.do_not_convert\n",
      "WARNING: AutoGraph could not transform <function Model.make_predict_function.<locals>.predict_function at 0x00000238B3247A60> and will run it as-is.\n",
      "Please report this to the TensorFlow team. When filing the bug, set the verbosity to 10 (on Linux, `export AUTOGRAPH_VERBOSITY=10`) and attach the full output.\n",
      "Cause: 'arguments' object has no attribute 'posonlyargs'\n",
      "To silence this warning, decorate the function with @tf.autograph.experimental.do_not_convert\n"
     ]
    },
    {
     "data": {
      "image/png": "[encoded data removed]",
      "text/plain": [
       "<Figure size 432x288 with 2 Axes>"
      ]
     },
     "metadata": {},
     "output_type": "display_data"
    },
    {
     "data": {
      "text/plain": [
       "<Figure size 720x504 with 0 Axes>"
      ]
     },
     "metadata": {},
     "output_type": "display_data"
    },
    {
     "name": "stdout",
     "output_type": "stream",
     "text": [
      "              precision    recall  f1-score   support\n",
      "\n",
      "           0       1.00      1.00      1.00      2789\n",
      "           1       0.00      0.00      0.00         4\n",
      "\n",
      "    accuracy                           1.00      2793\n",
      "   macro avg       0.50      0.50      0.50      2793\n",
      "weighted avg       1.00      1.00      1.00      2793\n",
      "\n"
     ]
    },
    {
     "name": "stderr",
     "output_type": "stream",
     "text": [
      "C:\\Users\\ly\\AppData\\Roaming\\Python\\Python37\\site-packages\\sklearn\\metrics\\_classification.py:1318: UndefinedMetricWarning: Precision and F-score are ill-defined and being set to 0.0 in labels with no predicted samples. Use `zero_division` parameter to control this behavior.\n",
      "  _warn_prf(average, modifier, msg_start, len(result))\n",
      "C:\\Users\\ly\\AppData\\Roaming\\Python\\Python37\\site-packages\\sklearn\\metrics\\_classification.py:1318: UndefinedMetricWarning: Precision and F-score are ill-defined and being set to 0.0 in labels with no predicted samples. Use `zero_division` parameter to control this behavior.\n",
      "  _warn_prf(average, modifier, msg_start, len(result))\n",
      "C:\\Users\\ly\\AppData\\Roaming\\Python\\Python37\\site-packages\\sklearn\\metrics\\_classification.py:1318: UndefinedMetricWarning: Precision and F-score are ill-defined and being set to 0.0 in labels with no predicted samples. Use `zero_division` parameter to control this behavior.\n",
      "  _warn_prf(average, modifier, msg_start, len(result))\n"
     ]
    },
    {
     "data": {
      "text/plain": [
       "0"
      ]
     },
     "execution_count": 84,
     "metadata": {},
     "output_type": "execute_result"
    }
   ],
   "source": [
    "DNN_classifier(df1, Y1, [5125, 5126, 5127, 5114], gen_data1, hidden_layers=5, manually=True)"
   ]
  },
  {
   "cell_type": "code",
   "execution_count": 85,
   "metadata": {},
   "outputs": [
    {
     "name": "stdout",
     "output_type": "stream",
     "text": [
      "Epoch 1/50\n",
      "WARNING:tensorflow:AutoGraph could not transform <function Model.make_train_function.<locals>.train_function at 0x00000238B61427B8> and will run it as-is.\n",
      "Please report this to the TensorFlow team. When filing the bug, set the verbosity to 10 (on Linux, `export AUTOGRAPH_VERBOSITY=10`) and attach the full output.\n",
      "Cause: 'arguments' object has no attribute 'posonlyargs'\n",
      "To silence this warning, decorate the function with @tf.autograph.experimental.do_not_convert\n",
      "WARNING: AutoGraph could not transform <function Model.make_train_function.<locals>.train_function at 0x00000238B61427B8> and will run it as-is.\n",
      "Please report this to the TensorFlow team. When filing the bug, set the verbosity to 10 (on Linux, `export AUTOGRAPH_VERBOSITY=10`) and attach the full output.\n",
      "Cause: 'arguments' object has no attribute 'posonlyargs'\n",
      "To silence this warning, decorate the function with @tf.autograph.experimental.do_not_convert\n",
      "73/73 - 0s - loss: 0.6330 - accuracy: 0.7763 - 414ms/epoch - 6ms/step\n",
      "Epoch 2/50\n",
      "73/73 - 0s - loss: 0.5304 - accuracy: 0.8946 - 62ms/epoch - 851us/step\n",
      "Epoch 3/50\n",
      "73/73 - 0s - loss: 0.4744 - accuracy: 0.9216 - 57ms/epoch - 782us/step\n",
      "Epoch 4/50\n",
      "73/73 - 0s - loss: 0.4422 - accuracy: 0.9276 - 68ms/epoch - 931us/step\n",
      "Epoch 5/50\n",
      "73/73 - 0s - loss: 0.4202 - accuracy: 0.9284 - 75ms/epoch - 1ms/step\n",
      "Epoch 6/50\n",
      "73/73 - 0s - loss: 0.4013 - accuracy: 0.9348 - 69ms/epoch - 948us/step\n",
      "Epoch 7/50\n",
      "73/73 - 0s - loss: 0.3838 - accuracy: 0.9370 - 84ms/epoch - 1ms/step\n",
      "Epoch 8/50\n",
      "73/73 - 0s - loss: 0.3683 - accuracy: 0.9391 - 83ms/epoch - 1ms/step\n",
      "Epoch 9/50\n",
      "73/73 - 0s - loss: 0.3526 - accuracy: 0.9447 - 73ms/epoch - 1ms/step\n",
      "Epoch 10/50\n",
      "73/73 - 0s - loss: 0.3380 - accuracy: 0.9464 - 69ms/epoch - 948us/step\n",
      "Epoch 11/50\n",
      "73/73 - 0s - loss: 0.3246 - accuracy: 0.9456 - 66ms/epoch - 899us/step\n",
      "Epoch 12/50\n",
      "73/73 - 0s - loss: 0.3125 - accuracy: 0.9490 - 64ms/epoch - 882us/step\n",
      "Epoch 13/50\n",
      "73/73 - 0s - loss: 0.2997 - accuracy: 0.9507 - 72ms/epoch - 985us/step\n",
      "Epoch 14/50\n",
      "73/73 - 0s - loss: 0.2871 - accuracy: 0.9490 - 56ms/epoch - 763us/step\n",
      "Epoch 15/50\n",
      "73/73 - 0s - loss: 0.2769 - accuracy: 0.9477 - 57ms/epoch - 778us/step\n",
      "Epoch 16/50\n",
      "73/73 - 0s - loss: 0.2654 - accuracy: 0.9520 - 54ms/epoch - 736us/step\n",
      "Epoch 17/50\n",
      "73/73 - 0s - loss: 0.2572 - accuracy: 0.9541 - 54ms/epoch - 742us/step\n",
      "Epoch 18/50\n",
      "73/73 - 0s - loss: 0.2466 - accuracy: 0.9550 - 65ms/epoch - 889us/step\n",
      "Epoch 19/50\n",
      "73/73 - 0s - loss: 0.2354 - accuracy: 0.9576 - 62ms/epoch - 846us/step\n",
      "Epoch 20/50\n",
      "73/73 - 0s - loss: 0.2269 - accuracy: 0.9550 - 64ms/epoch - 882us/step\n",
      "Epoch 21/50\n",
      "73/73 - 0s - loss: 0.2205 - accuracy: 0.9554 - 59ms/epoch - 809us/step\n",
      "Epoch 22/50\n",
      "73/73 - 0s - loss: 0.2135 - accuracy: 0.9571 - 55ms/epoch - 751us/step\n",
      "Epoch 23/50\n",
      "73/73 - 0s - loss: 0.2055 - accuracy: 0.9627 - 53ms/epoch - 727us/step\n",
      "Epoch 24/50\n",
      "73/73 - 0s - loss: 0.1984 - accuracy: 0.9589 - 53ms/epoch - 722us/step\n",
      "Epoch 25/50\n",
      "73/73 - 0s - loss: 0.1949 - accuracy: 0.9589 - 92ms/epoch - 1ms/step\n",
      "Epoch 26/50\n",
      "73/73 - 0s - loss: 0.1888 - accuracy: 0.9576 - 71ms/epoch - 977us/step\n",
      "Epoch 27/50\n",
      "73/73 - 0s - loss: 0.1832 - accuracy: 0.9614 - 62ms/epoch - 849us/step\n",
      "Epoch 28/50\n",
      "73/73 - 0s - loss: 0.1772 - accuracy: 0.9619 - 58ms/epoch - 797us/step\n",
      "Epoch 29/50\n",
      "73/73 - 0s - loss: 0.1739 - accuracy: 0.9614 - 60ms/epoch - 819us/step\n",
      "Epoch 30/50\n",
      "73/73 - 0s - loss: 0.1706 - accuracy: 0.9627 - 53ms/epoch - 732us/step\n",
      "Epoch 31/50\n",
      "73/73 - 0s - loss: 0.1643 - accuracy: 0.9614 - 58ms/epoch - 791us/step\n",
      "Epoch 32/50\n",
      "73/73 - 0s - loss: 0.1595 - accuracy: 0.9640 - 60ms/epoch - 820us/step\n",
      "Epoch 33/50\n",
      "73/73 - 0s - loss: 0.1558 - accuracy: 0.9644 - 64ms/epoch - 883us/step\n",
      "Epoch 34/50\n",
      "73/73 - 0s - loss: 0.1517 - accuracy: 0.9670 - 60ms/epoch - 827us/step\n",
      "Epoch 35/50\n",
      "73/73 - 0s - loss: 0.1470 - accuracy: 0.9666 - 51ms/epoch - 700us/step\n",
      "Epoch 36/50\n",
      "73/73 - 0s - loss: 0.1463 - accuracy: 0.9644 - 59ms/epoch - 809us/step\n",
      "Epoch 37/50\n",
      "73/73 - 0s - loss: 0.1437 - accuracy: 0.9661 - 64ms/epoch - 882us/step\n",
      "Epoch 38/50\n",
      "73/73 - 0s - loss: 0.1400 - accuracy: 0.9644 - 59ms/epoch - 814us/step\n",
      "Epoch 39/50\n",
      "73/73 - 0s - loss: 0.1361 - accuracy: 0.9666 - 59ms/epoch - 802us/step\n",
      "Epoch 40/50\n",
      "73/73 - 0s - loss: 0.1342 - accuracy: 0.9674 - 58ms/epoch - 796us/step\n",
      "Epoch 41/50\n",
      "73/73 - 0s - loss: 0.1314 - accuracy: 0.9696 - 60ms/epoch - 816us/step\n",
      "Epoch 42/50\n",
      "73/73 - 0s - loss: 0.1291 - accuracy: 0.9666 - 50ms/epoch - 689us/step\n",
      "Epoch 43/50\n",
      "73/73 - 0s - loss: 0.1290 - accuracy: 0.9679 - 66ms/epoch - 902us/step\n",
      "Epoch 44/50\n",
      "73/73 - 0s - loss: 0.1245 - accuracy: 0.9679 - 56ms/epoch - 764us/step\n",
      "Epoch 45/50\n",
      "73/73 - 0s - loss: 0.1219 - accuracy: 0.9670 - 64ms/epoch - 883us/step\n",
      "Epoch 46/50\n",
      "73/73 - 0s - loss: 0.1173 - accuracy: 0.9704 - 74ms/epoch - 1ms/step\n",
      "Epoch 47/50\n",
      "73/73 - 0s - loss: 0.1220 - accuracy: 0.9653 - 75ms/epoch - 1ms/step\n",
      "Epoch 48/50\n",
      "73/73 - 0s - loss: 0.1146 - accuracy: 0.9696 - 77ms/epoch - 1ms/step\n",
      "Epoch 49/50\n",
      "73/73 - 0s - loss: 0.1109 - accuracy: 0.9691 - 69ms/epoch - 948us/step\n",
      "Epoch 50/50\n",
      "73/73 - 0s - loss: 0.1090 - accuracy: 0.9704 - 64ms/epoch - 880us/step\n"
     ]
    },
    {
     "data": {
      "image/png": "[encoded data removed]",
      "text/plain": [
       "<Figure size 432x288 with 1 Axes>"
      ]
     },
     "metadata": {},
     "output_type": "display_data"
    },
    {
     "name": "stdout",
     "output_type": "stream",
     "text": [
      "WARNING:tensorflow:AutoGraph could not transform <function Model.make_predict_function.<locals>.predict_function at 0x00000238B2AD1488> and will run it as-is.\n",
      "Please report this to the TensorFlow team. When filing the bug, set the verbosity to 10 (on Linux, `export AUTOGRAPH_VERBOSITY=10`) and attach the full output.\n",
      "Cause: 'arguments' object has no attribute 'posonlyargs'\n",
      "To silence this warning, decorate the function with @tf.autograph.experimental.do_not_convert\n",
      "WARNING: AutoGraph could not transform <function Model.make_predict_function.<locals>.predict_function at 0x00000238B2AD1488> and will run it as-is.\n",
      "Please report this to the TensorFlow team. When filing the bug, set the verbosity to 10 (on Linux, `export AUTOGRAPH_VERBOSITY=10`) and attach the full output.\n",
      "Cause: 'arguments' object has no attribute 'posonlyargs'\n",
      "To silence this warning, decorate the function with @tf.autograph.experimental.do_not_convert\n"
     ]
    },
    {
     "data": {
      "image/png": "[encoded data removed]",
      "text/plain": [
       "<Figure size 432x288 with 2 Axes>"
      ]
     },
     "metadata": {},
     "output_type": "display_data"
    },
    {
     "data": {
      "text/plain": [
       "<Figure size 720x504 with 0 Axes>"
      ]
     },
     "metadata": {},
     "output_type": "display_data"
    },
    {
     "name": "stdout",
     "output_type": "stream",
     "text": [
      "              precision    recall  f1-score   support\n",
      "\n",
      "           0       0.98      0.43      0.59       672\n",
      "           1       0.01      0.30      0.02        10\n",
      "\n",
      "    accuracy                           0.42       682\n",
      "   macro avg       0.49      0.36      0.30       682\n",
      "weighted avg       0.96      0.42      0.58       682\n",
      "\n"
     ]
    },
    {
     "data": {
      "text/plain": [
       "0"
      ]
     },
     "execution_count": 85,
     "metadata": {},
     "output_type": "execute_result"
    }
   ],
   "source": [
    "# Local PS\n",
    "datasetJSONPath = os.getcwd() + \"\\\\datasets\\\\empire_launcher_vbs_2020-09-04160940.json\"\n",
    "df2 = json.read_json(path_or_buf=datasetJSONPath, lines=True)\n",
    "\n",
    "features = [\"Channel\", \"EventID\", \"NewProcessName\", \"ParentProcessName\", \"Image\", \"ImageLoaded\", \"Description\", \"PipeName\"] # \"ParentImage\", \n",
    "df2 = df2[features]\n",
    "\n",
    "Y2 = labelList(df2.shape[0], [876, 1251, 1325, 1370, 1372, 327, 258, 1100, 1106, 913])\n",
    "\n",
    "gen_data2 = json.read_json(os.getcwd() + \"\\\\generated_datasets\\\\empire_launcher_vbs_new.json\")\n",
    "\n",
    "DNN_classifier(df2, Y2, [876, 1251, 1325, 1370, 1372, 327, 258, 1100, 1106, 913], gen_data2, hidden_layers=5, manually=True)\n"
   ]
  },
  {
   "cell_type": "code",
   "execution_count": 86,
   "metadata": {},
   "outputs": [
    {
     "name": "stdout",
     "output_type": "stream",
     "text": [
      "Epoch 1/50\n",
      "WARNING:tensorflow:AutoGraph could not transform <function Model.make_train_function.<locals>.train_function at 0x00000238B2AD1950> and will run it as-is.\n",
      "Please report this to the TensorFlow team. When filing the bug, set the verbosity to 10 (on Linux, `export AUTOGRAPH_VERBOSITY=10`) and attach the full output.\n",
      "Cause: 'arguments' object has no attribute 'posonlyargs'\n",
      "To silence this warning, decorate the function with @tf.autograph.experimental.do_not_convert\n",
      "WARNING: AutoGraph could not transform <function Model.make_train_function.<locals>.train_function at 0x00000238B2AD1950> and will run it as-is.\n",
      "Please report this to the TensorFlow team. When filing the bug, set the verbosity to 10 (on Linux, `export AUTOGRAPH_VERBOSITY=10`) and attach the full output.\n",
      "Cause: 'arguments' object has no attribute 'posonlyargs'\n",
      "To silence this warning, decorate the function with @tf.autograph.experimental.do_not_convert\n",
      "91/91 - 0s - loss: 0.6720 - accuracy: 0.6442 - 401ms/epoch - 4ms/step\n",
      "Epoch 2/50\n",
      "91/91 - 0s - loss: 0.5342 - accuracy: 0.8633 - 71ms/epoch - 776us/step\n",
      "Epoch 3/50\n",
      "91/91 - 0s - loss: 0.4020 - accuracy: 0.8948 - 66ms/epoch - 725us/step\n",
      "Epoch 4/50\n",
      "91/91 - 0s - loss: 0.2278 - accuracy: 0.9457 - 72ms/epoch - 786us/step\n",
      "Epoch 5/50\n",
      "91/91 - 0s - loss: 0.1443 - accuracy: 0.9668 - 73ms/epoch - 805us/step\n",
      "Epoch 6/50\n",
      "91/91 - 0s - loss: 0.0958 - accuracy: 0.9813 - 69ms/epoch - 759us/step\n",
      "Epoch 7/50\n",
      "91/91 - 0s - loss: 0.0707 - accuracy: 0.9941 - 80ms/epoch - 878us/step\n",
      "Epoch 8/50\n",
      "91/91 - 0s - loss: 0.0461 - accuracy: 0.9955 - 86ms/epoch - 942us/step\n",
      "Epoch 9/50\n",
      "91/91 - 0s - loss: 0.0366 - accuracy: 0.9948 - 88ms/epoch - 972us/step\n",
      "Epoch 10/50\n",
      "91/91 - 0s - loss: 0.0292 - accuracy: 0.9955 - 75ms/epoch - 824us/step\n",
      "Epoch 11/50\n",
      "91/91 - 0s - loss: 0.0255 - accuracy: 0.9955 - 83ms/epoch - 911us/step\n",
      "Epoch 12/50\n",
      "91/91 - 0s - loss: 0.0213 - accuracy: 0.9955 - 110ms/epoch - 1ms/step\n",
      "Epoch 13/50\n",
      "91/91 - 0s - loss: 0.0240 - accuracy: 0.9948 - 87ms/epoch - 957us/step\n",
      "Epoch 14/50\n",
      "91/91 - 0s - loss: 0.0231 - accuracy: 0.9945 - 82ms/epoch - 899us/step\n",
      "Epoch 15/50\n",
      "91/91 - 0s - loss: 0.0158 - accuracy: 0.9958 - 88ms/epoch - 966us/step\n",
      "Epoch 16/50\n",
      "91/91 - 0s - loss: 0.0154 - accuracy: 0.9965 - 86ms/epoch - 946us/step\n",
      "Epoch 17/50\n",
      "91/91 - 0s - loss: 0.0129 - accuracy: 0.9962 - 76ms/epoch - 839us/step\n",
      "Epoch 18/50\n",
      "91/91 - 0s - loss: 0.0115 - accuracy: 0.9972 - 85ms/epoch - 932us/step\n",
      "Epoch 19/50\n",
      "91/91 - 0s - loss: 0.0109 - accuracy: 0.9972 - 77ms/epoch - 850us/step\n",
      "Epoch 20/50\n",
      "91/91 - 0s - loss: 0.0102 - accuracy: 0.9979 - 82ms/epoch - 897us/step\n",
      "Epoch 21/50\n",
      "91/91 - 0s - loss: 0.0102 - accuracy: 0.9969 - 85ms/epoch - 933us/step\n",
      "Epoch 22/50\n",
      "91/91 - 0s - loss: 0.0114 - accuracy: 0.9972 - 67ms/epoch - 731us/step\n",
      "Epoch 23/50\n",
      "91/91 - 0s - loss: 0.0134 - accuracy: 0.9972 - 83ms/epoch - 907us/step\n",
      "Epoch 24/50\n",
      "91/91 - 0s - loss: 0.0077 - accuracy: 0.9983 - 77ms/epoch - 847us/step\n",
      "Epoch 25/50\n",
      "91/91 - 0s - loss: 0.0067 - accuracy: 0.9976 - 77ms/epoch - 844us/step\n",
      "Epoch 26/50\n",
      "91/91 - 0s - loss: 0.0088 - accuracy: 0.9983 - 83ms/epoch - 917us/step\n",
      "Epoch 27/50\n",
      "91/91 - 0s - loss: 0.0056 - accuracy: 0.9986 - 84ms/epoch - 921us/step\n",
      "Epoch 28/50\n",
      "91/91 - 0s - loss: 0.0059 - accuracy: 0.9986 - 111ms/epoch - 1ms/step\n",
      "Epoch 29/50\n",
      "91/91 - 0s - loss: 0.0069 - accuracy: 0.9983 - 86ms/epoch - 946us/step\n",
      "Epoch 30/50\n",
      "91/91 - 0s - loss: 0.0049 - accuracy: 0.9990 - 72ms/epoch - 790us/step\n",
      "Epoch 31/50\n",
      "91/91 - 0s - loss: 0.0054 - accuracy: 0.9990 - 80ms/epoch - 880us/step\n",
      "Epoch 32/50\n",
      "91/91 - 0s - loss: 0.0047 - accuracy: 0.9990 - 73ms/epoch - 805us/step\n",
      "Epoch 33/50\n",
      "91/91 - 0s - loss: 0.0062 - accuracy: 0.9986 - 75ms/epoch - 820us/step\n",
      "Epoch 34/50\n",
      "91/91 - 0s - loss: 0.0064 - accuracy: 0.9986 - 76ms/epoch - 836us/step\n",
      "Epoch 35/50\n",
      "91/91 - 0s - loss: 0.0067 - accuracy: 0.9990 - 78ms/epoch - 859us/step\n",
      "Epoch 36/50\n",
      "91/91 - 0s - loss: 0.0044 - accuracy: 0.9990 - 79ms/epoch - 863us/step\n",
      "Epoch 37/50\n",
      "91/91 - 0s - loss: 0.0039 - accuracy: 0.9990 - 82ms/epoch - 901us/step\n",
      "Epoch 38/50\n",
      "91/91 - 0s - loss: 0.0040 - accuracy: 0.9986 - 74ms/epoch - 809us/step\n",
      "Epoch 39/50\n",
      "91/91 - 0s - loss: 0.0039 - accuracy: 0.9990 - 74ms/epoch - 818us/step\n",
      "Epoch 40/50\n",
      "91/91 - 0s - loss: 0.0046 - accuracy: 0.9986 - 70ms/epoch - 774us/step\n",
      "Epoch 41/50\n",
      "91/91 - 0s - loss: 0.0073 - accuracy: 0.9979 - 79ms/epoch - 865us/step\n",
      "Epoch 42/50\n",
      "91/91 - 0s - loss: 0.0044 - accuracy: 0.9986 - 81ms/epoch - 891us/step\n",
      "Epoch 43/50\n",
      "91/91 - 0s - loss: 0.0056 - accuracy: 0.9983 - 75ms/epoch - 822us/step\n",
      "Epoch 44/50\n",
      "91/91 - 0s - loss: 0.0048 - accuracy: 0.9986 - 77ms/epoch - 845us/step\n",
      "Epoch 45/50\n",
      "91/91 - 0s - loss: 0.0039 - accuracy: 0.9990 - 79ms/epoch - 871us/step\n",
      "Epoch 46/50\n",
      "91/91 - 0s - loss: 0.0058 - accuracy: 0.9986 - 81ms/epoch - 890us/step\n",
      "Epoch 47/50\n",
      "91/91 - 0s - loss: 0.0057 - accuracy: 0.9983 - 79ms/epoch - 868us/step\n",
      "Epoch 48/50\n",
      "91/91 - 0s - loss: 0.0043 - accuracy: 0.9986 - 81ms/epoch - 892us/step\n",
      "Epoch 49/50\n",
      "91/91 - 0s - loss: 0.0045 - accuracy: 0.9986 - 69ms/epoch - 753us/step\n",
      "Epoch 50/50\n",
      "91/91 - 0s - loss: 0.0034 - accuracy: 0.9990 - 65ms/epoch - 713us/step\n"
     ]
    },
    {
     "data": {
      "image/png": "[encoded data removed]",
      "text/plain": [
       "<Figure size 432x288 with 1 Axes>"
      ]
     },
     "metadata": {},
     "output_type": "display_data"
    },
    {
     "name": "stdout",
     "output_type": "stream",
     "text": [
      "WARNING:tensorflow:AutoGraph could not transform <function Model.make_predict_function.<locals>.predict_function at 0x00000238B00F8510> and will run it as-is.\n",
      "Please report this to the TensorFlow team. When filing the bug, set the verbosity to 10 (on Linux, `export AUTOGRAPH_VERBOSITY=10`) and attach the full output.\n",
      "Cause: 'arguments' object has no attribute 'posonlyargs'\n",
      "To silence this warning, decorate the function with @tf.autograph.experimental.do_not_convert\n",
      "WARNING: AutoGraph could not transform <function Model.make_predict_function.<locals>.predict_function at 0x00000238B00F8510> and will run it as-is.\n",
      "Please report this to the TensorFlow team. When filing the bug, set the verbosity to 10 (on Linux, `export AUTOGRAPH_VERBOSITY=10`) and attach the full output.\n",
      "Cause: 'arguments' object has no attribute 'posonlyargs'\n",
      "To silence this warning, decorate the function with @tf.autograph.experimental.do_not_convert\n"
     ]
    },
    {
     "data": {
      "image/png": "[encoded data removed]",
      "text/plain": [
       "<Figure size 432x288 with 2 Axes>"
      ]
     },
     "metadata": {},
     "output_type": "display_data"
    },
    {
     "data": {
      "text/plain": [
       "<Figure size 720x504 with 0 Axes>"
      ]
     },
     "metadata": {},
     "output_type": "display_data"
    },
    {
     "name": "stdout",
     "output_type": "stream",
     "text": [
      "              precision    recall  f1-score   support\n",
      "\n",
      "           0       0.99      1.00      0.99       896\n",
      "           1       0.00      0.00      0.00         9\n",
      "\n",
      "    accuracy                           0.99       905\n",
      "   macro avg       0.50      0.50      0.50       905\n",
      "weighted avg       0.98      0.99      0.98       905\n",
      "\n"
     ]
    },
    {
     "data": {
      "text/plain": [
       "0"
      ]
     },
     "execution_count": 86,
     "metadata": {},
     "output_type": "execute_result"
    }
   ],
   "source": [
    "# PS Remote\n",
    "datasetJSONPath = os.getcwd() + \"\\\\datasets\\\\empire_psremoting_stager_2020-09-20170827.json\"\n",
    "df3 = json.read_json(path_or_buf=datasetJSONPath, lines=True)\n",
    "\n",
    "features = [\"Channel\", \"EventID\", \"Message\", \"DestPort\", \"LayerRTID\", \"ParentProcessName\", \"NewProcessName\", \"ParentImage\", \"Image\", \"DestinationPort\", \"User\"]\n",
    "df3 = df3[features]\n",
    "Y3 = labelList(df3.shape[0], [678, 478, 745, 856, 535, 867, 689, 1415, 1418])\n",
    "\n",
    "gen_data3 = json.read_json(os.getcwd() + \"\\\\generated_datasets\\\\empire_psremoting_stager_new1.json\")\n",
    "\n",
    "DNN_classifier(df3, Y3, [678, 478, 745, 856, 535, 867, 689, 1415, 1418], gen_data3, hidden_layers=5, manually=True)\n"
   ]
  },
  {
   "cell_type": "code",
   "execution_count": 87,
   "metadata": {},
   "outputs": [
    {
     "name": "stdout",
     "output_type": "stream",
     "text": [
      "Epoch 1/50\n",
      "WARNING:tensorflow:AutoGraph could not transform <function Model.make_train_function.<locals>.train_function at 0x00000238B2AD1BF8> and will run it as-is.\n",
      "Please report this to the TensorFlow team. When filing the bug, set the verbosity to 10 (on Linux, `export AUTOGRAPH_VERBOSITY=10`) and attach the full output.\n",
      "Cause: 'arguments' object has no attribute 'posonlyargs'\n",
      "To silence this warning, decorate the function with @tf.autograph.experimental.do_not_convert\n",
      "WARNING: AutoGraph could not transform <function Model.make_train_function.<locals>.train_function at 0x00000238B2AD1BF8> and will run it as-is.\n",
      "Please report this to the TensorFlow team. When filing the bug, set the verbosity to 10 (on Linux, `export AUTOGRAPH_VERBOSITY=10`) and attach the full output.\n",
      "Cause: 'arguments' object has no attribute 'posonlyargs'\n",
      "To silence this warning, decorate the function with @tf.autograph.experimental.do_not_convert\n",
      "116/116 - 0s - loss: 0.6035 - accuracy: 0.8120 - 426ms/epoch - 4ms/step\n",
      "Epoch 2/50\n",
      "116/116 - 0s - loss: 0.3996 - accuracy: 0.9520 - 83ms/epoch - 716us/step\n",
      "Epoch 3/50\n",
      "116/116 - 0s - loss: 0.3502 - accuracy: 0.9601 - 78ms/epoch - 674us/step\n",
      "Epoch 4/50\n",
      "116/116 - 0s - loss: 0.3212 - accuracy: 0.9631 - 82ms/epoch - 709us/step\n",
      "Epoch 5/50\n",
      "116/116 - 0s - loss: 0.2978 - accuracy: 0.9631 - 106ms/epoch - 915us/step\n",
      "Epoch 6/50\n",
      "116/116 - 0s - loss: 0.2787 - accuracy: 0.9639 - 88ms/epoch - 761us/step\n",
      "Epoch 7/50\n",
      "116/116 - 0s - loss: 0.2624 - accuracy: 0.9639 - 85ms/epoch - 734us/step\n",
      "Epoch 8/50\n",
      "116/116 - 0s - loss: 0.2471 - accuracy: 0.9658 - 85ms/epoch - 734us/step\n",
      "Epoch 9/50\n",
      "116/116 - 0s - loss: 0.2343 - accuracy: 0.9647 - 90ms/epoch - 774us/step\n",
      "Epoch 10/50\n",
      "116/116 - 0s - loss: 0.2223 - accuracy: 0.9666 - 91ms/epoch - 784us/step\n",
      "Epoch 11/50\n",
      "116/116 - 0s - loss: 0.2110 - accuracy: 0.9669 - 79ms/epoch - 679us/step\n",
      "Epoch 12/50\n",
      "116/116 - 0s - loss: 0.2008 - accuracy: 0.9666 - 101ms/epoch - 873us/step\n",
      "Epoch 13/50\n",
      "116/116 - 0s - loss: 0.1919 - accuracy: 0.9675 - 82ms/epoch - 707us/step\n",
      "Epoch 14/50\n",
      "116/116 - 0s - loss: 0.1826 - accuracy: 0.9702 - 82ms/epoch - 705us/step\n",
      "Epoch 15/50\n",
      "116/116 - 0s - loss: 0.1745 - accuracy: 0.9694 - 86ms/epoch - 743us/step\n",
      "Epoch 16/50\n",
      "116/116 - 0s - loss: 0.1677 - accuracy: 0.9696 - 96ms/epoch - 830us/step\n",
      "Epoch 17/50\n",
      "116/116 - 0s - loss: 0.1607 - accuracy: 0.9702 - 88ms/epoch - 756us/step\n",
      "Epoch 18/50\n",
      "116/116 - 0s - loss: 0.1538 - accuracy: 0.9740 - 83ms/epoch - 719us/step\n",
      "Epoch 19/50\n",
      "116/116 - 0s - loss: 0.1476 - accuracy: 0.9731 - 100ms/epoch - 863us/step\n",
      "Epoch 20/50\n",
      "116/116 - 0s - loss: 0.1415 - accuracy: 0.9742 - 102ms/epoch - 879us/step\n",
      "Epoch 21/50\n",
      "116/116 - 0s - loss: 0.1367 - accuracy: 0.9748 - 93ms/epoch - 803us/step\n",
      "Epoch 22/50\n",
      "116/116 - 0s - loss: 0.1311 - accuracy: 0.9753 - 96ms/epoch - 825us/step\n",
      "Epoch 23/50\n",
      "116/116 - 0s - loss: 0.1260 - accuracy: 0.9750 - 102ms/epoch - 883us/step\n",
      "Epoch 24/50\n",
      "116/116 - 0s - loss: 0.1209 - accuracy: 0.9780 - 84ms/epoch - 727us/step\n",
      "Epoch 25/50\n",
      "116/116 - 0s - loss: 0.1151 - accuracy: 0.9769 - 86ms/epoch - 738us/step\n",
      "Epoch 26/50\n",
      "116/116 - 0s - loss: 0.1102 - accuracy: 0.9772 - 102ms/epoch - 880us/step\n",
      "Epoch 27/50\n",
      "116/116 - 0s - loss: 0.1047 - accuracy: 0.9799 - 91ms/epoch - 784us/step\n",
      "Epoch 28/50\n",
      "116/116 - 0s - loss: 0.0993 - accuracy: 0.9807 - 85ms/epoch - 737us/step\n",
      "Epoch 29/50\n",
      "116/116 - 0s - loss: 0.0952 - accuracy: 0.9818 - 87ms/epoch - 751us/step\n",
      "Epoch 30/50\n",
      "116/116 - 0s - loss: 0.0911 - accuracy: 0.9832 - 76ms/epoch - 659us/step\n",
      "Epoch 31/50\n",
      "116/116 - 0s - loss: 0.0858 - accuracy: 0.9851 - 81ms/epoch - 701us/step\n",
      "Epoch 32/50\n",
      "116/116 - 0s - loss: 0.0842 - accuracy: 0.9840 - 81ms/epoch - 696us/step\n",
      "Epoch 33/50\n",
      "116/116 - 0s - loss: 0.0802 - accuracy: 0.9845 - 79ms/epoch - 679us/step\n",
      "Epoch 34/50\n",
      "116/116 - 0s - loss: 0.0774 - accuracy: 0.9854 - 89ms/epoch - 765us/step\n",
      "Epoch 35/50\n",
      "116/116 - 0s - loss: 0.0741 - accuracy: 0.9859 - 87ms/epoch - 746us/step\n",
      "Epoch 36/50\n",
      "116/116 - 0s - loss: 0.0713 - accuracy: 0.9870 - 83ms/epoch - 715us/step\n",
      "Epoch 37/50\n",
      "116/116 - 0s - loss: 0.0716 - accuracy: 0.9859 - 97ms/epoch - 835us/step\n",
      "Epoch 38/50\n",
      "116/116 - 0s - loss: 0.0657 - accuracy: 0.9875 - 150ms/epoch - 1ms/step\n",
      "Epoch 39/50\n",
      "116/116 - 0s - loss: 0.0643 - accuracy: 0.9883 - 214ms/epoch - 2ms/step\n",
      "Epoch 40/50\n",
      "116/116 - 0s - loss: 0.0608 - accuracy: 0.9897 - 125ms/epoch - 1ms/step\n",
      "Epoch 41/50\n",
      "116/116 - 0s - loss: 0.0594 - accuracy: 0.9878 - 131ms/epoch - 1ms/step\n",
      "Epoch 42/50\n",
      "116/116 - 0s - loss: 0.0584 - accuracy: 0.9900 - 118ms/epoch - 1ms/step\n",
      "Epoch 43/50\n",
      "116/116 - 0s - loss: 0.0576 - accuracy: 0.9892 - 121ms/epoch - 1ms/step\n",
      "Epoch 44/50\n",
      "116/116 - 0s - loss: 0.0564 - accuracy: 0.9900 - 117ms/epoch - 1ms/step\n",
      "Epoch 45/50\n",
      "116/116 - 0s - loss: 0.0533 - accuracy: 0.9908 - 115ms/epoch - 994us/step\n",
      "Epoch 46/50\n",
      "116/116 - 0s - loss: 0.0513 - accuracy: 0.9902 - 123ms/epoch - 1ms/step\n",
      "Epoch 47/50\n",
      "116/116 - 0s - loss: 0.0519 - accuracy: 0.9889 - 123ms/epoch - 1ms/step\n",
      "Epoch 48/50\n",
      "116/116 - 0s - loss: 0.0489 - accuracy: 0.9910 - 120ms/epoch - 1ms/step\n",
      "Epoch 49/50\n",
      "116/116 - 0s - loss: 0.0480 - accuracy: 0.9913 - 94ms/epoch - 812us/step\n",
      "Epoch 50/50\n",
      "116/116 - 0s - loss: 0.0482 - accuracy: 0.9908 - 85ms/epoch - 731us/step\n"
     ]
    },
    {
     "data": {
      "image/png": "[encoded data removed]",
      "text/plain": [
       "<Figure size 432x288 with 1 Axes>"
      ]
     },
     "metadata": {},
     "output_type": "display_data"
    },
    {
     "name": "stdout",
     "output_type": "stream",
     "text": [
      "WARNING:tensorflow:AutoGraph could not transform <function Model.make_predict_function.<locals>.predict_function at 0x00000238B2C7DD90> and will run it as-is.\n",
      "Please report this to the TensorFlow team. When filing the bug, set the verbosity to 10 (on Linux, `export AUTOGRAPH_VERBOSITY=10`) and attach the full output.\n",
      "Cause: 'arguments' object has no attribute 'posonlyargs'\n",
      "To silence this warning, decorate the function with @tf.autograph.experimental.do_not_convert\n",
      "WARNING: AutoGraph could not transform <function Model.make_predict_function.<locals>.predict_function at 0x00000238B2C7DD90> and will run it as-is.\n",
      "Please report this to the TensorFlow team. When filing the bug, set the verbosity to 10 (on Linux, `export AUTOGRAPH_VERBOSITY=10`) and attach the full output.\n",
      "Cause: 'arguments' object has no attribute 'posonlyargs'\n",
      "To silence this warning, decorate the function with @tf.autograph.experimental.do_not_convert\n"
     ]
    },
    {
     "data": {
      "image/png": "[encoded data removed]",
      "text/plain": [
       "<Figure size 432x288 with 2 Axes>"
      ]
     },
     "metadata": {},
     "output_type": "display_data"
    },
    {
     "data": {
      "text/plain": [
       "<Figure size 720x504 with 0 Axes>"
      ]
     },
     "metadata": {},
     "output_type": "display_data"
    },
    {
     "name": "stdout",
     "output_type": "stream",
     "text": [
      "              precision    recall  f1-score   support\n",
      "\n",
      "           0       0.99      0.53      0.69       898\n",
      "           1       0.00      0.14      0.00         7\n",
      "\n",
      "    accuracy                           0.53       905\n",
      "   macro avg       0.50      0.34      0.35       905\n",
      "weighted avg       0.98      0.53      0.69       905\n",
      "\n"
     ]
    },
    {
     "data": {
      "text/plain": [
       "0"
      ]
     },
     "execution_count": 87,
     "metadata": {},
     "output_type": "execute_result"
    }
   ],
   "source": [
    "# Alternate PS\n",
    "datasetJSONPath = os.getcwd() + \"\\\\datasets\\\\empire_psremoting_stager_2020-09-20170827.json\"\n",
    "df4 = json.read_json(path_or_buf=datasetJSONPath, lines=True)\n",
    "\n",
    "features = [\"Channel\", \"EventID\", \"Message\", \"Description\", \"ImageLoaded\", \"Image\", \"PipeName\"]\n",
    "df4 = df4[features]\n",
    "Y4 = labelList(df4.shape[0], [2, 4, 7, 8, 12, 768, 799])\n",
    "\n",
    "gen_data4 = json.read_json(os.getcwd() + \"\\\\generated_datasets\\\\empire_psremoting_stager_new2.json\")\n",
    "\n",
    "DNN_classifier(df4, Y4, [2, 4, 7, 8, 12, 768, 799], gen_data4, hidden_layers=5, manually=True)\n"
   ]
  },
  {
   "cell_type": "code",
   "execution_count": 88,
   "metadata": {},
   "outputs": [
    {
     "name": "stdout",
     "output_type": "stream",
     "text": [
      "Epoch 1/50\n",
      "WARNING:tensorflow:AutoGraph could not transform <function Model.make_train_function.<locals>.train_function at 0x00000238CD241840> and will run it as-is.\n",
      "Please report this to the TensorFlow team. When filing the bug, set the verbosity to 10 (on Linux, `export AUTOGRAPH_VERBOSITY=10`) and attach the full output.\n",
      "Cause: 'arguments' object has no attribute 'posonlyargs'\n",
      "To silence this warning, decorate the function with @tf.autograph.experimental.do_not_convert\n",
      "WARNING: AutoGraph could not transform <function Model.make_train_function.<locals>.train_function at 0x00000238CD241840> and will run it as-is.\n",
      "Please report this to the TensorFlow team. When filing the bug, set the verbosity to 10 (on Linux, `export AUTOGRAPH_VERBOSITY=10`) and attach the full output.\n",
      "Cause: 'arguments' object has no attribute 'posonlyargs'\n",
      "To silence this warning, decorate the function with @tf.autograph.experimental.do_not_convert\n",
      "266/266 - 1s - loss: nan - accuracy: 0.5022 - 609ms/epoch - 2ms/step\n",
      "Epoch 2/50\n",
      "266/266 - 0s - loss: nan - accuracy: 0.5042 - 193ms/epoch - 727us/step\n",
      "Epoch 3/50\n",
      "266/266 - 0s - loss: nan - accuracy: 0.5042 - 214ms/epoch - 805us/step\n",
      "Epoch 4/50\n",
      "266/266 - 0s - loss: nan - accuracy: 0.5042 - 221ms/epoch - 832us/step\n",
      "Epoch 5/50\n",
      "266/266 - 0s - loss: nan - accuracy: 0.5042 - 195ms/epoch - 731us/step\n",
      "Epoch 6/50\n",
      "266/266 - 0s - loss: nan - accuracy: 0.5042 - 178ms/epoch - 669us/step\n",
      "Epoch 7/50\n",
      "266/266 - 0s - loss: nan - accuracy: 0.5042 - 183ms/epoch - 687us/step\n",
      "Epoch 8/50\n",
      "266/266 - 0s - loss: nan - accuracy: 0.5042 - 176ms/epoch - 662us/step\n",
      "Epoch 9/50\n",
      "266/266 - 0s - loss: nan - accuracy: 0.5042 - 185ms/epoch - 694us/step\n",
      "Epoch 10/50\n",
      "266/266 - 0s - loss: nan - accuracy: 0.5042 - 189ms/epoch - 712us/step\n",
      "Epoch 11/50\n",
      "266/266 - 0s - loss: nan - accuracy: 0.5042 - 182ms/epoch - 683us/step\n",
      "Epoch 12/50\n",
      "266/266 - 0s - loss: nan - accuracy: 0.5042 - 207ms/epoch - 777us/step\n",
      "Epoch 13/50\n",
      "266/266 - 0s - loss: nan - accuracy: 0.5042 - 200ms/epoch - 751us/step\n",
      "Epoch 14/50\n",
      "266/266 - 0s - loss: nan - accuracy: 0.5042 - 185ms/epoch - 695us/step\n",
      "Epoch 15/50\n",
      "266/266 - 0s - loss: nan - accuracy: 0.5042 - 180ms/epoch - 676us/step\n",
      "Epoch 16/50\n",
      "266/266 - 0s - loss: nan - accuracy: 0.5042 - 176ms/epoch - 661us/step\n",
      "Epoch 17/50\n",
      "266/266 - 0s - loss: nan - accuracy: 0.5042 - 189ms/epoch - 710us/step\n",
      "Epoch 18/50\n",
      "266/266 - 0s - loss: nan - accuracy: 0.5042 - 180ms/epoch - 677us/step\n",
      "Epoch 19/50\n",
      "266/266 - 0s - loss: nan - accuracy: 0.5042 - 192ms/epoch - 722us/step\n",
      "Epoch 20/50\n",
      "266/266 - 0s - loss: nan - accuracy: 0.5042 - 174ms/epoch - 656us/step\n",
      "Epoch 21/50\n",
      "266/266 - 0s - loss: nan - accuracy: 0.5042 - 192ms/epoch - 721us/step\n",
      "Epoch 22/50\n",
      "266/266 - 0s - loss: nan - accuracy: 0.5042 - 170ms/epoch - 639us/step\n",
      "Epoch 23/50\n",
      "266/266 - 0s - loss: nan - accuracy: 0.5042 - 179ms/epoch - 674us/step\n",
      "Epoch 24/50\n",
      "266/266 - 0s - loss: nan - accuracy: 0.5042 - 168ms/epoch - 633us/step\n",
      "Epoch 25/50\n",
      "266/266 - 0s - loss: nan - accuracy: 0.5042 - 170ms/epoch - 639us/step\n",
      "Epoch 26/50\n",
      "266/266 - 0s - loss: nan - accuracy: 0.5042 - 172ms/epoch - 648us/step\n",
      "Epoch 27/50\n",
      "266/266 - 0s - loss: nan - accuracy: 0.5042 - 170ms/epoch - 640us/step\n",
      "Epoch 28/50\n",
      "266/266 - 0s - loss: nan - accuracy: 0.5042 - 173ms/epoch - 650us/step\n",
      "Epoch 29/50\n",
      "266/266 - 0s - loss: nan - accuracy: 0.5042 - 175ms/epoch - 659us/step\n",
      "Epoch 30/50\n",
      "266/266 - 0s - loss: nan - accuracy: 0.5042 - 172ms/epoch - 645us/step\n",
      "Epoch 31/50\n",
      "266/266 - 0s - loss: nan - accuracy: 0.5042 - 201ms/epoch - 757us/step\n",
      "Epoch 32/50\n",
      "266/266 - 0s - loss: nan - accuracy: 0.5042 - 194ms/epoch - 730us/step\n",
      "Epoch 33/50\n",
      "266/266 - 0s - loss: nan - accuracy: 0.5042 - 181ms/epoch - 679us/step\n",
      "Epoch 34/50\n",
      "266/266 - 0s - loss: nan - accuracy: 0.5042 - 241ms/epoch - 906us/step\n",
      "Epoch 35/50\n",
      "266/266 - 0s - loss: nan - accuracy: 0.5042 - 200ms/epoch - 752us/step\n",
      "Epoch 36/50\n",
      "266/266 - 0s - loss: nan - accuracy: 0.5042 - 174ms/epoch - 653us/step\n",
      "Epoch 37/50\n",
      "266/266 - 0s - loss: nan - accuracy: 0.5042 - 177ms/epoch - 664us/step\n",
      "Epoch 38/50\n",
      "266/266 - 0s - loss: nan - accuracy: 0.5042 - 178ms/epoch - 668us/step\n",
      "Epoch 39/50\n",
      "266/266 - 0s - loss: nan - accuracy: 0.5042 - 188ms/epoch - 705us/step\n",
      "Epoch 40/50\n",
      "266/266 - 0s - loss: nan - accuracy: 0.5042 - 174ms/epoch - 654us/step\n",
      "Epoch 41/50\n",
      "266/266 - 0s - loss: nan - accuracy: 0.5042 - 178ms/epoch - 669us/step\n",
      "Epoch 42/50\n",
      "266/266 - 0s - loss: nan - accuracy: 0.5042 - 171ms/epoch - 641us/step\n",
      "Epoch 43/50\n",
      "266/266 - 0s - loss: nan - accuracy: 0.5042 - 174ms/epoch - 653us/step\n",
      "Epoch 44/50\n",
      "266/266 - 0s - loss: nan - accuracy: 0.5042 - 170ms/epoch - 640us/step\n",
      "Epoch 45/50\n",
      "266/266 - 0s - loss: nan - accuracy: 0.5042 - 196ms/epoch - 737us/step\n",
      "Epoch 46/50\n",
      "266/266 - 0s - loss: nan - accuracy: 0.5042 - 176ms/epoch - 662us/step\n",
      "Epoch 47/50\n",
      "266/266 - 0s - loss: nan - accuracy: 0.5042 - 173ms/epoch - 652us/step\n",
      "Epoch 48/50\n",
      "266/266 - 0s - loss: nan - accuracy: 0.5042 - 182ms/epoch - 686us/step\n",
      "Epoch 49/50\n",
      "266/266 - 0s - loss: nan - accuracy: 0.5042 - 173ms/epoch - 649us/step\n",
      "Epoch 50/50\n",
      "266/266 - 0s - loss: nan - accuracy: 0.5042 - 168ms/epoch - 632us/step\n"
     ]
    },
    {
     "data": {
      "image/png": "[encoded data removed]",
      "text/plain": [
       "<Figure size 432x288 with 1 Axes>"
      ]
     },
     "metadata": {},
     "output_type": "display_data"
    },
    {
     "name": "stdout",
     "output_type": "stream",
     "text": [
      "WARNING:tensorflow:AutoGraph could not transform <function Model.make_predict_function.<locals>.predict_function at 0x00000238C0638EA0> and will run it as-is.\n",
      "Please report this to the TensorFlow team. When filing the bug, set the verbosity to 10 (on Linux, `export AUTOGRAPH_VERBOSITY=10`) and attach the full output.\n",
      "Cause: 'arguments' object has no attribute 'posonlyargs'\n",
      "To silence this warning, decorate the function with @tf.autograph.experimental.do_not_convert\n",
      "WARNING: AutoGraph could not transform <function Model.make_predict_function.<locals>.predict_function at 0x00000238C0638EA0> and will run it as-is.\n",
      "Please report this to the TensorFlow team. When filing the bug, set the verbosity to 10 (on Linux, `export AUTOGRAPH_VERBOSITY=10`) and attach the full output.\n",
      "Cause: 'arguments' object has no attribute 'posonlyargs'\n",
      "To silence this warning, decorate the function with @tf.autograph.experimental.do_not_convert\n"
     ]
    },
    {
     "data": {
      "image/png": "[encoded data removed]",
      "text/plain": [
       "<Figure size 432x288 with 2 Axes>"
      ]
     },
     "metadata": {},
     "output_type": "display_data"
    },
    {
     "data": {
      "text/plain": [
       "<Figure size 720x504 with 0 Axes>"
      ]
     },
     "metadata": {},
     "output_type": "display_data"
    },
    {
     "name": "stdout",
     "output_type": "stream",
     "text": [
      "              precision    recall  f1-score   support\n",
      "\n",
      "           0       1.00      1.00      1.00      2103\n",
      "           1       0.00      0.00      0.00         3\n",
      "\n",
      "    accuracy                           1.00      2106\n",
      "   macro avg       0.50      0.50      0.50      2106\n",
      "weighted avg       1.00      1.00      1.00      2106\n",
      "\n"
     ]
    },
    {
     "name": "stderr",
     "output_type": "stream",
     "text": [
      "C:\\Users\\ly\\AppData\\Roaming\\Python\\Python37\\site-packages\\sklearn\\metrics\\_classification.py:1318: UndefinedMetricWarning: Precision and F-score are ill-defined and being set to 0.0 in labels with no predicted samples. Use `zero_division` parameter to control this behavior.\n",
      "  _warn_prf(average, modifier, msg_start, len(result))\n",
      "C:\\Users\\ly\\AppData\\Roaming\\Python\\Python37\\site-packages\\sklearn\\metrics\\_classification.py:1318: UndefinedMetricWarning: Precision and F-score are ill-defined and being set to 0.0 in labels with no predicted samples. Use `zero_division` parameter to control this behavior.\n",
      "  _warn_prf(average, modifier, msg_start, len(result))\n",
      "C:\\Users\\ly\\AppData\\Roaming\\Python\\Python37\\site-packages\\sklearn\\metrics\\_classification.py:1318: UndefinedMetricWarning: Precision and F-score are ill-defined and being set to 0.0 in labels with no predicted samples. Use `zero_division` parameter to control this behavior.\n",
      "  _warn_prf(average, modifier, msg_start, len(result))\n"
     ]
    },
    {
     "data": {
      "text/plain": [
       "0"
      ]
     },
     "execution_count": 88,
     "metadata": {},
     "output_type": "execute_result"
    }
   ],
   "source": [
    "# Remote WMI\n",
    "datasetJSONPath = os.getcwd() + \"\\\\datasets\\\\empire_wmi_dcerpc_wmi_IWbemServices_ExecMethod_2020-09-21001437.json\"\n",
    "df5 = json.read_json(path_or_buf=datasetJSONPath, lines=True)\n",
    "\n",
    "features = [\"Channel\", \"EventID\", \"ParentProcessName\", \"TargetLogonId\", \"LogonType\", \"SubjectUserName\", \"ParentImage\", \"LogonId\"]\n",
    "df5 = df5[features]\n",
    "Y5 = labelList(df5.shape[0], [551, 368, 514])\n",
    "\n",
    "gen_data5 = json.read_json(os.getcwd() + \"\\\\generated_datasets\\\\empire_wmi_dcerpc_wmi_IWbemServices_ExecMethod_new.json\")\n",
    "\n",
    "DNN_classifier(df5, Y5, [551, 368, 514], gen_data5, hidden_layers=5, manually=True)\n"
   ]
  },
  {
   "cell_type": "code",
   "execution_count": 90,
   "metadata": {},
   "outputs": [
    {
     "name": "stdout",
     "output_type": "stream",
     "text": [
      "Epoch 1/50\n",
      "WARNING:tensorflow:AutoGraph could not transform <function Model.make_train_function.<locals>.train_function at 0x00000238B1962AE8> and will run it as-is.\n",
      "Please report this to the TensorFlow team. When filing the bug, set the verbosity to 10 (on Linux, `export AUTOGRAPH_VERBOSITY=10`) and attach the full output.\n",
      "Cause: 'arguments' object has no attribute 'posonlyargs'\n",
      "To silence this warning, decorate the function with @tf.autograph.experimental.do_not_convert\n",
      "WARNING: AutoGraph could not transform <function Model.make_train_function.<locals>.train_function at 0x00000238B1962AE8> and will run it as-is.\n",
      "Please report this to the TensorFlow team. When filing the bug, set the verbosity to 10 (on Linux, `export AUTOGRAPH_VERBOSITY=10`) and attach the full output.\n",
      "Cause: 'arguments' object has no attribute 'posonlyargs'\n",
      "To silence this warning, decorate the function with @tf.autograph.experimental.do_not_convert\n",
      "247/247 - 1s - loss: 0.6507 - accuracy: 0.7314 - 501ms/epoch - 2ms/step\n",
      "Epoch 2/50\n",
      "247/247 - 0s - loss: 0.5082 - accuracy: 0.7725 - 160ms/epoch - 647us/step\n",
      "Epoch 3/50\n",
      "247/247 - 0s - loss: 0.2804 - accuracy: 0.9824 - 162ms/epoch - 657us/step\n",
      "Epoch 4/50\n",
      "247/247 - 0s - loss: 0.2014 - accuracy: 0.9947 - 161ms/epoch - 652us/step\n",
      "Epoch 5/50\n",
      "247/247 - 0s - loss: 0.1649 - accuracy: 0.9944 - 156ms/epoch - 631us/step\n",
      "Epoch 6/50\n",
      "247/247 - 0s - loss: 0.1386 - accuracy: 0.9948 - 159ms/epoch - 645us/step\n",
      "Epoch 7/50\n",
      "247/247 - 0s - loss: 0.1187 - accuracy: 0.9948 - 152ms/epoch - 617us/step\n",
      "Epoch 8/50\n",
      "247/247 - 0s - loss: 0.1028 - accuracy: 0.9948 - 155ms/epoch - 628us/step\n",
      "Epoch 9/50\n",
      "247/247 - 0s - loss: 0.0907 - accuracy: 0.9951 - 156ms/epoch - 632us/step\n",
      "Epoch 10/50\n",
      "247/247 - 0s - loss: 0.0801 - accuracy: 0.9949 - 158ms/epoch - 642us/step\n",
      "Epoch 11/50\n",
      "247/247 - 0s - loss: 0.0719 - accuracy: 0.9949 - 162ms/epoch - 657us/step\n",
      "Epoch 12/50\n",
      "247/247 - 0s - loss: 0.0647 - accuracy: 0.9951 - 163ms/epoch - 661us/step\n",
      "Epoch 13/50\n",
      "247/247 - 0s - loss: 0.0586 - accuracy: 0.9953 - 153ms/epoch - 618us/step\n",
      "Epoch 14/50\n",
      "247/247 - 0s - loss: 0.0539 - accuracy: 0.9951 - 159ms/epoch - 642us/step\n",
      "Epoch 15/50\n",
      "247/247 - 0s - loss: 0.0494 - accuracy: 0.9952 - 166ms/epoch - 671us/step\n",
      "Epoch 16/50\n",
      "247/247 - 0s - loss: 0.0458 - accuracy: 0.9952 - 156ms/epoch - 633us/step\n",
      "Epoch 17/50\n",
      "247/247 - 0s - loss: 0.0424 - accuracy: 0.9953 - 156ms/epoch - 633us/step\n",
      "Epoch 18/50\n",
      "247/247 - 0s - loss: 0.0400 - accuracy: 0.9952 - 157ms/epoch - 635us/step\n",
      "Epoch 19/50\n",
      "247/247 - 0s - loss: 0.0374 - accuracy: 0.9952 - 153ms/epoch - 621us/step\n",
      "Epoch 20/50\n",
      "247/247 - 0s - loss: 0.0354 - accuracy: 0.9953 - 160ms/epoch - 647us/step\n",
      "Epoch 21/50\n",
      "247/247 - 0s - loss: 0.0336 - accuracy: 0.9952 - 159ms/epoch - 643us/step\n",
      "Epoch 22/50\n",
      "247/247 - 0s - loss: 0.0320 - accuracy: 0.9953 - 162ms/epoch - 656us/step\n",
      "Epoch 23/50\n",
      "247/247 - 0s - loss: 0.0307 - accuracy: 0.9954 - 152ms/epoch - 617us/step\n",
      "Epoch 24/50\n",
      "247/247 - 0s - loss: 0.0293 - accuracy: 0.9953 - 156ms/epoch - 633us/step\n",
      "Epoch 25/50\n",
      "247/247 - 0s - loss: 0.0284 - accuracy: 0.9951 - 170ms/epoch - 690us/step\n",
      "Epoch 26/50\n",
      "247/247 - 0s - loss: 0.0275 - accuracy: 0.9953 - 163ms/epoch - 662us/step\n",
      "Epoch 27/50\n",
      "247/247 - 0s - loss: 0.0267 - accuracy: 0.9954 - 166ms/epoch - 674us/step\n",
      "Epoch 28/50\n",
      "247/247 - 0s - loss: 0.0262 - accuracy: 0.9954 - 155ms/epoch - 626us/step\n",
      "Epoch 29/50\n",
      "247/247 - 0s - loss: 0.0252 - accuracy: 0.9954 - 165ms/epoch - 668us/step\n",
      "Epoch 30/50\n",
      "247/247 - 0s - loss: 0.0249 - accuracy: 0.9956 - 161ms/epoch - 653us/step\n",
      "Epoch 31/50\n",
      "247/247 - 0s - loss: 0.0245 - accuracy: 0.9954 - 160ms/epoch - 647us/step\n",
      "Epoch 32/50\n",
      "247/247 - 0s - loss: 0.0240 - accuracy: 0.9954 - 161ms/epoch - 651us/step\n",
      "Epoch 33/50\n",
      "247/247 - 0s - loss: 0.0236 - accuracy: 0.9952 - 167ms/epoch - 678us/step\n",
      "Epoch 34/50\n",
      "247/247 - 0s - loss: 0.0233 - accuracy: 0.9956 - 157ms/epoch - 634us/step\n",
      "Epoch 35/50\n",
      "247/247 - 0s - loss: 0.0230 - accuracy: 0.9956 - 163ms/epoch - 662us/step\n",
      "Epoch 36/50\n",
      "247/247 - 0s - loss: 0.0227 - accuracy: 0.9957 - 150ms/epoch - 609us/step\n",
      "Epoch 37/50\n",
      "247/247 - 0s - loss: 0.0221 - accuracy: 0.9958 - 150ms/epoch - 606us/step\n",
      "Epoch 38/50\n",
      "247/247 - 0s - loss: 0.0234 - accuracy: 0.9953 - 150ms/epoch - 608us/step\n",
      "Epoch 39/50\n",
      "247/247 - 0s - loss: 0.0217 - accuracy: 0.9958 - 163ms/epoch - 659us/step\n",
      "Epoch 40/50\n",
      "247/247 - 0s - loss: 0.0218 - accuracy: 0.9956 - 155ms/epoch - 627us/step\n",
      "Epoch 41/50\n",
      "247/247 - 0s - loss: 0.0216 - accuracy: 0.9958 - 156ms/epoch - 630us/step\n",
      "Epoch 42/50\n",
      "247/247 - 0s - loss: 0.0214 - accuracy: 0.9959 - 150ms/epoch - 608us/step\n",
      "Epoch 43/50\n",
      "247/247 - 0s - loss: 0.0214 - accuracy: 0.9959 - 153ms/epoch - 621us/step\n",
      "Epoch 44/50\n",
      "247/247 - 0s - loss: 0.0211 - accuracy: 0.9963 - 151ms/epoch - 612us/step\n",
      "Epoch 45/50\n",
      "247/247 - 0s - loss: 0.0213 - accuracy: 0.9962 - 151ms/epoch - 610us/step\n",
      "Epoch 46/50\n",
      "247/247 - 0s - loss: 0.0210 - accuracy: 0.9961 - 163ms/epoch - 661us/step\n",
      "Epoch 47/50\n",
      "247/247 - 0s - loss: 0.0207 - accuracy: 0.9962 - 155ms/epoch - 626us/step\n",
      "Epoch 48/50\n",
      "247/247 - 0s - loss: 0.0205 - accuracy: 0.9959 - 156ms/epoch - 633us/step\n",
      "Epoch 49/50\n",
      "247/247 - 0s - loss: 0.0205 - accuracy: 0.9963 - 146ms/epoch - 593us/step\n",
      "Epoch 50/50\n",
      "247/247 - 0s - loss: 0.0205 - accuracy: 0.9961 - 148ms/epoch - 600us/step\n"
     ]
    },
    {
     "data": {
      "image/png": "[encoded data removed]",
      "text/plain": [
       "<Figure size 432x288 with 1 Axes>"
      ]
     },
     "metadata": {},
     "output_type": "display_data"
    },
    {
     "name": "stdout",
     "output_type": "stream",
     "text": [
      "WARNING:tensorflow:AutoGraph could not transform <function Model.make_predict_function.<locals>.predict_function at 0x00000238B2AD19D8> and will run it as-is.\n",
      "Please report this to the TensorFlow team. When filing the bug, set the verbosity to 10 (on Linux, `export AUTOGRAPH_VERBOSITY=10`) and attach the full output.\n",
      "Cause: 'arguments' object has no attribute 'posonlyargs'\n",
      "To silence this warning, decorate the function with @tf.autograph.experimental.do_not_convert\n",
      "WARNING: AutoGraph could not transform <function Model.make_predict_function.<locals>.predict_function at 0x00000238B2AD19D8> and will run it as-is.\n",
      "Please report this to the TensorFlow team. When filing the bug, set the verbosity to 10 (on Linux, `export AUTOGRAPH_VERBOSITY=10`) and attach the full output.\n",
      "Cause: 'arguments' object has no attribute 'posonlyargs'\n",
      "To silence this warning, decorate the function with @tf.autograph.experimental.do_not_convert\n"
     ]
    },
    {
     "data": {
      "image/png": "[encoded data removed]",
      "text/plain": [
       "<Figure size 432x288 with 2 Axes>"
      ]
     },
     "metadata": {},
     "output_type": "display_data"
    },
    {
     "data": {
      "text/plain": [
       "<Figure size 720x504 with 0 Axes>"
      ]
     },
     "metadata": {},
     "output_type": "display_data"
    },
    {
     "name": "stdout",
     "output_type": "stream",
     "text": [
      "              precision    recall  f1-score   support\n",
      "\n",
      "           0       1.00      0.94      0.97      1941\n",
      "           1       0.03      0.80      0.06         5\n",
      "\n",
      "    accuracy                           0.94      1946\n",
      "   macro avg       0.52      0.87      0.51      1946\n",
      "weighted avg       1.00      0.94      0.96      1946\n",
      "\n"
     ]
    },
    {
     "data": {
      "text/plain": [
       "0"
      ]
     },
     "execution_count": 90,
     "metadata": {},
     "output_type": "execute_result"
    }
   ],
   "source": [
    "# WMI Module\n",
    "datasetJSONPath = os.getcwd() + \"\\\\datasets\\\\empire_psinject_PEinjection_2020-08-07143205.json\"\n",
    "df6 = json.read_json(path_or_buf=datasetJSONPath, lines=True)\n",
    "\n",
    "features = [\"Channel\", \"EventID\", \"ImageLoaded\", \"Image\"]\n",
    "df6 = df6[features]\n",
    "Y6 = labelList(df6.shape[0], [2168, 2172, 2194, 2232, 2235])\n",
    "\n",
    "gen_data6 = json.read_json(os.getcwd() + \"\\\\generated_datasets\\\\empire_psinject_PEinjection_new.json\")\n",
    "\n",
    "DNN_classifier(df6, Y6, [2168, 2172, 2194, 2232, 2235], gen_data6, hidden_layers=5, manually=True)\n"
   ]
  },
  {
   "cell_type": "code",
   "execution_count": 91,
   "metadata": {},
   "outputs": [
    {
     "name": "stdout",
     "output_type": "stream",
     "text": [
      "Epoch 1/50\n",
      "WARNING:tensorflow:AutoGraph could not transform <function Model.make_train_function.<locals>.train_function at 0x00000238B255D6A8> and will run it as-is.\n",
      "Please report this to the TensorFlow team. When filing the bug, set the verbosity to 10 (on Linux, `export AUTOGRAPH_VERBOSITY=10`) and attach the full output.\n",
      "Cause: 'arguments' object has no attribute 'posonlyargs'\n",
      "To silence this warning, decorate the function with @tf.autograph.experimental.do_not_convert\n",
      "WARNING: AutoGraph could not transform <function Model.make_train_function.<locals>.train_function at 0x00000238B255D6A8> and will run it as-is.\n",
      "Please report this to the TensorFlow team. When filing the bug, set the verbosity to 10 (on Linux, `export AUTOGRAPH_VERBOSITY=10`) and attach the full output.\n",
      "Cause: 'arguments' object has no attribute 'posonlyargs'\n",
      "To silence this warning, decorate the function with @tf.autograph.experimental.do_not_convert\n",
      "182/182 - 0s - loss: nan - accuracy: 0.5012 - 466ms/epoch - 3ms/step\n",
      "Epoch 2/50\n",
      "182/182 - 0s - loss: nan - accuracy: 0.5012 - 128ms/epoch - 705us/step\n",
      "Epoch 3/50\n",
      "182/182 - 0s - loss: nan - accuracy: 0.5012 - 121ms/epoch - 666us/step\n",
      "Epoch 4/50\n",
      "182/182 - 0s - loss: nan - accuracy: 0.5012 - 115ms/epoch - 629us/step\n",
      "Epoch 5/50\n",
      "182/182 - 0s - loss: nan - accuracy: 0.5012 - 167ms/epoch - 918us/step\n",
      "Epoch 6/50\n",
      "182/182 - 0s - loss: nan - accuracy: 0.5012 - 131ms/epoch - 719us/step\n",
      "Epoch 7/50\n",
      "182/182 - 0s - loss: nan - accuracy: 0.5012 - 168ms/epoch - 924us/step\n",
      "Epoch 8/50\n",
      "182/182 - 0s - loss: nan - accuracy: 0.5012 - 175ms/epoch - 959us/step\n",
      "Epoch 9/50\n",
      "182/182 - 0s - loss: nan - accuracy: 0.5012 - 160ms/epoch - 881us/step\n",
      "Epoch 10/50\n",
      "182/182 - 0s - loss: nan - accuracy: 0.5012 - 135ms/epoch - 744us/step\n",
      "Epoch 11/50\n",
      "182/182 - 0s - loss: nan - accuracy: 0.5012 - 153ms/epoch - 842us/step\n",
      "Epoch 12/50\n",
      "182/182 - 0s - loss: nan - accuracy: 0.5012 - 145ms/epoch - 795us/step\n",
      "Epoch 13/50\n",
      "182/182 - 0s - loss: nan - accuracy: 0.5012 - 172ms/epoch - 943us/step\n",
      "Epoch 14/50\n",
      "182/182 - 0s - loss: nan - accuracy: 0.5012 - 132ms/epoch - 726us/step\n",
      "Epoch 15/50\n",
      "182/182 - 0s - loss: nan - accuracy: 0.5012 - 132ms/epoch - 724us/step\n",
      "Epoch 16/50\n",
      "182/182 - 0s - loss: nan - accuracy: 0.5012 - 162ms/epoch - 892us/step\n",
      "Epoch 17/50\n",
      "182/182 - 0s - loss: nan - accuracy: 0.5012 - 158ms/epoch - 871us/step\n",
      "Epoch 18/50\n",
      "182/182 - 0s - loss: nan - accuracy: 0.5012 - 157ms/epoch - 864us/step\n",
      "Epoch 19/50\n",
      "182/182 - 0s - loss: nan - accuracy: 0.5012 - 147ms/epoch - 805us/step\n",
      "Epoch 20/50\n",
      "182/182 - 0s - loss: nan - accuracy: 0.5012 - 159ms/epoch - 872us/step\n",
      "Epoch 21/50\n",
      "182/182 - 0s - loss: nan - accuracy: 0.5012 - 130ms/epoch - 712us/step\n",
      "Epoch 22/50\n",
      "182/182 - 0s - loss: nan - accuracy: 0.5012 - 121ms/epoch - 666us/step\n",
      "Epoch 23/50\n",
      "182/182 - 0s - loss: nan - accuracy: 0.5012 - 144ms/epoch - 790us/step\n",
      "Epoch 24/50\n",
      "182/182 - 0s - loss: nan - accuracy: 0.5012 - 155ms/epoch - 850us/step\n",
      "Epoch 25/50\n",
      "182/182 - 0s - loss: nan - accuracy: 0.5012 - 132ms/epoch - 726us/step\n",
      "Epoch 26/50\n",
      "182/182 - 0s - loss: nan - accuracy: 0.5012 - 125ms/epoch - 685us/step\n",
      "Epoch 27/50\n",
      "182/182 - 0s - loss: nan - accuracy: 0.5012 - 121ms/epoch - 666us/step\n",
      "Epoch 28/50\n",
      "182/182 - 0s - loss: nan - accuracy: 0.5012 - 121ms/epoch - 663us/step\n",
      "Epoch 29/50\n",
      "182/182 - 0s - loss: nan - accuracy: 0.5012 - 123ms/epoch - 676us/step\n",
      "Epoch 30/50\n",
      "182/182 - 0s - loss: nan - accuracy: 0.5012 - 122ms/epoch - 673us/step\n",
      "Epoch 31/50\n",
      "182/182 - 0s - loss: nan - accuracy: 0.5012 - 125ms/epoch - 689us/step\n",
      "Epoch 32/50\n",
      "182/182 - 0s - loss: nan - accuracy: 0.5012 - 119ms/epoch - 652us/step\n",
      "Epoch 33/50\n",
      "182/182 - 0s - loss: nan - accuracy: 0.5012 - 131ms/epoch - 721us/step\n",
      "Epoch 34/50\n",
      "182/182 - 0s - loss: nan - accuracy: 0.5012 - 132ms/epoch - 728us/step\n",
      "Epoch 35/50\n",
      "182/182 - 0s - loss: nan - accuracy: 0.5012 - 166ms/epoch - 913us/step\n",
      "Epoch 36/50\n",
      "182/182 - 0s - loss: nan - accuracy: 0.5012 - 179ms/epoch - 986us/step\n",
      "Epoch 37/50\n",
      "182/182 - 0s - loss: nan - accuracy: 0.5012 - 166ms/epoch - 911us/step\n",
      "Epoch 38/50\n",
      "182/182 - 0s - loss: nan - accuracy: 0.5012 - 170ms/epoch - 936us/step\n",
      "Epoch 39/50\n",
      "182/182 - 0s - loss: nan - accuracy: 0.5012 - 182ms/epoch - 1ms/step\n",
      "Epoch 40/50\n",
      "182/182 - 0s - loss: nan - accuracy: 0.5012 - 133ms/epoch - 731us/step\n",
      "Epoch 41/50\n",
      "182/182 - 0s - loss: nan - accuracy: 0.5012 - 133ms/epoch - 732us/step\n",
      "Epoch 42/50\n",
      "182/182 - 0s - loss: nan - accuracy: 0.5012 - 126ms/epoch - 692us/step\n",
      "Epoch 43/50\n",
      "182/182 - 0s - loss: nan - accuracy: 0.5012 - 119ms/epoch - 652us/step\n",
      "Epoch 44/50\n",
      "182/182 - 0s - loss: nan - accuracy: 0.5012 - 127ms/epoch - 698us/step\n",
      "Epoch 45/50\n",
      "182/182 - 0s - loss: nan - accuracy: 0.5012 - 125ms/epoch - 688us/step\n",
      "Epoch 46/50\n",
      "182/182 - 0s - loss: nan - accuracy: 0.5012 - 172ms/epoch - 943us/step\n",
      "Epoch 47/50\n",
      "182/182 - 0s - loss: nan - accuracy: 0.5012 - 175ms/epoch - 964us/step\n",
      "Epoch 48/50\n",
      "182/182 - 0s - loss: nan - accuracy: 0.5012 - 145ms/epoch - 796us/step\n",
      "Epoch 49/50\n",
      "182/182 - 0s - loss: nan - accuracy: 0.5012 - 121ms/epoch - 666us/step\n",
      "Epoch 50/50\n",
      "182/182 - 0s - loss: nan - accuracy: 0.5012 - 115ms/epoch - 631us/step\n"
     ]
    },
    {
     "data": {
      "image/png": "[encoded data removed]",
      "text/plain": [
       "<Figure size 432x288 with 1 Axes>"
      ]
     },
     "metadata": {},
     "output_type": "display_data"
    },
    {
     "name": "stdout",
     "output_type": "stream",
     "text": [
      "WARNING:tensorflow:AutoGraph could not transform <function Model.make_predict_function.<locals>.predict_function at 0x00000238CD325F28> and will run it as-is.\n",
      "Please report this to the TensorFlow team. When filing the bug, set the verbosity to 10 (on Linux, `export AUTOGRAPH_VERBOSITY=10`) and attach the full output.\n",
      "Cause: 'arguments' object has no attribute 'posonlyargs'\n",
      "To silence this warning, decorate the function with @tf.autograph.experimental.do_not_convert\n",
      "WARNING: AutoGraph could not transform <function Model.make_predict_function.<locals>.predict_function at 0x00000238CD325F28> and will run it as-is.\n",
      "Please report this to the TensorFlow team. When filing the bug, set the verbosity to 10 (on Linux, `export AUTOGRAPH_VERBOSITY=10`) and attach the full output.\n",
      "Cause: 'arguments' object has no attribute 'posonlyargs'\n",
      "To silence this warning, decorate the function with @tf.autograph.experimental.do_not_convert\n"
     ]
    },
    {
     "data": {
      "image/png": "[encoded data removed]",
      "text/plain": [
       "<Figure size 432x288 with 2 Axes>"
      ]
     },
     "metadata": {},
     "output_type": "display_data"
    },
    {
     "data": {
      "text/plain": [
       "<Figure size 720x504 with 0 Axes>"
      ]
     },
     "metadata": {},
     "output_type": "display_data"
    },
    {
     "name": "stdout",
     "output_type": "stream",
     "text": [
      "              precision    recall  f1-score   support\n",
      "\n",
      "           0       1.00      1.00      1.00      1432\n",
      "           1       0.00      0.00      0.00         2\n",
      "\n",
      "    accuracy                           1.00      1434\n",
      "   macro avg       0.50      0.50      0.50      1434\n",
      "weighted avg       1.00      1.00      1.00      1434\n",
      "\n"
     ]
    },
    {
     "name": "stderr",
     "output_type": "stream",
     "text": [
      "C:\\Users\\ly\\AppData\\Roaming\\Python\\Python37\\site-packages\\sklearn\\metrics\\_classification.py:1318: UndefinedMetricWarning: Precision and F-score are ill-defined and being set to 0.0 in labels with no predicted samples. Use `zero_division` parameter to control this behavior.\n",
      "  _warn_prf(average, modifier, msg_start, len(result))\n",
      "C:\\Users\\ly\\AppData\\Roaming\\Python\\Python37\\site-packages\\sklearn\\metrics\\_classification.py:1318: UndefinedMetricWarning: Precision and F-score are ill-defined and being set to 0.0 in labels with no predicted samples. Use `zero_division` parameter to control this behavior.\n",
      "  _warn_prf(average, modifier, msg_start, len(result))\n",
      "C:\\Users\\ly\\AppData\\Roaming\\Python\\Python37\\site-packages\\sklearn\\metrics\\_classification.py:1318: UndefinedMetricWarning: Precision and F-score are ill-defined and being set to 0.0 in labels with no predicted samples. Use `zero_division` parameter to control this behavior.\n",
      "  _warn_prf(average, modifier, msg_start, len(result))\n"
     ]
    },
    {
     "data": {
      "text/plain": [
       "0"
      ]
     },
     "execution_count": 91,
     "metadata": {},
     "output_type": "execute_result"
    }
   ],
   "source": [
    "# Remote Installation\n",
    "datasetJSONPath = os.getcwd() + \"\\\\datasets\\\\empire_psexec_dcerpc_tcp_svcctl_2020-09-20121608.json\"\n",
    "df7 = json.read_json(path_or_buf=datasetJSONPath, lines=True)\n",
    "\n",
    "features = [\"Channel\", \"EventID\", \"SubjectUserName\", \"SubjectLogonId\", \"TargetLogonId\", \"LogonType\"]\n",
    "df7 = df7[features]\n",
    "Y7 = labelList(df7.shape[0], [1212, 1028])\n",
    "\n",
    "gen_data7 = json.read_json(os.getcwd() + \"\\\\generated_datasets\\\\empire_psexec_dcerpc_tcp_svcctl_new.json\")\n",
    "\n",
    "DNN_classifier(df7, Y7, [1212, 1028], gen_data7, hidden_layers=5, manually=True)\n"
   ]
  },
  {
   "cell_type": "code",
   "execution_count": 92,
   "metadata": {},
   "outputs": [
    {
     "name": "stdout",
     "output_type": "stream",
     "text": [
      "Epoch 1/50\n",
      "WARNING:tensorflow:AutoGraph could not transform <function Model.make_train_function.<locals>.train_function at 0x00000238B21E1598> and will run it as-is.\n",
      "Please report this to the TensorFlow team. When filing the bug, set the verbosity to 10 (on Linux, `export AUTOGRAPH_VERBOSITY=10`) and attach the full output.\n",
      "Cause: 'arguments' object has no attribute 'posonlyargs'\n",
      "To silence this warning, decorate the function with @tf.autograph.experimental.do_not_convert\n",
      "WARNING: AutoGraph could not transform <function Model.make_train_function.<locals>.train_function at 0x00000238B21E1598> and will run it as-is.\n",
      "Please report this to the TensorFlow team. When filing the bug, set the verbosity to 10 (on Linux, `export AUTOGRAPH_VERBOSITY=10`) and attach the full output.\n",
      "Cause: 'arguments' object has no attribute 'posonlyargs'\n",
      "To silence this warning, decorate the function with @tf.autograph.experimental.do_not_convert\n",
      "165/165 - 0s - loss: 0.2527 - accuracy: 0.9443 - 461ms/epoch - 3ms/step\n",
      "Epoch 2/50\n",
      "165/165 - 0s - loss: 0.0930 - accuracy: 0.9844 - 117ms/epoch - 710us/step\n",
      "Epoch 3/50\n",
      "165/165 - 0s - loss: 0.0806 - accuracy: 0.9859 - 136ms/epoch - 823us/step\n",
      "Epoch 4/50\n",
      "165/165 - 0s - loss: 0.0746 - accuracy: 0.9861 - 125ms/epoch - 756us/step\n",
      "Epoch 5/50\n",
      "165/165 - 0s - loss: 0.0699 - accuracy: 0.9861 - 123ms/epoch - 745us/step\n",
      "Epoch 6/50\n",
      "165/165 - 0s - loss: 0.0563 - accuracy: 0.9861 - 159ms/epoch - 963us/step\n",
      "Epoch 7/50\n",
      "165/165 - 0s - loss: 0.0313 - accuracy: 0.9859 - 170ms/epoch - 1ms/step\n",
      "Epoch 8/50\n",
      "165/165 - 0s - loss: 0.0261 - accuracy: 0.9859 - 171ms/epoch - 1ms/step\n",
      "Epoch 9/50\n",
      "165/165 - 0s - loss: 0.0252 - accuracy: 0.9859 - 134ms/epoch - 810us/step\n",
      "Epoch 10/50\n",
      "165/165 - 0s - loss: 0.0230 - accuracy: 0.9859 - 134ms/epoch - 814us/step\n",
      "Epoch 11/50\n",
      "165/165 - 0s - loss: 0.0232 - accuracy: 0.9859 - 133ms/epoch - 805us/step\n",
      "Epoch 12/50\n",
      "165/165 - 0s - loss: 0.0216 - accuracy: 0.9859 - 135ms/epoch - 815us/step\n",
      "Epoch 13/50\n",
      "165/165 - 0s - loss: 0.0213 - accuracy: 0.9861 - 166ms/epoch - 1ms/step\n",
      "Epoch 14/50\n",
      "165/165 - 0s - loss: 0.0213 - accuracy: 0.9861 - 177ms/epoch - 1ms/step\n",
      "Epoch 15/50\n",
      "165/165 - 0s - loss: 0.0208 - accuracy: 0.9863 - 129ms/epoch - 779us/step\n",
      "Epoch 16/50\n",
      "165/165 - 0s - loss: 0.0206 - accuracy: 0.9863 - 161ms/epoch - 977us/step\n",
      "Epoch 17/50\n",
      "165/165 - 0s - loss: 0.0191 - accuracy: 0.9863 - 165ms/epoch - 1ms/step\n",
      "Epoch 18/50\n",
      "165/165 - 0s - loss: 0.0193 - accuracy: 0.9863 - 136ms/epoch - 825us/step\n",
      "Epoch 19/50\n",
      "165/165 - 0s - loss: 0.0189 - accuracy: 0.9863 - 135ms/epoch - 817us/step\n",
      "Epoch 20/50\n",
      "165/165 - 0s - loss: 0.0187 - accuracy: 0.9863 - 117ms/epoch - 711us/step\n",
      "Epoch 21/50\n",
      "165/165 - 0s - loss: 0.0183 - accuracy: 0.9863 - 117ms/epoch - 710us/step\n",
      "Epoch 22/50\n",
      "165/165 - 0s - loss: 0.0181 - accuracy: 0.9863 - 136ms/epoch - 825us/step\n",
      "Epoch 23/50\n",
      "165/165 - 0s - loss: 0.0234 - accuracy: 0.9854 - 131ms/epoch - 791us/step\n",
      "Epoch 24/50\n",
      "165/165 - 0s - loss: 0.0207 - accuracy: 0.9861 - 144ms/epoch - 870us/step\n",
      "Epoch 25/50\n",
      "165/165 - 0s - loss: 0.0179 - accuracy: 0.9863 - 153ms/epoch - 926us/step\n",
      "Epoch 26/50\n",
      "165/165 - 0s - loss: 0.0176 - accuracy: 0.9863 - 135ms/epoch - 817us/step\n",
      "Epoch 27/50\n",
      "165/165 - 0s - loss: 0.0176 - accuracy: 0.9863 - 131ms/epoch - 794us/step\n",
      "Epoch 28/50\n",
      "165/165 - 0s - loss: 0.0174 - accuracy: 0.9877 - 117ms/epoch - 708us/step\n",
      "Epoch 29/50\n",
      "165/165 - 0s - loss: 0.0175 - accuracy: 0.9920 - 129ms/epoch - 784us/step\n",
      "Epoch 30/50\n",
      "165/165 - 0s - loss: 0.0174 - accuracy: 0.9913 - 125ms/epoch - 756us/step\n",
      "Epoch 31/50\n",
      "165/165 - 0s - loss: 0.0173 - accuracy: 0.9913 - 120ms/epoch - 727us/step\n",
      "Epoch 32/50\n",
      "165/165 - 0s - loss: 0.0172 - accuracy: 0.9915 - 116ms/epoch - 703us/step\n",
      "Epoch 33/50\n",
      "165/165 - 0s - loss: 0.0172 - accuracy: 0.9913 - 122ms/epoch - 741us/step\n",
      "Epoch 34/50\n",
      "165/165 - 0s - loss: 0.0174 - accuracy: 0.9911 - 129ms/epoch - 783us/step\n",
      "Epoch 35/50\n",
      "165/165 - 0s - loss: 0.0171 - accuracy: 0.9915 - 130ms/epoch - 789us/step\n",
      "Epoch 36/50\n",
      "165/165 - 0s - loss: 0.0170 - accuracy: 0.9913 - 124ms/epoch - 749us/step\n",
      "Epoch 37/50\n",
      "165/165 - 0s - loss: 0.0171 - accuracy: 0.9915 - 130ms/epoch - 789us/step\n",
      "Epoch 38/50\n",
      "165/165 - 0s - loss: 0.0169 - accuracy: 0.9915 - 120ms/epoch - 729us/step\n",
      "Epoch 39/50\n",
      "165/165 - 0s - loss: 0.0171 - accuracy: 0.9915 - 110ms/epoch - 665us/step\n",
      "Epoch 40/50\n",
      "165/165 - 0s - loss: 0.0169 - accuracy: 0.9915 - 115ms/epoch - 698us/step\n",
      "Epoch 41/50\n",
      "165/165 - 0s - loss: 0.0170 - accuracy: 0.9915 - 130ms/epoch - 789us/step\n",
      "Epoch 42/50\n",
      "165/165 - 0s - loss: 0.0170 - accuracy: 0.9911 - 117ms/epoch - 709us/step\n",
      "Epoch 43/50\n",
      "165/165 - 0s - loss: 0.0169 - accuracy: 0.9915 - 125ms/epoch - 759us/step\n",
      "Epoch 44/50\n",
      "165/165 - 0s - loss: 0.0167 - accuracy: 0.9915 - 120ms/epoch - 729us/step\n",
      "Epoch 45/50\n",
      "165/165 - 0s - loss: 0.0166 - accuracy: 0.9915 - 110ms/epoch - 666us/step\n",
      "Epoch 46/50\n",
      "165/165 - 0s - loss: 0.0167 - accuracy: 0.9915 - 128ms/epoch - 774us/step\n",
      "Epoch 47/50\n",
      "165/165 - 0s - loss: 0.0170 - accuracy: 0.9913 - 113ms/epoch - 686us/step\n",
      "Epoch 48/50\n",
      "165/165 - 0s - loss: 0.0167 - accuracy: 0.9915 - 129ms/epoch - 781us/step\n",
      "Epoch 49/50\n",
      "165/165 - 0s - loss: 0.0168 - accuracy: 0.9913 - 115ms/epoch - 697us/step\n",
      "Epoch 50/50\n",
      "165/165 - 0s - loss: 0.0170 - accuracy: 0.9915 - 110ms/epoch - 669us/step\n"
     ]
    },
    {
     "data": {
      "image/png": "[encoded data removed]",
      "text/plain": [
       "<Figure size 432x288 with 1 Axes>"
      ]
     },
     "metadata": {},
     "output_type": "display_data"
    },
    {
     "name": "stdout",
     "output_type": "stream",
     "text": [
      "WARNING:tensorflow:AutoGraph could not transform <function Model.make_predict_function.<locals>.predict_function at 0x00000238C096D8C8> and will run it as-is.\n",
      "Please report this to the TensorFlow team. When filing the bug, set the verbosity to 10 (on Linux, `export AUTOGRAPH_VERBOSITY=10`) and attach the full output.\n",
      "Cause: 'arguments' object has no attribute 'posonlyargs'\n",
      "To silence this warning, decorate the function with @tf.autograph.experimental.do_not_convert\n",
      "WARNING: AutoGraph could not transform <function Model.make_predict_function.<locals>.predict_function at 0x00000238C096D8C8> and will run it as-is.\n",
      "Please report this to the TensorFlow team. When filing the bug, set the verbosity to 10 (on Linux, `export AUTOGRAPH_VERBOSITY=10`) and attach the full output.\n",
      "Cause: 'arguments' object has no attribute 'posonlyargs'\n",
      "To silence this warning, decorate the function with @tf.autograph.experimental.do_not_convert\n"
     ]
    },
    {
     "data": {
      "image/png": "[encoded data removed]",
      "text/plain": [
       "<Figure size 432x288 with 2 Axes>"
      ]
     },
     "metadata": {},
     "output_type": "display_data"
    },
    {
     "data": {
      "text/plain": [
       "<Figure size 720x504 with 0 Axes>"
      ]
     },
     "metadata": {},
     "output_type": "display_data"
    },
    {
     "name": "stdout",
     "output_type": "stream",
     "text": [
      "              precision    recall  f1-score   support\n",
      "\n",
      "           0       1.00      0.49      0.66      1496\n",
      "           1       0.01      0.83      0.03        12\n",
      "\n",
      "    accuracy                           0.49      1508\n",
      "   macro avg       0.51      0.66      0.34      1508\n",
      "weighted avg       0.99      0.49      0.65      1508\n",
      "\n"
     ]
    },
    {
     "data": {
      "text/plain": [
       "0"
      ]
     },
     "execution_count": 92,
     "metadata": {},
     "output_type": "execute_result"
    }
   ],
   "source": [
    "# Remote SCM Handle\n",
    "datasetJSONPath = os.getcwd() + \"\\\\datasets\\\\empire_find_localadmin_smb_svcctl_OpenSCManager_2020-09-22021559.json\"\n",
    "df8 = json.read_json(path_or_buf=datasetJSONPath, lines=True)\n",
    "\n",
    "features = [\"Channel\", \"EventID\",\"ObjectType\", \"ObjectName\", \"AccessMask\", \"SubjectLogonId\", \"PrivilegeList\", \"Application\", \"LayerRTID\", \"Image\", \"LogonType\", \"SubjectUserName\", \"TargetLogonId\"]\n",
    "df8 = df8[features]\n",
    "Y8 = labelList(df8.shape[0], [1071, 1374, 854, 1066, 1100, 1372, 1373, 1374, 1375, 1368, 1070, 1068])\n",
    "\n",
    "gen_data8 = json.read_json(os.getcwd() + \"\\\\generated_datasets\\\\empire_find_localadmin_smb_svcctl_OpenSCManager_new.json\")\n",
    "\n",
    "DNN_classifier(df8, Y8, [1071, 1374, 854, 1066, 1100, 1372, 1373, 1374, 1375, 1368, 1070, 1068], gen_data8, hidden_layers=5, manually=True)\n"
   ]
  },
  {
   "cell_type": "code",
   "execution_count": 97,
   "metadata": {},
   "outputs": [
    {
     "name": "stdout",
     "output_type": "stream",
     "text": [
      "Epoch 1/50\n",
      "WARNING:tensorflow:AutoGraph could not transform <function Model.make_train_function.<locals>.train_function at 0x00000238B1825A60> and will run it as-is.\n",
      "Please report this to the TensorFlow team. When filing the bug, set the verbosity to 10 (on Linux, `export AUTOGRAPH_VERBOSITY=10`) and attach the full output.\n",
      "Cause: 'arguments' object has no attribute 'posonlyargs'\n",
      "To silence this warning, decorate the function with @tf.autograph.experimental.do_not_convert\n",
      "WARNING: AutoGraph could not transform <function Model.make_train_function.<locals>.train_function at 0x00000238B1825A60> and will run it as-is.\n",
      "Please report this to the TensorFlow team. When filing the bug, set the verbosity to 10 (on Linux, `export AUTOGRAPH_VERBOSITY=10`) and attach the full output.\n",
      "Cause: 'arguments' object has no attribute 'posonlyargs'\n",
      "To silence this warning, decorate the function with @tf.autograph.experimental.do_not_convert\n",
      "245/245 - 0s - loss: 0.5487 - accuracy: 0.6943 - 498ms/epoch - 2ms/step\n",
      "Epoch 2/50\n",
      "245/245 - 0s - loss: 0.3053 - accuracy: 0.9913 - 161ms/epoch - 657us/step\n",
      "Epoch 3/50\n",
      "245/245 - 0s - loss: 0.2291 - accuracy: 0.9951 - 171ms/epoch - 698us/step\n",
      "Epoch 4/50\n",
      "245/245 - 0s - loss: 0.1894 - accuracy: 0.9958 - 174ms/epoch - 709us/step\n",
      "Epoch 5/50\n",
      "245/245 - 0s - loss: 0.1590 - accuracy: 0.9962 - 181ms/epoch - 739us/step\n",
      "Epoch 6/50\n",
      "245/245 - 0s - loss: 0.1354 - accuracy: 0.9958 - 161ms/epoch - 658us/step\n",
      "Epoch 7/50\n",
      "245/245 - 0s - loss: 0.1156 - accuracy: 0.9968 - 179ms/epoch - 730us/step\n",
      "Epoch 8/50\n",
      "245/245 - 0s - loss: 0.0998 - accuracy: 0.9972 - 159ms/epoch - 648us/step\n",
      "Epoch 9/50\n",
      "245/245 - 0s - loss: 0.0860 - accuracy: 0.9969 - 167ms/epoch - 681us/step\n",
      "Epoch 10/50\n",
      "245/245 - 0s - loss: 0.0743 - accuracy: 0.9980 - 169ms/epoch - 691us/step\n",
      "Epoch 11/50\n",
      "245/245 - 0s - loss: 0.0658 - accuracy: 0.9977 - 165ms/epoch - 675us/step\n",
      "Epoch 12/50\n",
      "245/245 - 0s - loss: 0.0589 - accuracy: 0.9973 - 162ms/epoch - 663us/step\n",
      "Epoch 13/50\n",
      "245/245 - 0s - loss: 0.0510 - accuracy: 0.9981 - 162ms/epoch - 663us/step\n",
      "Epoch 14/50\n",
      "245/245 - 0s - loss: 0.0466 - accuracy: 0.9978 - 165ms/epoch - 672us/step\n",
      "Epoch 15/50\n",
      "245/245 - 0s - loss: 0.0415 - accuracy: 0.9980 - 157ms/epoch - 642us/step\n",
      "Epoch 16/50\n",
      "245/245 - 0s - loss: 0.0379 - accuracy: 0.9981 - 164ms/epoch - 668us/step\n",
      "Epoch 17/50\n",
      "245/245 - 0s - loss: 0.0342 - accuracy: 0.9982 - 165ms/epoch - 673us/step\n",
      "Epoch 18/50\n",
      "245/245 - 0s - loss: 0.0312 - accuracy: 0.9981 - 158ms/epoch - 644us/step\n",
      "Epoch 19/50\n",
      "245/245 - 0s - loss: 0.0280 - accuracy: 0.9986 - 161ms/epoch - 659us/step\n",
      "Epoch 20/50\n",
      "245/245 - 0s - loss: 0.0255 - accuracy: 0.9981 - 158ms/epoch - 644us/step\n",
      "Epoch 21/50\n",
      "245/245 - 0s - loss: 0.0231 - accuracy: 0.9985 - 160ms/epoch - 654us/step\n",
      "Epoch 22/50\n",
      "245/245 - 0s - loss: 0.0229 - accuracy: 0.9981 - 163ms/epoch - 666us/step\n",
      "Epoch 23/50\n",
      "245/245 - 0s - loss: 0.0209 - accuracy: 0.9982 - 174ms/epoch - 710us/step\n",
      "Epoch 24/50\n",
      "245/245 - 0s - loss: 0.0190 - accuracy: 0.9982 - 174ms/epoch - 711us/step\n",
      "Epoch 25/50\n",
      "245/245 - 0s - loss: 0.0168 - accuracy: 0.9983 - 164ms/epoch - 670us/step\n",
      "Epoch 26/50\n",
      "245/245 - 0s - loss: 0.0161 - accuracy: 0.9982 - 164ms/epoch - 668us/step\n",
      "Epoch 27/50\n",
      "245/245 - 0s - loss: 0.0150 - accuracy: 0.9985 - 163ms/epoch - 666us/step\n",
      "Epoch 28/50\n",
      "245/245 - 0s - loss: 0.0152 - accuracy: 0.9981 - 159ms/epoch - 651us/step\n",
      "Epoch 29/50\n",
      "245/245 - 0s - loss: 0.0131 - accuracy: 0.9986 - 150ms/epoch - 612us/step\n",
      "Epoch 30/50\n",
      "245/245 - 0s - loss: 0.0124 - accuracy: 0.9985 - 172ms/epoch - 701us/step\n",
      "Epoch 31/50\n",
      "245/245 - 0s - loss: 0.0117 - accuracy: 0.9985 - 158ms/epoch - 646us/step\n",
      "Epoch 32/50\n",
      "245/245 - 0s - loss: 0.0123 - accuracy: 0.9983 - 161ms/epoch - 657us/step\n",
      "Epoch 33/50\n",
      "245/245 - 0s - loss: 0.0107 - accuracy: 0.9987 - 159ms/epoch - 649us/step\n",
      "Epoch 34/50\n",
      "245/245 - 0s - loss: 0.0103 - accuracy: 0.9985 - 159ms/epoch - 649us/step\n",
      "Epoch 35/50\n",
      "245/245 - 0s - loss: 0.0097 - accuracy: 0.9987 - 165ms/epoch - 672us/step\n",
      "Epoch 36/50\n",
      "245/245 - 0s - loss: 0.0092 - accuracy: 0.9987 - 165ms/epoch - 675us/step\n",
      "Epoch 37/50\n",
      "245/245 - 0s - loss: 0.0091 - accuracy: 0.9987 - 164ms/epoch - 668us/step\n",
      "Epoch 38/50\n",
      "245/245 - 0s - loss: 0.0100 - accuracy: 0.9982 - 164ms/epoch - 670us/step\n",
      "Epoch 39/50\n",
      "245/245 - 0s - loss: 0.0083 - accuracy: 0.9986 - 170ms/epoch - 693us/step\n",
      "Epoch 40/50\n",
      "245/245 - 0s - loss: 0.0102 - accuracy: 0.9985 - 161ms/epoch - 657us/step\n",
      "Epoch 41/50\n",
      "245/245 - 0s - loss: 0.0084 - accuracy: 0.9983 - 161ms/epoch - 656us/step\n",
      "Epoch 42/50\n",
      "245/245 - 0s - loss: 0.0081 - accuracy: 0.9985 - 171ms/epoch - 698us/step\n",
      "Epoch 43/50\n",
      "245/245 - 0s - loss: 0.0077 - accuracy: 0.9986 - 169ms/epoch - 691us/step\n",
      "Epoch 44/50\n",
      "245/245 - 0s - loss: 0.0064 - accuracy: 0.9988 - 166ms/epoch - 679us/step\n",
      "Epoch 45/50\n",
      "245/245 - 0s - loss: 0.0080 - accuracy: 0.9983 - 167ms/epoch - 682us/step\n",
      "Epoch 46/50\n",
      "245/245 - 0s - loss: 0.0073 - accuracy: 0.9988 - 177ms/epoch - 722us/step\n",
      "Epoch 47/50\n",
      "245/245 - 0s - loss: 0.0074 - accuracy: 0.9986 - 160ms/epoch - 654us/step\n",
      "Epoch 48/50\n",
      "245/245 - 0s - loss: 0.0080 - accuracy: 0.9985 - 169ms/epoch - 690us/step\n",
      "Epoch 49/50\n",
      "245/245 - 0s - loss: 0.0060 - accuracy: 0.9990 - 157ms/epoch - 642us/step\n",
      "Epoch 50/50\n",
      "245/245 - 0s - loss: 0.0066 - accuracy: 0.9990 - 159ms/epoch - 650us/step\n"
     ]
    },
    {
     "data": {
      "image/png": "[encoded data removed]",
      "text/plain": [
       "<Figure size 432x288 with 1 Axes>"
      ]
     },
     "metadata": {},
     "output_type": "display_data"
    },
    {
     "name": "stdout",
     "output_type": "stream",
     "text": [
      "WARNING:tensorflow:AutoGraph could not transform <function Model.make_predict_function.<locals>.predict_function at 0x00000238C2BC09D8> and will run it as-is.\n",
      "Please report this to the TensorFlow team. When filing the bug, set the verbosity to 10 (on Linux, `export AUTOGRAPH_VERBOSITY=10`) and attach the full output.\n",
      "Cause: 'arguments' object has no attribute 'posonlyargs'\n",
      "To silence this warning, decorate the function with @tf.autograph.experimental.do_not_convert\n",
      "WARNING: AutoGraph could not transform <function Model.make_predict_function.<locals>.predict_function at 0x00000238C2BC09D8> and will run it as-is.\n",
      "Please report this to the TensorFlow team. When filing the bug, set the verbosity to 10 (on Linux, `export AUTOGRAPH_VERBOSITY=10`) and attach the full output.\n",
      "Cause: 'arguments' object has no attribute 'posonlyargs'\n",
      "To silence this warning, decorate the function with @tf.autograph.experimental.do_not_convert\n"
     ]
    },
    {
     "data": {
      "image/png": "[encoded data removed]",
      "text/plain": [
       "<Figure size 432x288 with 2 Axes>"
      ]
     },
     "metadata": {},
     "output_type": "display_data"
    },
    {
     "data": {
      "text/plain": [
       "<Figure size 720x504 with 0 Axes>"
      ]
     },
     "metadata": {},
     "output_type": "display_data"
    },
    {
     "name": "stdout",
     "output_type": "stream",
     "text": [
      "              precision    recall  f1-score   support\n",
      "\n",
      "           0       1.00      0.66      0.79      2036\n",
      "           1       0.01      0.50      0.01        10\n",
      "\n",
      "    accuracy                           0.66      2046\n",
      "   macro avg       0.50      0.58      0.40      2046\n",
      "weighted avg       0.99      0.66      0.79      2046\n",
      "\n"
     ]
    },
    {
     "data": {
      "text/plain": [
       "0"
      ]
     },
     "execution_count": 97,
     "metadata": {},
     "output_type": "execute_result"
    }
   ],
   "source": [
    "# Microphone\n",
    "datasetJSONPath = os.getcwd() + \"\\\\datasets\\\\msf_record_mic_2020-06-09225055.json\"\n",
    "df9 = json.read_json(path_or_buf=datasetJSONPath, lines=True)\n",
    "\n",
    "features = [\"Channel\", \"EventID\", \"ObjectType\", \"ObjectName\", \"ProcessName\", \"SubjectLogonId\", \"ObjectValueName\", \"TargetObject\"]\n",
    "df9 = df9[features]\n",
    "Y9 = labelList(df9.shape[0], [5117, 5118, 5202, 5203, 5204, 5240, 5241, 5242, 5340, 5344])\n",
    "\n",
    "gen_data9 = json.read_json(os.getcwd() + \"\\\\generated_datasets\\\\msf_record_mic_new.json\")\n",
    "\n",
    "DNN_classifier(df9, Y9, [5117, 5118, 5202, 5203, 5204, 5240, 5241, 5242, 5340, 5344], gen_data9, hidden_layers=5, manually=True)\n"
   ]
  },
  {
   "cell_type": "code",
   "execution_count": 93,
   "metadata": {},
   "outputs": [
    {
     "name": "stdout",
     "output_type": "stream",
     "text": [
      "Epoch 1/50\n",
      "WARNING:tensorflow:AutoGraph could not transform <function Model.make_train_function.<locals>.train_function at 0x00000238B17940D0> and will run it as-is.\n",
      "Please report this to the TensorFlow team. When filing the bug, set the verbosity to 10 (on Linux, `export AUTOGRAPH_VERBOSITY=10`) and attach the full output.\n",
      "Cause: 'arguments' object has no attribute 'posonlyargs'\n",
      "To silence this warning, decorate the function with @tf.autograph.experimental.do_not_convert\n",
      "WARNING: AutoGraph could not transform <function Model.make_train_function.<locals>.train_function at 0x00000238B17940D0> and will run it as-is.\n",
      "Please report this to the TensorFlow team. When filing the bug, set the verbosity to 10 (on Linux, `export AUTOGRAPH_VERBOSITY=10`) and attach the full output.\n",
      "Cause: 'arguments' object has no attribute 'posonlyargs'\n",
      "To silence this warning, decorate the function with @tf.autograph.experimental.do_not_convert\n",
      "138/138 - 0s - loss: 0.5333 - accuracy: 0.7193 - 437ms/epoch - 3ms/step\n",
      "Epoch 2/50\n",
      "138/138 - 0s - loss: 0.3675 - accuracy: 0.9094 - 131ms/epoch - 949us/step\n",
      "Epoch 3/50\n",
      "138/138 - 0s - loss: 0.2956 - accuracy: 0.9608 - 151ms/epoch - 1ms/step\n",
      "Epoch 4/50\n",
      "138/138 - 0s - loss: 0.2580 - accuracy: 0.9709 - 143ms/epoch - 1ms/step\n",
      "Epoch 5/50\n",
      "138/138 - 0s - loss: 0.2311 - accuracy: 0.9727 - 137ms/epoch - 990us/step\n",
      "Epoch 6/50\n",
      "138/138 - 0s - loss: 0.2123 - accuracy: 0.9766 - 143ms/epoch - 1ms/step\n",
      "Epoch 7/50\n",
      "138/138 - 0s - loss: 0.1976 - accuracy: 0.9743 - 126ms/epoch - 910us/step\n",
      "Epoch 8/50\n",
      "138/138 - 0s - loss: 0.1826 - accuracy: 0.9770 - 123ms/epoch - 893us/step\n",
      "Epoch 9/50\n",
      "138/138 - 0s - loss: 0.1713 - accuracy: 0.9779 - 141ms/epoch - 1ms/step\n",
      "Epoch 10/50\n",
      "138/138 - 0s - loss: 0.1594 - accuracy: 0.9784 - 142ms/epoch - 1ms/step\n",
      "Epoch 11/50\n",
      "138/138 - 0s - loss: 0.1505 - accuracy: 0.9788 - 120ms/epoch - 872us/step\n",
      "Epoch 12/50\n",
      "138/138 - 0s - loss: 0.1424 - accuracy: 0.9791 - 102ms/epoch - 736us/step\n",
      "Epoch 13/50\n",
      "138/138 - 0s - loss: 0.1352 - accuracy: 0.9784 - 112ms/epoch - 814us/step\n",
      "Epoch 14/50\n",
      "138/138 - 0s - loss: 0.1287 - accuracy: 0.9802 - 107ms/epoch - 773us/step\n",
      "Epoch 15/50\n",
      "138/138 - 0s - loss: 0.1217 - accuracy: 0.9800 - 94ms/epoch - 682us/step\n",
      "Epoch 16/50\n",
      "138/138 - 0s - loss: 0.1176 - accuracy: 0.9807 - 94ms/epoch - 680us/step\n",
      "Epoch 17/50\n",
      "138/138 - 0s - loss: 0.1118 - accuracy: 0.9809 - 100ms/epoch - 722us/step\n",
      "Epoch 18/50\n",
      "138/138 - 0s - loss: 0.1071 - accuracy: 0.9809 - 100ms/epoch - 727us/step\n",
      "Epoch 19/50\n",
      "138/138 - 0s - loss: 0.1031 - accuracy: 0.9816 - 97ms/epoch - 701us/step\n",
      "Epoch 20/50\n",
      "138/138 - 0s - loss: 0.0987 - accuracy: 0.9825 - 103ms/epoch - 746us/step\n",
      "Epoch 21/50\n",
      "138/138 - 0s - loss: 0.0954 - accuracy: 0.9816 - 103ms/epoch - 744us/step\n",
      "Epoch 22/50\n",
      "138/138 - 0s - loss: 0.0923 - accuracy: 0.9832 - 105ms/epoch - 760us/step\n",
      "Epoch 23/50\n",
      "138/138 - 0s - loss: 0.0902 - accuracy: 0.9827 - 118ms/epoch - 857us/step\n",
      "Epoch 24/50\n",
      "138/138 - 0s - loss: 0.0877 - accuracy: 0.9829 - 117ms/epoch - 846us/step\n",
      "Epoch 25/50\n",
      "138/138 - 0s - loss: 0.0844 - accuracy: 0.9838 - 108ms/epoch - 785us/step\n",
      "Epoch 26/50\n",
      "138/138 - 0s - loss: 0.0847 - accuracy: 0.9820 - 125ms/epoch - 909us/step\n",
      "Epoch 27/50\n",
      "138/138 - 0s - loss: 0.0818 - accuracy: 0.9825 - 118ms/epoch - 858us/step\n",
      "Epoch 28/50\n",
      "138/138 - 0s - loss: 0.0799 - accuracy: 0.9836 - 113ms/epoch - 822us/step\n",
      "Epoch 29/50\n",
      "138/138 - 0s - loss: 0.0783 - accuracy: 0.9834 - 100ms/epoch - 725us/step\n",
      "Epoch 30/50\n",
      "138/138 - 0s - loss: 0.0765 - accuracy: 0.9838 - 104ms/epoch - 756us/step\n",
      "Epoch 31/50\n",
      "138/138 - 0s - loss: 0.0764 - accuracy: 0.9838 - 106ms/epoch - 772us/step\n",
      "Epoch 32/50\n",
      "138/138 - 0s - loss: 0.0746 - accuracy: 0.9832 - 106ms/epoch - 766us/step\n",
      "Epoch 33/50\n",
      "138/138 - 0s - loss: 0.0727 - accuracy: 0.9843 - 93ms/epoch - 673us/step\n",
      "Epoch 34/50\n",
      "138/138 - 0s - loss: 0.0726 - accuracy: 0.9841 - 100ms/epoch - 723us/step\n",
      "Epoch 35/50\n",
      "138/138 - 0s - loss: 0.0725 - accuracy: 0.9836 - 97ms/epoch - 704us/step\n",
      "Epoch 36/50\n",
      "138/138 - 0s - loss: 0.0700 - accuracy: 0.9845 - 96ms/epoch - 694us/step\n",
      "Epoch 37/50\n",
      "138/138 - 0s - loss: 0.0714 - accuracy: 0.9836 - 92ms/epoch - 668us/step\n",
      "Epoch 38/50\n",
      "138/138 - 0s - loss: 0.0692 - accuracy: 0.9847 - 95ms/epoch - 686us/step\n",
      "Epoch 39/50\n",
      "138/138 - 0s - loss: 0.0682 - accuracy: 0.9847 - 97ms/epoch - 701us/step\n",
      "Epoch 40/50\n",
      "138/138 - 0s - loss: 0.0679 - accuracy: 0.9843 - 99ms/epoch - 715us/step\n",
      "Epoch 41/50\n",
      "138/138 - 0s - loss: 0.0681 - accuracy: 0.9832 - 108ms/epoch - 779us/step\n",
      "Epoch 42/50\n",
      "138/138 - 0s - loss: 0.0683 - accuracy: 0.9829 - 95ms/epoch - 689us/step\n",
      "Epoch 43/50\n",
      "138/138 - 0s - loss: 0.0657 - accuracy: 0.9847 - 94ms/epoch - 679us/step\n",
      "Epoch 44/50\n",
      "138/138 - 0s - loss: 0.0649 - accuracy: 0.9850 - 106ms/epoch - 768us/step\n",
      "Epoch 45/50\n",
      "138/138 - 0s - loss: 0.0663 - accuracy: 0.9841 - 133ms/epoch - 967us/step\n",
      "Epoch 46/50\n",
      "138/138 - 0s - loss: 0.0639 - accuracy: 0.9843 - 128ms/epoch - 929us/step\n",
      "Epoch 47/50\n",
      "138/138 - 0s - loss: 0.0633 - accuracy: 0.9845 - 112ms/epoch - 813us/step\n",
      "Epoch 48/50\n",
      "138/138 - 0s - loss: 0.0624 - accuracy: 0.9859 - 101ms/epoch - 730us/step\n",
      "Epoch 49/50\n",
      "138/138 - 0s - loss: 0.0617 - accuracy: 0.9854 - 99ms/epoch - 716us/step\n",
      "Epoch 50/50\n",
      "138/138 - 0s - loss: 0.0627 - accuracy: 0.9845 - 93ms/epoch - 672us/step\n"
     ]
    },
    {
     "data": {
      "image/png": "[encoded data removed]",
      "text/plain": [
       "<Figure size 432x288 with 1 Axes>"
      ]
     },
     "metadata": {},
     "output_type": "display_data"
    },
    {
     "name": "stdout",
     "output_type": "stream",
     "text": [
      "WARNING:tensorflow:AutoGraph could not transform <function Model.make_predict_function.<locals>.predict_function at 0x00000238CD2EF048> and will run it as-is.\n",
      "Please report this to the TensorFlow team. When filing the bug, set the verbosity to 10 (on Linux, `export AUTOGRAPH_VERBOSITY=10`) and attach the full output.\n",
      "Cause: 'arguments' object has no attribute 'posonlyargs'\n",
      "To silence this warning, decorate the function with @tf.autograph.experimental.do_not_convert\n",
      "WARNING: AutoGraph could not transform <function Model.make_predict_function.<locals>.predict_function at 0x00000238CD2EF048> and will run it as-is.\n",
      "Please report this to the TensorFlow team. When filing the bug, set the verbosity to 10 (on Linux, `export AUTOGRAPH_VERBOSITY=10`) and attach the full output.\n",
      "Cause: 'arguments' object has no attribute 'posonlyargs'\n",
      "To silence this warning, decorate the function with @tf.autograph.experimental.do_not_convert\n"
     ]
    },
    {
     "data": {
      "image/png": "[encoded data removed]",
      "text/plain": [
       "<Figure size 432x288 with 2 Axes>"
      ]
     },
     "metadata": {},
     "output_type": "display_data"
    },
    {
     "data": {
      "text/plain": [
       "<Figure size 720x504 with 0 Axes>"
      ]
     },
     "metadata": {},
     "output_type": "display_data"
    },
    {
     "name": "stdout",
     "output_type": "stream",
     "text": [
      "              precision    recall  f1-score   support\n",
      "\n",
      "           0       1.00      0.02      0.04      1217\n",
      "           1       0.01      1.00      0.02        10\n",
      "\n",
      "    accuracy                           0.03      1227\n",
      "   macro avg       0.50      0.51      0.03      1227\n",
      "weighted avg       0.99      0.03      0.04      1227\n",
      "\n"
     ]
    },
    {
     "data": {
      "text/plain": [
       "0"
      ]
     },
     "execution_count": 93,
     "metadata": {},
     "output_type": "execute_result"
    }
   ],
   "source": [
    "# Active Script\n",
    "datasetJSONPath = os.getcwd() + \"\\\\datasets\\\\covenant_wmi_remote_event_subscription_ActiveScriptEventConsumers_2020-09-01214330.json\"\n",
    "df10 = json.read_json(path_or_buf=datasetJSONPath, lines=True)\n",
    "\n",
    "features = [\"Channel\", \"EventID\", \"Message\", \"Image\", \"NewProcessName\", \"ImageLoaded\", \"LogonType\", \"ProcessName\", \"ProcessGuid\", \"ProcessId\"]\n",
    "df10 = df10[features]\n",
    "Y10 = labelList(df10.shape[0], [157, 3307, 156, 1532, 1744, 1537, 1591, 1600, 2151, 1799])\n",
    "\n",
    "gen_data10 = json.read_json(os.getcwd() + \"\\\\generated_datasets\\\\covenant_wmi_remote_event_subscription_ActiveScriptEventConsumers_new.json\")\n",
    "\n",
    "\n",
    "DNN_classifier(df10, Y10, [157, 3307, 156, 1532, 1744, 1537, 1591, 1600, 2151, 1799], gen_data10, hidden_layers=5, manually=True)\n"
   ]
  },
  {
   "cell_type": "code",
   "execution_count": 94,
   "metadata": {},
   "outputs": [
    {
     "name": "stdout",
     "output_type": "stream",
     "text": [
      "Epoch 1/50\n",
      "WARNING:tensorflow:AutoGraph could not transform <function Model.make_train_function.<locals>.train_function at 0x00000238B2C7D268> and will run it as-is.\n",
      "Please report this to the TensorFlow team. When filing the bug, set the verbosity to 10 (on Linux, `export AUTOGRAPH_VERBOSITY=10`) and attach the full output.\n",
      "Cause: 'arguments' object has no attribute 'posonlyargs'\n",
      "To silence this warning, decorate the function with @tf.autograph.experimental.do_not_convert\n",
      "WARNING: AutoGraph could not transform <function Model.make_train_function.<locals>.train_function at 0x00000238B2C7D268> and will run it as-is.\n",
      "Please report this to the TensorFlow team. When filing the bug, set the verbosity to 10 (on Linux, `export AUTOGRAPH_VERBOSITY=10`) and attach the full output.\n",
      "Cause: 'arguments' object has no attribute 'posonlyargs'\n",
      "To silence this warning, decorate the function with @tf.autograph.experimental.do_not_convert\n",
      "313/313 - 1s - loss: 0.4007 - accuracy: 0.7992 - 562ms/epoch - 2ms/step\n",
      "Epoch 2/50\n",
      "313/313 - 0s - loss: 0.2169 - accuracy: 0.9984 - 208ms/epoch - 664us/step\n",
      "Epoch 3/50\n",
      "313/313 - 0s - loss: 0.1712 - accuracy: 0.9987 - 288ms/epoch - 920us/step\n",
      "Epoch 4/50\n",
      "313/313 - 0s - loss: 0.1386 - accuracy: 0.9990 - 302ms/epoch - 964us/step\n",
      "Epoch 5/50\n",
      "313/313 - 0s - loss: 0.1136 - accuracy: 0.9989 - 259ms/epoch - 827us/step\n",
      "Epoch 6/50\n",
      "313/313 - 0s - loss: 0.0940 - accuracy: 0.9991 - 253ms/epoch - 808us/step\n",
      "Epoch 7/50\n",
      "313/313 - 0s - loss: 0.0785 - accuracy: 0.9990 - 234ms/epoch - 748us/step\n",
      "Epoch 8/50\n",
      "313/313 - 0s - loss: 0.0662 - accuracy: 0.9990 - 224ms/epoch - 717us/step\n",
      "Epoch 9/50\n",
      "313/313 - 0s - loss: 0.0560 - accuracy: 0.9991 - 257ms/epoch - 822us/step\n",
      "Epoch 10/50\n",
      "313/313 - 0s - loss: 0.0479 - accuracy: 0.9990 - 301ms/epoch - 963us/step\n",
      "Epoch 11/50\n",
      "313/313 - 0s - loss: 0.0409 - accuracy: 0.9992 - 244ms/epoch - 781us/step\n",
      "Epoch 12/50\n",
      "313/313 - 0s - loss: 0.0352 - accuracy: 0.9992 - 240ms/epoch - 768us/step\n",
      "Epoch 13/50\n",
      "313/313 - 0s - loss: 0.0307 - accuracy: 0.9990 - 204ms/epoch - 651us/step\n",
      "Epoch 14/50\n",
      "313/313 - 0s - loss: 0.0266 - accuracy: 0.9993 - 200ms/epoch - 638us/step\n",
      "Epoch 15/50\n",
      "313/313 - 0s - loss: 0.0237 - accuracy: 0.9993 - 209ms/epoch - 667us/step\n",
      "Epoch 16/50\n",
      "313/313 - 0s - loss: 0.0204 - accuracy: 0.9992 - 275ms/epoch - 880us/step\n",
      "Epoch 17/50\n",
      "313/313 - 0s - loss: 0.0178 - accuracy: 0.9994 - 211ms/epoch - 673us/step\n",
      "Epoch 18/50\n",
      "313/313 - 0s - loss: 0.0158 - accuracy: 0.9993 - 209ms/epoch - 668us/step\n",
      "Epoch 19/50\n",
      "313/313 - 0s - loss: 0.0139 - accuracy: 0.9993 - 207ms/epoch - 662us/step\n",
      "Epoch 20/50\n",
      "313/313 - 0s - loss: 0.0125 - accuracy: 0.9992 - 199ms/epoch - 635us/step\n",
      "Epoch 21/50\n",
      "313/313 - 0s - loss: 0.0110 - accuracy: 0.9991 - 211ms/epoch - 673us/step\n",
      "Epoch 22/50\n",
      "313/313 - 0s - loss: 0.0098 - accuracy: 0.9994 - 201ms/epoch - 642us/step\n",
      "Epoch 23/50\n",
      "313/313 - 0s - loss: 0.0089 - accuracy: 0.9993 - 210ms/epoch - 672us/step\n",
      "Epoch 24/50\n",
      "313/313 - 0s - loss: 0.0083 - accuracy: 0.9991 - 203ms/epoch - 648us/step\n",
      "Epoch 25/50\n",
      "313/313 - 0s - loss: 0.0071 - accuracy: 0.9993 - 196ms/epoch - 628us/step\n",
      "Epoch 26/50\n",
      "313/313 - 0s - loss: 0.0065 - accuracy: 0.9994 - 208ms/epoch - 664us/step\n",
      "Epoch 27/50\n",
      "313/313 - 0s - loss: 0.0061 - accuracy: 0.9993 - 221ms/epoch - 706us/step\n",
      "Epoch 28/50\n",
      "313/313 - 0s - loss: 0.0055 - accuracy: 0.9993 - 213ms/epoch - 681us/step\n",
      "Epoch 29/50\n",
      "313/313 - 0s - loss: 0.0052 - accuracy: 0.9993 - 201ms/epoch - 643us/step\n",
      "Epoch 30/50\n",
      "313/313 - 0s - loss: 0.0048 - accuracy: 0.9992 - 235ms/epoch - 750us/step\n",
      "Epoch 31/50\n",
      "313/313 - 0s - loss: 0.0043 - accuracy: 0.9994 - 204ms/epoch - 651us/step\n",
      "Epoch 32/50\n",
      "313/313 - 0s - loss: 0.0041 - accuracy: 0.9993 - 216ms/epoch - 689us/step\n",
      "Epoch 33/50\n",
      "313/313 - 0s - loss: 0.0039 - accuracy: 0.9993 - 211ms/epoch - 673us/step\n",
      "Epoch 34/50\n",
      "313/313 - 0s - loss: 0.0035 - accuracy: 0.9993 - 202ms/epoch - 646us/step\n",
      "Epoch 35/50\n",
      "313/313 - 0s - loss: 0.0040 - accuracy: 0.9993 - 201ms/epoch - 644us/step\n",
      "Epoch 36/50\n",
      "313/313 - 0s - loss: 0.0035 - accuracy: 0.9994 - 201ms/epoch - 641us/step\n",
      "Epoch 37/50\n",
      "313/313 - 0s - loss: 0.0032 - accuracy: 0.9993 - 198ms/epoch - 632us/step\n",
      "Epoch 38/50\n",
      "313/313 - 0s - loss: 0.0029 - accuracy: 0.9996 - 221ms/epoch - 707us/step\n",
      "Epoch 39/50\n",
      "313/313 - 0s - loss: 0.0029 - accuracy: 0.9993 - 275ms/epoch - 878us/step\n",
      "Epoch 40/50\n",
      "313/313 - 0s - loss: 0.0030 - accuracy: 0.9992 - 262ms/epoch - 838us/step\n",
      "Epoch 41/50\n",
      "313/313 - 0s - loss: 0.0030 - accuracy: 0.9994 - 191ms/epoch - 610us/step\n",
      "Epoch 42/50\n",
      "313/313 - 0s - loss: 0.0028 - accuracy: 0.9993 - 228ms/epoch - 727us/step\n",
      "Epoch 43/50\n",
      "313/313 - 0s - loss: 0.0026 - accuracy: 0.9993 - 211ms/epoch - 674us/step\n",
      "Epoch 44/50\n",
      "313/313 - 0s - loss: 0.0031 - accuracy: 0.9994 - 210ms/epoch - 670us/step\n",
      "Epoch 45/50\n",
      "313/313 - 0s - loss: 0.0025 - accuracy: 0.9994 - 210ms/epoch - 671us/step\n",
      "Epoch 46/50\n",
      "313/313 - 0s - loss: 0.0027 - accuracy: 0.9993 - 213ms/epoch - 679us/step\n",
      "Epoch 47/50\n",
      "313/313 - 0s - loss: 0.0026 - accuracy: 0.9993 - 212ms/epoch - 676us/step\n",
      "Epoch 48/50\n",
      "313/313 - 0s - loss: 0.0025 - accuracy: 0.9993 - 216ms/epoch - 691us/step\n",
      "Epoch 49/50\n",
      "313/313 - 0s - loss: 0.0023 - accuracy: 0.9994 - 291ms/epoch - 929us/step\n",
      "Epoch 50/50\n",
      "313/313 - 0s - loss: 0.0024 - accuracy: 0.9993 - 331ms/epoch - 1ms/step\n"
     ]
    },
    {
     "data": {
      "image/png": "[encoded data removed]",
      "text/plain": [
       "<Figure size 432x288 with 1 Axes>"
      ]
     },
     "metadata": {},
     "output_type": "display_data"
    },
    {
     "name": "stdout",
     "output_type": "stream",
     "text": [
      "WARNING:tensorflow:AutoGraph could not transform <function Model.make_predict_function.<locals>.predict_function at 0x00000238CD233D08> and will run it as-is.\n",
      "Please report this to the TensorFlow team. When filing the bug, set the verbosity to 10 (on Linux, `export AUTOGRAPH_VERBOSITY=10`) and attach the full output.\n",
      "Cause: 'arguments' object has no attribute 'posonlyargs'\n",
      "To silence this warning, decorate the function with @tf.autograph.experimental.do_not_convert\n",
      "WARNING: AutoGraph could not transform <function Model.make_predict_function.<locals>.predict_function at 0x00000238CD233D08> and will run it as-is.\n",
      "Please report this to the TensorFlow team. When filing the bug, set the verbosity to 10 (on Linux, `export AUTOGRAPH_VERBOSITY=10`) and attach the full output.\n",
      "Cause: 'arguments' object has no attribute 'posonlyargs'\n",
      "To silence this warning, decorate the function with @tf.autograph.experimental.do_not_convert\n"
     ]
    },
    {
     "data": {
      "image/png": "[encoded data removed]",
      "text/plain": [
       "<Figure size 432x288 with 2 Axes>"
      ]
     },
     "metadata": {},
     "output_type": "display_data"
    },
    {
     "data": {
      "text/plain": [
       "<Figure size 720x504 with 0 Axes>"
      ]
     },
     "metadata": {},
     "output_type": "display_data"
    },
    {
     "name": "stdout",
     "output_type": "stream",
     "text": [
      "              precision    recall  f1-score   support\n",
      "\n",
      "           0       1.00      1.00      1.00      2949\n",
      "           1       0.00      0.00      0.00         3\n",
      "\n",
      "    accuracy                           1.00      2952\n",
      "   macro avg       0.50      0.50      0.50      2952\n",
      "weighted avg       1.00      1.00      1.00      2952\n",
      "\n"
     ]
    },
    {
     "name": "stderr",
     "output_type": "stream",
     "text": [
      "C:\\Users\\ly\\AppData\\Roaming\\Python\\Python37\\site-packages\\sklearn\\metrics\\_classification.py:1318: UndefinedMetricWarning: Precision and F-score are ill-defined and being set to 0.0 in labels with no predicted samples. Use `zero_division` parameter to control this behavior.\n",
      "  _warn_prf(average, modifier, msg_start, len(result))\n",
      "C:\\Users\\ly\\AppData\\Roaming\\Python\\Python37\\site-packages\\sklearn\\metrics\\_classification.py:1318: UndefinedMetricWarning: Precision and F-score are ill-defined and being set to 0.0 in labels with no predicted samples. Use `zero_division` parameter to control this behavior.\n",
      "  _warn_prf(average, modifier, msg_start, len(result))\n",
      "C:\\Users\\ly\\AppData\\Roaming\\Python\\Python37\\site-packages\\sklearn\\metrics\\_classification.py:1318: UndefinedMetricWarning: Precision and F-score are ill-defined and being set to 0.0 in labels with no predicted samples. Use `zero_division` parameter to control this behavior.\n",
      "  _warn_prf(average, modifier, msg_start, len(result))\n"
     ]
    },
    {
     "data": {
      "text/plain": [
       "0"
      ]
     },
     "execution_count": 94,
     "metadata": {},
     "output_type": "execute_result"
    }
   ],
   "source": [
    "# Wbemcomn Hijack\n",
    "datasetJSONPath = os.getcwd() + \"\\\\datasets\\\\covenant_wmi_wbemcomn_dll_hijack_2020-10-09173318.json\"\n",
    "df11 = json.read_json(path_or_buf=datasetJSONPath, lines=True)\n",
    "\n",
    "features = [\"Channel\", \"EventID\", \"RelativeTargetName\", \"SubjectUserName\", \"AccessMask\", \"Image\", \"TargetFilename\", \"ImageLoaded\"]\n",
    "df11 = df11[features]\n",
    "Y11 = labelList(df11.shape[0], [450, 445, 651])\n",
    "\n",
    "gen_data11 = json.read_json(os.getcwd() + \"\\\\generated_datasets\\\\covenant_wmi_wbemcomn_dll_hijack_new.json\")\n",
    "\n",
    "DNN_classifier(df11, Y11, [450, 445, 651], gen_data11, hidden_layers=5, manually=True)\n"
   ]
  },
  {
   "cell_type": "code",
   "execution_count": 95,
   "metadata": {},
   "outputs": [
    {
     "name": "stdout",
     "output_type": "stream",
     "text": [
      "Epoch 1/50\n",
      "WARNING:tensorflow:AutoGraph could not transform <function Model.make_train_function.<locals>.train_function at 0x00000238C073F0D0> and will run it as-is.\n",
      "Please report this to the TensorFlow team. When filing the bug, set the verbosity to 10 (on Linux, `export AUTOGRAPH_VERBOSITY=10`) and attach the full output.\n",
      "Cause: 'arguments' object has no attribute 'posonlyargs'\n",
      "To silence this warning, decorate the function with @tf.autograph.experimental.do_not_convert\n",
      "WARNING: AutoGraph could not transform <function Model.make_train_function.<locals>.train_function at 0x00000238C073F0D0> and will run it as-is.\n",
      "Please report this to the TensorFlow team. When filing the bug, set the verbosity to 10 (on Linux, `export AUTOGRAPH_VERBOSITY=10`) and attach the full output.\n",
      "Cause: 'arguments' object has no attribute 'posonlyargs'\n",
      "To silence this warning, decorate the function with @tf.autograph.experimental.do_not_convert\n",
      "22/22 - 0s - loss: 0.6647 - accuracy: 0.6766 - 367ms/epoch - 17ms/step\n",
      "Epoch 2/50\n",
      "22/22 - 0s - loss: 0.5588 - accuracy: 0.8775 - 21ms/epoch - 954us/step\n",
      "Epoch 3/50\n",
      "22/22 - 0s - loss: 0.4733 - accuracy: 0.8903 - 23ms/epoch - 1ms/step\n",
      "Epoch 4/50\n",
      "22/22 - 0s - loss: 0.4084 - accuracy: 0.9088 - 22ms/epoch - 977us/step\n",
      "Epoch 5/50\n",
      "22/22 - 0s - loss: 0.3247 - accuracy: 0.9088 - 28ms/epoch - 1ms/step\n",
      "Epoch 6/50\n",
      "22/22 - 0s - loss: 0.2519 - accuracy: 0.9145 - 24ms/epoch - 1ms/step\n",
      "Epoch 7/50\n",
      "22/22 - 0s - loss: 0.2008 - accuracy: 0.9145 - 20ms/epoch - 902us/step\n",
      "Epoch 8/50\n",
      "22/22 - 0s - loss: 0.1649 - accuracy: 0.9145 - 19ms/epoch - 855us/step\n",
      "Epoch 9/50\n",
      "22/22 - 0s - loss: 0.1392 - accuracy: 0.9145 - 22ms/epoch - 1ms/step\n",
      "Epoch 10/50\n",
      "22/22 - 0s - loss: 0.1178 - accuracy: 0.9160 - 28ms/epoch - 1ms/step\n",
      "Epoch 11/50\n",
      "22/22 - 0s - loss: 0.1034 - accuracy: 0.9160 - 20ms/epoch - 895us/step\n",
      "Epoch 12/50\n",
      "22/22 - 0s - loss: 0.0954 - accuracy: 0.9160 - 26ms/epoch - 1ms/step\n",
      "Epoch 13/50\n",
      "22/22 - 0s - loss: 0.0890 - accuracy: 0.9160 - 23ms/epoch - 1ms/step\n",
      "Epoch 14/50\n",
      "22/22 - 0s - loss: 0.0848 - accuracy: 0.9160 - 26ms/epoch - 1ms/step\n",
      "Epoch 15/50\n",
      "22/22 - 0s - loss: 0.0813 - accuracy: 0.9160 - 19ms/epoch - 849us/step\n",
      "Epoch 16/50\n",
      "22/22 - 0s - loss: 0.0789 - accuracy: 0.9160 - 26ms/epoch - 1ms/step\n",
      "Epoch 17/50\n",
      "22/22 - 0s - loss: 0.0768 - accuracy: 0.9160 - 24ms/epoch - 1ms/step\n",
      "Epoch 18/50\n",
      "22/22 - 0s - loss: 0.0752 - accuracy: 0.9160 - 28ms/epoch - 1ms/step\n",
      "Epoch 19/50\n",
      "22/22 - 0s - loss: 0.0738 - accuracy: 0.9160 - 26ms/epoch - 1ms/step\n",
      "Epoch 20/50\n",
      "22/22 - 0s - loss: 0.0725 - accuracy: 0.9160 - 23ms/epoch - 1ms/step\n",
      "Epoch 21/50\n",
      "22/22 - 0s - loss: 0.0711 - accuracy: 0.9302 - 25ms/epoch - 1ms/step\n",
      "Epoch 22/50\n",
      "22/22 - 0s - loss: 0.0699 - accuracy: 0.9972 - 25ms/epoch - 1ms/step\n",
      "Epoch 23/50\n",
      "22/22 - 0s - loss: 0.0687 - accuracy: 0.9986 - 28ms/epoch - 1ms/step\n",
      "Epoch 24/50\n",
      "22/22 - 0s - loss: 0.0677 - accuracy: 0.9986 - 19ms/epoch - 854us/step\n",
      "Epoch 25/50\n",
      "22/22 - 0s - loss: 0.0668 - accuracy: 0.9986 - 26ms/epoch - 1ms/step\n",
      "Epoch 26/50\n",
      "22/22 - 0s - loss: 0.0656 - accuracy: 0.9986 - 29ms/epoch - 1ms/step\n",
      "Epoch 27/50\n",
      "22/22 - 0s - loss: 0.0647 - accuracy: 0.9986 - 25ms/epoch - 1ms/step\n",
      "Epoch 28/50\n",
      "22/22 - 0s - loss: 0.0636 - accuracy: 0.9986 - 15ms/epoch - 702us/step\n",
      "Epoch 29/50\n",
      "22/22 - 0s - loss: 0.0628 - accuracy: 0.9986 - 33ms/epoch - 1ms/step\n",
      "Epoch 30/50\n",
      "22/22 - 0s - loss: 0.0619 - accuracy: 0.9986 - 26ms/epoch - 1ms/step\n",
      "Epoch 31/50\n",
      "22/22 - 0s - loss: 0.0610 - accuracy: 0.9986 - 31ms/epoch - 1ms/step\n",
      "Epoch 32/50\n",
      "22/22 - 0s - loss: 0.0601 - accuracy: 0.9986 - 21ms/epoch - 937us/step\n",
      "Epoch 33/50\n",
      "22/22 - 0s - loss: 0.0592 - accuracy: 0.9986 - 21ms/epoch - 965us/step\n",
      "Epoch 34/50\n",
      "22/22 - 0s - loss: 0.0579 - accuracy: 0.9986 - 21ms/epoch - 951us/step\n",
      "Epoch 35/50\n",
      "22/22 - 0s - loss: 0.0539 - accuracy: 0.9986 - 11ms/epoch - 502us/step\n",
      "Epoch 36/50\n",
      "22/22 - 0s - loss: 0.0256 - accuracy: 0.9986 - 25ms/epoch - 1ms/step\n",
      "Epoch 37/50\n",
      "22/22 - 0s - loss: 0.0121 - accuracy: 0.9986 - 22ms/epoch - 998us/step\n",
      "Epoch 38/50\n",
      "22/22 - 0s - loss: 0.0095 - accuracy: 0.9986 - 19ms/epoch - 860us/step\n",
      "Epoch 39/50\n",
      "22/22 - 0s - loss: 0.0083 - accuracy: 0.9986 - 21ms/epoch - 965us/step\n",
      "Epoch 40/50\n",
      "22/22 - 0s - loss: 0.0074 - accuracy: 0.9986 - 20ms/epoch - 912us/step\n",
      "Epoch 41/50\n",
      "22/22 - 0s - loss: 0.0066 - accuracy: 0.9986 - 28ms/epoch - 1ms/step\n",
      "Epoch 42/50\n",
      "22/22 - 0s - loss: 0.0062 - accuracy: 0.9986 - 24ms/epoch - 1ms/step\n",
      "Epoch 43/50\n",
      "22/22 - 0s - loss: 0.0057 - accuracy: 0.9986 - 21ms/epoch - 950us/step\n",
      "Epoch 44/50\n",
      "22/22 - 0s - loss: 0.0053 - accuracy: 0.9986 - 16ms/epoch - 710us/step\n",
      "Epoch 45/50\n",
      "22/22 - 0s - loss: 0.0051 - accuracy: 0.9986 - 26ms/epoch - 1ms/step\n",
      "Epoch 46/50\n",
      "22/22 - 0s - loss: 0.0048 - accuracy: 0.9986 - 24ms/epoch - 1ms/step\n",
      "Epoch 47/50\n",
      "22/22 - 0s - loss: 0.0046 - accuracy: 0.9986 - 29ms/epoch - 1ms/step\n",
      "Epoch 48/50\n",
      "22/22 - 0s - loss: 0.0042 - accuracy: 0.9986 - 28ms/epoch - 1ms/step\n",
      "Epoch 49/50\n",
      "22/22 - 0s - loss: 0.0041 - accuracy: 0.9986 - 31ms/epoch - 1ms/step\n",
      "Epoch 50/50\n",
      "22/22 - 0s - loss: 0.0037 - accuracy: 0.9986 - 27ms/epoch - 1ms/step\n"
     ]
    },
    {
     "data": {
      "image/png": "[encoded data removed]",
      "text/plain": [
       "<Figure size 432x288 with 1 Axes>"
      ]
     },
     "metadata": {},
     "output_type": "display_data"
    },
    {
     "name": "stdout",
     "output_type": "stream",
     "text": [
      "WARNING:tensorflow:AutoGraph could not transform <function Model.make_predict_function.<locals>.predict_function at 0x00000238CCFFC598> and will run it as-is.\n",
      "Please report this to the TensorFlow team. When filing the bug, set the verbosity to 10 (on Linux, `export AUTOGRAPH_VERBOSITY=10`) and attach the full output.\n",
      "Cause: 'arguments' object has no attribute 'posonlyargs'\n",
      "To silence this warning, decorate the function with @tf.autograph.experimental.do_not_convert\n",
      "WARNING: AutoGraph could not transform <function Model.make_predict_function.<locals>.predict_function at 0x00000238CCFFC598> and will run it as-is.\n",
      "Please report this to the TensorFlow team. When filing the bug, set the verbosity to 10 (on Linux, `export AUTOGRAPH_VERBOSITY=10`) and attach the full output.\n",
      "Cause: 'arguments' object has no attribute 'posonlyargs'\n",
      "To silence this warning, decorate the function with @tf.autograph.experimental.do_not_convert\n"
     ]
    },
    {
     "data": {
      "image/png": "[encoded data removed]",
      "text/plain": [
       "<Figure size 432x288 with 2 Axes>"
      ]
     },
     "metadata": {},
     "output_type": "display_data"
    },
    {
     "data": {
      "text/plain": [
       "<Figure size 720x504 with 0 Axes>"
      ]
     },
     "metadata": {},
     "output_type": "display_data"
    },
    {
     "name": "stdout",
     "output_type": "stream",
     "text": [
      "              precision    recall  f1-score   support\n",
      "\n",
      "           0       0.00      0.00      0.00       162\n",
      "           1       0.02      1.00      0.05         4\n",
      "\n",
      "    accuracy                           0.02       166\n",
      "   macro avg       0.01      0.50      0.02       166\n",
      "weighted avg       0.00      0.02      0.00       166\n",
      "\n"
     ]
    },
    {
     "name": "stderr",
     "output_type": "stream",
     "text": [
      "C:\\Users\\ly\\AppData\\Roaming\\Python\\Python37\\site-packages\\sklearn\\metrics\\_classification.py:1318: UndefinedMetricWarning: Precision and F-score are ill-defined and being set to 0.0 in labels with no predicted samples. Use `zero_division` parameter to control this behavior.\n",
      "  _warn_prf(average, modifier, msg_start, len(result))\n",
      "C:\\Users\\ly\\AppData\\Roaming\\Python\\Python37\\site-packages\\sklearn\\metrics\\_classification.py:1318: UndefinedMetricWarning: Precision and F-score are ill-defined and being set to 0.0 in labels with no predicted samples. Use `zero_division` parameter to control this behavior.\n",
      "  _warn_prf(average, modifier, msg_start, len(result))\n",
      "C:\\Users\\ly\\AppData\\Roaming\\Python\\Python37\\site-packages\\sklearn\\metrics\\_classification.py:1318: UndefinedMetricWarning: Precision and F-score are ill-defined and being set to 0.0 in labels with no predicted samples. Use `zero_division` parameter to control this behavior.\n",
      "  _warn_prf(average, modifier, msg_start, len(result))\n"
     ]
    },
    {
     "data": {
      "text/plain": [
       "0"
      ]
     },
     "execution_count": 95,
     "metadata": {},
     "output_type": "execute_result"
    }
   ],
   "source": [
    "# SMB Create\n",
    "datasetJSONPath = os.getcwd() + \"\\\\datasets\\\\covenant_copy_smb_CreateRequest_2020-09-22145302.json\"\n",
    "df12 = json.read_json(path_or_buf=datasetJSONPath, lines=True)\n",
    "\n",
    "features = [\"Channel\", \"EventID\", \"ShareName\", \"SubjectUserName\", \"SubjectLogonId\", \"AccessMask\", \"Image\", \"RelativeTargetName\", \"TargetFilename\"]\n",
    "df12 = df12[features]\n",
    "Y12 = labelList(df12.shape[0], [58, 57, 61, 211])\n",
    "\n",
    "gen_data12 = json.read_json(os.getcwd() + \"\\\\generated_datasets\\\\covenant_copy_smb_CreateRequest_new.json\")\n",
    "\n",
    "DNN_classifier(df12, Y12, [58, 57, 61, 211], gen_data12, hidden_layers=5, manually=True)\n"
   ]
  },
  {
   "cell_type": "code",
   "execution_count": 96,
   "metadata": {},
   "outputs": [
    {
     "name": "stdout",
     "output_type": "stream",
     "text": [
      "Epoch 1/50\n",
      "WARNING:tensorflow:AutoGraph could not transform <function Model.make_train_function.<locals>.train_function at 0x00000238CC758AE8> and will run it as-is.\n",
      "Please report this to the TensorFlow team. When filing the bug, set the verbosity to 10 (on Linux, `export AUTOGRAPH_VERBOSITY=10`) and attach the full output.\n",
      "Cause: 'arguments' object has no attribute 'posonlyargs'\n",
      "To silence this warning, decorate the function with @tf.autograph.experimental.do_not_convert\n",
      "WARNING: AutoGraph could not transform <function Model.make_train_function.<locals>.train_function at 0x00000238CC758AE8> and will run it as-is.\n",
      "Please report this to the TensorFlow team. When filing the bug, set the verbosity to 10 (on Linux, `export AUTOGRAPH_VERBOSITY=10`) and attach the full output.\n",
      "Cause: 'arguments' object has no attribute 'posonlyargs'\n",
      "To silence this warning, decorate the function with @tf.autograph.experimental.do_not_convert\n",
      "34/34 - 0s - loss: 0.5746 - accuracy: 0.8254 - 398ms/epoch - 12ms/step\n",
      "Epoch 2/50\n",
      "34/34 - 0s - loss: 0.4591 - accuracy: 0.8254 - 29ms/epoch - 867us/step\n",
      "Epoch 3/50\n",
      "34/34 - 0s - loss: 0.3529 - accuracy: 0.8254 - 30ms/epoch - 875us/step\n",
      "Epoch 4/50\n",
      "34/34 - 0s - loss: 0.2805 - accuracy: 0.8254 - 27ms/epoch - 802us/step\n",
      "Epoch 5/50\n",
      "34/34 - 0s - loss: 0.2430 - accuracy: 0.8254 - 32ms/epoch - 938us/step\n",
      "Epoch 6/50\n",
      "34/34 - 0s - loss: 0.2206 - accuracy: 0.8254 - 27ms/epoch - 809us/step\n",
      "Epoch 7/50\n",
      "34/34 - 0s - loss: 0.2037 - accuracy: 0.8254 - 31ms/epoch - 916us/step\n",
      "Epoch 8/50\n",
      "34/34 - 0s - loss: 0.1899 - accuracy: 0.8254 - 29ms/epoch - 843us/step\n",
      "Epoch 9/50\n",
      "34/34 - 0s - loss: 0.1795 - accuracy: 0.8802 - 36ms/epoch - 1ms/step\n",
      "Epoch 10/50\n",
      "34/34 - 0s - loss: 0.1694 - accuracy: 0.9517 - 31ms/epoch - 910us/step\n",
      "Epoch 11/50\n",
      "34/34 - 0s - loss: 0.1605 - accuracy: 0.9601 - 29ms/epoch - 853us/step\n",
      "Epoch 12/50\n",
      "34/34 - 0s - loss: 0.1550 - accuracy: 0.9638 - 26ms/epoch - 771us/step\n",
      "Epoch 13/50\n",
      "34/34 - 0s - loss: 0.1487 - accuracy: 0.9638 - 33ms/epoch - 956us/step\n",
      "Epoch 14/50\n",
      "34/34 - 0s - loss: 0.1423 - accuracy: 0.9731 - 37ms/epoch - 1ms/step\n",
      "Epoch 15/50\n",
      "34/34 - 0s - loss: 0.1372 - accuracy: 0.9749 - 27ms/epoch - 794us/step\n",
      "Epoch 16/50\n",
      "34/34 - 0s - loss: 0.1325 - accuracy: 0.9824 - 32ms/epoch - 929us/step\n",
      "Epoch 17/50\n",
      "34/34 - 0s - loss: 0.1285 - accuracy: 0.9796 - 27ms/epoch - 786us/step\n",
      "Epoch 18/50\n",
      "34/34 - 0s - loss: 0.1239 - accuracy: 0.9833 - 32ms/epoch - 935us/step\n",
      "Epoch 19/50\n",
      "34/34 - 0s - loss: 0.1211 - accuracy: 0.9824 - 35ms/epoch - 1ms/step\n",
      "Epoch 20/50\n",
      "34/34 - 0s - loss: 0.1176 - accuracy: 0.9833 - 26ms/epoch - 761us/step\n",
      "Epoch 21/50\n",
      "34/34 - 0s - loss: 0.1144 - accuracy: 0.9870 - 32ms/epoch - 937us/step\n",
      "Epoch 22/50\n",
      "34/34 - 0s - loss: 0.1116 - accuracy: 0.9898 - 30ms/epoch - 895us/step\n",
      "Epoch 23/50\n",
      "34/34 - 0s - loss: 0.1087 - accuracy: 0.9898 - 27ms/epoch - 800us/step\n",
      "Epoch 24/50\n",
      "34/34 - 0s - loss: 0.1066 - accuracy: 0.9898 - 30ms/epoch - 873us/step\n",
      "Epoch 25/50\n",
      "34/34 - 0s - loss: 0.1052 - accuracy: 0.9889 - 28ms/epoch - 831us/step\n",
      "Epoch 26/50\n",
      "34/34 - 0s - loss: 0.1021 - accuracy: 0.9907 - 34ms/epoch - 995us/step\n",
      "Epoch 27/50\n",
      "34/34 - 0s - loss: 0.1001 - accuracy: 0.9907 - 35ms/epoch - 1ms/step\n",
      "Epoch 28/50\n",
      "34/34 - 0s - loss: 0.0994 - accuracy: 0.9907 - 37ms/epoch - 1ms/step\n",
      "Epoch 29/50\n",
      "34/34 - 0s - loss: 0.0961 - accuracy: 0.9907 - 31ms/epoch - 903us/step\n",
      "Epoch 30/50\n",
      "34/34 - 0s - loss: 0.0942 - accuracy: 0.9907 - 34ms/epoch - 1ms/step\n",
      "Epoch 31/50\n",
      "34/34 - 0s - loss: 0.0925 - accuracy: 0.9916 - 39ms/epoch - 1ms/step\n",
      "Epoch 32/50\n",
      "34/34 - 0s - loss: 0.0908 - accuracy: 0.9916 - 24ms/epoch - 710us/step\n",
      "Epoch 33/50\n",
      "34/34 - 0s - loss: 0.0889 - accuracy: 0.9916 - 30ms/epoch - 873us/step\n",
      "Epoch 34/50\n",
      "34/34 - 0s - loss: 0.0871 - accuracy: 0.9916 - 27ms/epoch - 789us/step\n",
      "Epoch 35/50\n",
      "34/34 - 0s - loss: 0.0852 - accuracy: 0.9926 - 32ms/epoch - 947us/step\n",
      "Epoch 36/50\n",
      "34/34 - 0s - loss: 0.0832 - accuracy: 0.9926 - 31ms/epoch - 921us/step\n",
      "Epoch 37/50\n",
      "34/34 - 0s - loss: 0.0815 - accuracy: 0.9926 - 29ms/epoch - 862us/step\n",
      "Epoch 38/50\n",
      "34/34 - 0s - loss: 0.0801 - accuracy: 0.9926 - 28ms/epoch - 838us/step\n",
      "Epoch 39/50\n",
      "34/34 - 0s - loss: 0.0783 - accuracy: 0.9926 - 35ms/epoch - 1ms/step\n",
      "Epoch 40/50\n",
      "34/34 - 0s - loss: 0.0775 - accuracy: 0.9926 - 29ms/epoch - 844us/step\n",
      "Epoch 41/50\n",
      "34/34 - 0s - loss: 0.0780 - accuracy: 0.9916 - 30ms/epoch - 878us/step\n",
      "Epoch 42/50\n",
      "34/34 - 0s - loss: 0.0744 - accuracy: 0.9926 - 31ms/epoch - 900us/step\n",
      "Epoch 43/50\n",
      "34/34 - 0s - loss: 0.0731 - accuracy: 0.9926 - 30ms/epoch - 880us/step\n",
      "Epoch 44/50\n",
      "34/34 - 0s - loss: 0.0723 - accuracy: 0.9926 - 28ms/epoch - 825us/step\n",
      "Epoch 45/50\n",
      "34/34 - 0s - loss: 0.0707 - accuracy: 0.9935 - 30ms/epoch - 882us/step\n",
      "Epoch 46/50\n",
      "34/34 - 0s - loss: 0.0698 - accuracy: 0.9926 - 30ms/epoch - 888us/step\n",
      "Epoch 47/50\n",
      "34/34 - 0s - loss: 0.0696 - accuracy: 0.9926 - 25ms/epoch - 750us/step\n",
      "Epoch 48/50\n",
      "34/34 - 0s - loss: 0.0672 - accuracy: 0.9944 - 30ms/epoch - 878us/step\n",
      "Epoch 49/50\n",
      "34/34 - 0s - loss: 0.0664 - accuracy: 0.9926 - 32ms/epoch - 927us/step\n",
      "Epoch 50/50\n",
      "34/34 - 0s - loss: 0.0655 - accuracy: 0.9935 - 25ms/epoch - 745us/step\n"
     ]
    },
    {
     "data": {
      "image/png": "[encoded data removed]",
      "text/plain": [
       "<Figure size 432x288 with 1 Axes>"
      ]
     },
     "metadata": {},
     "output_type": "display_data"
    },
    {
     "name": "stdout",
     "output_type": "stream",
     "text": [
      "WARNING:tensorflow:AutoGraph could not transform <function Model.make_predict_function.<locals>.predict_function at 0x00000238B26F6A60> and will run it as-is.\n",
      "Please report this to the TensorFlow team. When filing the bug, set the verbosity to 10 (on Linux, `export AUTOGRAPH_VERBOSITY=10`) and attach the full output.\n",
      "Cause: 'arguments' object has no attribute 'posonlyargs'\n",
      "To silence this warning, decorate the function with @tf.autograph.experimental.do_not_convert\n",
      "WARNING: AutoGraph could not transform <function Model.make_predict_function.<locals>.predict_function at 0x00000238B26F6A60> and will run it as-is.\n",
      "Please report this to the TensorFlow team. When filing the bug, set the verbosity to 10 (on Linux, `export AUTOGRAPH_VERBOSITY=10`) and attach the full output.\n",
      "Cause: 'arguments' object has no attribute 'posonlyargs'\n",
      "To silence this warning, decorate the function with @tf.autograph.experimental.do_not_convert\n"
     ]
    },
    {
     "data": {
      "image/png": "[encoded data removed]",
      "text/plain": [
       "<Figure size 432x288 with 2 Axes>"
      ]
     },
     "metadata": {},
     "output_type": "display_data"
    },
    {
     "data": {
      "text/plain": [
       "<Figure size 720x504 with 0 Axes>"
      ]
     },
     "metadata": {},
     "output_type": "display_data"
    },
    {
     "name": "stdout",
     "output_type": "stream",
     "text": [
      "              precision    recall  f1-score   support\n",
      "\n",
      "           0       0.99      0.41      0.58       433\n",
      "           1       0.01      0.75      0.02         4\n",
      "\n",
      "    accuracy                           0.42       437\n",
      "   macro avg       0.50      0.58      0.30       437\n",
      "weighted avg       0.99      0.42      0.58       437\n",
      "\n"
     ]
    },
    {
     "data": {
      "text/plain": [
       "0"
      ]
     },
     "execution_count": 96,
     "metadata": {},
     "output_type": "execute_result"
    }
   ],
   "source": [
    "# Wuauclt\n",
    "datasetJSONPath = os.getcwd() + \"\\\\datasets\\\\covenant_lolbin_wuauclt_createremotethread_2020-10-12183248.json\"\n",
    "df13 = json.read_json(path_or_buf=datasetJSONPath, lines=True)\n",
    "\n",
    "features = [\"Channel\", \"EventID\", \"Image\", \"CommandLine\", \"Signed\", \"SourceImage\", \"ImageLoaded\", \"TargetFilename\", \"SourceProcessGuid\", \"ProcessGuid\"]\n",
    "df13 = df13[features]\n",
    "Y13 = labelList(df13.shape[0], [593, 612, 613, 87])\n",
    "\n",
    "gen_data13 = json.read_json(os.getcwd() + \"\\\\generated_datasets\\\\covenant_lolbin_wuauclt_createremotethread_new.json\")\n",
    "\n",
    "DNN_classifier(df13, Y13, [593, 612, 613, 87], gen_data13, hidden_layers=5, manually=True)\n"
   ]
  },
  {
   "cell_type": "markdown",
   "metadata": {},
   "source": [
    "___________________________________________________________________________"
   ]
  },
  {
   "cell_type": "markdown",
   "metadata": {},
   "source": [
    "### Normalization\n",
    "\n",
    "Z-score scaling: Standardize features by removing the mean and scaling to unit variance.\n",
    "$$x' = \\frac{x-\\mu} {\\sigma} \\$$\n"
   ]
  },
  {
   "cell_type": "code",
   "execution_count": 29,
   "metadata": {},
   "outputs": [],
   "source": [
    "# z-score scaling\n",
    "from sklearn.preprocessing import StandardScaler\n",
    "\n",
    "scaler = StandardScaler()\n",
    "X_scaled = scaler.fit_transform(X_train_new)\n",
    "X_test = scaler.fit_transform(X_test)"
   ]
  },
  {
   "cell_type": "code",
   "execution_count": 30,
   "metadata": {},
   "outputs": [],
   "source": [
    "y_train = np.array(y_train)"
   ]
  },
  {
   "cell_type": "code",
   "execution_count": 31,
   "metadata": {},
   "outputs": [
    {
     "name": "stdout",
     "output_type": "stream",
     "text": [
      "Epoch 1/50\n",
      "WARNING:tensorflow:AutoGraph could not transform <function Model.make_train_function.<locals>.train_function at 0x0000019A9C5B4400> and will run it as-is.\n",
      "Please report this to the TensorFlow team. When filing the bug, set the verbosity to 10 (on Linux, `export AUTOGRAPH_VERBOSITY=10`) and attach the full output.\n",
      "Cause: 'arguments' object has no attribute 'posonlyargs'\n",
      "To silence this warning, decorate the function with @tf.autograph.experimental.do_not_convert\n",
      "WARNING: AutoGraph could not transform <function Model.make_train_function.<locals>.train_function at 0x0000019A9C5B4400> and will run it as-is.\n",
      "Please report this to the TensorFlow team. When filing the bug, set the verbosity to 10 (on Linux, `export AUTOGRAPH_VERBOSITY=10`) and attach the full output.\n",
      "Cause: 'arguments' object has no attribute 'posonlyargs'\n",
      "To silence this warning, decorate the function with @tf.autograph.experimental.do_not_convert\n",
      "353/353 - 1s - loss: 0.3718 - accuracy: 0.9434 - auc: 0.9953 - 780ms/epoch - 2ms/step\n",
      "Epoch 2/50\n",
      "353/353 - 0s - loss: 0.2457 - accuracy: 0.9930 - auc: 0.9993 - 280ms/epoch - 794us/step\n",
      "Epoch 3/50\n",
      "353/353 - 0s - loss: 0.1890 - accuracy: 0.9978 - auc: 0.9995 - 290ms/epoch - 822us/step\n",
      "Epoch 4/50\n",
      "353/353 - 0s - loss: 0.0214 - accuracy: 0.9981 - auc: 0.9997 - 270ms/epoch - 765us/step\n",
      "Epoch 5/50\n",
      "353/353 - 0s - loss: 0.0087 - accuracy: 0.9981 - auc: 0.9997 - 290ms/epoch - 822us/step\n",
      "Epoch 6/50\n",
      "353/353 - 0s - loss: 0.0073 - accuracy: 0.9984 - auc: 0.9998 - 290ms/epoch - 821us/step\n",
      "Epoch 7/50\n",
      "353/353 - 0s - loss: 0.0061 - accuracy: 0.9985 - auc: 0.9999 - 260ms/epoch - 737us/step\n",
      "Epoch 8/50\n",
      "353/353 - 0s - loss: 0.0053 - accuracy: 0.9985 - auc: 0.9998 - 275ms/epoch - 780us/step\n",
      "Epoch 9/50\n",
      "353/353 - 0s - loss: 0.0048 - accuracy: 0.9985 - auc: 0.9999 - 260ms/epoch - 737us/step\n",
      "Epoch 10/50\n",
      "353/353 - 0s - loss: 0.0042 - accuracy: 0.9988 - auc: 0.9998 - 280ms/epoch - 794us/step\n",
      "Epoch 11/50\n",
      "353/353 - 0s - loss: 0.0042 - accuracy: 0.9987 - auc: 1.0000 - 280ms/epoch - 794us/step\n",
      "Epoch 12/50\n",
      "353/353 - 0s - loss: 0.0035 - accuracy: 0.9987 - auc: 1.0000 - 285ms/epoch - 807us/step\n",
      "Epoch 13/50\n",
      "353/353 - 0s - loss: 0.0028 - accuracy: 0.9990 - auc: 1.0000 - 275ms/epoch - 779us/step\n",
      "Epoch 14/50\n",
      "353/353 - 0s - loss: 0.0027 - accuracy: 0.9990 - auc: 1.0000 - 280ms/epoch - 792us/step\n",
      "Epoch 15/50\n",
      "353/353 - 0s - loss: 0.0022 - accuracy: 0.9988 - auc: 1.0000 - 270ms/epoch - 765us/step\n",
      "Epoch 16/50\n",
      "353/353 - 0s - loss: 0.0023 - accuracy: 0.9990 - auc: 1.0000 - 276ms/epoch - 783us/step\n",
      "Epoch 17/50\n",
      "353/353 - 0s - loss: 0.0021 - accuracy: 0.9991 - auc: 1.0000 - 304ms/epoch - 861us/step\n",
      "Epoch 18/50\n",
      "353/353 - 0s - loss: 0.0014 - accuracy: 0.9995 - auc: 1.0000 - 320ms/epoch - 906us/step\n",
      "Epoch 19/50\n",
      "353/353 - 0s - loss: 0.0016 - accuracy: 0.9995 - auc: 1.0000 - 300ms/epoch - 850us/step\n",
      "Epoch 20/50\n",
      "353/353 - 0s - loss: 0.0011 - accuracy: 0.9996 - auc: 1.0000 - 300ms/epoch - 850us/step\n",
      "Epoch 21/50\n",
      "353/353 - 0s - loss: 8.5416e-04 - accuracy: 0.9996 - auc: 1.0000 - 290ms/epoch - 821us/step\n",
      "Epoch 22/50\n",
      "353/353 - 0s - loss: 0.0014 - accuracy: 0.9997 - auc: 1.0000 - 270ms/epoch - 764us/step\n",
      "Epoch 23/50\n",
      "353/353 - 0s - loss: 0.0014 - accuracy: 0.9995 - auc: 1.0000 - 280ms/epoch - 793us/step\n",
      "Epoch 24/50\n",
      "353/353 - 0s - loss: 4.4592e-04 - accuracy: 0.9998 - auc: 1.0000 - 290ms/epoch - 822us/step\n",
      "Epoch 25/50\n",
      "353/353 - 0s - loss: 2.6562e-04 - accuracy: 1.0000 - auc: 1.0000 - 290ms/epoch - 822us/step\n",
      "Epoch 26/50\n",
      "353/353 - 0s - loss: 4.8460e-04 - accuracy: 0.9999 - auc: 1.0000 - 290ms/epoch - 821us/step\n",
      "Epoch 27/50\n",
      "353/353 - 0s - loss: 4.7636e-04 - accuracy: 0.9998 - auc: 1.0000 - 270ms/epoch - 765us/step\n",
      "Epoch 28/50\n",
      "353/353 - 0s - loss: 1.0069e-04 - accuracy: 1.0000 - auc: 1.0000 - 292ms/epoch - 828us/step\n",
      "Epoch 29/50\n",
      "353/353 - 0s - loss: 5.5752e-05 - accuracy: 1.0000 - auc: 1.0000 - 277ms/epoch - 786us/step\n",
      "Epoch 30/50\n",
      "353/353 - 0s - loss: 3.2559e-05 - accuracy: 1.0000 - auc: 1.0000 - 280ms/epoch - 794us/step\n",
      "Epoch 31/50\n",
      "353/353 - 0s - loss: 2.4211e-05 - accuracy: 1.0000 - auc: 1.0000 - 290ms/epoch - 822us/step\n",
      "Epoch 32/50\n",
      "353/353 - 0s - loss: 1.6513e-05 - accuracy: 1.0000 - auc: 1.0000 - 300ms/epoch - 850us/step\n",
      "Epoch 33/50\n",
      "353/353 - 0s - loss: 1.0445e-05 - accuracy: 1.0000 - auc: 1.0000 - 290ms/epoch - 821us/step\n",
      "Epoch 34/50\n",
      "353/353 - 0s - loss: 0.0017 - accuracy: 0.9996 - auc: 0.9999 - 290ms/epoch - 822us/step\n",
      "Epoch 35/50\n",
      "353/353 - 0s - loss: 7.3137e-04 - accuracy: 0.9998 - auc: 1.0000 - 310ms/epoch - 878us/step\n",
      "Epoch 36/50\n",
      "353/353 - 0s - loss: 6.6517e-04 - accuracy: 0.9997 - auc: 1.0000 - 300ms/epoch - 849us/step\n",
      "Epoch 37/50\n",
      "353/353 - 0s - loss: 3.5743e-04 - accuracy: 0.9998 - auc: 1.0000 - 299ms/epoch - 848us/step\n",
      "Epoch 38/50\n",
      "353/353 - 0s - loss: 6.9827e-05 - accuracy: 1.0000 - auc: 1.0000 - 310ms/epoch - 879us/step\n",
      "Epoch 39/50\n",
      "353/353 - 0s - loss: 2.8201e-05 - accuracy: 1.0000 - auc: 1.0000 - 310ms/epoch - 877us/step\n",
      "Epoch 40/50\n",
      "353/353 - 0s - loss: 0.0012 - accuracy: 0.9998 - auc: 0.9999 - 280ms/epoch - 794us/step\n",
      "Epoch 41/50\n",
      "353/353 - 0s - loss: 3.3639e-05 - accuracy: 1.0000 - auc: 1.0000 - 280ms/epoch - 794us/step\n",
      "Epoch 42/50\n",
      "353/353 - 0s - loss: 2.9244e-05 - accuracy: 1.0000 - auc: 1.0000 - 280ms/epoch - 793us/step\n",
      "Epoch 43/50\n",
      "353/353 - 0s - loss: 7.8849e-05 - accuracy: 1.0000 - auc: 1.0000 - 330ms/epoch - 935us/step\n",
      "Epoch 44/50\n",
      "353/353 - 0s - loss: 1.5538e-05 - accuracy: 1.0000 - auc: 1.0000 - 290ms/epoch - 822us/step\n",
      "Epoch 45/50\n",
      "353/353 - 0s - loss: 3.1106e-05 - accuracy: 1.0000 - auc: 1.0000 - 300ms/epoch - 849us/step\n",
      "Epoch 46/50\n",
      "353/353 - 0s - loss: 0.0012 - accuracy: 0.9997 - auc: 0.9999 - 300ms/epoch - 850us/step\n",
      "Epoch 47/50\n",
      "353/353 - 0s - loss: 1.1965e-04 - accuracy: 1.0000 - auc: 1.0000 - 298ms/epoch - 843us/step\n",
      "Epoch 48/50\n",
      "353/353 - 0s - loss: 1.4600e-05 - accuracy: 1.0000 - auc: 1.0000 - 280ms/epoch - 793us/step\n",
      "Epoch 49/50\n",
      "353/353 - 0s - loss: 1.3638e-05 - accuracy: 1.0000 - auc: 1.0000 - 290ms/epoch - 822us/step\n",
      "Epoch 50/50\n",
      "353/353 - 0s - loss: 1.1294e-05 - accuracy: 1.0000 - auc: 1.0000 - 290ms/epoch - 822us/step\n"
     ]
    },
    {
     "data": {
      "image/png": "[encoded data removed]",
      "text/plain": [
       "<Figure size 432x288 with 1 Axes>"
      ]
     },
     "metadata": {},
     "output_type": "display_data"
    }
   ],
   "source": [
    "import tensorflow as tf\n",
    "from tensorflow.keras import layers\n",
    "from tensorflow.keras.initializers import GlorotUniform\n",
    "from tensorflow.keras.optimizers import Adam\n",
    "\n",
    "# Define the input shape\n",
    "input_shape = (8,)\n",
    "\n",
    "# Neuron counts for the first hidden layer were three times the number of input neurons needed for the feature vector,\n",
    "# The neuron counts for subsequent hidden layers were half od the preceding layer\n",
    "\n",
    "# Define the number of neurons in each hidden layer\n",
    "hidden_counts = [24, 12, 6, 3]\n",
    "\n",
    "# Define the number of output neurons\n",
    "num_classes = 1\n",
    "\n",
    "# Define the activation function for the hidden layers\n",
    "activation_fn = 'relu'\n",
    "\n",
    "# Define the weight initializer\n",
    "initializer = GlorotUniform(seed=42)\n",
    "\n",
    "# Define the optimizer\n",
    "optimizer = Adam()\n",
    "\n",
    "# Define the model architecture\n",
    "model = tf.keras.Sequential()\n",
    "\n",
    "# Add the input layer\n",
    "model.add(layers.InputLayer(input_shape=input_shape))\n",
    "\n",
    "# Add the hidden layers\n",
    "for i, count in enumerate(hidden_counts):\n",
    "    model.add(layers.Dense(count, activation=activation_fn, kernel_initializer=initializer, name=f'hidden_{i+1}'))\n",
    "\n",
    "# Add the output layer\n",
    "# model.add(layers.Dense(num_classes, activation='softmax', kernel_initializer=initializer, name='output'))\n",
    "model.add(layers.Dense(num_classes, activation='sigmoid', kernel_initializer=initializer, name='output'))\n",
    "\n",
    "\n",
    "# Compile the model\n",
    "# model.compile(optimizer=optimizer, loss='categorical_crossentropy', metrics=['accuracy'])\n",
    "model.compile(optimizer=optimizer, loss='binary_crossentropy', metrics=['accuracy', 'AUC'])\n",
    "\n",
    "hist = model.fit(X_train_new, y_train, verbose=2, epochs=50)\n",
    "plt.plot(hist.history['accuracy'])\n",
    "plt.show()"
   ]
  },
  {
   "cell_type": "code",
   "execution_count": 34,
   "metadata": {},
   "outputs": [
    {
     "data": {
      "image/png": "[encoded data removed]",
      "text/plain": [
       "<Figure size 432x288 with 2 Axes>"
      ]
     },
     "metadata": {},
     "output_type": "display_data"
    },
    {
     "data": {
      "text/plain": [
       "<Figure size 720x504 with 0 Axes>"
      ]
     },
     "metadata": {},
     "output_type": "display_data"
    },
    {
     "name": "stdout",
     "output_type": "stream",
     "text": [
      "              precision    recall  f1-score   support\n",
      "\n",
      "           0       1.00      0.50      0.66      2789\n",
      "           1       0.00      0.75      0.00         4\n",
      "\n",
      "    accuracy                           0.50      2793\n",
      "   macro avg       0.50      0.62      0.33      2793\n",
      "weighted avg       1.00      0.50      0.66      2793\n",
      "\n"
     ]
    }
   ],
   "source": [
    "# prediction\n",
    "from sklearn import metrics\n",
    "\n",
    "y_predict = model.predict(X_test)\n",
    "y_predict_class = np.where(y_predict >= 0.5, 1, 0) # use 0.5 as threshold\n",
    "draw_confusionMatrix(y_test, y_predict_class)"
   ]
  },
  {
   "cell_type": "markdown",
   "metadata": {},
   "source": [
    "------------------------------------------------------"
   ]
  }
 ],
 "metadata": {
  "kernelspec": {
   "display_name": "Python 3",
   "language": "python",
   "name": "python3"
  },
  "language_info": {
   "codemirror_mode": {
    "name": "ipython",
    "version": 3
   },
   "file_extension": ".py",
   "mimetype": "text/x-python",
   "name": "python",
   "nbconvert_exporter": "python",
   "pygments_lexer": "ipython3",
   "version": "3.7.3"
  }
 },
 "nbformat": 4,
 "nbformat_minor": 2
}
