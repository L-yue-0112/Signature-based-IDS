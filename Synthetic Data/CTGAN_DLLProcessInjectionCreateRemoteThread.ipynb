{
 "cells": [
  {
   "cell_type": "code",
   "execution_count": 1,
   "metadata": {},
   "outputs": [
    {
     "name": "stderr",
     "output_type": "stream",
     "text": [
      "C:\\Users\\ly\\AppData\\Roaming\\Python\\Python37\\site-packages\\numpy\\_distributor_init.py:32: UserWarning: loaded more than 1 DLL from .libs:\n",
      "C:\\Users\\ly\\AppData\\Roaming\\Python\\Python37\\site-packages\\numpy\\.libs\\libopenblas.GK7GX5KEQ4F6UYO3P26ULGBQYHGQO7J4.gfortran-win_amd64.dll\n",
      "C:\\Users\\ly\\AppData\\Roaming\\Python\\Python37\\site-packages\\numpy\\.libs\\libopenblas.PYQHXLVVQ7VESDPUVUADXEVJOBGHJPAY.gfortran-win_amd64.dll\n",
      "  stacklevel=1)\n"
     ]
    },
    {
     "data": {
      "text/plain": [
       "(12200, 192)"
      ]
     },
     "execution_count": 1,
     "metadata": {},
     "output_type": "execute_result"
    }
   ],
   "source": [
    "import os\n",
    "import pandas as pd\n",
    "import numpy as np\n",
    "import tensorflow as tf\n",
    "from pandas.io import json\n",
    "from tensorflow import keras\n",
    "from tensorflow.keras import layers\n",
    "from sklearn import preprocessing\n",
    "\n",
    "datasetJSONPath = os.getcwd() + \"\\\\datasets\\\\empire_dllinjection_LoadLibrary_CreateRemoteThread_2020-07-22000048.json\"\n",
    "df = json.read_json(path_or_buf=datasetJSONPath, lines=True)\n",
    "\n",
    "df.shape"
   ]
  },
  {
   "cell_type": "code",
   "execution_count": 25,
   "metadata": {},
   "outputs": [],
   "source": [
    "# functions definition\n",
    "\n",
    "from collections import Counter\n",
    "import seaborn as sns\n",
    "from sklearn import metrics\n",
    "import matplotlib.pyplot as plt\n",
    "\n",
    "# Convert integers to strings\n",
    "def int_to_str(df):\n",
    "    for column in df.columns:\n",
    "        # if dtype is int, convert to string , e.g. EventID\n",
    "        if isinstance(df[column][0], (int, np.int32, np.int64)):\n",
    "            df[column] = list(map(str, df[column]))\n",
    "            \n",
    "    return df\n",
    "    \n",
    "# Count NaN in each column in the dataframe\n",
    "def count_nan(df):\n",
    "    for column in df.columns:\n",
    "        num = df[column].isna().sum()\n",
    "        print(column, str(num))\n",
    "    return 0\n",
    "\n",
    "# make a label list of all 0, except the detected threat are 1\n",
    "def labelList(num, threatIndices):\n",
    "    y = [0 for x in range(num)]\n",
    "    for i in threatIndices:\n",
    "        y[i] =  1\n",
    "    return y\n",
    "\n",
    "# Count the items in data frame\n",
    "def count_items(df):\n",
    "    for column in df.columns:\n",
    "        item = df[column]\n",
    "        print(column, \": \", sorted(Counter(item).items()))\n",
    "        \n",
    "    return 0\n",
    "\n",
    "# replicate specified data to the end of the dataset\n",
    "def pd_replicate(X, y, rep_list, times=1):\n",
    "    for index in rep_list:\n",
    "        for i in range(times):\n",
    "            \n",
    "            X = pd.concat([X, pd.DataFrame(X.iloc[index]).T], axis=0, ignore_index=True)\n",
    "\n",
    "            y.append(1)\n",
    "    \n",
    "    return (X, y)\n",
    "    \n",
    "# convert object items in the list into strings\n",
    "def preprocess_labelEncoder(df):\n",
    "    \n",
    "    # replace NAN with 0\n",
    "    df = df.replace(np.nan, 0, regex=True)\n",
    "    le = preprocessing.LabelEncoder()\n",
    "    \n",
    "    for column in df.columns:            \n",
    "#         # if dtype is int, does not need to convert to string , e.g. EventID\n",
    "#         if isinstance(df[column][0], int) and df[column][0] != 0:\n",
    "#             le.fit(df[column])\n",
    "#             df[column] = le.transform(df[column])\n",
    "            \n",
    "        # convert to list of strings and use label encoder to label\n",
    "#         else:\n",
    "        df[column] = list(map(str, df[column]))\n",
    "        le.fit(df[column])\n",
    "        df[column] = le.transform(df[column])\n",
    "            \n",
    "    return df\n",
    "\n",
    "# convert object items in the list into strings\n",
    "def preprocess(df):\n",
    "    \n",
    "    # replace NAN with 0\n",
    "    df = df.replace(np.nan, 0, regex=True)\n",
    "    \n",
    "    for column in df.columns:            \n",
    "        df[column] = list(map(str, df[column]))            \n",
    "    return df\n",
    "\n",
    "# fit the dataframe and record the label encoders for each column\n",
    "def labelEncoder_get(df):\n",
    "    le_dict = {}\n",
    "    for column in df.columns:\n",
    "        le = preprocessing.LabelEncoder()\n",
    "        le.fit(df[column])\n",
    "        df[column] = le.transform(df[column])\n",
    "        le_dict[column] = le\n",
    "    return (df, le_dict)\n",
    "\n",
    "# input the list of label encoders and transform the dataframe\n",
    "def labelEncoder_trans(df, le_dict):\n",
    "    for i, column in enumerate(df.columns):\n",
    "        le = le_dict[column]\n",
    "        df[column] = list(map(str, df[column]))\n",
    "        df[column] = le.transform(df[column])\n",
    "    return df\n",
    "\n",
    "# draw confusin matrix and print the classification report\n",
    "def draw_confusionMatrix(y_test, y_predict):\n",
    "    confusion_matrix = metrics.confusion_matrix(y_test, y_predict)\n",
    "    matrix_df = pd.DataFrame(confusion_matrix)\n",
    "    ax = plt.axes()\n",
    "    sns.set(font_scale=1.3)\n",
    "    plt.figure(figsize=(10, 7))\n",
    "    sns.heatmap(matrix_df, annot=True, fmt=\"g\", ax=ax, cmap=\"magma\")\n",
    "    ax.set_title('Confusion Matrix - Decision Tree')\n",
    "    ax.set_xlabel(\"Predicted Label\", fontsize=15)\n",
    "    ax.set_ylabel(\"Actual Label\", fontsize=15)\n",
    "    plt.show()\n",
    "    print(metrics.classification_report(y_test, y_predict))\n",
    "    \n",
    "\n",
    "# Randomly pick data from results and combine them\n",
    "def random_generator(data_list, pick_nums):\n",
    "    \n",
    "    generated_data = pd.DataFrame()\n",
    "    \n",
    "    for i, data in enumerate(data_list):\n",
    "        num = pick_nums[i]\n",
    "        data_selected = data.sample(num)\n",
    "        generated_data = pd.concat([generated_data, data_selected], axis=0, ignore_index=True)\n",
    "    \n",
    "    return generated_data\n",
    "    "
   ]
  },
  {
   "cell_type": "code",
   "execution_count": 16,
   "metadata": {},
   "outputs": [
    {
     "data": {
      "text/html": [
       "<div>\n",
       "<style scoped>\n",
       "    .dataframe tbody tr th:only-of-type {\n",
       "        vertical-align: middle;\n",
       "    }\n",
       "\n",
       "    .dataframe tbody tr th {\n",
       "        vertical-align: top;\n",
       "    }\n",
       "\n",
       "    .dataframe thead th {\n",
       "        text-align: right;\n",
       "    }\n",
       "</style>\n",
       "<table border=\"1\" class=\"dataframe\">\n",
       "  <thead>\n",
       "    <tr style=\"text-align: right;\">\n",
       "      <th></th>\n",
       "      <th>Channel</th>\n",
       "      <th>EventID</th>\n",
       "      <th>StartModule</th>\n",
       "      <th>StartFunction</th>\n",
       "      <th>TargetFilename</th>\n",
       "      <th>ImageLoaded</th>\n",
       "      <th>Hostname</th>\n",
       "    </tr>\n",
       "  </thead>\n",
       "  <tbody>\n",
       "    <tr>\n",
       "      <th>0</th>\n",
       "      <td>Security</td>\n",
       "      <td>5156</td>\n",
       "      <td>NaN</td>\n",
       "      <td>NaN</td>\n",
       "      <td>NaN</td>\n",
       "      <td>NaN</td>\n",
       "      <td>MORDORDC.mordor.local</td>\n",
       "    </tr>\n",
       "    <tr>\n",
       "      <th>1</th>\n",
       "      <td>Security</td>\n",
       "      <td>5156</td>\n",
       "      <td>NaN</td>\n",
       "      <td>NaN</td>\n",
       "      <td>NaN</td>\n",
       "      <td>NaN</td>\n",
       "      <td>MORDORDC.mordor.local</td>\n",
       "    </tr>\n",
       "    <tr>\n",
       "      <th>2</th>\n",
       "      <td>Security</td>\n",
       "      <td>5156</td>\n",
       "      <td>NaN</td>\n",
       "      <td>NaN</td>\n",
       "      <td>NaN</td>\n",
       "      <td>NaN</td>\n",
       "      <td>MORDORDC.mordor.local</td>\n",
       "    </tr>\n",
       "    <tr>\n",
       "      <th>3</th>\n",
       "      <td>Security</td>\n",
       "      <td>5156</td>\n",
       "      <td>NaN</td>\n",
       "      <td>NaN</td>\n",
       "      <td>NaN</td>\n",
       "      <td>NaN</td>\n",
       "      <td>MORDORDC.mordor.local</td>\n",
       "    </tr>\n",
       "    <tr>\n",
       "      <th>4</th>\n",
       "      <td>Security</td>\n",
       "      <td>5156</td>\n",
       "      <td>NaN</td>\n",
       "      <td>NaN</td>\n",
       "      <td>NaN</td>\n",
       "      <td>NaN</td>\n",
       "      <td>MORDORDC.mordor.local</td>\n",
       "    </tr>\n",
       "  </tbody>\n",
       "</table>\n",
       "</div>"
      ],
      "text/plain": [
       "    Channel EventID StartModule StartFunction TargetFilename ImageLoaded  \\\n",
       "0  Security    5156         NaN           NaN            NaN         NaN   \n",
       "1  Security    5156         NaN           NaN            NaN         NaN   \n",
       "2  Security    5156         NaN           NaN            NaN         NaN   \n",
       "3  Security    5156         NaN           NaN            NaN         NaN   \n",
       "4  Security    5156         NaN           NaN            NaN         NaN   \n",
       "\n",
       "                Hostname  \n",
       "0  MORDORDC.mordor.local  \n",
       "1  MORDORDC.mordor.local  \n",
       "2  MORDORDC.mordor.local  \n",
       "3  MORDORDC.mordor.local  \n",
       "4  MORDORDC.mordor.local  "
      ]
     },
     "execution_count": 16,
     "metadata": {},
     "output_type": "execute_result"
    }
   ],
   "source": [
    "features = [\"Channel\", \"EventID\", \"StartModule\", \"StartFunction\", \"TargetFilename\", \"ImageLoaded\", \"Hostname\"]\n",
    "df = df[features]\n",
    "\n",
    "# change integers to strings to get a better performance in generating new data\n",
    "df = int_to_str(df)\n",
    "df.head()"
   ]
  },
  {
   "cell_type": "markdown",
   "metadata": {},
   "source": [
    "## Replicate positive data\n",
    "\n",
    "There are more negative data than positive data, and results from some analytics (e.g. analytics with merging) are less possible to be generated. So we replicate specific positive data to make CTGAN bias to them."
   ]
  },
  {
   "cell_type": "code",
   "execution_count": 39,
   "metadata": {},
   "outputs": [
    {
     "data": {
      "text/plain": [
       "(12200, 7)"
      ]
     },
     "execution_count": 39,
     "metadata": {},
     "output_type": "execute_result"
    }
   ],
   "source": [
    "# df\n",
    "# y = labelList(X.shape[0], [496])\n",
    "\n",
    "# # replicate positive data 50 times\n",
    "# # X, y = pd_replicate(X, y, [61, 211], 50)\n",
    "# df.shape"
   ]
  },
  {
   "cell_type": "markdown",
   "metadata": {},
   "source": [
    "## Use CTGAN to generate new data"
   ]
  },
  {
   "cell_type": "code",
   "execution_count": 6,
   "metadata": {},
   "outputs": [],
   "source": [
    "from sdv.tabular import CTGAN\n",
    "\n",
    "# model = CTGAN()\n",
    "# model.fit(X)\n",
    "\n",
    "# save and reuse the model\n",
    "# model.save('DLLProcessInjectionCreateRemoteThread.pkl')\n",
    "\n",
    "model = CTGAN.load(r'models\\\\DLLProcessInjectionCreateRemoteThread.pkl')"
   ]
  },
  {
   "cell_type": "code",
   "execution_count": 7,
   "metadata": {},
   "outputs": [
    {
     "data": {
      "text/html": [
       "<div>\n",
       "<style scoped>\n",
       "    .dataframe tbody tr th:only-of-type {\n",
       "        vertical-align: middle;\n",
       "    }\n",
       "\n",
       "    .dataframe tbody tr th {\n",
       "        vertical-align: top;\n",
       "    }\n",
       "\n",
       "    .dataframe thead th {\n",
       "        text-align: right;\n",
       "    }\n",
       "</style>\n",
       "<table border=\"1\" class=\"dataframe\">\n",
       "  <thead>\n",
       "    <tr style=\"text-align: right;\">\n",
       "      <th></th>\n",
       "      <th>Channel</th>\n",
       "      <th>EventID</th>\n",
       "      <th>StartModule</th>\n",
       "      <th>StartFunction</th>\n",
       "      <th>TargetFilename</th>\n",
       "      <th>ImageLoaded</th>\n",
       "      <th>Hostname</th>\n",
       "    </tr>\n",
       "  </thead>\n",
       "  <tbody>\n",
       "    <tr>\n",
       "      <th>0</th>\n",
       "      <td>Security</td>\n",
       "      <td>13</td>\n",
       "      <td>NaN</td>\n",
       "      <td>NaN</td>\n",
       "      <td>NaN</td>\n",
       "      <td>NaN</td>\n",
       "      <td>WORKSTATION6.mordor.local</td>\n",
       "    </tr>\n",
       "    <tr>\n",
       "      <th>1</th>\n",
       "      <td>Microsoft-Windows-Sysmon/Operational</td>\n",
       "      <td>7</td>\n",
       "      <td>NaN</td>\n",
       "      <td>NaN</td>\n",
       "      <td>NaN</td>\n",
       "      <td>C:\\Windows\\System32\\perfos.dll</td>\n",
       "      <td>MORDORDC.mordor.local</td>\n",
       "    </tr>\n",
       "    <tr>\n",
       "      <th>2</th>\n",
       "      <td>Security</td>\n",
       "      <td>4656</td>\n",
       "      <td>NaN</td>\n",
       "      <td>NaN</td>\n",
       "      <td>NaN</td>\n",
       "      <td>NaN</td>\n",
       "      <td>MORDORDC.mordor.local</td>\n",
       "    </tr>\n",
       "    <tr>\n",
       "      <th>3</th>\n",
       "      <td>Microsoft-Windows-Sysmon/Operational</td>\n",
       "      <td>13</td>\n",
       "      <td>NaN</td>\n",
       "      <td>NaN</td>\n",
       "      <td>NaN</td>\n",
       "      <td>NaN</td>\n",
       "      <td>MORDORDC.mordor.local</td>\n",
       "    </tr>\n",
       "    <tr>\n",
       "      <th>4</th>\n",
       "      <td>Windows PowerShell</td>\n",
       "      <td>800</td>\n",
       "      <td>NaN</td>\n",
       "      <td>NaN</td>\n",
       "      <td>NaN</td>\n",
       "      <td>NaN</td>\n",
       "      <td>MORDORDC.mordor.local</td>\n",
       "    </tr>\n",
       "  </tbody>\n",
       "</table>\n",
       "</div>"
      ],
      "text/plain": [
       "                                Channel EventID StartModule StartFunction  \\\n",
       "0                              Security      13         NaN           NaN   \n",
       "1  Microsoft-Windows-Sysmon/Operational       7         NaN           NaN   \n",
       "2                              Security    4656         NaN           NaN   \n",
       "3  Microsoft-Windows-Sysmon/Operational      13         NaN           NaN   \n",
       "4                    Windows PowerShell     800         NaN           NaN   \n",
       "\n",
       "  TargetFilename                     ImageLoaded                   Hostname  \n",
       "0            NaN                             NaN  WORKSTATION6.mordor.local  \n",
       "1            NaN  C:\\Windows\\System32\\perfos.dll      MORDORDC.mordor.local  \n",
       "2            NaN                             NaN      MORDORDC.mordor.local  \n",
       "3            NaN                             NaN      MORDORDC.mordor.local  \n",
       "4            NaN                             NaN      MORDORDC.mordor.local  "
      ]
     },
     "execution_count": 7,
     "metadata": {},
     "output_type": "execute_result"
    }
   ],
   "source": [
    "new_data = model.sample(num_rows=1000000)\n",
    "new_data.head()"
   ]
  },
  {
   "cell_type": "code",
   "execution_count": 29,
   "metadata": {},
   "outputs": [
    {
     "name": "stdout",
     "output_type": "stream",
     "text": [
      "Channel :  [(0, 849), (1, 5320), (2, 11), (3, 5212), (4, 2), (5, 806)]\n",
      "EventID :  [(0, 8), (1, 424), (2, 31), (3, 3706), (4, 247), (5, 2), (6, 53), (7, 3), (8, 4), (9, 206), (10, 1), (11, 744), (12, 104), (13, 26), (14, 26), (15, 19), (16, 670), (17, 1355), (18, 16), (19, 1), (20, 638), (21, 9), (22, 26), (23, 40), (24, 8), (25, 12), (26, 670), (27, 2), (28, 225), (29, 2), (30, 10), (31, 1), (32, 12), (33, 2), (34, 2), (35, 1), (36, 2), (37, 1186), (38, 263), (39, 1), (40, 11), (41, 8), (42, 570), (43, 2), (44, 1), (45, 797), (46, 53)]\n",
      "StartModule :  [(0, 12199), (1, 1)]\n",
      "StartFunction :  [(0, 12199), (1, 1)]\n",
      "TargetFilename :  [(0, 12165), (1, 2), (2, 2), (3, 1), (4, 1), (5, 1), (6, 1), (7, 1), (8, 1), (9, 1), (10, 6), (11, 6), (12, 1), (13, 1), (14, 4), (15, 1), (16, 1), (17, 2), (18, 2)]\n",
      "ImageLoaded :  [(0, 11630), (1, 1), (2, 1), (3, 1), (4, 1), (5, 1), (6, 2), (7, 2), (8, 2), (9, 1), (10, 1), (11, 1), (12, 2), (13, 1), (14, 1), (15, 1), (16, 1), (17, 1), (18, 1), (19, 1), (20, 17), (21, 2), (22, 8), (23, 1), (24, 1), (25, 2), (26, 2), (27, 2), (28, 2), (29, 1), (30, 2), (31, 1), (32, 7), (33, 2), (34, 7), (35, 8), (36, 1), (37, 1), (38, 1), (39, 2), (40, 8), (41, 8), (42, 2), (43, 5), (44, 3), (45, 1), (46, 3), (47, 1), (48, 3), (49, 3), (50, 4), (51, 2), (52, 2), (53, 1), (54, 2), (55, 17), (56, 1), (57, 1), (58, 2), (59, 1), (60, 8), (61, 8), (62, 2), (63, 1), (64, 1), (65, 1), (66, 8), (67, 8), (68, 1), (69, 1), (70, 2), (71, 4), (72, 1), (73, 3), (74, 3), (75, 5), (76, 2), (77, 2), (78, 8), (79, 1), (80, 8), (81, 1), (82, 4), (83, 2), (84, 1), (85, 3), (86, 2), (87, 2), (88, 2), (89, 2), (90, 8), (91, 2), (92, 5), (93, 8), (94, 15), (95, 5), (96, 1), (97, 2), (98, 3), (99, 1), (100, 2), (101, 1), (102, 1), (103, 8), (104, 3), (105, 1), (106, 1), (107, 9), (108, 3), (109, 4), (110, 1), (111, 2), (112, 2), (113, 1), (114, 1), (115, 1), (116, 1), (117, 1), (118, 1), (119, 1), (120, 1), (121, 6), (122, 1), (123, 1), (124, 2), (125, 2), (126, 1), (127, 9), (128, 2), (129, 1), (130, 2), (131, 9), (132, 4), (133, 5), (134, 1), (135, 1), (136, 1), (137, 3), (138, 1), (139, 1), (140, 1), (141, 1), (142, 4), (143, 1), (144, 1), (145, 1), (146, 4), (147, 1), (148, 1), (149, 4), (150, 4), (151, 1), (152, 4), (153, 4), (154, 1), (155, 8), (156, 2), (157, 1), (158, 1), (159, 2), (160, 7), (161, 6), (162, 2), (163, 2), (164, 17), (165, 3), (166, 5), (167, 2), (168, 2), (169, 4), (170, 1), (171, 1), (172, 1), (173, 1), (174, 1), (175, 2), (176, 1), (177, 1), (178, 1), (179, 1), (180, 1), (181, 1), (182, 1), (183, 1), (184, 1), (185, 1), (186, 1), (187, 1), (188, 1), (189, 1), (190, 1), (191, 1), (192, 1), (193, 1), (194, 1), (195, 1), (196, 1), (197, 1), (198, 1), (199, 1), (200, 1), (201, 1), (202, 1), (203, 1), (204, 1), (205, 1), (206, 1), (207, 1), (208, 1), (209, 1), (210, 1), (211, 1), (212, 1), (213, 1), (214, 1), (215, 1), (216, 1), (217, 1), (218, 1), (219, 1), (220, 1), (221, 1), (222, 1), (223, 1), (224, 1), (225, 1), (226, 1), (227, 1), (228, 1), (229, 3), (230, 1)]\n",
      "Hostname :  [(0, 10235), (1, 1553), (2, 412)]\n",
      "Channel :  [(0, 29253), (1, 659231), (2, 2120), (3, 232710), (4, 457), (5, 76229)]\n",
      "EventID :  [(0, 194), (1, 20878), (2, 106893), (3, 104949), (4, 65326), (5, 334), (6, 1364), (7, 90), (8, 32133), (9, 3666), (10, 108), (11, 25663), (12, 3001), (13, 324), (14, 354), (15, 435), (16, 19851), (17, 50720), (18, 168), (19, 153), (20, 10097), (21, 170), (22, 775), (23, 2476), (24, 111), (25, 748), (26, 49407), (27, 233), (28, 3617), (29, 389), (30, 102), (31, 277), (32, 355), (33, 40), (34, 102), (35, 67), (36, 111), (37, 66489), (38, 3415), (39, 197), (40, 644), (41, 311), (42, 165942), (43, 473), (44, 198251), (45, 56527), (46, 2070)]\n",
      "StartModule :  [(0, 811943), (1, 188057)]\n",
      "StartFunction :  [(0, 789414), (1, 210586)]\n",
      "TargetFilename :  [(0, 857011), (1, 60739), (2, 9463), (3, 29), (4, 55), (5, 29), (6, 28), (7, 159), (8, 103), (9, 30), (10, 10064), (11, 202), (12, 61589), (13, 51), (14, 199), (15, 74), (16, 52), (17, 34), (18, 89)]\n",
      "ImageLoaded :  [(0, 824171), (1, 37), (2, 182), (3, 37), (4, 73), (5, 29), (6, 49), (7, 66), (8, 137), (9, 14), (10, 99), (11, 23), (12, 77), (13, 19), (14, 35), (15, 27), (16, 54), (17, 14), (18, 13), (19, 6), (20, 816), (21, 203), (22, 325), (23, 24), (24, 20), (25, 32), (26, 69), (27, 37), (28, 154), (29, 187), (30, 117), (31, 141), (32, 1912), (33, 217), (34, 302), (35, 936), (36, 40), (37, 49), (38, 60), (39, 30), (40, 1054), (41, 276), (42, 165), (43, 647), (44, 31), (45, 38), (46, 15), (47, 67), (48, 113), (49, 118), (50, 576), (51, 19), (52, 100), (53, 20), (54, 81), (55, 10318), (56, 10), (57, 119), (58, 292), (59, 102), (60, 778), (61, 292), (62, 305), (63, 19), (64, 31), (65, 20), (66, 446), (67, 741), (68, 79), (69, 51), (70, 39), (71, 41), (72, 20), (73, 97), (74, 92), (75, 50), (76, 287), (77, 30), (78, 99), (79, 43), (80, 514), (81, 50), (82, 285), (83, 43), (84, 70), (85, 42), (86, 44), (87, 21), (88, 68), (89, 159), (90, 637), (91, 232), (92, 177), (93, 934), (94, 11078), (95, 61114), (96, 16), (97, 109), (98, 87), (99, 4), (100, 256), (101, 10), (102, 4), (103, 903), (104, 32), (105, 35), (106, 125), (107, 859), (108, 38), (109, 259), (110, 21), (111, 126), (112, 45), (113, 589), (114, 29), (115, 28), (116, 21), (117, 49), (118, 15), (119, 24), (120, 13), (121, 316), (122, 39), (123, 59), (124, 38), (125, 53), (126, 26), (127, 527), (128, 118), (129, 58), (130, 128), (131, 1595), (132, 427), (133, 826), (134, 9), (135, 42), (136, 35), (137, 84), (138, 52), (139, 69), (140, 89), (141, 81), (142, 117), (143, 24), (144, 18), (145, 26), (146, 88), (147, 52), (148, 42), (149, 107), (150, 103), (151, 33), (152, 420), (153, 268), (154, 169), (155, 214), (156, 58), (157, 61), (158, 12), (159, 64), (160, 232), (161, 979), (162, 79), (163, 18), (164, 59456), (165, 42), (166, 378), (167, 51), (168, 98), (169, 348), (170, 15), (171, 138), (172, 24), (173, 20), (174, 118), (175, 28), (176, 14), (177, 99), (178, 21), (179, 26), (180, 7), (181, 5), (182, 57), (183, 26), (184, 35), (185, 20), (186, 32), (187, 95), (188, 12), (189, 20), (190, 136), (191, 137), (192, 12), (193, 45), (194, 36), (195, 20), (196, 53), (197, 62), (198, 227), (199, 88), (200, 86), (201, 50), (202, 21), (203, 22), (204, 22), (205, 33), (206, 24), (207, 24), (208, 62), (209, 162), (210, 49), (211, 19), (212, 27), (213, 106), (214, 54), (215, 74), (216, 17), (217, 45), (218, 114), (219, 350), (220, 42), (221, 12), (222, 31), (223, 101), (224, 385), (225, 96), (226, 69), (227, 41), (228, 22), (229, 142), (230, 123)]\n",
      "Hostname :  [(0, 567247), (1, 353518), (2, 79235)]\n"
     ]
    },
    {
     "data": {
      "text/plain": [
       "0"
      ]
     },
     "execution_count": 29,
     "metadata": {},
     "output_type": "execute_result"
    }
   ],
   "source": [
    "# # for debugging only\n",
    "# count_items(preprocess_labelEncoder(df))\n",
    "# count_items(preprocess_labelEncoder(new_data))"
   ]
  },
  {
   "cell_type": "markdown",
   "metadata": {},
   "source": [
    "## Use hunter program on new data"
   ]
  },
  {
   "cell_type": "code",
   "execution_count": 9,
   "metadata": {},
   "outputs": [
    {
     "data": {
      "text/html": [
       "<div>\n",
       "<style scoped>\n",
       "    .dataframe tbody tr th:only-of-type {\n",
       "        vertical-align: middle;\n",
       "    }\n",
       "\n",
       "    .dataframe tbody tr th {\n",
       "        vertical-align: top;\n",
       "    }\n",
       "\n",
       "    .dataframe thead th {\n",
       "        text-align: right;\n",
       "    }\n",
       "</style>\n",
       "<table border=\"1\" class=\"dataframe\">\n",
       "  <thead>\n",
       "    <tr style=\"text-align: right;\">\n",
       "      <th></th>\n",
       "      <th>Channel</th>\n",
       "      <th>EventID</th>\n",
       "      <th>StartModule</th>\n",
       "      <th>StartFunction</th>\n",
       "      <th>TargetFilename</th>\n",
       "      <th>ImageLoaded</th>\n",
       "      <th>Hostname</th>\n",
       "    </tr>\n",
       "  </thead>\n",
       "  <tbody>\n",
       "    <tr>\n",
       "      <th>12</th>\n",
       "      <td>Microsoft-Windows-Sysmon/Operational</td>\n",
       "      <td>8</td>\n",
       "      <td>C:\\windows\\System32\\KERNEL32.DLL</td>\n",
       "      <td>LoadLibraryA</td>\n",
       "      <td>NaN</td>\n",
       "      <td>NaN</td>\n",
       "      <td>WORKSTATION5.mordor.local</td>\n",
       "    </tr>\n",
       "    <tr>\n",
       "      <th>18</th>\n",
       "      <td>Microsoft-Windows-Sysmon/Operational</td>\n",
       "      <td>8</td>\n",
       "      <td>C:\\windows\\System32\\KERNEL32.DLL</td>\n",
       "      <td>LoadLibraryA</td>\n",
       "      <td>NaN</td>\n",
       "      <td>NaN</td>\n",
       "      <td>WORKSTATION5.mordor.local</td>\n",
       "    </tr>\n",
       "    <tr>\n",
       "      <th>23</th>\n",
       "      <td>Microsoft-Windows-Sysmon/Operational</td>\n",
       "      <td>8</td>\n",
       "      <td>C:\\windows\\System32\\KERNEL32.DLL</td>\n",
       "      <td>LoadLibraryA</td>\n",
       "      <td>NaN</td>\n",
       "      <td>NaN</td>\n",
       "      <td>WORKSTATION5.mordor.local</td>\n",
       "    </tr>\n",
       "    <tr>\n",
       "      <th>30</th>\n",
       "      <td>Microsoft-Windows-Sysmon/Operational</td>\n",
       "      <td>8</td>\n",
       "      <td>C:\\windows\\System32\\KERNEL32.DLL</td>\n",
       "      <td>LoadLibraryA</td>\n",
       "      <td>NaN</td>\n",
       "      <td>NaN</td>\n",
       "      <td>WORKSTATION5.mordor.local</td>\n",
       "    </tr>\n",
       "    <tr>\n",
       "      <th>39</th>\n",
       "      <td>Microsoft-Windows-Sysmon/Operational</td>\n",
       "      <td>8</td>\n",
       "      <td>C:\\windows\\System32\\KERNEL32.DLL</td>\n",
       "      <td>LoadLibraryA</td>\n",
       "      <td>NaN</td>\n",
       "      <td>NaN</td>\n",
       "      <td>WORKSTATION5.mordor.local</td>\n",
       "    </tr>\n",
       "    <tr>\n",
       "      <th>...</th>\n",
       "      <td>...</td>\n",
       "      <td>...</td>\n",
       "      <td>...</td>\n",
       "      <td>...</td>\n",
       "      <td>...</td>\n",
       "      <td>...</td>\n",
       "      <td>...</td>\n",
       "    </tr>\n",
       "    <tr>\n",
       "      <th>999951</th>\n",
       "      <td>Microsoft-Windows-Sysmon/Operational</td>\n",
       "      <td>8</td>\n",
       "      <td>C:\\windows\\System32\\KERNEL32.DLL</td>\n",
       "      <td>LoadLibraryA</td>\n",
       "      <td>NaN</td>\n",
       "      <td>NaN</td>\n",
       "      <td>WORKSTATION5.mordor.local</td>\n",
       "    </tr>\n",
       "    <tr>\n",
       "      <th>999962</th>\n",
       "      <td>Microsoft-Windows-Sysmon/Operational</td>\n",
       "      <td>8</td>\n",
       "      <td>C:\\windows\\System32\\KERNEL32.DLL</td>\n",
       "      <td>LoadLibraryA</td>\n",
       "      <td>NaN</td>\n",
       "      <td>NaN</td>\n",
       "      <td>WORKSTATION5.mordor.local</td>\n",
       "    </tr>\n",
       "    <tr>\n",
       "      <th>999973</th>\n",
       "      <td>Microsoft-Windows-Sysmon/Operational</td>\n",
       "      <td>8</td>\n",
       "      <td>C:\\windows\\System32\\KERNEL32.DLL</td>\n",
       "      <td>LoadLibraryA</td>\n",
       "      <td>NaN</td>\n",
       "      <td>NaN</td>\n",
       "      <td>WORKSTATION5.mordor.local</td>\n",
       "    </tr>\n",
       "    <tr>\n",
       "      <th>999978</th>\n",
       "      <td>Microsoft-Windows-Sysmon/Operational</td>\n",
       "      <td>8</td>\n",
       "      <td>C:\\windows\\System32\\KERNEL32.DLL</td>\n",
       "      <td>LoadLibraryA</td>\n",
       "      <td>NaN</td>\n",
       "      <td>NaN</td>\n",
       "      <td>WORKSTATION5.mordor.local</td>\n",
       "    </tr>\n",
       "    <tr>\n",
       "      <th>999996</th>\n",
       "      <td>Microsoft-Windows-Sysmon/Operational</td>\n",
       "      <td>8</td>\n",
       "      <td>C:\\windows\\System32\\KERNEL32.DLL</td>\n",
       "      <td>LoadLibraryA</td>\n",
       "      <td>NaN</td>\n",
       "      <td>NaN</td>\n",
       "      <td>WORKSTATION5.mordor.local</td>\n",
       "    </tr>\n",
       "  </tbody>\n",
       "</table>\n",
       "<p>124162 rows × 7 columns</p>\n",
       "</div>"
      ],
      "text/plain": [
       "                                     Channel EventID  \\\n",
       "12      Microsoft-Windows-Sysmon/Operational       8   \n",
       "18      Microsoft-Windows-Sysmon/Operational       8   \n",
       "23      Microsoft-Windows-Sysmon/Operational       8   \n",
       "30      Microsoft-Windows-Sysmon/Operational       8   \n",
       "39      Microsoft-Windows-Sysmon/Operational       8   \n",
       "...                                      ...     ...   \n",
       "999951  Microsoft-Windows-Sysmon/Operational       8   \n",
       "999962  Microsoft-Windows-Sysmon/Operational       8   \n",
       "999973  Microsoft-Windows-Sysmon/Operational       8   \n",
       "999978  Microsoft-Windows-Sysmon/Operational       8   \n",
       "999996  Microsoft-Windows-Sysmon/Operational       8   \n",
       "\n",
       "                             StartModule StartFunction TargetFilename  \\\n",
       "12      C:\\windows\\System32\\KERNEL32.DLL  LoadLibraryA            NaN   \n",
       "18      C:\\windows\\System32\\KERNEL32.DLL  LoadLibraryA            NaN   \n",
       "23      C:\\windows\\System32\\KERNEL32.DLL  LoadLibraryA            NaN   \n",
       "30      C:\\windows\\System32\\KERNEL32.DLL  LoadLibraryA            NaN   \n",
       "39      C:\\windows\\System32\\KERNEL32.DLL  LoadLibraryA            NaN   \n",
       "...                                  ...           ...            ...   \n",
       "999951  C:\\windows\\System32\\KERNEL32.DLL  LoadLibraryA            NaN   \n",
       "999962  C:\\windows\\System32\\KERNEL32.DLL  LoadLibraryA            NaN   \n",
       "999973  C:\\windows\\System32\\KERNEL32.DLL  LoadLibraryA            NaN   \n",
       "999978  C:\\windows\\System32\\KERNEL32.DLL  LoadLibraryA            NaN   \n",
       "999996  C:\\windows\\System32\\KERNEL32.DLL  LoadLibraryA            NaN   \n",
       "\n",
       "       ImageLoaded                   Hostname  \n",
       "12             NaN  WORKSTATION5.mordor.local  \n",
       "18             NaN  WORKSTATION5.mordor.local  \n",
       "23             NaN  WORKSTATION5.mordor.local  \n",
       "30             NaN  WORKSTATION5.mordor.local  \n",
       "39             NaN  WORKSTATION5.mordor.local  \n",
       "...            ...                        ...  \n",
       "999951         NaN  WORKSTATION5.mordor.local  \n",
       "999962         NaN  WORKSTATION5.mordor.local  \n",
       "999973         NaN  WORKSTATION5.mordor.local  \n",
       "999978         NaN  WORKSTATION5.mordor.local  \n",
       "999996         NaN  WORKSTATION5.mordor.local  \n",
       "\n",
       "[124162 rows x 7 columns]"
      ]
     },
     "execution_count": 9,
     "metadata": {},
     "output_type": "execute_result"
    }
   ],
   "source": [
    "# Analytic I\n",
    "I = (\n",
    "new_data[features]\n",
    "\n",
    "[(new_data['Channel'] == 'Microsoft-Windows-Sysmon/Operational')\n",
    "    & (new_data['EventID'] == \"8\")\n",
    "    & (new_data['StartModule'].str.lower().str.contains('.*kernel32.dll', regex=True))\n",
    "    & (new_data['StartFunction'] == 'LoadLibraryA')\n",
    "]\n",
    ")\n",
    "I"
   ]
  },
  {
   "cell_type": "code",
   "execution_count": 10,
   "metadata": {},
   "outputs": [
    {
     "data": {
      "text/plain": [
       "dict_items([(nan, 1511), ('0x0', 73), ('0x4e13b2e', 247), ('0x7b90596', 43), ('0x3e7', 100)])"
      ]
     },
     "execution_count": 10,
     "metadata": {},
     "output_type": "execute_result"
    }
   ],
   "source": [
    "# IPCShareDf\n",
    "Counter(I['SubjectLogonId']).items()"
   ]
  },
  {
   "cell_type": "markdown",
   "metadata": {},
   "source": [
    "In the original dataset, there's only one result from analytic I, so we only use the results from analytic I for synthetic data."
   ]
  },
  {
   "cell_type": "code",
   "execution_count": 11,
   "metadata": {},
   "outputs": [
    {
     "data": {
      "text/html": [
       "<div>\n",
       "<style scoped>\n",
       "    .dataframe tbody tr th:only-of-type {\n",
       "        vertical-align: middle;\n",
       "    }\n",
       "\n",
       "    .dataframe tbody tr th {\n",
       "        vertical-align: top;\n",
       "    }\n",
       "\n",
       "    .dataframe thead th {\n",
       "        text-align: right;\n",
       "    }\n",
       "</style>\n",
       "<table border=\"1\" class=\"dataframe\">\n",
       "  <thead>\n",
       "    <tr style=\"text-align: right;\">\n",
       "      <th></th>\n",
       "      <th>Channel</th>\n",
       "      <th>EventID</th>\n",
       "      <th>StartModule</th>\n",
       "      <th>StartFunction</th>\n",
       "      <th>TargetFilename</th>\n",
       "      <th>ImageLoaded</th>\n",
       "      <th>Hostname</th>\n",
       "    </tr>\n",
       "  </thead>\n",
       "  <tbody>\n",
       "  </tbody>\n",
       "</table>\n",
       "</div>"
      ],
      "text/plain": [
       "Empty DataFrame\n",
       "Columns: [Channel, EventID, StartModule, StartFunction, TargetFilename, ImageLoaded, Hostname]\n",
       "Index: []"
      ]
     },
     "execution_count": 11,
     "metadata": {},
     "output_type": "execute_result"
    }
   ],
   "source": [
    "# Analytic II\n",
    "imageLoadDf = (\n",
    "new_data[features]\n",
    "\n",
    "[(new_data['Channel'] == 'Microsoft-Windows-Sysmon/Operational')\n",
    "    & (new_data['EventID'] == \"7\")\n",
    "]\n",
    ")\n",
    "\n",
    "# print(Counter(imageLoadDf['Hostname']).items())\n",
    "# print(Counter(imageLoadDf['ImageLoaded']).items())\n",
    "\n",
    "fileCreateDf = (\n",
    "new_data[features]\n",
    "\n",
    "[(new_data['Channel'] == 'Microsoft-Windows-Sysmon/Operational')\n",
    "    & (new_data['EventID'] == \"11\")\n",
    "]\n",
    ")\n",
    "\n",
    "# (\n",
    "# pd.merge(imageLoadDf, fileCreateDf,\n",
    "#     left_on = ['ImageLoaded','Hostname'], right_on = ['TargetFilename','Hostname'], how = 'inner')\n",
    "# )\n",
    "II = (\n",
    "imageLoadDf[features]\n",
    "\n",
    "[(imageLoadDf['Hostname'].isin(fileCreateDf['Hostname']))\n",
    "    & (imageLoadDf['Hostname'])\n",
    "    & (imageLoadDf['ImageLoaded'].isin(fileCreateDf['TargetFilename'])\n",
    "    & (imageLoadDf['ImageLoaded']))\n",
    "]\n",
    ")\n",
    "III = (\n",
    "fileCreateDf[features]\n",
    "    \n",
    "[(fileCreateDf['Hostname'].isin(fileCreateDf['Hostname']))\n",
    "    & (fileCreateDf['Hostname'])\n",
    "    & (fileCreateDf['TargetFilename'].isin(imageLoadDf['ImageLoaded'])\n",
    "    & (fileCreateDf['TargetFilename']))\n",
    "]\n",
    ")\n",
    "III"
   ]
  },
  {
   "cell_type": "markdown",
   "metadata": {},
   "source": [
    "### Generate data\n",
    "Randomly pick data from each analytic's results, and combine them as the generated dataset."
   ]
  },
  {
   "cell_type": "code",
   "execution_count": 35,
   "metadata": {},
   "outputs": [
    {
     "data": {
      "text/plain": [
       "(8133, 7)"
      ]
     },
     "execution_count": 35,
     "metadata": {},
     "output_type": "execute_result"
    }
   ],
   "source": [
    "# randomly pick from results of analytics\n",
    "results = [I]\n",
    "# not pick from II because original data doesn't have result from it\n",
    "pick_nums = [8133] # 12200 * 2/3 as training set\n",
    "gen_data = random_generator(results, pick_nums)\n",
    "\n",
    "gen_data.shape"
   ]
  },
  {
   "cell_type": "markdown",
   "metadata": {},
   "source": [
    "## Decision Tree"
   ]
  },
  {
   "cell_type": "markdown",
   "metadata": {},
   "source": [
    "### Preprocess data"
   ]
  },
  {
   "cell_type": "code",
   "execution_count": 28,
   "metadata": {},
   "outputs": [],
   "source": [
    "# Preprocessing\n",
    "from sklearn.preprocessing import MinMaxScaler\n",
    "\n",
    "# scaler = MinMaxScaler()\n",
    "# df = scaler.fit_transform(df)"
   ]
  },
  {
   "cell_type": "markdown",
   "metadata": {},
   "source": [
    "### Training with original data"
   ]
  },
  {
   "cell_type": "code",
   "execution_count": 27,
   "metadata": {},
   "outputs": [
    {
     "name": "stdout",
     "output_type": "stream",
     "text": [
      "Balanced accuracy score: 0.50\n"
     ]
    },
    {
     "data": {
      "image/png": "[encoded data removed]",
      "text/plain": [
       "<Figure size 432x288 with 2 Axes>"
      ]
     },
     "metadata": {},
     "output_type": "display_data"
    },
    {
     "data": {
      "text/plain": [
       "<Figure size 720x504 with 0 Axes>"
      ]
     },
     "metadata": {},
     "output_type": "display_data"
    },
    {
     "name": "stderr",
     "output_type": "stream",
     "text": [
      "C:\\Users\\ly\\AppData\\Roaming\\Python\\Python37\\site-packages\\sklearn\\metrics\\_classification.py:1318: UndefinedMetricWarning: Precision and F-score are ill-defined and being set to 0.0 in labels with no predicted samples. Use `zero_division` parameter to control this behavior.\n",
      "  _warn_prf(average, modifier, msg_start, len(result))\n",
      "C:\\Users\\ly\\AppData\\Roaming\\Python\\Python37\\site-packages\\sklearn\\metrics\\_classification.py:1318: UndefinedMetricWarning: Precision and F-score are ill-defined and being set to 0.0 in labels with no predicted samples. Use `zero_division` parameter to control this behavior.\n",
      "  _warn_prf(average, modifier, msg_start, len(result))\n",
      "C:\\Users\\ly\\AppData\\Roaming\\Python\\Python37\\site-packages\\sklearn\\metrics\\_classification.py:1318: UndefinedMetricWarning: Precision and F-score are ill-defined and being set to 0.0 in labels with no predicted samples. Use `zero_division` parameter to control this behavior.\n",
      "  _warn_prf(average, modifier, msg_start, len(result))\n"
     ]
    },
    {
     "name": "stdout",
     "output_type": "stream",
     "text": [
      "              precision    recall  f1-score   support\n",
      "\n",
      "           0       1.00      1.00      1.00      4025\n",
      "           1       0.00      0.00      0.00         1\n",
      "\n",
      "    accuracy                           1.00      4026\n",
      "   macro avg       0.50      0.50      0.50      4026\n",
      "weighted avg       1.00      1.00      1.00      4026\n",
      "\n"
     ]
    }
   ],
   "source": [
    "from sklearn.model_selection import train_test_split\n",
    "from sklearn.tree import DecisionTreeClassifier\n",
    "from sklearn.model_selection import cross_val_score, StratifiedKFold\n",
    "from sklearn import tree\n",
    "\n",
    "# X = preprocess_labelEncoder(df)\n",
    "X = preprocess(df)\n",
    "X, le_dict = labelEncoder_get(X)\n",
    "y = labelList(df.shape[0], [496])\n",
    "X_train, X_test, y_train, y_test = train_test_split(X, y, test_size = 0.33, random_state=42)\n",
    "\n",
    "clf = DecisionTreeClassifier()\n",
    "clf.fit(X_train, y_train)\n",
    "y_predict = clf.predict(X_test)\n",
    "print(\"Balanced accuracy score: {:.2f}\".format(metrics.balanced_accuracy_score(y_test, y_predict)))\n",
    "draw_confusionMatrix(y_test, y_predict)\n",
    "\n",
    "# cannot draw the tree\n",
    "# plt.figure(figsize=(10, 8))\n",
    "# tree.plot_tree(clf, feature_names=features, fontsize=10)\n",
    "# plt.title(\"Classification Decision Tree\")\n",
    "# plt.savefig('ROSTree.png', dpi=100, transparent=True)"
   ]
  },
  {
   "cell_type": "markdown",
   "metadata": {},
   "source": [
    "### Original data with generated data\n",
    "Generated data can only be used in training set."
   ]
  },
  {
   "cell_type": "code",
   "execution_count": 36,
   "metadata": {},
   "outputs": [
    {
     "name": "stdout",
     "output_type": "stream",
     "text": [
      "Balanced accuracy score: 1.00\n"
     ]
    },
    {
     "data": {
      "image/png": "[encoded data removed]",
      "text/plain": [
       "<Figure size 432x288 with 2 Axes>"
      ]
     },
     "metadata": {},
     "output_type": "display_data"
    },
    {
     "data": {
      "text/plain": [
       "<Figure size 720x504 with 0 Axes>"
      ]
     },
     "metadata": {},
     "output_type": "display_data"
    },
    {
     "name": "stdout",
     "output_type": "stream",
     "text": [
      "              precision    recall  f1-score   support\n",
      "\n",
      "           0       1.00      1.00      1.00      4025\n",
      "           1       1.00      1.00      1.00         1\n",
      "\n",
      "    accuracy                           1.00      4026\n",
      "   macro avg       1.00      1.00      1.00      4026\n",
      "weighted avg       1.00      1.00      1.00      4026\n",
      "\n"
     ]
    },
    {
     "data": {
      "text/plain": [
       "[Text(0.5, 0.75, 'StartModule <= 0.5\\ngini = 0.5\\nsamples = 16307\\nvalue = [8174, 8133]'),\n",
       " Text(0.25, 0.25, 'gini = 0.0\\nsamples = 8174\\nvalue = [8174, 0]'),\n",
       " Text(0.75, 0.25, 'gini = 0.0\\nsamples = 8133\\nvalue = [0, 8133]')]"
      ]
     },
     "execution_count": 36,
     "metadata": {},
     "output_type": "execute_result"
    },
    {
     "data": {
      "image/png": "[encoded data removed]",
      "text/plain": [
       "<Figure size 432x288 with 1 Axes>"
      ]
     },
     "metadata": {},
     "output_type": "display_data"
    }
   ],
   "source": [
    "# add generated data to the original dataset\n",
    "y = labelList(df.shape[0], [496])\n",
    "X_train, X_test, y_train, y_test = train_test_split(df, y, test_size = 0.33, random_state=42)\n",
    "\n",
    "# add generated data to the original training set\n",
    "X_train_new = pd.concat([X_train, gen_data], axis=0)\n",
    "\n",
    "X_train_new = preprocess_labelEncoder(X_train_new)\n",
    "\n",
    "# generated data are all positive\n",
    "for i in range(len(gen_data)):\n",
    "    y_train.append(1)\n",
    "\n",
    "clf = DecisionTreeClassifier()\n",
    "\n",
    "clf.fit(X_train_new, y_train)\n",
    "y_predict = clf.predict(preprocess_labelEncoder(X_test))\n",
    "print(\"Balanced accuracy score: {:.2f}\".format(metrics.balanced_accuracy_score(y_test, y_predict)))\n",
    "draw_confusionMatrix(y_test, y_predict)\n",
    "\n",
    "# plt.figure(figsize=(10, 8))\n",
    "tree.plot_tree(clf, feature_names=features, fontsize=10)\n",
    "# plt.title(\"Classification Decision Tree\")\n",
    "# plt.savefig(r'DecisionTree\\\\DLLProcessInjectionCreateRemoteThread.png', dpi=100, transparent=True)"
   ]
  },
  {
   "cell_type": "markdown",
   "metadata": {},
   "source": [
    "## Save generated data"
   ]
  },
  {
   "cell_type": "code",
   "execution_count": 37,
   "metadata": {},
   "outputs": [
    {
     "data": {
      "text/html": [
       "<div>\n",
       "<style scoped>\n",
       "    .dataframe tbody tr th:only-of-type {\n",
       "        vertical-align: middle;\n",
       "    }\n",
       "\n",
       "    .dataframe tbody tr th {\n",
       "        vertical-align: top;\n",
       "    }\n",
       "\n",
       "    .dataframe thead th {\n",
       "        text-align: right;\n",
       "    }\n",
       "</style>\n",
       "<table border=\"1\" class=\"dataframe\">\n",
       "  <thead>\n",
       "    <tr style=\"text-align: right;\">\n",
       "      <th></th>\n",
       "      <th>Channel</th>\n",
       "      <th>EventID</th>\n",
       "      <th>StartModule</th>\n",
       "      <th>StartFunction</th>\n",
       "      <th>TargetFilename</th>\n",
       "      <th>ImageLoaded</th>\n",
       "      <th>Hostname</th>\n",
       "    </tr>\n",
       "  </thead>\n",
       "  <tbody>\n",
       "    <tr>\n",
       "      <th>0</th>\n",
       "      <td>Microsoft-Windows-Sysmon/Operational</td>\n",
       "      <td>8</td>\n",
       "      <td>C:\\windows\\System32\\KERNEL32.DLL</td>\n",
       "      <td>LoadLibraryA</td>\n",
       "      <td>None</td>\n",
       "      <td>None</td>\n",
       "      <td>WORKSTATION5.mordor.local</td>\n",
       "    </tr>\n",
       "    <tr>\n",
       "      <th>1</th>\n",
       "      <td>Microsoft-Windows-Sysmon/Operational</td>\n",
       "      <td>8</td>\n",
       "      <td>C:\\windows\\System32\\KERNEL32.DLL</td>\n",
       "      <td>LoadLibraryA</td>\n",
       "      <td>None</td>\n",
       "      <td>None</td>\n",
       "      <td>WORKSTATION5.mordor.local</td>\n",
       "    </tr>\n",
       "    <tr>\n",
       "      <th>2</th>\n",
       "      <td>Microsoft-Windows-Sysmon/Operational</td>\n",
       "      <td>8</td>\n",
       "      <td>C:\\windows\\System32\\KERNEL32.DLL</td>\n",
       "      <td>LoadLibraryA</td>\n",
       "      <td>None</td>\n",
       "      <td>None</td>\n",
       "      <td>WORKSTATION5.mordor.local</td>\n",
       "    </tr>\n",
       "    <tr>\n",
       "      <th>3</th>\n",
       "      <td>Microsoft-Windows-Sysmon/Operational</td>\n",
       "      <td>8</td>\n",
       "      <td>C:\\windows\\System32\\KERNEL32.DLL</td>\n",
       "      <td>LoadLibraryA</td>\n",
       "      <td>None</td>\n",
       "      <td>None</td>\n",
       "      <td>WORKSTATION5.mordor.local</td>\n",
       "    </tr>\n",
       "    <tr>\n",
       "      <th>4</th>\n",
       "      <td>Microsoft-Windows-Sysmon/Operational</td>\n",
       "      <td>8</td>\n",
       "      <td>C:\\windows\\System32\\KERNEL32.DLL</td>\n",
       "      <td>LoadLibraryA</td>\n",
       "      <td>None</td>\n",
       "      <td>None</td>\n",
       "      <td>WORKSTATION5.mordor.local</td>\n",
       "    </tr>\n",
       "  </tbody>\n",
       "</table>\n",
       "</div>"
      ],
      "text/plain": [
       "                                Channel  EventID  \\\n",
       "0  Microsoft-Windows-Sysmon/Operational        8   \n",
       "1  Microsoft-Windows-Sysmon/Operational        8   \n",
       "2  Microsoft-Windows-Sysmon/Operational        8   \n",
       "3  Microsoft-Windows-Sysmon/Operational        8   \n",
       "4  Microsoft-Windows-Sysmon/Operational        8   \n",
       "\n",
       "                        StartModule StartFunction TargetFilename ImageLoaded  \\\n",
       "0  C:\\windows\\System32\\KERNEL32.DLL  LoadLibraryA           None        None   \n",
       "1  C:\\windows\\System32\\KERNEL32.DLL  LoadLibraryA           None        None   \n",
       "2  C:\\windows\\System32\\KERNEL32.DLL  LoadLibraryA           None        None   \n",
       "3  C:\\windows\\System32\\KERNEL32.DLL  LoadLibraryA           None        None   \n",
       "4  C:\\windows\\System32\\KERNEL32.DLL  LoadLibraryA           None        None   \n",
       "\n",
       "                    Hostname  \n",
       "0  WORKSTATION5.mordor.local  \n",
       "1  WORKSTATION5.mordor.local  \n",
       "2  WORKSTATION5.mordor.local  \n",
       "3  WORKSTATION5.mordor.local  \n",
       "4  WORKSTATION5.mordor.local  "
      ]
     },
     "execution_count": 37,
     "metadata": {},
     "output_type": "execute_result"
    }
   ],
   "source": [
    "# # extract to JSON file\n",
    "# dataset.reset_index(drop=True, inplace=True)\n",
    "gen_data.to_json(os.getcwd() + r'\\generated_datasets\\empire_dllinjection_LoadLibrary_CreateRemoteThread_new.json', orient='records')\n",
    "\n",
    "# dataset = json.read_json(path_or_buf=os.getcwd()+ \"\\\\generated_datasets\"+ \"\\\\empire_dllinjection_LoadLibrary_CreateRemoteThread_new.json\")\n",
    "# dataset.head()"
   ]
  }
 ],
 "metadata": {
  "kernelspec": {
   "display_name": "Python 3",
   "language": "python",
   "name": "python3"
  },
  "language_info": {
   "codemirror_mode": {
    "name": "ipython",
    "version": 3
   },
   "file_extension": ".py",
   "mimetype": "text/x-python",
   "name": "python",
   "nbconvert_exporter": "python",
   "pygments_lexer": "ipython3",
   "version": "3.7.3"
  }
 },
 "nbformat": 4,
 "nbformat_minor": 2
}
