{
 "cells": [
  {
   "cell_type": "code",
   "execution_count": 1,
   "metadata": {},
   "outputs": [],
   "source": [
    "import requests\n",
    "from zipfile import ZipFile\n",
    "from io import BytesIO\n",
    "\n",
    "url = 'https://raw.githubusercontent.com/OTRF/Security-Datasets/master/datasets/atomic/windows/persistence/host/empire_wmi_local_event_subscriptions_elevated_user.zip'\n",
    "zipFileRequest = requests.get(url)\n",
    "zipFile = ZipFile(BytesIO(zipFileRequest.content))\n",
    "datasetJSONPath = zipFile.extract(zipFile.namelist()[0])"
   ]
  },
  {
   "cell_type": "code",
   "execution_count": 2,
   "metadata": {},
   "outputs": [
    {
     "name": "stderr",
     "output_type": "stream",
     "text": [
      "C:\\Users\\ly\\AppData\\Roaming\\Python\\Python37\\site-packages\\numpy\\_distributor_init.py:32: UserWarning: loaded more than 1 DLL from .libs:\n",
      "C:\\Users\\ly\\AppData\\Roaming\\Python\\Python37\\site-packages\\numpy\\.libs\\libopenblas.GK7GX5KEQ4F6UYO3P26ULGBQYHGQO7J4.gfortran-win_amd64.dll\n",
      "C:\\Users\\ly\\AppData\\Roaming\\Python\\Python37\\site-packages\\numpy\\.libs\\libopenblas.PYQHXLVVQ7VESDPUVUADXEVJOBGHJPAY.gfortran-win_amd64.dll\n",
      "  stacklevel=1)\n"
     ]
    }
   ],
   "source": [
    "import pandas as pd\n",
    "from pandas.io import json\n",
    "\n",
    "df = json.read_json(path_or_buf=datasetJSONPath, lines=True)"
   ]
  },
  {
   "cell_type": "code",
   "execution_count": 4,
   "metadata": {},
   "outputs": [
    {
     "data": {
      "text/html": [
       "<div>\n",
       "<style scoped>\n",
       "    .dataframe tbody tr th:only-of-type {\n",
       "        vertical-align: middle;\n",
       "    }\n",
       "\n",
       "    .dataframe tbody tr th {\n",
       "        vertical-align: top;\n",
       "    }\n",
       "\n",
       "    .dataframe thead th {\n",
       "        text-align: right;\n",
       "    }\n",
       "</style>\n",
       "<table border=\"1\" class=\"dataframe\">\n",
       "  <thead>\n",
       "    <tr style=\"text-align: right;\">\n",
       "      <th></th>\n",
       "      <th>@timestamp</th>\n",
       "      <th>Hostname</th>\n",
       "      <th>User</th>\n",
       "      <th>EventNamespace</th>\n",
       "      <th>Name</th>\n",
       "      <th>Query</th>\n",
       "    </tr>\n",
       "  </thead>\n",
       "  <tbody>\n",
       "    <tr>\n",
       "      <th>447</th>\n",
       "      <td>2020-09-04T20:43:27.435Z</td>\n",
       "      <td>WORKSTATION5.theshire.local</td>\n",
       "      <td>THESHIRE\\pgustavo</td>\n",
       "      <td>\"root\\\\CimV2\"</td>\n",
       "      <td>\"Updater\"</td>\n",
       "      <td>\"SELECT * FROM __InstanceModificationEvent WI...</td>\n",
       "    </tr>\n",
       "  </tbody>\n",
       "</table>\n",
       "</div>"
      ],
      "text/plain": [
       "                   @timestamp                     Hostname               User  \\\n",
       "447  2020-09-04T20:43:27.435Z  WORKSTATION5.theshire.local  THESHIRE\\pgustavo   \n",
       "\n",
       "     EventNamespace        Name  \\\n",
       "447   \"root\\\\CimV2\"   \"Updater\"   \n",
       "\n",
       "                                                 Query  \n",
       "447   \"SELECT * FROM __InstanceModificationEvent WI...  "
      ]
     },
     "execution_count": 4,
     "metadata": {},
     "output_type": "execute_result"
    }
   ],
   "source": [
    "(\n",
    "df[['@timestamp','Hostname','User','EventNamespace','Name','Query']]\n",
    "\n",
    "[(df['Channel'] == 'Microsoft-Windows-Sysmon/Operational')\n",
    "    & (df['EventID'] == 19)\n",
    "]\n",
    ".head()\n",
    ")"
   ]
  },
  {
   "cell_type": "code",
   "execution_count": 5,
   "metadata": {},
   "outputs": [
    {
     "data": {
      "text/html": [
       "<div>\n",
       "<style scoped>\n",
       "    .dataframe tbody tr th:only-of-type {\n",
       "        vertical-align: middle;\n",
       "    }\n",
       "\n",
       "    .dataframe tbody tr th {\n",
       "        vertical-align: top;\n",
       "    }\n",
       "\n",
       "    .dataframe thead th {\n",
       "        text-align: right;\n",
       "    }\n",
       "</style>\n",
       "<table border=\"1\" class=\"dataframe\">\n",
       "  <thead>\n",
       "    <tr style=\"text-align: right;\">\n",
       "      <th></th>\n",
       "      <th>@timestamp</th>\n",
       "      <th>Hostname</th>\n",
       "      <th>User</th>\n",
       "      <th>Name</th>\n",
       "      <th>Type</th>\n",
       "      <th>Destination</th>\n",
       "    </tr>\n",
       "  </thead>\n",
       "  <tbody>\n",
       "    <tr>\n",
       "      <th>457</th>\n",
       "      <td>2020-09-04T20:43:27.440Z</td>\n",
       "      <td>WORKSTATION5.theshire.local</td>\n",
       "      <td>THESHIRE\\pgustavo</td>\n",
       "      <td>\"Updater\"</td>\n",
       "      <td>Command Line</td>\n",
       "      <td>\"C:\\\\windows\\\\System32\\\\WindowsPowerShell\\\\v1...</td>\n",
       "    </tr>\n",
       "  </tbody>\n",
       "</table>\n",
       "</div>"
      ],
      "text/plain": [
       "                   @timestamp                     Hostname               User  \\\n",
       "457  2020-09-04T20:43:27.440Z  WORKSTATION5.theshire.local  THESHIRE\\pgustavo   \n",
       "\n",
       "           Name          Type  \\\n",
       "457   \"Updater\"  Command Line   \n",
       "\n",
       "                                           Destination  \n",
       "457   \"C:\\\\windows\\\\System32\\\\WindowsPowerShell\\\\v1...  "
      ]
     },
     "execution_count": 5,
     "metadata": {},
     "output_type": "execute_result"
    }
   ],
   "source": [
    "(\n",
    "df[['@timestamp','Hostname','User','Name','Type','Destination']]\n",
    "\n",
    "[(df['Channel'] == 'Microsoft-Windows-Sysmon/Operational')\n",
    "    & (df['EventID'] == 20)\n",
    "]\n",
    ".head()\n",
    ")"
   ]
  },
  {
   "cell_type": "code",
   "execution_count": 6,
   "metadata": {},
   "outputs": [
    {
     "data": {
      "text/html": [
       "<div>\n",
       "<style scoped>\n",
       "    .dataframe tbody tr th:only-of-type {\n",
       "        vertical-align: middle;\n",
       "    }\n",
       "\n",
       "    .dataframe tbody tr th {\n",
       "        vertical-align: top;\n",
       "    }\n",
       "\n",
       "    .dataframe thead th {\n",
       "        text-align: right;\n",
       "    }\n",
       "</style>\n",
       "<table border=\"1\" class=\"dataframe\">\n",
       "  <thead>\n",
       "    <tr style=\"text-align: right;\">\n",
       "      <th></th>\n",
       "      <th>@timestamp</th>\n",
       "      <th>Hostname</th>\n",
       "      <th>User</th>\n",
       "      <th>Operation</th>\n",
       "      <th>Consumer</th>\n",
       "      <th>Filter</th>\n",
       "    </tr>\n",
       "  </thead>\n",
       "  <tbody>\n",
       "    <tr>\n",
       "      <th>592</th>\n",
       "      <td>2020-09-04T20:43:28.518Z</td>\n",
       "      <td>WORKSTATION5.theshire.local</td>\n",
       "      <td>THESHIRE\\pgustavo</td>\n",
       "      <td>Created</td>\n",
       "      <td>\"CommandLineEventConsumer.Name=\\\"Updater\\\"\"</td>\n",
       "      <td>\"__EventFilter.Name=\\\"Updater\\\"\"</td>\n",
       "    </tr>\n",
       "  </tbody>\n",
       "</table>\n",
       "</div>"
      ],
      "text/plain": [
       "                   @timestamp                     Hostname               User  \\\n",
       "592  2020-09-04T20:43:28.518Z  WORKSTATION5.theshire.local  THESHIRE\\pgustavo   \n",
       "\n",
       "    Operation                                      Consumer  \\\n",
       "592   Created   \"CommandLineEventConsumer.Name=\\\"Updater\\\"\"   \n",
       "\n",
       "                                Filter  \n",
       "592   \"__EventFilter.Name=\\\"Updater\\\"\"  "
      ]
     },
     "execution_count": 6,
     "metadata": {},
     "output_type": "execute_result"
    }
   ],
   "source": [
    "(\n",
    "df[['@timestamp','Hostname','User','Operation','Consumer','Filter']]\n",
    "\n",
    "[(df['Channel'] == 'Microsoft-Windows-Sysmon/Operational')\n",
    "    & (df['EventID'] == 21)\n",
    "]\n",
    ".head()\n",
    ")"
   ]
  },
  {
   "cell_type": "code",
   "execution_count": 7,
   "metadata": {},
   "outputs": [
    {
     "data": {
      "text/html": [
       "<div>\n",
       "<style scoped>\n",
       "    .dataframe tbody tr th:only-of-type {\n",
       "        vertical-align: middle;\n",
       "    }\n",
       "\n",
       "    .dataframe tbody tr th {\n",
       "        vertical-align: top;\n",
       "    }\n",
       "\n",
       "    .dataframe thead th {\n",
       "        text-align: right;\n",
       "    }\n",
       "</style>\n",
       "<table border=\"1\" class=\"dataframe\">\n",
       "  <thead>\n",
       "    <tr style=\"text-align: right;\">\n",
       "      <th></th>\n",
       "      <th>@timestamp</th>\n",
       "      <th>Hostname</th>\n",
       "      <th>Message</th>\n",
       "    </tr>\n",
       "  </thead>\n",
       "  <tbody>\n",
       "    <tr>\n",
       "      <th>465</th>\n",
       "      <td>2020-09-04T20:43:27.446Z</td>\n",
       "      <td>WORKSTATION5.theshire.local</td>\n",
       "      <td>Namespace = //./root/subscription; Eventfilter...</td>\n",
       "    </tr>\n",
       "    <tr>\n",
       "      <th>5360</th>\n",
       "      <td>2020-09-04T20:44:40.896Z</td>\n",
       "      <td>WORKSTATION5.theshire.local</td>\n",
       "      <td>Namespace = //./root/subscription; Eventfilter...</td>\n",
       "    </tr>\n",
       "    <tr>\n",
       "      <th>5366</th>\n",
       "      <td>2020-09-04T20:44:40.903Z</td>\n",
       "      <td>WORKSTATION5.theshire.local</td>\n",
       "      <td>Namespace = //./root/subscription; Eventfilter...</td>\n",
       "    </tr>\n",
       "  </tbody>\n",
       "</table>\n",
       "</div>"
      ],
      "text/plain": [
       "                    @timestamp                     Hostname  \\\n",
       "465   2020-09-04T20:43:27.446Z  WORKSTATION5.theshire.local   \n",
       "5360  2020-09-04T20:44:40.896Z  WORKSTATION5.theshire.local   \n",
       "5366  2020-09-04T20:44:40.903Z  WORKSTATION5.theshire.local   \n",
       "\n",
       "                                                Message  \n",
       "465   Namespace = //./root/subscription; Eventfilter...  \n",
       "5360  Namespace = //./root/subscription; Eventfilter...  \n",
       "5366  Namespace = //./root/subscription; Eventfilter...  "
      ]
     },
     "execution_count": 7,
     "metadata": {},
     "output_type": "execute_result"
    }
   ],
   "source": [
    "(\n",
    "df[['@timestamp','Hostname','Message']]\n",
    "\n",
    "[(df['Channel'] == 'Microsoft-Windows-WMI-Activity/Operational')\n",
    "    & (df['EventID'] == 5861)\n",
    "]\n",
    ".head()\n",
    ")"
   ]
  },
  {
   "cell_type": "code",
   "execution_count": null,
   "metadata": {},
   "outputs": [],
   "source": []
  }
 ],
 "metadata": {
  "kernelspec": {
   "display_name": "Python 3",
   "language": "python",
   "name": "python3"
  },
  "language_info": {
   "codemirror_mode": {
    "name": "ipython",
    "version": 3
   },
   "file_extension": ".py",
   "mimetype": "text/x-python",
   "name": "python",
   "nbconvert_exporter": "python",
   "pygments_lexer": "ipython3",
   "version": "3.7.3"
  }
 },
 "nbformat": 4,
 "nbformat_minor": 2
}
