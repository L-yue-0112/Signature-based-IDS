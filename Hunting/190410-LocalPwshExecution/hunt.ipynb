{
 "cells": [
  {
   "cell_type": "code",
   "execution_count": 2,
   "metadata": {},
   "outputs": [],
   "source": [
    "import requests\n",
    "from zipfile import ZipFile\n",
    "from io import BytesIO\n",
    "\n",
    "url = 'https://raw.githubusercontent.com/OTRF/Security-Datasets/master/datasets/atomic/windows/execution/host/empire_launcher_vbs.zip'\n",
    "zipFileRequest = requests.get(url)\n",
    "zipFile = ZipFile(BytesIO(zipFileRequest.content))\n",
    "datasetJSONPath = zipFile.extract(zipFile.namelist()[0])"
   ]
  },
  {
   "cell_type": "code",
   "execution_count": 3,
   "metadata": {},
   "outputs": [
    {
     "name": "stderr",
     "output_type": "stream",
     "text": [
      "C:\\Users\\ly\\AppData\\Roaming\\Python\\Python37\\site-packages\\numpy\\_distributor_init.py:32: UserWarning: loaded more than 1 DLL from .libs:\n",
      "C:\\Users\\ly\\AppData\\Roaming\\Python\\Python37\\site-packages\\numpy\\.libs\\libopenblas.GK7GX5KEQ4F6UYO3P26ULGBQYHGQO7J4.gfortran-win_amd64.dll\n",
      "C:\\Users\\ly\\AppData\\Roaming\\Python\\Python37\\site-packages\\numpy\\.libs\\libopenblas.PYQHXLVVQ7VESDPUVUADXEVJOBGHJPAY.gfortran-win_amd64.dll\n",
      "  stacklevel=1)\n"
     ]
    }
   ],
   "source": [
    "import pandas as pd\n",
    "from pandas.io import json\n",
    "\n",
    "df = json.read_json(path_or_buf=datasetJSONPath, lines=True)"
   ]
  },
  {
   "cell_type": "code",
   "execution_count": 4,
   "metadata": {},
   "outputs": [
    {
     "data": {
      "text/html": [
       "<div>\n",
       "<style scoped>\n",
       "    .dataframe tbody tr th:only-of-type {\n",
       "        vertical-align: middle;\n",
       "    }\n",
       "\n",
       "    .dataframe tbody tr th {\n",
       "        vertical-align: top;\n",
       "    }\n",
       "\n",
       "    .dataframe thead th {\n",
       "        text-align: right;\n",
       "    }\n",
       "</style>\n",
       "<table border=\"1\" class=\"dataframe\">\n",
       "  <thead>\n",
       "    <tr style=\"text-align: right;\">\n",
       "      <th></th>\n",
       "      <th>@timestamp</th>\n",
       "      <th>Hostname</th>\n",
       "    </tr>\n",
       "  </thead>\n",
       "  <tbody>\n",
       "    <tr>\n",
       "      <th>876</th>\n",
       "      <td>2020-09-04T20:10:00.295Z</td>\n",
       "      <td>WORKSTATION5.theshire.local</td>\n",
       "    </tr>\n",
       "    <tr>\n",
       "      <th>1251</th>\n",
       "      <td>2020-09-04T20:10:00.492Z</td>\n",
       "      <td>WORKSTATION5.theshire.local</td>\n",
       "    </tr>\n",
       "    <tr>\n",
       "      <th>1325</th>\n",
       "      <td>2020-09-04T20:10:00.540Z</td>\n",
       "      <td>WORKSTATION5.theshire.local</td>\n",
       "    </tr>\n",
       "    <tr>\n",
       "      <th>1370</th>\n",
       "      <td>2020-09-04T20:10:01.604Z</td>\n",
       "      <td>WORKSTATION5.theshire.local</td>\n",
       "    </tr>\n",
       "    <tr>\n",
       "      <th>1372</th>\n",
       "      <td>2020-09-04T20:10:01.609Z</td>\n",
       "      <td>WORKSTATION5.theshire.local</td>\n",
       "    </tr>\n",
       "  </tbody>\n",
       "</table>\n",
       "</div>"
      ],
      "text/plain": [
       "                    @timestamp                     Hostname\n",
       "876   2020-09-04T20:10:00.295Z  WORKSTATION5.theshire.local\n",
       "1251  2020-09-04T20:10:00.492Z  WORKSTATION5.theshire.local\n",
       "1325  2020-09-04T20:10:00.540Z  WORKSTATION5.theshire.local\n",
       "1370  2020-09-04T20:10:01.604Z  WORKSTATION5.theshire.local\n",
       "1372  2020-09-04T20:10:01.609Z  WORKSTATION5.theshire.local"
      ]
     },
     "execution_count": 4,
     "metadata": {},
     "output_type": "execute_result"
    }
   ],
   "source": [
    "(\n",
    "df[['@timestamp','Hostname']]\n",
    "\n",
    "[((df['Channel'] == 'Windows PowerShell') | (df['Channel'] == 'Microsoft-Windows-PowerShell/Operational'))\n",
    "    & (\n",
    "      (df['EventID'] == 400)\n",
    "      | (df['EventID'] == 4103)\n",
    "    )\n",
    "]\n",
    ".head()\n",
    ")"
   ]
  },
  {
   "cell_type": "code",
   "execution_count": 5,
   "metadata": {},
   "outputs": [
    {
     "data": {
      "text/html": [
       "<div>\n",
       "<style scoped>\n",
       "    .dataframe tbody tr th:only-of-type {\n",
       "        vertical-align: middle;\n",
       "    }\n",
       "\n",
       "    .dataframe tbody tr th {\n",
       "        vertical-align: top;\n",
       "    }\n",
       "\n",
       "    .dataframe thead th {\n",
       "        text-align: right;\n",
       "    }\n",
       "</style>\n",
       "<table border=\"1\" class=\"dataframe\">\n",
       "  <thead>\n",
       "    <tr style=\"text-align: right;\">\n",
       "      <th></th>\n",
       "      <th>@timestamp</th>\n",
       "      <th>Hostname</th>\n",
       "      <th>NewProcessName</th>\n",
       "      <th>ParentProcessName</th>\n",
       "    </tr>\n",
       "  </thead>\n",
       "  <tbody>\n",
       "    <tr>\n",
       "      <th>327</th>\n",
       "      <td>2020-09-04T20:09:57.091Z</td>\n",
       "      <td>WORKSTATION5.theshire.local</td>\n",
       "      <td>C:\\Windows\\System32\\WindowsPowerShell\\v1.0\\pow...</td>\n",
       "      <td>C:\\Windows\\System32\\wscript.exe</td>\n",
       "    </tr>\n",
       "  </tbody>\n",
       "</table>\n",
       "</div>"
      ],
      "text/plain": [
       "                   @timestamp                     Hostname  \\\n",
       "327  2020-09-04T20:09:57.091Z  WORKSTATION5.theshire.local   \n",
       "\n",
       "                                        NewProcessName  \\\n",
       "327  C:\\Windows\\System32\\WindowsPowerShell\\v1.0\\pow...   \n",
       "\n",
       "                   ParentProcessName  \n",
       "327  C:\\Windows\\System32\\wscript.exe  "
      ]
     },
     "execution_count": 5,
     "metadata": {},
     "output_type": "execute_result"
    }
   ],
   "source": [
    "(\n",
    "df[['@timestamp','Hostname','NewProcessName','ParentProcessName']]\n",
    "\n",
    "[(df['Channel'].str.lower() == 'security')\n",
    "    & (df['EventID'] == 4688)\n",
    "    & (df['NewProcessName'].str.lower().str.endswith('powershell.exe', na=False))\n",
    "    & (~df['ParentProcessName'].str.lower().str.endswith('explorer.exe', na=False))\n",
    "]\n",
    ".head()\n",
    ")"
   ]
  },
  {
   "cell_type": "code",
   "execution_count": 6,
   "metadata": {},
   "outputs": [
    {
     "data": {
      "text/html": [
       "<div>\n",
       "<style scoped>\n",
       "    .dataframe tbody tr th:only-of-type {\n",
       "        vertical-align: middle;\n",
       "    }\n",
       "\n",
       "    .dataframe tbody tr th {\n",
       "        vertical-align: top;\n",
       "    }\n",
       "\n",
       "    .dataframe thead th {\n",
       "        text-align: right;\n",
       "    }\n",
       "</style>\n",
       "<table border=\"1\" class=\"dataframe\">\n",
       "  <thead>\n",
       "    <tr style=\"text-align: right;\">\n",
       "      <th></th>\n",
       "      <th>@timestamp</th>\n",
       "      <th>Hostname</th>\n",
       "      <th>Image</th>\n",
       "      <th>ParentImage</th>\n",
       "    </tr>\n",
       "  </thead>\n",
       "  <tbody>\n",
       "    <tr>\n",
       "      <th>258</th>\n",
       "      <td>2020-09-04T20:09:57.060Z</td>\n",
       "      <td>WORKSTATION5.theshire.local</td>\n",
       "      <td>C:\\Windows\\System32\\WindowsPowerShell\\v1.0\\pow...</td>\n",
       "      <td>C:\\Windows\\System32\\wscript.exe</td>\n",
       "    </tr>\n",
       "  </tbody>\n",
       "</table>\n",
       "</div>"
      ],
      "text/plain": [
       "                   @timestamp                     Hostname  \\\n",
       "258  2020-09-04T20:09:57.060Z  WORKSTATION5.theshire.local   \n",
       "\n",
       "                                                 Image  \\\n",
       "258  C:\\Windows\\System32\\WindowsPowerShell\\v1.0\\pow...   \n",
       "\n",
       "                         ParentImage  \n",
       "258  C:\\Windows\\System32\\wscript.exe  "
      ]
     },
     "execution_count": 6,
     "metadata": {},
     "output_type": "execute_result"
    }
   ],
   "source": [
    "(\n",
    "df[['@timestamp','Hostname','Image','ParentImage']]\n",
    "\n",
    "[(df['Channel'] == 'Microsoft-Windows-Sysmon/Operational')\n",
    "    & (df['EventID'] == 1)\n",
    "    & (df['Image'].str.lower().str.endswith('powershell.exe', na=False))\n",
    "    & (~df['ParentImage'].str.lower().str.endswith('explorer.exe', na=False))\n",
    "]\n",
    ".head()\n",
    ")"
   ]
  },
  {
   "cell_type": "code",
   "execution_count": 7,
   "metadata": {},
   "outputs": [
    {
     "data": {
      "text/html": [
       "<div>\n",
       "<style scoped>\n",
       "    .dataframe tbody tr th:only-of-type {\n",
       "        vertical-align: middle;\n",
       "    }\n",
       "\n",
       "    .dataframe tbody tr th {\n",
       "        vertical-align: top;\n",
       "    }\n",
       "\n",
       "    .dataframe thead th {\n",
       "        text-align: right;\n",
       "    }\n",
       "</style>\n",
       "<table border=\"1\" class=\"dataframe\">\n",
       "  <thead>\n",
       "    <tr style=\"text-align: right;\">\n",
       "      <th></th>\n",
       "      <th>@timestamp</th>\n",
       "      <th>Hostname</th>\n",
       "      <th>Image</th>\n",
       "      <th>ParentImage</th>\n",
       "    </tr>\n",
       "  </thead>\n",
       "  <tbody>\n",
       "    <tr>\n",
       "      <th>258</th>\n",
       "      <td>2020-09-04T20:09:57.060Z</td>\n",
       "      <td>WORKSTATION5.theshire.local</td>\n",
       "      <td>C:\\Windows\\System32\\WindowsPowerShell\\v1.0\\pow...</td>\n",
       "      <td>C:\\Windows\\System32\\wscript.exe</td>\n",
       "    </tr>\n",
       "  </tbody>\n",
       "</table>\n",
       "</div>"
      ],
      "text/plain": [
       "                   @timestamp                     Hostname  \\\n",
       "258  2020-09-04T20:09:57.060Z  WORKSTATION5.theshire.local   \n",
       "\n",
       "                                                 Image  \\\n",
       "258  C:\\Windows\\System32\\WindowsPowerShell\\v1.0\\pow...   \n",
       "\n",
       "                         ParentImage  \n",
       "258  C:\\Windows\\System32\\wscript.exe  "
      ]
     },
     "execution_count": 7,
     "metadata": {},
     "output_type": "execute_result"
    }
   ],
   "source": [
    "(\n",
    "df[['@timestamp','Hostname','Image','ParentImage']]\n",
    "\n",
    "[(df['Channel'] == 'Microsoft-Windows-Sysmon/Operational')\n",
    "    & (df['EventID'] == 1)\n",
    "    & (df['Image'].str.lower().str.endswith('powershell.exe', na=False))\n",
    "    & (~df['ParentImage'].str.lower().str.endswith('explorer.exe', na=False))\n",
    "]\n",
    ".head()\n",
    ")"
   ]
  },
  {
   "cell_type": "code",
   "execution_count": 8,
   "metadata": {},
   "outputs": [
    {
     "data": {
      "text/html": [
       "<div>\n",
       "<style scoped>\n",
       "    .dataframe tbody tr th:only-of-type {\n",
       "        vertical-align: middle;\n",
       "    }\n",
       "\n",
       "    .dataframe tbody tr th {\n",
       "        vertical-align: top;\n",
       "    }\n",
       "\n",
       "    .dataframe thead th {\n",
       "        text-align: right;\n",
       "    }\n",
       "</style>\n",
       "<table border=\"1\" class=\"dataframe\">\n",
       "  <thead>\n",
       "    <tr style=\"text-align: right;\">\n",
       "      <th></th>\n",
       "      <th>@timestamp</th>\n",
       "      <th>Hostname</th>\n",
       "      <th>Image</th>\n",
       "      <th>ImageLoaded</th>\n",
       "    </tr>\n",
       "  </thead>\n",
       "  <tbody>\n",
       "    <tr>\n",
       "      <th>1100</th>\n",
       "      <td>2020-09-04T20:10:00.414Z</td>\n",
       "      <td>WORKSTATION5.theshire.local</td>\n",
       "      <td>C:\\Windows\\System32\\WindowsPowerShell\\v1.0\\pow...</td>\n",
       "      <td>C:\\Windows\\assembly\\NativeImages_v4.0.30319_64...</td>\n",
       "    </tr>\n",
       "  </tbody>\n",
       "</table>\n",
       "</div>"
      ],
      "text/plain": [
       "                    @timestamp                     Hostname  \\\n",
       "1100  2020-09-04T20:10:00.414Z  WORKSTATION5.theshire.local   \n",
       "\n",
       "                                                  Image  \\\n",
       "1100  C:\\Windows\\System32\\WindowsPowerShell\\v1.0\\pow...   \n",
       "\n",
       "                                            ImageLoaded  \n",
       "1100  C:\\Windows\\assembly\\NativeImages_v4.0.30319_64...  "
      ]
     },
     "execution_count": 8,
     "metadata": {},
     "output_type": "execute_result"
    }
   ],
   "source": [
    "(\n",
    "df[['@timestamp','Hostname','Image','ImageLoaded']]\n",
    "\n",
    "[(df['Channel'] == 'Microsoft-Windows-Sysmon/Operational')\n",
    "    & (df['EventID'] == 7)\n",
    "    & (\n",
    "        (df['Description'].str.lower() == 'system.management.automation')\n",
    "        | (df['ImageLoaded'].str.lower().str.contains('.*system.management.automation.*', regex=True))\n",
    "    )\n",
    "]\n",
    ".head()\n",
    ")"
   ]
  },
  {
   "cell_type": "code",
   "execution_count": 9,
   "metadata": {},
   "outputs": [
    {
     "data": {
      "text/html": [
       "<div>\n",
       "<style scoped>\n",
       "    .dataframe tbody tr th:only-of-type {\n",
       "        vertical-align: middle;\n",
       "    }\n",
       "\n",
       "    .dataframe tbody tr th {\n",
       "        vertical-align: top;\n",
       "    }\n",
       "\n",
       "    .dataframe thead th {\n",
       "        text-align: right;\n",
       "    }\n",
       "</style>\n",
       "<table border=\"1\" class=\"dataframe\">\n",
       "  <thead>\n",
       "    <tr style=\"text-align: right;\">\n",
       "      <th></th>\n",
       "      <th>@timestamp</th>\n",
       "      <th>Hostname</th>\n",
       "      <th>Image</th>\n",
       "      <th>PipeName</th>\n",
       "    </tr>\n",
       "  </thead>\n",
       "  <tbody>\n",
       "    <tr>\n",
       "      <th>1106</th>\n",
       "      <td>2020-09-04T20:10:00.419Z</td>\n",
       "      <td>WORKSTATION5.theshire.local</td>\n",
       "      <td>C:\\Windows\\System32\\WindowsPowerShell\\v1.0\\pow...</td>\n",
       "      <td>\\PSHost.132437237957601629.2316.DefaultAppDoma...</td>\n",
       "    </tr>\n",
       "  </tbody>\n",
       "</table>\n",
       "</div>"
      ],
      "text/plain": [
       "                    @timestamp                     Hostname  \\\n",
       "1106  2020-09-04T20:10:00.419Z  WORKSTATION5.theshire.local   \n",
       "\n",
       "                                                  Image  \\\n",
       "1106  C:\\Windows\\System32\\WindowsPowerShell\\v1.0\\pow...   \n",
       "\n",
       "                                               PipeName  \n",
       "1106  \\PSHost.132437237957601629.2316.DefaultAppDoma...  "
      ]
     },
     "execution_count": 9,
     "metadata": {},
     "output_type": "execute_result"
    }
   ],
   "source": [
    "(\n",
    "df[['@timestamp','Hostname','Image','PipeName']]\n",
    "\n",
    "[(df['Channel'] == 'Microsoft-Windows-Sysmon/Operational')\n",
    "    & (df['EventID'] == 17)\n",
    "    & (df['PipeName'].str.lower().str.startswith('\\pshost', na=False))\n",
    "]\n",
    ".head()\n",
    ")"
   ]
  },
  {
   "cell_type": "code",
   "execution_count": 10,
   "metadata": {},
   "outputs": [
    {
     "data": {
      "text/html": [
       "<div>\n",
       "<style scoped>\n",
       "    .dataframe tbody tr th:only-of-type {\n",
       "        vertical-align: middle;\n",
       "    }\n",
       "\n",
       "    .dataframe tbody tr th {\n",
       "        vertical-align: top;\n",
       "    }\n",
       "\n",
       "    .dataframe thead th {\n",
       "        text-align: right;\n",
       "    }\n",
       "</style>\n",
       "<table border=\"1\" class=\"dataframe\">\n",
       "  <thead>\n",
       "    <tr style=\"text-align: right;\">\n",
       "      <th></th>\n",
       "      <th>@timestamp</th>\n",
       "      <th>Hostname</th>\n",
       "      <th>Message</th>\n",
       "    </tr>\n",
       "  </thead>\n",
       "  <tbody>\n",
       "    <tr>\n",
       "      <th>913</th>\n",
       "      <td>2020-09-04T20:10:00.325Z</td>\n",
       "      <td>WORKSTATION5.theshire.local</td>\n",
       "      <td>Windows PowerShell has started an IPC listenin...</td>\n",
       "    </tr>\n",
       "  </tbody>\n",
       "</table>\n",
       "</div>"
      ],
      "text/plain": [
       "                   @timestamp                     Hostname  \\\n",
       "913  2020-09-04T20:10:00.325Z  WORKSTATION5.theshire.local   \n",
       "\n",
       "                                               Message  \n",
       "913  Windows PowerShell has started an IPC listenin...  "
      ]
     },
     "execution_count": 10,
     "metadata": {},
     "output_type": "execute_result"
    }
   ],
   "source": [
    "(\n",
    "df[['@timestamp','Hostname','Message']]\n",
    "\n",
    "[(df['Channel'] == 'Microsoft-Windows-PowerShell/Operational')\n",
    "    & (df['EventID'] == 53504)\n",
    "]\n",
    ".head()\n",
    ")"
   ]
  },
  {
   "cell_type": "code",
   "execution_count": null,
   "metadata": {},
   "outputs": [],
   "source": []
  }
 ],
 "metadata": {
  "kernelspec": {
   "display_name": "Python 3",
   "language": "python",
   "name": "python3"
  },
  "language_info": {
   "codemirror_mode": {
    "name": "ipython",
    "version": 3
   },
   "file_extension": ".py",
   "mimetype": "text/x-python",
   "name": "python",
   "nbconvert_exporter": "python",
   "pygments_lexer": "ipython3",
   "version": "3.7.3"
  }
 },
 "nbformat": 4,
 "nbformat_minor": 2
}
