{
 "cells": [
  {
   "cell_type": "code",
   "execution_count": 1,
   "metadata": {},
   "outputs": [],
   "source": [
    "import requests\n",
    "from zipfile import ZipFile\n",
    "from io import BytesIO\n",
    "\n",
    "url = 'https://raw.githubusercontent.com/OTRF/Security-Datasets/master/datasets/atomic/windows/credential_access/host/empire_mimikatz_logonpasswords.zip'\n",
    "zipFileRequest = requests.get(url)\n",
    "zipFile = ZipFile(BytesIO(zipFileRequest.content))\n",
    "datasetJSONPath = zipFile.extract(zipFile.namelist()[0])"
   ]
  },
  {
   "cell_type": "code",
   "execution_count": 2,
   "metadata": {},
   "outputs": [
    {
     "name": "stderr",
     "output_type": "stream",
     "text": [
      "C:\\Users\\ly\\AppData\\Roaming\\Python\\Python37\\site-packages\\numpy\\_distributor_init.py:32: UserWarning: loaded more than 1 DLL from .libs:\n",
      "C:\\Users\\ly\\AppData\\Roaming\\Python\\Python37\\site-packages\\numpy\\.libs\\libopenblas.GK7GX5KEQ4F6UYO3P26ULGBQYHGQO7J4.gfortran-win_amd64.dll\n",
      "C:\\Users\\ly\\AppData\\Roaming\\Python\\Python37\\site-packages\\numpy\\.libs\\libopenblas.PYQHXLVVQ7VESDPUVUADXEVJOBGHJPAY.gfortran-win_amd64.dll\n",
      "  stacklevel=1)\n"
     ]
    }
   ],
   "source": [
    "import pandas as pd\n",
    "from pandas.io import json\n",
    "\n",
    "df = json.read_json(path_or_buf=datasetJSONPath, lines=True)"
   ]
  },
  {
   "cell_type": "code",
   "execution_count": 3,
   "metadata": {},
   "outputs": [
    {
     "data": {
      "text/html": [
       "<div>\n",
       "<style scoped>\n",
       "    .dataframe tbody tr th:only-of-type {\n",
       "        vertical-align: middle;\n",
       "    }\n",
       "\n",
       "    .dataframe tbody tr th {\n",
       "        vertical-align: top;\n",
       "    }\n",
       "\n",
       "    .dataframe thead th {\n",
       "        text-align: right;\n",
       "    }\n",
       "</style>\n",
       "<table border=\"1\" class=\"dataframe\">\n",
       "  <thead>\n",
       "    <tr style=\"text-align: right;\">\n",
       "      <th></th>\n",
       "      <th>@timestamp</th>\n",
       "      <th>Hostname</th>\n",
       "      <th>SubjectUserName</th>\n",
       "      <th>ProcessName</th>\n",
       "      <th>ObjectName</th>\n",
       "      <th>AccessMask</th>\n",
       "      <th>EventID</th>\n",
       "    </tr>\n",
       "  </thead>\n",
       "  <tbody>\n",
       "    <tr>\n",
       "      <th>2459</th>\n",
       "      <td>2020-08-07T14:32:57.592Z</td>\n",
       "      <td>WORKSTATION5.theshire.local</td>\n",
       "      <td>pgustavo</td>\n",
       "      <td>C:\\Windows\\System32\\WindowsPowerShell\\v1.0\\pow...</td>\n",
       "      <td>\\Device\\HarddiskVolume2\\Windows\\System32\\lsass...</td>\n",
       "      <td>0x1010</td>\n",
       "      <td>4656</td>\n",
       "    </tr>\n",
       "    <tr>\n",
       "      <th>2460</th>\n",
       "      <td>2020-08-07T14:32:57.592Z</td>\n",
       "      <td>WORKSTATION5.theshire.local</td>\n",
       "      <td>pgustavo</td>\n",
       "      <td>C:\\Windows\\System32\\WindowsPowerShell\\v1.0\\pow...</td>\n",
       "      <td>\\Device\\HarddiskVolume2\\Windows\\System32\\lsass...</td>\n",
       "      <td>0x10</td>\n",
       "      <td>4663</td>\n",
       "    </tr>\n",
       "  </tbody>\n",
       "</table>\n",
       "</div>"
      ],
      "text/plain": [
       "                    @timestamp                     Hostname SubjectUserName  \\\n",
       "2459  2020-08-07T14:32:57.592Z  WORKSTATION5.theshire.local        pgustavo   \n",
       "2460  2020-08-07T14:32:57.592Z  WORKSTATION5.theshire.local        pgustavo   \n",
       "\n",
       "                                            ProcessName  \\\n",
       "2459  C:\\Windows\\System32\\WindowsPowerShell\\v1.0\\pow...   \n",
       "2460  C:\\Windows\\System32\\WindowsPowerShell\\v1.0\\pow...   \n",
       "\n",
       "                                             ObjectName AccessMask  EventID  \n",
       "2459  \\Device\\HarddiskVolume2\\Windows\\System32\\lsass...     0x1010     4656  \n",
       "2460  \\Device\\HarddiskVolume2\\Windows\\System32\\lsass...       0x10     4663  "
      ]
     },
     "execution_count": 3,
     "metadata": {},
     "output_type": "execute_result"
    }
   ],
   "source": [
    "(\n",
    "df[['@timestamp','Hostname','SubjectUserName','ProcessName','ObjectName','AccessMask','EventID']]\n",
    "\n",
    "[(df['Channel'].str.lower() == 'security')\n",
    "    & ((df['EventID'] == 4663) | (df['EventID'] == 4656))\n",
    "    & (df['ObjectName'].str.contains('.*lsass.exe', regex=True))\n",
    "    & (~df['SubjectUserName'].str.endswith('.*$', na=False))\n",
    "]\n",
    ".head()\n",
    ")"
   ]
  },
  {
   "cell_type": "code",
   "execution_count": 4,
   "metadata": {},
   "outputs": [
    {
     "data": {
      "text/html": [
       "<div>\n",
       "<style scoped>\n",
       "    .dataframe tbody tr th:only-of-type {\n",
       "        vertical-align: middle;\n",
       "    }\n",
       "\n",
       "    .dataframe tbody tr th {\n",
       "        vertical-align: top;\n",
       "    }\n",
       "\n",
       "    .dataframe thead th {\n",
       "        text-align: right;\n",
       "    }\n",
       "</style>\n",
       "<table border=\"1\" class=\"dataframe\">\n",
       "  <thead>\n",
       "    <tr style=\"text-align: right;\">\n",
       "      <th></th>\n",
       "      <th>@timestamp</th>\n",
       "      <th>Hostname</th>\n",
       "      <th>SourceImage</th>\n",
       "      <th>TargetImage</th>\n",
       "      <th>GrantedAccess</th>\n",
       "      <th>SourceProcessGUID</th>\n",
       "      <th>CallTrace</th>\n",
       "    </tr>\n",
       "  </thead>\n",
       "  <tbody>\n",
       "    <tr>\n",
       "      <th>2450</th>\n",
       "      <td>2020-08-07T14:32:57.589Z</td>\n",
       "      <td>WORKSTATION5.theshire.local</td>\n",
       "      <td>C:\\windows\\System32\\WindowsPowerShell\\v1.0\\pow...</td>\n",
       "      <td>C:\\windows\\system32\\lsass.exe</td>\n",
       "      <td>0x1010</td>\n",
       "      <td>{297bc33e-65d0-5f2d-8207-000000000400}</td>\n",
       "      <td>C:\\windows\\SYSTEM32\\ntdll.dll+9c534|C:\\windows...</td>\n",
       "    </tr>\n",
       "  </tbody>\n",
       "</table>\n",
       "</div>"
      ],
      "text/plain": [
       "                    @timestamp                     Hostname  \\\n",
       "2450  2020-08-07T14:32:57.589Z  WORKSTATION5.theshire.local   \n",
       "\n",
       "                                            SourceImage  \\\n",
       "2450  C:\\windows\\System32\\WindowsPowerShell\\v1.0\\pow...   \n",
       "\n",
       "                        TargetImage GrantedAccess  \\\n",
       "2450  C:\\windows\\system32\\lsass.exe        0x1010   \n",
       "\n",
       "                           SourceProcessGUID  \\\n",
       "2450  {297bc33e-65d0-5f2d-8207-000000000400}   \n",
       "\n",
       "                                              CallTrace  \n",
       "2450  C:\\windows\\SYSTEM32\\ntdll.dll+9c534|C:\\windows...  "
      ]
     },
     "execution_count": 4,
     "metadata": {},
     "output_type": "execute_result"
    }
   ],
   "source": [
    "(\n",
    "df[['@timestamp','Hostname','SourceImage','TargetImage','GrantedAccess','SourceProcessGUID','CallTrace']]\n",
    "\n",
    "[(df['Channel'] == 'Microsoft-Windows-Sysmon/Operational')\n",
    "    & (df['EventID'] == 10)\n",
    "    & (df['TargetImage'].str.contains('.*lsass.exe', regex=True))\n",
    "    & (df['CallTrace'].str.contains('.*UNKNOWN*', regex=True))\n",
    "]\n",
    ".head()\n",
    ")"
   ]
  },
  {
   "cell_type": "code",
   "execution_count": 7,
   "metadata": {},
   "outputs": [
    {
     "data": {
      "text/html": [
       "<div>\n",
       "<style scoped>\n",
       "    .dataframe tbody tr th:only-of-type {\n",
       "        vertical-align: middle;\n",
       "    }\n",
       "\n",
       "    .dataframe tbody tr th {\n",
       "        vertical-align: top;\n",
       "    }\n",
       "\n",
       "    .dataframe thead th {\n",
       "        text-align: right;\n",
       "    }\n",
       "</style>\n",
       "<table border=\"1\" class=\"dataframe\">\n",
       "  <thead>\n",
       "    <tr style=\"text-align: right;\">\n",
       "      <th></th>\n",
       "      <th></th>\n",
       "      <th>ImageLoaded</th>\n",
       "    </tr>\n",
       "    <tr>\n",
       "      <th>ProcessGuid</th>\n",
       "      <th>Image</th>\n",
       "      <th></th>\n",
       "    </tr>\n",
       "  </thead>\n",
       "  <tbody>\n",
       "    <tr>\n",
       "      <th>{297bc33e-65d0-5f2d-8207-000000000400}</th>\n",
       "      <th>C:\\Windows\\System32\\WindowsPowerShell\\v1.0\\powershell.exe</th>\n",
       "      <td>4</td>\n",
       "    </tr>\n",
       "  </tbody>\n",
       "</table>\n",
       "</div>"
      ],
      "text/plain": [
       "                                                                                           ImageLoaded\n",
       "ProcessGuid                            Image                                                          \n",
       "{297bc33e-65d0-5f2d-8207-000000000400} C:\\Windows\\System32\\WindowsPowerShell\\v1.0\\powe...            4"
      ]
     },
     "execution_count": 7,
     "metadata": {},
     "output_type": "execute_result"
    }
   ],
   "source": [
    "(\n",
    "df[['@timestamp','ProcessGuid','Image','ImageLoaded']]\n",
    "    \n",
    "[(df['Channel'] == 'Microsoft-Windows-Sysmon/Operational')\n",
    "    & (df['EventID'] == 7)\n",
    "    & (\n",
    "        (df['ImageLoaded'].str.contains('.*samlib.dll', regex=True))\n",
    "        | (df['ImageLoaded'].str.contains('.*vaultcli.dll', regex=True))\n",
    "        | (df['ImageLoaded'].str.contains('.*hid.dll', regex=True))\n",
    "        | (df['ImageLoaded'].str.contains('.*winscard.dll', regex=True))\n",
    "        | (df['ImageLoaded'].str.contains('.*cryptdll.dll', regex=True))\n",
    "    )\n",
    "    & (df['@timestamp'].between('2020-06-00 00:00:00.000','2020-08-20 00:00:00.000'))\n",
    "]\n",
    ".groupby(['ProcessGuid','Image'])['ImageLoaded'].count().sort_values(ascending=False)\n",
    ").to_frame()\n",
    "# )"
   ]
  },
  {
   "cell_type": "code",
   "execution_count": 15,
   "metadata": {},
   "outputs": [
    {
     "data": {
      "text/html": [
       "<div>\n",
       "<style scoped>\n",
       "    .dataframe tbody tr th:only-of-type {\n",
       "        vertical-align: middle;\n",
       "    }\n",
       "\n",
       "    .dataframe tbody tr th {\n",
       "        vertical-align: top;\n",
       "    }\n",
       "\n",
       "    .dataframe thead th {\n",
       "        text-align: right;\n",
       "    }\n",
       "</style>\n",
       "<table border=\"1\" class=\"dataframe\">\n",
       "  <thead>\n",
       "    <tr style=\"text-align: right;\">\n",
       "      <th></th>\n",
       "      <th>ImageLoaded</th>\n",
       "      <th>@timestamp</th>\n",
       "      <th>Hostname</th>\n",
       "      <th>SourceImage</th>\n",
       "      <th>TargetImage</th>\n",
       "      <th>GrantedAccess</th>\n",
       "      <th>SourceProcessGUID</th>\n",
       "    </tr>\n",
       "  </thead>\n",
       "  <tbody>\n",
       "    <tr>\n",
       "      <th>0</th>\n",
       "      <td>4</td>\n",
       "      <td>2020-08-07T14:32:57.589Z</td>\n",
       "      <td>WORKSTATION5.theshire.local</td>\n",
       "      <td>C:\\windows\\System32\\WindowsPowerShell\\v1.0\\pow...</td>\n",
       "      <td>C:\\windows\\system32\\lsass.exe</td>\n",
       "      <td>0x1010</td>\n",
       "      <td>{297bc33e-65d0-5f2d-8207-000000000400}</td>\n",
       "    </tr>\n",
       "  </tbody>\n",
       "</table>\n",
       "</div>"
      ],
      "text/plain": [
       "   ImageLoaded                @timestamp                     Hostname  \\\n",
       "0            4  2020-08-07T14:32:57.589Z  WORKSTATION5.theshire.local   \n",
       "\n",
       "                                         SourceImage  \\\n",
       "0  C:\\windows\\System32\\WindowsPowerShell\\v1.0\\pow...   \n",
       "\n",
       "                     TargetImage GrantedAccess  \\\n",
       "0  C:\\windows\\system32\\lsass.exe        0x1010   \n",
       "\n",
       "                        SourceProcessGUID  \n",
       "0  {297bc33e-65d0-5f2d-8207-000000000400}  "
      ]
     },
     "execution_count": 15,
     "metadata": {},
     "output_type": "execute_result"
    }
   ],
   "source": [
    "imageLoadDf = (\n",
    "df[['@timestamp','ProcessGuid','Image','ImageLoaded']]\n",
    "\n",
    "[(df['Channel'] == 'Microsoft-Windows-Sysmon/Operational')\n",
    "    & (df['EventID'] == 7)\n",
    "    & (\n",
    "        (df['ImageLoaded'].str.contains('.*samlib.dll', regex=True))\n",
    "        | (df['ImageLoaded'].str.contains('.*vaultcli.dll', regex=True))\n",
    "        | (df['ImageLoaded'].str.contains('.*hid.dll', regex=True))\n",
    "        | (df['ImageLoaded'].str.contains('.*winscard.dll', regex=True))\n",
    "        | (df['ImageLoaded'].str.contains('.*cryptdll.dll', regex=True))\n",
    "    )\n",
    "    & (df['@timestamp'].between('2020-06-00 00:00:00.000','2020-08-20 00:00:00.000'))\n",
    "]\n",
    ".groupby(['ProcessGuid','Image'])['ImageLoaded'].count().sort_values(ascending=False)\n",
    ").to_frame()\n",
    "\n",
    "\n",
    "# processAccessDf = (\n",
    "df[['@timestamp', 'Hostname', 'SourceImage', 'TargetImage', 'GrantedAccess', 'SourceProcessGUID']]\n",
    "\n",
    "[(df['Channel'] == 'Microsoft-Windows-Sysmon/Operational')\n",
    "    & (df['EventID'] == 10)\n",
    "    & (df['TargetImage'].str.contains('.*lsass.exe', regex=True))\n",
    "    & (df['CallTrace'].str.contains('.*UNKNOWN*', regex=True))\n",
    "]\n",
    "\n",
    "\n",
    "(\n",
    "pd.merge(imageLoadDf, processAccessDf,\n",
    "    left_on = 'ProcessGuid', right_on = 'SourceProcessGUID', how = 'inner')\n",
    ")"
   ]
  },
  {
   "cell_type": "markdown",
   "metadata": {},
   "source": [
    "## Hunter Notes\n",
    "- Looking for processes accessing LSASS with the 0x10(VmRead) rights from a non-system account is very suspicious and not as common as you might think.\n",
    "- GrantedAccess code 0x1010 is the new permission Mimikatz v.20170327 uses for command \"sekurlsa::logonpasswords\". You can specifically look for that from processes like PowerShell to create a basic signature.\n",
    "    - 0x00000010 = VMRead\n",
    "    - 0x00001000 = QueryLimitedInfo\n",
    "- GrantedAccess code 0x1010 is less common than 0x1410 in large environment.\n",
    "- Out of all the Modules that Mimikatz needs to function, there are 5 modules that when loaded all together by the same process is very suspicious.\n",
    "    - samlib.dll, vaultcli.dll, hid.dll, winscard.dll, cryptdll.dll\n",
    "- For signatures purposes, look for processes accessing Lsass.exe with a potential CallTrace Pattern> /C:\\Windows\\SYSTEM32\\ntdll.dll+[a-zA-Z0-9]{1,}|C:\\Windows\\System32\\KERNELBASE.dll+[a-zA-Z0-9]{1,}|UNKNOWN.*/\n",
    "- You could use a stack counting technique to stack all the values of the permissions invoked by processes accessing Lsass.exe. You will have to do some filtering to reduce the number of false positives. You could then group the results with other events such as modules being loaded (EID 7). A time window of 1-2 seconds could help to get to a reasonable number of events for analysis."
   ]
  },
  {
   "cell_type": "code",
   "execution_count": null,
   "metadata": {},
   "outputs": [],
   "source": []
  }
 ],
 "metadata": {
  "kernelspec": {
   "display_name": "Python 3",
   "language": "python",
   "name": "python3"
  },
  "language_info": {
   "codemirror_mode": {
    "name": "ipython",
    "version": 3
   },
   "file_extension": ".py",
   "mimetype": "text/x-python",
   "name": "python",
   "nbconvert_exporter": "python",
   "pygments_lexer": "ipython3",
   "version": "3.7.3"
  }
 },
 "nbformat": 4,
 "nbformat_minor": 2
}
