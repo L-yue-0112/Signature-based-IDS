{
 "cells": [
  {
   "cell_type": "code",
   "execution_count": 1,
   "metadata": {},
   "outputs": [],
   "source": [
    "import requests\n",
    "from zipfile import ZipFile\n",
    "from io import BytesIO\n",
    "\n",
    "url = 'https://raw.githubusercontent.com/OTRF/Security-Datasets/master/datasets/atomic/windows/defense_evasion/host/empire_psinject_PEinjection.zip'\n",
    "zipFileRequest = requests.get(url)\n",
    "zipFile = ZipFile(BytesIO(zipFileRequest.content))\n",
    "datasetJSONPath = zipFile.extract(zipFile.namelist()[0])"
   ]
  },
  {
   "cell_type": "code",
   "execution_count": 2,
   "metadata": {},
   "outputs": [
    {
     "name": "stderr",
     "output_type": "stream",
     "text": [
      "C:\\Users\\ly\\AppData\\Roaming\\Python\\Python37\\site-packages\\numpy\\_distributor_init.py:32: UserWarning: loaded more than 1 DLL from .libs:\n",
      "C:\\Users\\ly\\AppData\\Roaming\\Python\\Python37\\site-packages\\numpy\\.libs\\libopenblas.GK7GX5KEQ4F6UYO3P26ULGBQYHGQO7J4.gfortran-win_amd64.dll\n",
      "C:\\Users\\ly\\AppData\\Roaming\\Python\\Python37\\site-packages\\numpy\\.libs\\libopenblas.PYQHXLVVQ7VESDPUVUADXEVJOBGHJPAY.gfortran-win_amd64.dll\n",
      "  stacklevel=1)\n"
     ]
    }
   ],
   "source": [
    "import pandas as pd\n",
    "from pandas.io import json\n",
    "\n",
    "df = json.read_json(path_or_buf=datasetJSONPath, lines=True)"
   ]
  },
  {
   "cell_type": "code",
   "execution_count": 3,
   "metadata": {},
   "outputs": [
    {
     "data": {
      "text/html": [
       "<div>\n",
       "<style scoped>\n",
       "    .dataframe tbody tr th:only-of-type {\n",
       "        vertical-align: middle;\n",
       "    }\n",
       "\n",
       "    .dataframe tbody tr th {\n",
       "        vertical-align: top;\n",
       "    }\n",
       "\n",
       "    .dataframe thead th {\n",
       "        text-align: right;\n",
       "    }\n",
       "</style>\n",
       "<table border=\"1\" class=\"dataframe\">\n",
       "  <thead>\n",
       "    <tr style=\"text-align: right;\">\n",
       "      <th></th>\n",
       "      <th>@timestamp</th>\n",
       "      <th>Hostname</th>\n",
       "      <th>Image</th>\n",
       "      <th>ImageLoaded</th>\n",
       "    </tr>\n",
       "  </thead>\n",
       "  <tbody>\n",
       "    <tr>\n",
       "      <th>2168</th>\n",
       "      <td>2020-08-07T18:32:49.233Z</td>\n",
       "      <td>WORKSTATION5.theshire.local</td>\n",
       "      <td>C:\\Windows\\System32\\notepad.exe</td>\n",
       "      <td>C:\\Windows\\System32\\wbem\\wmiutils.dll</td>\n",
       "    </tr>\n",
       "    <tr>\n",
       "      <th>2172</th>\n",
       "      <td>2020-08-07T18:32:49.240Z</td>\n",
       "      <td>WORKSTATION5.theshire.local</td>\n",
       "      <td>C:\\Windows\\System32\\notepad.exe</td>\n",
       "      <td>C:\\Windows\\System32\\wbemcomn.dll</td>\n",
       "    </tr>\n",
       "    <tr>\n",
       "      <th>2194</th>\n",
       "      <td>2020-08-07T18:32:49.253Z</td>\n",
       "      <td>WORKSTATION5.theshire.local</td>\n",
       "      <td>C:\\Windows\\System32\\notepad.exe</td>\n",
       "      <td>C:\\Windows\\Microsoft.NET\\Framework64\\v4.0.3031...</td>\n",
       "    </tr>\n",
       "    <tr>\n",
       "      <th>2232</th>\n",
       "      <td>2020-08-07T18:32:49.279Z</td>\n",
       "      <td>WORKSTATION5.theshire.local</td>\n",
       "      <td>C:\\Windows\\System32\\notepad.exe</td>\n",
       "      <td>C:\\Windows\\System32\\wbem\\wbemsvc.dll</td>\n",
       "    </tr>\n",
       "    <tr>\n",
       "      <th>2235</th>\n",
       "      <td>2020-08-07T18:32:49.286Z</td>\n",
       "      <td>WORKSTATION5.theshire.local</td>\n",
       "      <td>C:\\Windows\\System32\\notepad.exe</td>\n",
       "      <td>C:\\Windows\\System32\\wbem\\fastprox.dll</td>\n",
       "    </tr>\n",
       "  </tbody>\n",
       "</table>\n",
       "</div>"
      ],
      "text/plain": [
       "                    @timestamp                     Hostname  \\\n",
       "2168  2020-08-07T18:32:49.233Z  WORKSTATION5.theshire.local   \n",
       "2172  2020-08-07T18:32:49.240Z  WORKSTATION5.theshire.local   \n",
       "2194  2020-08-07T18:32:49.253Z  WORKSTATION5.theshire.local   \n",
       "2232  2020-08-07T18:32:49.279Z  WORKSTATION5.theshire.local   \n",
       "2235  2020-08-07T18:32:49.286Z  WORKSTATION5.theshire.local   \n",
       "\n",
       "                                Image  \\\n",
       "2168  C:\\Windows\\System32\\notepad.exe   \n",
       "2172  C:\\Windows\\System32\\notepad.exe   \n",
       "2194  C:\\Windows\\System32\\notepad.exe   \n",
       "2232  C:\\Windows\\System32\\notepad.exe   \n",
       "2235  C:\\Windows\\System32\\notepad.exe   \n",
       "\n",
       "                                            ImageLoaded  \n",
       "2168              C:\\Windows\\System32\\wbem\\wmiutils.dll  \n",
       "2172                   C:\\Windows\\System32\\wbemcomn.dll  \n",
       "2194  C:\\Windows\\Microsoft.NET\\Framework64\\v4.0.3031...  \n",
       "2232               C:\\Windows\\System32\\wbem\\wbemsvc.dll  \n",
       "2235              C:\\Windows\\System32\\wbem\\fastprox.dll  "
      ]
     },
     "execution_count": 3,
     "metadata": {},
     "output_type": "execute_result"
    }
   ],
   "source": [
    "(\n",
    "df[['@timestamp','Hostname','Image','ImageLoaded']]\n",
    "\n",
    "[(df['Channel'] == 'Microsoft-Windows-Sysmon/Operational')\n",
    "    & (df['EventID'] == 7)\n",
    "    & (\n",
    "      (df['ImageLoaded'].str.lower().str.endswith('wmiclnt.dll', na=False))\n",
    "      | (df['ImageLoaded'].str.lower().str.endswith('wmiaprpl.dll', na=False))\n",
    "      | (df['ImageLoaded'].str.lower().str.endswith('wmiprov.dll', na=False))\n",
    "      | (df['ImageLoaded'].str.lower().str.endswith('wmiutils.dll', na=False))\n",
    "      | (df['ImageLoaded'].str.lower().str.endswith('wbemcomn.dll', na=False))\n",
    "      | (df['ImageLoaded'].str.lower().str.endswith('wminet_utils.dll', na=False))\n",
    "      | (df['ImageLoaded'].str.lower().str.endswith('wbemsvc.dll', na=False))\n",
    "      | (df['ImageLoaded'].str.lower().str.endswith('fastprox.dll', na=False))\n",
    "      | (df['ImageLoaded'].str.lower().str.contains('.*wmi.*', regex=True))\n",
    "    )\n",
    "    & (\n",
    "      (~df['Image'].str.lower().str.endswith('wmiprvse.exe', na=False))\n",
    "      & (~df['Image'].str.lower().str.endswith('wmiapsrv.exe', na=False))\n",
    "      & (~df['Image'].str.lower().str.endswith('svchost.exe', na=False))\n",
    "    )\n",
    "]\n",
    ")"
   ]
  },
  {
   "cell_type": "code",
   "execution_count": null,
   "metadata": {},
   "outputs": [],
   "source": []
  }
 ],
 "metadata": {
  "kernelspec": {
   "display_name": "Python 3",
   "language": "python",
   "name": "python3"
  },
  "language_info": {
   "codemirror_mode": {
    "name": "ipython",
    "version": 3
   },
   "file_extension": ".py",
   "mimetype": "text/x-python",
   "name": "python",
   "nbconvert_exporter": "python",
   "pygments_lexer": "ipython3",
   "version": "3.7.3"
  }
 },
 "nbformat": 4,
 "nbformat_minor": 2
}
