{
 "cells": [
  {
   "cell_type": "code",
   "execution_count": 1,
   "metadata": {},
   "outputs": [],
   "source": [
    "import requests\n",
    "from zipfile import ZipFile\n",
    "from io import BytesIO\n",
    "\n",
    "url = 'https://raw.githubusercontent.com/OTRF/Security-Datasets/master/datasets/atomic/windows/lateral_movement/host/empire_wmi_dcerpc_wmi_IWbemServices_ExecMethod.zip'\n",
    "zipFileRequest = requests.get(url)\n",
    "zipFile = ZipFile(BytesIO(zipFileRequest.content))\n",
    "datasetJSONPath = zipFile.extract(zipFile.namelist()[0])"
   ]
  },
  {
   "cell_type": "code",
   "execution_count": 2,
   "metadata": {},
   "outputs": [
    {
     "name": "stderr",
     "output_type": "stream",
     "text": [
      "C:\\Users\\ly\\AppData\\Roaming\\Python\\Python37\\site-packages\\numpy\\_distributor_init.py:32: UserWarning: loaded more than 1 DLL from .libs:\n",
      "C:\\Users\\ly\\AppData\\Roaming\\Python\\Python37\\site-packages\\numpy\\.libs\\libopenblas.GK7GX5KEQ4F6UYO3P26ULGBQYHGQO7J4.gfortran-win_amd64.dll\n",
      "C:\\Users\\ly\\AppData\\Roaming\\Python\\Python37\\site-packages\\numpy\\.libs\\libopenblas.PYQHXLVVQ7VESDPUVUADXEVJOBGHJPAY.gfortran-win_amd64.dll\n",
      "  stacklevel=1)\n"
     ]
    }
   ],
   "source": [
    "import pandas as pd\n",
    "from pandas.io import json\n",
    "\n",
    "df = json.read_json(path_or_buf=datasetJSONPath, lines=True)"
   ]
  },
  {
   "cell_type": "code",
   "execution_count": 3,
   "metadata": {},
   "outputs": [
    {
     "data": {
      "text/html": [
       "<div>\n",
       "<style scoped>\n",
       "    .dataframe tbody tr th:only-of-type {\n",
       "        vertical-align: middle;\n",
       "    }\n",
       "\n",
       "    .dataframe tbody tr th {\n",
       "        vertical-align: top;\n",
       "    }\n",
       "\n",
       "    .dataframe thead th {\n",
       "        text-align: right;\n",
       "    }\n",
       "</style>\n",
       "<table border=\"1\" class=\"dataframe\">\n",
       "  <thead>\n",
       "    <tr style=\"text-align: right;\">\n",
       "      <th></th>\n",
       "      <th>@timestamp</th>\n",
       "      <th>Hostname</th>\n",
       "      <th>SubjectUserName</th>\n",
       "      <th>TargetUserName</th>\n",
       "      <th>TargetLogonId</th>\n",
       "      <th>NewProcessName</th>\n",
       "      <th>CommandLine</th>\n",
       "    </tr>\n",
       "  </thead>\n",
       "  <tbody>\n",
       "    <tr>\n",
       "      <th>551</th>\n",
       "      <td>2020-09-21T04:14:55.136Z</td>\n",
       "      <td>WORKSTATION6.theshire.local</td>\n",
       "      <td>WORKSTATION6$</td>\n",
       "      <td>pgustavo</td>\n",
       "      <td>0x32c5cb5</td>\n",
       "      <td>C:\\Windows\\System32\\WindowsPowerShell\\v1.0\\pow...</td>\n",
       "      <td>C:\\Windows\\System32\\WindowsPowershell\\v1.0\\pow...</td>\n",
       "    </tr>\n",
       "  </tbody>\n",
       "</table>\n",
       "</div>"
      ],
      "text/plain": [
       "                   @timestamp                     Hostname SubjectUserName  \\\n",
       "551  2020-09-21T04:14:55.136Z  WORKSTATION6.theshire.local   WORKSTATION6$   \n",
       "\n",
       "    TargetUserName TargetLogonId  \\\n",
       "551       pgustavo     0x32c5cb5   \n",
       "\n",
       "                                        NewProcessName  \\\n",
       "551  C:\\Windows\\System32\\WindowsPowerShell\\v1.0\\pow...   \n",
       "\n",
       "                                           CommandLine  \n",
       "551  C:\\Windows\\System32\\WindowsPowershell\\v1.0\\pow...  "
      ]
     },
     "execution_count": 3,
     "metadata": {},
     "output_type": "execute_result"
    }
   ],
   "source": [
    "(\n",
    "df[['@timestamp','Hostname','SubjectUserName','TargetUserName','TargetLogonId','NewProcessName','CommandLine']]\n",
    "\n",
    "[(df['Channel'].str.lower() == 'security')\n",
    "    & (df['EventID'] == 4688)\n",
    "    & (df['ParentProcessName'].str.lower().str.endswith('wmiprvse.exe', na=False))\n",
    "    & (df['TargetLogonId'] != '0x3e7')\n",
    "]\n",
    ".head()\n",
    ")"
   ]
  },
  {
   "cell_type": "code",
   "execution_count": 4,
   "metadata": {},
   "outputs": [
    {
     "data": {
      "text/html": [
       "<div>\n",
       "<style scoped>\n",
       "    .dataframe tbody tr th:only-of-type {\n",
       "        vertical-align: middle;\n",
       "    }\n",
       "\n",
       "    .dataframe tbody tr th {\n",
       "        vertical-align: top;\n",
       "    }\n",
       "\n",
       "    .dataframe thead th {\n",
       "        text-align: right;\n",
       "    }\n",
       "</style>\n",
       "<table border=\"1\" class=\"dataframe\">\n",
       "  <thead>\n",
       "    <tr style=\"text-align: right;\">\n",
       "      <th></th>\n",
       "      <th>@timestamp</th>\n",
       "      <th>Hostname</th>\n",
       "      <th>User</th>\n",
       "      <th>Image</th>\n",
       "      <th>CommandLine</th>\n",
       "    </tr>\n",
       "  </thead>\n",
       "  <tbody>\n",
       "    <tr>\n",
       "      <th>368</th>\n",
       "      <td>2020-09-21T04:14:55.050Z</td>\n",
       "      <td>WORKSTATION6.theshire.local</td>\n",
       "      <td>THESHIRE\\pgustavo</td>\n",
       "      <td>C:\\Windows\\System32\\WindowsPowerShell\\v1.0\\pow...</td>\n",
       "      <td>C:\\Windows\\System32\\WindowsPowershell\\v1.0\\pow...</td>\n",
       "    </tr>\n",
       "  </tbody>\n",
       "</table>\n",
       "</div>"
      ],
      "text/plain": [
       "                   @timestamp                     Hostname               User  \\\n",
       "368  2020-09-21T04:14:55.050Z  WORKSTATION6.theshire.local  THESHIRE\\pgustavo   \n",
       "\n",
       "                                                 Image  \\\n",
       "368  C:\\Windows\\System32\\WindowsPowerShell\\v1.0\\pow...   \n",
       "\n",
       "                                           CommandLine  \n",
       "368  C:\\Windows\\System32\\WindowsPowershell\\v1.0\\pow...  "
      ]
     },
     "execution_count": 4,
     "metadata": {},
     "output_type": "execute_result"
    }
   ],
   "source": [
    "(\n",
    "df[['@timestamp','Hostname','User','Image','CommandLine']]\n",
    "\n",
    "[(df['Channel'] == 'Microsoft-Windows-Sysmon/Operational')\n",
    "    & (df['EventID'] == 1)\n",
    "    & (df['ParentImage'].str.lower().str.endswith('wmiprvse.exe', na=False))\n",
    "    & (df['LogonId'] != '0x3e7')\n",
    "]\n",
    ".head()\n",
    ")"
   ]
  },
  {
   "cell_type": "code",
   "execution_count": 9,
   "metadata": {},
   "outputs": [
    {
     "data": {
      "text/html": [
       "<div>\n",
       "<style scoped>\n",
       "    .dataframe tbody tr th:only-of-type {\n",
       "        vertical-align: middle;\n",
       "    }\n",
       "\n",
       "    .dataframe tbody tr th {\n",
       "        vertical-align: top;\n",
       "    }\n",
       "\n",
       "    .dataframe thead th {\n",
       "        text-align: right;\n",
       "    }\n",
       "</style>\n",
       "<table border=\"1\" class=\"dataframe\">\n",
       "  <thead>\n",
       "    <tr style=\"text-align: right;\">\n",
       "      <th></th>\n",
       "      <th>@timestamp_x</th>\n",
       "      <th>Hostname_x</th>\n",
       "      <th>SubjectUserName</th>\n",
       "      <th>TargetUserName_x</th>\n",
       "      <th>TargetLogonId</th>\n",
       "      <th>NewProcessName</th>\n",
       "      <th>CommandLine</th>\n",
       "      <th>IpAddress_x</th>\n",
       "      <th>@timestamp_y</th>\n",
       "      <th>Hostname_y</th>\n",
       "      <th>TargetUserName_y</th>\n",
       "      <th>IpAddress_y</th>\n",
       "    </tr>\n",
       "  </thead>\n",
       "  <tbody>\n",
       "    <tr>\n",
       "      <th>0</th>\n",
       "      <td>2020-09-21T04:14:55.136Z</td>\n",
       "      <td>WORKSTATION6.theshire.local</td>\n",
       "      <td>WORKSTATION6$</td>\n",
       "      <td>pgustavo</td>\n",
       "      <td>0x32c5cb5</td>\n",
       "      <td>C:\\Windows\\System32\\WindowsPowerShell\\v1.0\\pow...</td>\n",
       "      <td>C:\\Windows\\System32\\WindowsPowershell\\v1.0\\pow...</td>\n",
       "      <td>NaN</td>\n",
       "      <td>2020-09-21T04:14:55.119Z</td>\n",
       "      <td>WORKSTATION6.theshire.local</td>\n",
       "      <td>pgustavo</td>\n",
       "      <td>172.18.39.5</td>\n",
       "    </tr>\n",
       "  </tbody>\n",
       "</table>\n",
       "</div>"
      ],
      "text/plain": [
       "               @timestamp_x                   Hostname_x SubjectUserName  \\\n",
       "0  2020-09-21T04:14:55.136Z  WORKSTATION6.theshire.local   WORKSTATION6$   \n",
       "\n",
       "  TargetUserName_x TargetLogonId  \\\n",
       "0         pgustavo     0x32c5cb5   \n",
       "\n",
       "                                      NewProcessName  \\\n",
       "0  C:\\Windows\\System32\\WindowsPowerShell\\v1.0\\pow...   \n",
       "\n",
       "                                         CommandLine IpAddress_x  \\\n",
       "0  C:\\Windows\\System32\\WindowsPowershell\\v1.0\\pow...         NaN   \n",
       "\n",
       "               @timestamp_y                   Hostname_y TargetUserName_y  \\\n",
       "0  2020-09-21T04:14:55.119Z  WORKSTATION6.theshire.local         pgustavo   \n",
       "\n",
       "   IpAddress_y  \n",
       "0  172.18.39.5  "
      ]
     },
     "execution_count": 9,
     "metadata": {},
     "output_type": "execute_result"
    }
   ],
   "source": [
    "processCreateDf = (\n",
    "# (\n",
    "df[['@timestamp','Hostname','SubjectUserName','TargetUserName','TargetLogonId','NewProcessName','CommandLine','IpAddress']]\n",
    "\n",
    "[(df['Channel'].str.lower() == 'security')\n",
    "    & (df['EventID'] == 4688)\n",
    "    & (df['ParentProcessName'].str.lower().str.endswith('wmiprvse.exe', na=False))\n",
    "    & (df['TargetLogonId'] != '0x3e7')\n",
    "]\n",
    ".head()\n",
    ")\n",
    "\n",
    "networkLogonDf = (\n",
    "# (\n",
    "df[['@timestamp', 'Hostname', 'TargetUserName', 'TargetLogonId', 'IpAddress']]\n",
    "\n",
    "[(df['Channel'].str.lower() == 'security')\n",
    "    & (df['EventID'] == 4624)\n",
    "    & (df['LogonType'] == 3)\n",
    "    & (~df['SubjectUserName'].str.endswith('.*$', na=False))\n",
    "]\n",
    ")\n",
    "\n",
    "(\n",
    "pd.merge(processCreateDf, networkLogonDf,\n",
    "    on = 'TargetLogonId', how = 'inner')\n",
    ")\n"
   ]
  },
  {
   "cell_type": "code",
   "execution_count": null,
   "metadata": {},
   "outputs": [],
   "source": []
  }
 ],
 "metadata": {
  "kernelspec": {
   "display_name": "Python 3",
   "language": "python",
   "name": "python3"
  },
  "language_info": {
   "codemirror_mode": {
    "name": "ipython",
    "version": 3
   },
   "file_extension": ".py",
   "mimetype": "text/x-python",
   "name": "python",
   "nbconvert_exporter": "python",
   "pygments_lexer": "ipython3",
   "version": "3.7.3"
  }
 },
 "nbformat": 4,
 "nbformat_minor": 2
}
