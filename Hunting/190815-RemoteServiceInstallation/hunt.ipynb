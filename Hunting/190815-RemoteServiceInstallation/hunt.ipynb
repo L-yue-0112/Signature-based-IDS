{
 "cells": [
  {
   "cell_type": "code",
   "execution_count": 1,
   "metadata": {},
   "outputs": [],
   "source": [
    "import requests\n",
    "from zipfile import ZipFile\n",
    "from io import BytesIO\n",
    "\n",
    "url = 'https://raw.githubusercontent.com/OTRF/Security-Datasets/master/datasets/atomic/windows/lateral_movement/host/empire_psexec_dcerpc_tcp_svcctl.zip'\n",
    "zipFileRequest = requests.get(url)\n",
    "zipFile = ZipFile(BytesIO(zipFileRequest.content))\n",
    "datasetJSONPath = zipFile.extract(zipFile.namelist()[0])"
   ]
  },
  {
   "cell_type": "code",
   "execution_count": 2,
   "metadata": {},
   "outputs": [
    {
     "name": "stderr",
     "output_type": "stream",
     "text": [
      "C:\\Users\\ly\\AppData\\Roaming\\Python\\Python37\\site-packages\\numpy\\_distributor_init.py:32: UserWarning: loaded more than 1 DLL from .libs:\n",
      "C:\\Users\\ly\\AppData\\Roaming\\Python\\Python37\\site-packages\\numpy\\.libs\\libopenblas.GK7GX5KEQ4F6UYO3P26ULGBQYHGQO7J4.gfortran-win_amd64.dll\n",
      "C:\\Users\\ly\\AppData\\Roaming\\Python\\Python37\\site-packages\\numpy\\.libs\\libopenblas.PYQHXLVVQ7VESDPUVUADXEVJOBGHJPAY.gfortran-win_amd64.dll\n",
      "  stacklevel=1)\n"
     ]
    }
   ],
   "source": [
    "import pandas as pd\n",
    "from pandas.io import json\n",
    "\n",
    "df = json.read_json(path_or_buf=datasetJSONPath, lines=True)"
   ]
  },
  {
   "cell_type": "code",
   "execution_count": 5,
   "metadata": {},
   "outputs": [
    {
     "data": {
      "text/html": [
       "<div>\n",
       "<style scoped>\n",
       "    .dataframe tbody tr th:only-of-type {\n",
       "        vertical-align: middle;\n",
       "    }\n",
       "\n",
       "    .dataframe tbody tr th {\n",
       "        vertical-align: top;\n",
       "    }\n",
       "\n",
       "    .dataframe thead th {\n",
       "        text-align: right;\n",
       "    }\n",
       "</style>\n",
       "<table border=\"1\" class=\"dataframe\">\n",
       "  <thead>\n",
       "    <tr style=\"text-align: right;\">\n",
       "      <th></th>\n",
       "      <th>@timestamp</th>\n",
       "      <th>Hostname</th>\n",
       "      <th>TargetUserName</th>\n",
       "      <th>TargetLogonId</th>\n",
       "      <th>IpAddress</th>\n",
       "    </tr>\n",
       "  </thead>\n",
       "  <tbody>\n",
       "    <tr>\n",
       "      <th>288</th>\n",
       "      <td>2020-09-20T16:16:29.568Z</td>\n",
       "      <td>MORDORDC.theshire.local</td>\n",
       "      <td>MORDORDC$</td>\n",
       "      <td>0x4b0ad12</td>\n",
       "      <td>::1</td>\n",
       "    </tr>\n",
       "    <tr>\n",
       "      <th>699</th>\n",
       "      <td>2020-09-20T16:16:43.844Z</td>\n",
       "      <td>MORDORDC.theshire.local</td>\n",
       "      <td>MORDORDC$</td>\n",
       "      <td>0x4b0b08c</td>\n",
       "      <td>fe80::9582:39e0:356b:ef4e</td>\n",
       "    </tr>\n",
       "    <tr>\n",
       "      <th>702</th>\n",
       "      <td>2020-09-20T16:16:43.846Z</td>\n",
       "      <td>MORDORDC.theshire.local</td>\n",
       "      <td>MORDORDC$</td>\n",
       "      <td>0x4b0b1b0</td>\n",
       "      <td>::1</td>\n",
       "    </tr>\n",
       "    <tr>\n",
       "      <th>708</th>\n",
       "      <td>2020-09-20T16:16:43.849Z</td>\n",
       "      <td>MORDORDC.theshire.local</td>\n",
       "      <td>MORDORDC$</td>\n",
       "      <td>0x4b0b1fb</td>\n",
       "      <td>172.18.38.5</td>\n",
       "    </tr>\n",
       "    <tr>\n",
       "      <th>725</th>\n",
       "      <td>2020-09-20T16:16:43.856Z</td>\n",
       "      <td>MORDORDC.theshire.local</td>\n",
       "      <td>MORDORDC$</td>\n",
       "      <td>0x4b0b265</td>\n",
       "      <td>fe80::9582:39e0:356b:ef4e</td>\n",
       "    </tr>\n",
       "    <tr>\n",
       "      <th>1208</th>\n",
       "      <td>2020-09-20T16:16:58.212Z</td>\n",
       "      <td>WORKSTATION6.theshire.local</td>\n",
       "      <td>pgustavo</td>\n",
       "      <td>0x2990d17</td>\n",
       "      <td>172.18.39.5</td>\n",
       "    </tr>\n",
       "    <tr>\n",
       "      <th>3198</th>\n",
       "      <td>2020-09-20T16:17:29.494Z</td>\n",
       "      <td>MORDORDC.theshire.local</td>\n",
       "      <td>MORDORDC$</td>\n",
       "      <td>0x4b0d805</td>\n",
       "      <td>::1</td>\n",
       "    </tr>\n",
       "  </tbody>\n",
       "</table>\n",
       "</div>"
      ],
      "text/plain": [
       "                    @timestamp                     Hostname TargetUserName  \\\n",
       "288   2020-09-20T16:16:29.568Z      MORDORDC.theshire.local      MORDORDC$   \n",
       "699   2020-09-20T16:16:43.844Z      MORDORDC.theshire.local      MORDORDC$   \n",
       "702   2020-09-20T16:16:43.846Z      MORDORDC.theshire.local      MORDORDC$   \n",
       "708   2020-09-20T16:16:43.849Z      MORDORDC.theshire.local      MORDORDC$   \n",
       "725   2020-09-20T16:16:43.856Z      MORDORDC.theshire.local      MORDORDC$   \n",
       "1208  2020-09-20T16:16:58.212Z  WORKSTATION6.theshire.local       pgustavo   \n",
       "3198  2020-09-20T16:17:29.494Z      MORDORDC.theshire.local      MORDORDC$   \n",
       "\n",
       "     TargetLogonId                  IpAddress  \n",
       "288      0x4b0ad12                        ::1  \n",
       "699      0x4b0b08c  fe80::9582:39e0:356b:ef4e  \n",
       "702      0x4b0b1b0                        ::1  \n",
       "708      0x4b0b1fb                172.18.38.5  \n",
       "725      0x4b0b265  fe80::9582:39e0:356b:ef4e  \n",
       "1208     0x2990d17                172.18.39.5  \n",
       "3198     0x4b0d805                        ::1  "
      ]
     },
     "execution_count": 5,
     "metadata": {},
     "output_type": "execute_result"
    }
   ],
   "source": [
    "# serviceInstallDf= (\n",
    "# (\n",
    "# df[['@timestamp','Hostname','SubjectUserName','SubjectLogonId','ServiceName','ServiceType']]\n",
    "\n",
    "# [(df['Channel'].str.lower() == 'security')\n",
    "#     & (df['EventID'] == 4697)\n",
    "# ]\n",
    "# )\n",
    "\n",
    "# networkLogonDf = (\n",
    "(\n",
    "df[['@timestamp', 'Hostname', 'TargetUserName', 'TargetLogonId', 'IpAddress']]\n",
    "\n",
    "[(df['Channel'].str.lower() == 'security')\n",
    "    & (df['EventID'] == 4624)\n",
    "    & (df['LogonType'] == 3)\n",
    "    & (~df['SubjectUserName'].str.endswith('$', na=False))\n",
    "]\n",
    ")\n",
    "\n",
    "# (\n",
    "# pd.merge(serviceInstallDf, networkLogonDf,\n",
    "#   left_on = 'SubjectLogonId', right_on = 'TargetLogonId', how = 'inner')\n",
    "# )"
   ]
  },
  {
   "cell_type": "code",
   "execution_count": null,
   "metadata": {},
   "outputs": [],
   "source": []
  }
 ],
 "metadata": {
  "kernelspec": {
   "display_name": "Python 3",
   "language": "python",
   "name": "python3"
  },
  "language_info": {
   "codemirror_mode": {
    "name": "ipython",
    "version": 3
   },
   "file_extension": ".py",
   "mimetype": "text/x-python",
   "name": "python",
   "nbconvert_exporter": "python",
   "pygments_lexer": "ipython3",
   "version": "3.7.3"
  }
 },
 "nbformat": 4,
 "nbformat_minor": 2
}
