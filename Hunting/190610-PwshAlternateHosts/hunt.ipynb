{
 "cells": [
  {
   "cell_type": "code",
   "execution_count": 1,
   "metadata": {},
   "outputs": [],
   "source": [
    "import requests\n",
    "from zipfile import ZipFile\n",
    "from io import BytesIO\n",
    "\n",
    "url = 'https://raw.githubusercontent.com/OTRF/Security-Datasets/master/datasets/atomic/windows/lateral_movement/host/empire_psremoting_stager.zip'\n",
    "zipFileRequest = requests.get(url)\n",
    "zipFile = ZipFile(BytesIO(zipFileRequest.content))\n",
    "datasetJSONPath = zipFile.extract(zipFile.namelist()[0])"
   ]
  },
  {
   "cell_type": "code",
   "execution_count": 2,
   "metadata": {},
   "outputs": [
    {
     "name": "stderr",
     "output_type": "stream",
     "text": [
      "C:\\Users\\ly\\AppData\\Roaming\\Python\\Python37\\site-packages\\numpy\\_distributor_init.py:32: UserWarning: loaded more than 1 DLL from .libs:\n",
      "C:\\Users\\ly\\AppData\\Roaming\\Python\\Python37\\site-packages\\numpy\\.libs\\libopenblas.GK7GX5KEQ4F6UYO3P26ULGBQYHGQO7J4.gfortran-win_amd64.dll\n",
      "C:\\Users\\ly\\AppData\\Roaming\\Python\\Python37\\site-packages\\numpy\\.libs\\libopenblas.PYQHXLVVQ7VESDPUVUADXEVJOBGHJPAY.gfortran-win_amd64.dll\n",
      "  stacklevel=1)\n"
     ]
    }
   ],
   "source": [
    "import pandas as pd\n",
    "from pandas.io import json\n",
    "\n",
    "df = json.read_json(path_or_buf=datasetJSONPath, lines=True)"
   ]
  },
  {
   "cell_type": "code",
   "execution_count": 19,
   "metadata": {},
   "outputs": [
    {
     "data": {
      "text/html": [
       "<div>\n",
       "<style scoped>\n",
       "    .dataframe tbody tr th:only-of-type {\n",
       "        vertical-align: middle;\n",
       "    }\n",
       "\n",
       "    .dataframe tbody tr th {\n",
       "        vertical-align: top;\n",
       "    }\n",
       "\n",
       "    .dataframe thead th {\n",
       "        text-align: right;\n",
       "    }\n",
       "</style>\n",
       "<table border=\"1\" class=\"dataframe\">\n",
       "  <thead>\n",
       "    <tr style=\"text-align: right;\">\n",
       "      <th></th>\n",
       "      <th>@timestamp</th>\n",
       "      <th>Hostname</th>\n",
       "      <th>Channel</th>\n",
       "    </tr>\n",
       "  </thead>\n",
       "  <tbody>\n",
       "    <tr>\n",
       "      <th>2</th>\n",
       "      <td>2020-09-20T21:08:28.401Z</td>\n",
       "      <td>WORKSTATION5.theshire.local</td>\n",
       "      <td>Microsoft-Windows-PowerShell/Operational</td>\n",
       "    </tr>\n",
       "    <tr>\n",
       "      <th>4</th>\n",
       "      <td>2020-09-20T21:08:28.403Z</td>\n",
       "      <td>WORKSTATION5.theshire.local</td>\n",
       "      <td>Microsoft-Windows-PowerShell/Operational</td>\n",
       "    </tr>\n",
       "    <tr>\n",
       "      <th>7</th>\n",
       "      <td>2020-09-20T21:08:28.406Z</td>\n",
       "      <td>WORKSTATION5.theshire.local</td>\n",
       "      <td>Microsoft-Windows-PowerShell/Operational</td>\n",
       "    </tr>\n",
       "    <tr>\n",
       "      <th>8</th>\n",
       "      <td>2020-09-20T21:08:28.406Z</td>\n",
       "      <td>WORKSTATION5.theshire.local</td>\n",
       "      <td>Microsoft-Windows-PowerShell/Operational</td>\n",
       "    </tr>\n",
       "    <tr>\n",
       "      <th>12</th>\n",
       "      <td>2020-09-20T21:08:29.400Z</td>\n",
       "      <td>WORKSTATION5.theshire.local</td>\n",
       "      <td>Microsoft-Windows-PowerShell/Operational</td>\n",
       "    </tr>\n",
       "  </tbody>\n",
       "</table>\n",
       "</div>"
      ],
      "text/plain": [
       "                  @timestamp                     Hostname  \\\n",
       "2   2020-09-20T21:08:28.401Z  WORKSTATION5.theshire.local   \n",
       "4   2020-09-20T21:08:28.403Z  WORKSTATION5.theshire.local   \n",
       "7   2020-09-20T21:08:28.406Z  WORKSTATION5.theshire.local   \n",
       "8   2020-09-20T21:08:28.406Z  WORKSTATION5.theshire.local   \n",
       "12  2020-09-20T21:08:29.400Z  WORKSTATION5.theshire.local   \n",
       "\n",
       "                                     Channel  \n",
       "2   Microsoft-Windows-PowerShell/Operational  \n",
       "4   Microsoft-Windows-PowerShell/Operational  \n",
       "7   Microsoft-Windows-PowerShell/Operational  \n",
       "8   Microsoft-Windows-PowerShell/Operational  \n",
       "12  Microsoft-Windows-PowerShell/Operational  "
      ]
     },
     "execution_count": 19,
     "metadata": {},
     "output_type": "execute_result"
    }
   ],
   "source": [
    "(\n",
    "df[['@timestamp','Hostname','Channel']]\n",
    "\n",
    "[((df['Channel'] == 'Microsoft-Windows-PowerShell/Operational') | (df['Channel'] == 'Windows PowerShell'))\n",
    "    & ((df['EventID'] == 400)|(df['EventID'] == 4103))\n",
    "    & ~(df['Message'].str.contains('.*Host Application%powershell.*', regex=True, na=False))\n",
    "]\n",
    ".head()\n",
    ")"
   ]
  },
  {
   "cell_type": "code",
   "execution_count": 15,
   "metadata": {},
   "outputs": [
    {
     "data": {
      "text/html": [
       "<div>\n",
       "<style scoped>\n",
       "    .dataframe tbody tr th:only-of-type {\n",
       "        vertical-align: middle;\n",
       "    }\n",
       "\n",
       "    .dataframe tbody tr th {\n",
       "        vertical-align: top;\n",
       "    }\n",
       "\n",
       "    .dataframe thead th {\n",
       "        text-align: right;\n",
       "    }\n",
       "</style>\n",
       "<table border=\"1\" class=\"dataframe\">\n",
       "  <thead>\n",
       "    <tr style=\"text-align: right;\">\n",
       "      <th></th>\n",
       "      <th>@timestamp</th>\n",
       "      <th>Hostname</th>\n",
       "      <th>Image</th>\n",
       "      <th>Description</th>\n",
       "    </tr>\n",
       "  </thead>\n",
       "  <tbody>\n",
       "    <tr>\n",
       "      <th>768</th>\n",
       "      <td>2020-09-20T21:09:11.912Z</td>\n",
       "      <td>WORKSTATION6.theshire.local</td>\n",
       "      <td>C:\\Windows\\System32\\wsmprovhost.exe</td>\n",
       "      <td>System.Management.Automation</td>\n",
       "    </tr>\n",
       "  </tbody>\n",
       "</table>\n",
       "</div>"
      ],
      "text/plain": [
       "                   @timestamp                     Hostname  \\\n",
       "768  2020-09-20T21:09:11.912Z  WORKSTATION6.theshire.local   \n",
       "\n",
       "                                   Image                   Description  \n",
       "768  C:\\Windows\\System32\\wsmprovhost.exe  System.Management.Automation  "
      ]
     },
     "execution_count": 15,
     "metadata": {},
     "output_type": "execute_result"
    }
   ],
   "source": [
    "(\n",
    "df[['@timestamp','Hostname','Image','Description']]\n",
    "\n",
    "[(df['Channel'] == 'Microsoft-Windows-Sysmon/Operational')\n",
    "    & (df['EventID'] == 7)\n",
    "    & (\n",
    "      (df['Description'].str.lower() == 'system.management.automation')\n",
    "      | (df['ImageLoaded'].str.contains('.*system.management.automation.*', regex=True))\n",
    "    )\n",
    "    & (~df['Image'].str.lower().str.endswith('powershell.exe', na=False))\n",
    "]\n",
    ")"
   ]
  },
  {
   "cell_type": "code",
   "execution_count": 16,
   "metadata": {},
   "outputs": [
    {
     "data": {
      "text/html": [
       "<div>\n",
       "<style scoped>\n",
       "    .dataframe tbody tr th:only-of-type {\n",
       "        vertical-align: middle;\n",
       "    }\n",
       "\n",
       "    .dataframe tbody tr th {\n",
       "        vertical-align: top;\n",
       "    }\n",
       "\n",
       "    .dataframe thead th {\n",
       "        text-align: right;\n",
       "    }\n",
       "</style>\n",
       "<table border=\"1\" class=\"dataframe\">\n",
       "  <thead>\n",
       "    <tr style=\"text-align: right;\">\n",
       "      <th></th>\n",
       "      <th>@timestamp</th>\n",
       "      <th>Hostname</th>\n",
       "      <th>Image</th>\n",
       "      <th>PipeName</th>\n",
       "    </tr>\n",
       "  </thead>\n",
       "  <tbody>\n",
       "    <tr>\n",
       "      <th>799</th>\n",
       "      <td>2020-09-20T21:09:11.926Z</td>\n",
       "      <td>WORKSTATION6.theshire.local</td>\n",
       "      <td>C:\\windows\\system32\\wsmprovhost.exe</td>\n",
       "      <td>\\PSHost.132451097487065967.9036.DefaultAppDoma...</td>\n",
       "    </tr>\n",
       "  </tbody>\n",
       "</table>\n",
       "</div>"
      ],
      "text/plain": [
       "                   @timestamp                     Hostname  \\\n",
       "799  2020-09-20T21:09:11.926Z  WORKSTATION6.theshire.local   \n",
       "\n",
       "                                   Image  \\\n",
       "799  C:\\windows\\system32\\wsmprovhost.exe   \n",
       "\n",
       "                                              PipeName  \n",
       "799  \\PSHost.132451097487065967.9036.DefaultAppDoma...  "
      ]
     },
     "execution_count": 16,
     "metadata": {},
     "output_type": "execute_result"
    }
   ],
   "source": [
    "(\n",
    "df[['@timestamp','Hostname','Image','PipeName']]\n",
    "\n",
    "[(df['Channel'] == 'Microsoft-Windows-Sysmon/Operational')\n",
    "    & (df['EventID'] == 17)\n",
    "    & (df['PipeName'].str.lower().str.startswith('\\pshost', na=False))\n",
    "    & (~df['Image'].str.lower().str.endswith('powershell.exe', na=False))\n",
    "]\n",
    ".head()\n",
    ")"
   ]
  },
  {
   "cell_type": "code",
   "execution_count": null,
   "metadata": {},
   "outputs": [],
   "source": []
  }
 ],
 "metadata": {
  "kernelspec": {
   "display_name": "Python 3",
   "language": "python",
   "name": "python3"
  },
  "language_info": {
   "codemirror_mode": {
    "name": "ipython",
    "version": 3
   },
   "file_extension": ".py",
   "mimetype": "text/x-python",
   "name": "python",
   "nbconvert_exporter": "python",
   "pygments_lexer": "ipython3",
   "version": "3.7.3"
  }
 },
 "nbformat": 4,
 "nbformat_minor": 2
}
