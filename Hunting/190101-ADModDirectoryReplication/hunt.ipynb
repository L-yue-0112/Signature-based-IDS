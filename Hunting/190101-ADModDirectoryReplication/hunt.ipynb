{
 "cells": [
  {
   "cell_type": "code",
   "execution_count": 6,
   "metadata": {},
   "outputs": [
    {
     "data": {
      "text/plain": [
       "'C:\\\\Users\\\\ly\\\\Documents\\\\UoA\\\\Honours Projects\\\\hunt program\\\\190101-ADModDirectoryReplication\\\\empire_powerview_ldap_ntsecuritydescriptor_2020-09-21130944.json'"
      ]
     },
     "execution_count": 6,
     "metadata": {},
     "output_type": "execute_result"
    }
   ],
   "source": [
    "import requests\n",
    "from zipfile import ZipFile\n",
    "from io import BytesIO\n",
    "\n",
    "url = 'https://raw.githubusercontent.com/OTRF/Security-Datasets/master/datasets/atomic/windows/defense_evasion/host/empire_powerview_ldap_ntsecuritydescriptor.zip'\n",
    "zipFileRequest = requests.get(url)\n",
    "zipFile = ZipFile(BytesIO(zipFileRequest.content))\n",
    "datasetJSONPath = zipFile.extract(zipFile.namelist()[0])\n",
    "datasetJSONPath"
   ]
  },
  {
   "cell_type": "code",
   "execution_count": 2,
   "metadata": {},
   "outputs": [
    {
     "name": "stderr",
     "output_type": "stream",
     "text": [
      "C:\\Users\\ly\\AppData\\Roaming\\Python\\Python37\\site-packages\\numpy\\_distributor_init.py:32: UserWarning: loaded more than 1 DLL from .libs:\n",
      "C:\\Users\\ly\\AppData\\Roaming\\Python\\Python37\\site-packages\\numpy\\.libs\\libopenblas.GK7GX5KEQ4F6UYO3P26ULGBQYHGQO7J4.gfortran-win_amd64.dll\n",
      "C:\\Users\\ly\\AppData\\Roaming\\Python\\Python37\\site-packages\\numpy\\.libs\\libopenblas.PYQHXLVVQ7VESDPUVUADXEVJOBGHJPAY.gfortran-win_amd64.dll\n",
      "  stacklevel=1)\n"
     ]
    }
   ],
   "source": [
    "import pandas as pd\n",
    "from pandas.io import json\n",
    "\n",
    "df = json.read_json(path_or_buf=datasetJSONPath, lines=True)"
   ]
  },
  {
   "cell_type": "code",
   "execution_count": 4,
   "metadata": {},
   "outputs": [
    {
     "data": {
      "text/html": [
       "<div>\n",
       "<style scoped>\n",
       "    .dataframe tbody tr th:only-of-type {\n",
       "        vertical-align: middle;\n",
       "    }\n",
       "\n",
       "    .dataframe tbody tr th {\n",
       "        vertical-align: top;\n",
       "    }\n",
       "\n",
       "    .dataframe thead th {\n",
       "        text-align: right;\n",
       "    }\n",
       "</style>\n",
       "<table border=\"1\" class=\"dataframe\">\n",
       "  <thead>\n",
       "    <tr style=\"text-align: right;\">\n",
       "      <th></th>\n",
       "      <th>@timestamp</th>\n",
       "      <th>Hostname</th>\n",
       "      <th>SubjectUserName</th>\n",
       "      <th>ObjectName</th>\n",
       "      <th>OperationType</th>\n",
       "    </tr>\n",
       "  </thead>\n",
       "  <tbody>\n",
       "    <tr>\n",
       "      <th>2754</th>\n",
       "      <td>2020-09-21T17:11:21.117Z</td>\n",
       "      <td>MORDORDC.theshire.local</td>\n",
       "      <td>pgustavo</td>\n",
       "      <td>%{d613d8a5-418b-4b7a-83b8-ae1511c502c4}</td>\n",
       "      <td>Object Access</td>\n",
       "    </tr>\n",
       "    <tr>\n",
       "      <th>2756</th>\n",
       "      <td>2020-09-21T17:11:21.119Z</td>\n",
       "      <td>MORDORDC.theshire.local</td>\n",
       "      <td>pgustavo</td>\n",
       "      <td>%{d613d8a5-418b-4b7a-83b8-ae1511c502c4}</td>\n",
       "      <td>Object Access</td>\n",
       "    </tr>\n",
       "    <tr>\n",
       "      <th>2765</th>\n",
       "      <td>2020-09-21T17:11:21.122Z</td>\n",
       "      <td>MORDORDC.theshire.local</td>\n",
       "      <td>pgustavo</td>\n",
       "      <td>%{d613d8a5-418b-4b7a-83b8-ae1511c502c4}</td>\n",
       "      <td>Object Access</td>\n",
       "    </tr>\n",
       "  </tbody>\n",
       "</table>\n",
       "</div>"
      ],
      "text/plain": [
       "                    @timestamp                 Hostname SubjectUserName  \\\n",
       "2754  2020-09-21T17:11:21.117Z  MORDORDC.theshire.local        pgustavo   \n",
       "2756  2020-09-21T17:11:21.119Z  MORDORDC.theshire.local        pgustavo   \n",
       "2765  2020-09-21T17:11:21.122Z  MORDORDC.theshire.local        pgustavo   \n",
       "\n",
       "                                   ObjectName  OperationType  \n",
       "2754  %{d613d8a5-418b-4b7a-83b8-ae1511c502c4}  Object Access  \n",
       "2756  %{d613d8a5-418b-4b7a-83b8-ae1511c502c4}  Object Access  \n",
       "2765  %{d613d8a5-418b-4b7a-83b8-ae1511c502c4}  Object Access  "
      ]
     },
     "execution_count": 4,
     "metadata": {},
     "output_type": "execute_result"
    }
   ],
   "source": [
    "(\n",
    "df[['@timestamp','Hostname','SubjectUserName','ObjectName','OperationType']]\n",
    "\n",
    "[(df['Channel'].str.lower() == 'security')\n",
    "    & (df['EventID'] == 4662)\n",
    "    & (df['ObjectServer'] == 'DS')\n",
    "    & (df['AccessMask'] == '0x40000')\n",
    "    & (df['ObjectType'].str.contains('.*19195a5b-6da0-11d0-afd3-00c04fd930c9.*', regex=True))\n",
    "]\n",
    ")"
   ]
  },
  {
   "cell_type": "code",
   "execution_count": 5,
   "metadata": {},
   "outputs": [
    {
     "data": {
      "text/html": [
       "<div>\n",
       "<style scoped>\n",
       "    .dataframe tbody tr th:only-of-type {\n",
       "        vertical-align: middle;\n",
       "    }\n",
       "\n",
       "    .dataframe tbody tr th {\n",
       "        vertical-align: top;\n",
       "    }\n",
       "\n",
       "    .dataframe thead th {\n",
       "        text-align: right;\n",
       "    }\n",
       "</style>\n",
       "<table border=\"1\" class=\"dataframe\">\n",
       "  <thead>\n",
       "    <tr style=\"text-align: right;\">\n",
       "      <th></th>\n",
       "      <th>@timestamp</th>\n",
       "      <th>Hostname</th>\n",
       "      <th>SubjectUserName</th>\n",
       "      <th>ObjectDN</th>\n",
       "      <th>AttributeLDAPDisplayName</th>\n",
       "    </tr>\n",
       "  </thead>\n",
       "  <tbody>\n",
       "    <tr>\n",
       "      <th>2842</th>\n",
       "      <td>2020-09-21T17:11:29.129Z</td>\n",
       "      <td>MORDORDC.theshire.local</td>\n",
       "      <td>pgustavo</td>\n",
       "      <td>DC=theshire,DC=local</td>\n",
       "      <td>nTSecurityDescriptor</td>\n",
       "    </tr>\n",
       "    <tr>\n",
       "      <th>2843</th>\n",
       "      <td>2020-09-21T17:11:29.129Z</td>\n",
       "      <td>MORDORDC.theshire.local</td>\n",
       "      <td>pgustavo</td>\n",
       "      <td>DC=theshire,DC=local</td>\n",
       "      <td>nTSecurityDescriptor</td>\n",
       "    </tr>\n",
       "    <tr>\n",
       "      <th>2844</th>\n",
       "      <td>2020-09-21T17:11:29.130Z</td>\n",
       "      <td>MORDORDC.theshire.local</td>\n",
       "      <td>pgustavo</td>\n",
       "      <td>DC=theshire,DC=local</td>\n",
       "      <td>nTSecurityDescriptor</td>\n",
       "    </tr>\n",
       "    <tr>\n",
       "      <th>2845</th>\n",
       "      <td>2020-09-21T17:11:29.130Z</td>\n",
       "      <td>MORDORDC.theshire.local</td>\n",
       "      <td>pgustavo</td>\n",
       "      <td>DC=theshire,DC=local</td>\n",
       "      <td>nTSecurityDescriptor</td>\n",
       "    </tr>\n",
       "    <tr>\n",
       "      <th>2846</th>\n",
       "      <td>2020-09-21T17:11:29.131Z</td>\n",
       "      <td>MORDORDC.theshire.local</td>\n",
       "      <td>pgustavo</td>\n",
       "      <td>DC=theshire,DC=local</td>\n",
       "      <td>nTSecurityDescriptor</td>\n",
       "    </tr>\n",
       "    <tr>\n",
       "      <th>2847</th>\n",
       "      <td>2020-09-21T17:11:29.132Z</td>\n",
       "      <td>MORDORDC.theshire.local</td>\n",
       "      <td>pgustavo</td>\n",
       "      <td>DC=theshire,DC=local</td>\n",
       "      <td>nTSecurityDescriptor</td>\n",
       "    </tr>\n",
       "  </tbody>\n",
       "</table>\n",
       "</div>"
      ],
      "text/plain": [
       "                    @timestamp                 Hostname SubjectUserName  \\\n",
       "2842  2020-09-21T17:11:29.129Z  MORDORDC.theshire.local        pgustavo   \n",
       "2843  2020-09-21T17:11:29.129Z  MORDORDC.theshire.local        pgustavo   \n",
       "2844  2020-09-21T17:11:29.130Z  MORDORDC.theshire.local        pgustavo   \n",
       "2845  2020-09-21T17:11:29.130Z  MORDORDC.theshire.local        pgustavo   \n",
       "2846  2020-09-21T17:11:29.131Z  MORDORDC.theshire.local        pgustavo   \n",
       "2847  2020-09-21T17:11:29.132Z  MORDORDC.theshire.local        pgustavo   \n",
       "\n",
       "                  ObjectDN AttributeLDAPDisplayName  \n",
       "2842  DC=theshire,DC=local     nTSecurityDescriptor  \n",
       "2843  DC=theshire,DC=local     nTSecurityDescriptor  \n",
       "2844  DC=theshire,DC=local     nTSecurityDescriptor  \n",
       "2845  DC=theshire,DC=local     nTSecurityDescriptor  \n",
       "2846  DC=theshire,DC=local     nTSecurityDescriptor  \n",
       "2847  DC=theshire,DC=local     nTSecurityDescriptor  "
      ]
     },
     "execution_count": 5,
     "metadata": {},
     "output_type": "execute_result"
    }
   ],
   "source": [
    "(\n",
    "df[['@timestamp','Hostname','SubjectUserName','ObjectDN','AttributeLDAPDisplayName']]\n",
    "\n",
    "    [(df['Channel'].str.lower() == 'security')\n",
    "    & (df['EventID'] == 5136)\n",
    "    & (df['AttributeLDAPDisplayName'].str.lower() == 'ntsecuritydescriptor')\n",
    "    & (\n",
    "        (df['AttributeValue'].str.contains('.*1131f6aa-9c07-11d1-f79f-00c04fc2dcd2.*', regex=True))\n",
    "        | (df['AttributeValue'].str.contains('.*1131f6ad-9c07-11d1-f79f-00c04fc2dcd2.*', regex=True))\n",
    "        | (df['AttributeValue'].str.contains('.*89e95b76-444d-4c62-991a-0facbeda640c.*', regex=True))\n",
    "    )\n",
    "    ]\n",
    ")"
   ]
  },
  {
   "cell_type": "code",
   "execution_count": null,
   "metadata": {},
   "outputs": [],
   "source": []
  }
 ],
 "metadata": {
  "kernelspec": {
   "display_name": "Python 3",
   "language": "python",
   "name": "python3"
  },
  "language_info": {
   "codemirror_mode": {
    "name": "ipython",
    "version": 3
   },
   "file_extension": ".py",
   "mimetype": "text/x-python",
   "name": "python",
   "nbconvert_exporter": "python",
   "pygments_lexer": "ipython3",
   "version": "3.7.3"
  }
 },
 "nbformat": 4,
 "nbformat_minor": 2
}
